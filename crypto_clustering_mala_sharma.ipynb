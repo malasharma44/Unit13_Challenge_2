{
 "cells": [
  {
   "cell_type": "markdown",
   "metadata": {},
   "source": [
    "# Clustering Crypto"
   ]
  },
  {
   "cell_type": "code",
   "execution_count": 112,
   "metadata": {},
   "outputs": [],
   "source": [
    "# Initial imports\n",
    "import requests\n",
    "import pandas as pd\n",
    "from pathlib import Path\n",
    "import matplotlib.pyplot as plt\n",
    "import hvplot.pandas\n",
    "import plotly.express as px\n",
    "from sklearn.preprocessing import StandardScaler, MinMaxScaler\n",
    "from sklearn.decomposition import PCA\n",
    "from sklearn.cluster import KMeans"
   ]
  },
  {
   "cell_type": "markdown",
   "metadata": {},
   "source": [
    "### Fetching Cryptocurrency Data"
   ]
  },
  {
   "cell_type": "code",
   "execution_count": 113,
   "metadata": {},
   "outputs": [],
   "source": [
    "# Use the following endpoint to fetch json data\n",
    "url = \"https://min-api.cryptocompare.com/data/all/coinlist\""
   ]
  },
  {
   "cell_type": "code",
   "execution_count": 114,
   "metadata": {},
   "outputs": [],
   "source": [
    "# Create a DataFrame \n",
    "# HINT: You will need to use the 'Data' key from the json response, then transpose the DataFrame.\n"
   ]
  },
  {
   "cell_type": "code",
   "execution_count": 115,
   "metadata": {},
   "outputs": [
    {
     "data": {
      "text/html": [
       "<div>\n",
       "<style scoped>\n",
       "    .dataframe tbody tr th:only-of-type {\n",
       "        vertical-align: middle;\n",
       "    }\n",
       "\n",
       "    .dataframe tbody tr th {\n",
       "        vertical-align: top;\n",
       "    }\n",
       "\n",
       "    .dataframe thead th {\n",
       "        text-align: right;\n",
       "    }\n",
       "</style>\n",
       "<table border=\"1\" class=\"dataframe\">\n",
       "  <thead>\n",
       "    <tr style=\"text-align: right;\">\n",
       "      <th></th>\n",
       "      <th>Unnamed: 0</th>\n",
       "      <th>CoinName</th>\n",
       "      <th>Algorithm</th>\n",
       "      <th>IsTrading</th>\n",
       "      <th>ProofType</th>\n",
       "      <th>TotalCoinsMined</th>\n",
       "      <th>TotalCoinSupply</th>\n",
       "    </tr>\n",
       "  </thead>\n",
       "  <tbody>\n",
       "    <tr>\n",
       "      <th>0</th>\n",
       "      <td>42</td>\n",
       "      <td>42 Coin</td>\n",
       "      <td>Scrypt</td>\n",
       "      <td>True</td>\n",
       "      <td>PoW/PoS</td>\n",
       "      <td>4.199995e+01</td>\n",
       "      <td>42</td>\n",
       "    </tr>\n",
       "    <tr>\n",
       "      <th>1</th>\n",
       "      <td>365</td>\n",
       "      <td>365Coin</td>\n",
       "      <td>X11</td>\n",
       "      <td>True</td>\n",
       "      <td>PoW/PoS</td>\n",
       "      <td>NaN</td>\n",
       "      <td>2300000000</td>\n",
       "    </tr>\n",
       "    <tr>\n",
       "      <th>2</th>\n",
       "      <td>404</td>\n",
       "      <td>404Coin</td>\n",
       "      <td>Scrypt</td>\n",
       "      <td>True</td>\n",
       "      <td>PoW/PoS</td>\n",
       "      <td>1.055185e+09</td>\n",
       "      <td>532000000</td>\n",
       "    </tr>\n",
       "    <tr>\n",
       "      <th>3</th>\n",
       "      <td>611</td>\n",
       "      <td>SixEleven</td>\n",
       "      <td>SHA-256</td>\n",
       "      <td>True</td>\n",
       "      <td>PoW</td>\n",
       "      <td>NaN</td>\n",
       "      <td>611000</td>\n",
       "    </tr>\n",
       "    <tr>\n",
       "      <th>4</th>\n",
       "      <td>808</td>\n",
       "      <td>808</td>\n",
       "      <td>SHA-256</td>\n",
       "      <td>True</td>\n",
       "      <td>PoW/PoS</td>\n",
       "      <td>0.000000e+00</td>\n",
       "      <td>0</td>\n",
       "    </tr>\n",
       "    <tr>\n",
       "      <th>5</th>\n",
       "      <td>1337</td>\n",
       "      <td>EliteCoin</td>\n",
       "      <td>X13</td>\n",
       "      <td>True</td>\n",
       "      <td>PoW/PoS</td>\n",
       "      <td>2.927942e+10</td>\n",
       "      <td>314159265359</td>\n",
       "    </tr>\n",
       "    <tr>\n",
       "      <th>6</th>\n",
       "      <td>2015</td>\n",
       "      <td>2015 coin</td>\n",
       "      <td>X11</td>\n",
       "      <td>True</td>\n",
       "      <td>PoW/PoS</td>\n",
       "      <td>NaN</td>\n",
       "      <td>0</td>\n",
       "    </tr>\n",
       "    <tr>\n",
       "      <th>7</th>\n",
       "      <td>BTC</td>\n",
       "      <td>Bitcoin</td>\n",
       "      <td>SHA-256</td>\n",
       "      <td>True</td>\n",
       "      <td>PoW</td>\n",
       "      <td>1.792718e+07</td>\n",
       "      <td>21000000</td>\n",
       "    </tr>\n",
       "    <tr>\n",
       "      <th>8</th>\n",
       "      <td>ETH</td>\n",
       "      <td>Ethereum</td>\n",
       "      <td>Ethash</td>\n",
       "      <td>True</td>\n",
       "      <td>PoW</td>\n",
       "      <td>1.076842e+08</td>\n",
       "      <td>0</td>\n",
       "    </tr>\n",
       "    <tr>\n",
       "      <th>9</th>\n",
       "      <td>LTC</td>\n",
       "      <td>Litecoin</td>\n",
       "      <td>Scrypt</td>\n",
       "      <td>True</td>\n",
       "      <td>PoW</td>\n",
       "      <td>6.303924e+07</td>\n",
       "      <td>84000000</td>\n",
       "    </tr>\n",
       "  </tbody>\n",
       "</table>\n",
       "</div>"
      ],
      "text/plain": [
       "  Unnamed: 0   CoinName Algorithm  IsTrading ProofType  TotalCoinsMined  \\\n",
       "0         42    42 Coin    Scrypt       True   PoW/PoS     4.199995e+01   \n",
       "1        365    365Coin       X11       True   PoW/PoS              NaN   \n",
       "2        404    404Coin    Scrypt       True   PoW/PoS     1.055185e+09   \n",
       "3        611  SixEleven   SHA-256       True       PoW              NaN   \n",
       "4        808        808   SHA-256       True   PoW/PoS     0.000000e+00   \n",
       "5       1337  EliteCoin       X13       True   PoW/PoS     2.927942e+10   \n",
       "6       2015  2015 coin       X11       True   PoW/PoS              NaN   \n",
       "7        BTC    Bitcoin   SHA-256       True       PoW     1.792718e+07   \n",
       "8        ETH   Ethereum    Ethash       True       PoW     1.076842e+08   \n",
       "9        LTC   Litecoin    Scrypt       True       PoW     6.303924e+07   \n",
       "\n",
       "  TotalCoinSupply  \n",
       "0              42  \n",
       "1      2300000000  \n",
       "2       532000000  \n",
       "3          611000  \n",
       "4               0  \n",
       "5    314159265359  \n",
       "6               0  \n",
       "7        21000000  \n",
       "8               0  \n",
       "9        84000000  "
      ]
     },
     "execution_count": 115,
     "metadata": {},
     "output_type": "execute_result"
    }
   ],
   "source": [
    "# Alternatively, use the provided csv file:\n",
    "file_path = Path(\"Resources/crypto_data.csv\")\n",
    "\n",
    "# Create a DataFrame\n",
    "crypto_df = pd.read_csv(file_path)\n",
    "crypto_df.head(10)"
   ]
  },
  {
   "cell_type": "code",
   "execution_count": 116,
   "metadata": {},
   "outputs": [
    {
     "data": {
      "text/plain": [
       "Unnamed: 0          object\n",
       "CoinName            object\n",
       "Algorithm           object\n",
       "IsTrading             bool\n",
       "ProofType           object\n",
       "TotalCoinsMined    float64\n",
       "TotalCoinSupply     object\n",
       "dtype: object"
      ]
     },
     "execution_count": 116,
     "metadata": {},
     "output_type": "execute_result"
    }
   ],
   "source": [
    "crypto_df.dtypes"
   ]
  },
  {
   "cell_type": "markdown",
   "metadata": {},
   "source": [
    "### Data Preprocessing"
   ]
  },
  {
   "cell_type": "code",
   "execution_count": 117,
   "metadata": {},
   "outputs": [],
   "source": [
    "# Keep only necessary columns:\n",
    "# 'CoinName','Algorithm','IsTrading','ProofType','TotalCoinsMined','TotalCoinSupply'\n",
    "#cleaned_crypto_df = crypto_df.loc([\"CoinName\",\"Algorithm\",\"IsTrading\",\n",
    "                        #\"ProofType\",\"TotalCoinsMined\",\"TotalCoinSupply\"]\n",
    "cleaned_crytpo_df = crypto_df.reset_index"
   ]
  },
  {
   "cell_type": "code",
   "execution_count": 118,
   "metadata": {},
   "outputs": [
    {
     "data": {
      "text/html": [
       "<div>\n",
       "<style scoped>\n",
       "    .dataframe tbody tr th:only-of-type {\n",
       "        vertical-align: middle;\n",
       "    }\n",
       "\n",
       "    .dataframe tbody tr th {\n",
       "        vertical-align: top;\n",
       "    }\n",
       "\n",
       "    .dataframe thead th {\n",
       "        text-align: right;\n",
       "    }\n",
       "</style>\n",
       "<table border=\"1\" class=\"dataframe\">\n",
       "  <thead>\n",
       "    <tr style=\"text-align: right;\">\n",
       "      <th></th>\n",
       "      <th>Unnamed: 0</th>\n",
       "      <th>CoinName</th>\n",
       "      <th>Algorithm</th>\n",
       "      <th>IsTrading</th>\n",
       "      <th>ProofType</th>\n",
       "      <th>TotalCoinsMined</th>\n",
       "      <th>TotalCoinSupply</th>\n",
       "    </tr>\n",
       "  </thead>\n",
       "  <tbody>\n",
       "    <tr>\n",
       "      <th>0</th>\n",
       "      <td>42</td>\n",
       "      <td>42 Coin</td>\n",
       "      <td>Scrypt</td>\n",
       "      <td>True</td>\n",
       "      <td>PoW/PoS</td>\n",
       "      <td>4.199995e+01</td>\n",
       "      <td>42</td>\n",
       "    </tr>\n",
       "    <tr>\n",
       "      <th>1</th>\n",
       "      <td>365</td>\n",
       "      <td>365Coin</td>\n",
       "      <td>X11</td>\n",
       "      <td>True</td>\n",
       "      <td>PoW/PoS</td>\n",
       "      <td>NaN</td>\n",
       "      <td>2300000000</td>\n",
       "    </tr>\n",
       "    <tr>\n",
       "      <th>2</th>\n",
       "      <td>404</td>\n",
       "      <td>404Coin</td>\n",
       "      <td>Scrypt</td>\n",
       "      <td>True</td>\n",
       "      <td>PoW/PoS</td>\n",
       "      <td>1.055185e+09</td>\n",
       "      <td>532000000</td>\n",
       "    </tr>\n",
       "    <tr>\n",
       "      <th>3</th>\n",
       "      <td>611</td>\n",
       "      <td>SixEleven</td>\n",
       "      <td>SHA-256</td>\n",
       "      <td>True</td>\n",
       "      <td>PoW</td>\n",
       "      <td>NaN</td>\n",
       "      <td>611000</td>\n",
       "    </tr>\n",
       "    <tr>\n",
       "      <th>4</th>\n",
       "      <td>808</td>\n",
       "      <td>808</td>\n",
       "      <td>SHA-256</td>\n",
       "      <td>True</td>\n",
       "      <td>PoW/PoS</td>\n",
       "      <td>0.000000e+00</td>\n",
       "      <td>0</td>\n",
       "    </tr>\n",
       "    <tr>\n",
       "      <th>5</th>\n",
       "      <td>1337</td>\n",
       "      <td>EliteCoin</td>\n",
       "      <td>X13</td>\n",
       "      <td>True</td>\n",
       "      <td>PoW/PoS</td>\n",
       "      <td>2.927942e+10</td>\n",
       "      <td>314159265359</td>\n",
       "    </tr>\n",
       "    <tr>\n",
       "      <th>6</th>\n",
       "      <td>2015</td>\n",
       "      <td>2015 coin</td>\n",
       "      <td>X11</td>\n",
       "      <td>True</td>\n",
       "      <td>PoW/PoS</td>\n",
       "      <td>NaN</td>\n",
       "      <td>0</td>\n",
       "    </tr>\n",
       "    <tr>\n",
       "      <th>7</th>\n",
       "      <td>BTC</td>\n",
       "      <td>Bitcoin</td>\n",
       "      <td>SHA-256</td>\n",
       "      <td>True</td>\n",
       "      <td>PoW</td>\n",
       "      <td>1.792718e+07</td>\n",
       "      <td>21000000</td>\n",
       "    </tr>\n",
       "    <tr>\n",
       "      <th>8</th>\n",
       "      <td>ETH</td>\n",
       "      <td>Ethereum</td>\n",
       "      <td>Ethash</td>\n",
       "      <td>True</td>\n",
       "      <td>PoW</td>\n",
       "      <td>1.076842e+08</td>\n",
       "      <td>0</td>\n",
       "    </tr>\n",
       "    <tr>\n",
       "      <th>9</th>\n",
       "      <td>LTC</td>\n",
       "      <td>Litecoin</td>\n",
       "      <td>Scrypt</td>\n",
       "      <td>True</td>\n",
       "      <td>PoW</td>\n",
       "      <td>6.303924e+07</td>\n",
       "      <td>84000000</td>\n",
       "    </tr>\n",
       "  </tbody>\n",
       "</table>\n",
       "</div>"
      ],
      "text/plain": [
       "  Unnamed: 0   CoinName Algorithm  IsTrading ProofType  TotalCoinsMined  \\\n",
       "0         42    42 Coin    Scrypt       True   PoW/PoS     4.199995e+01   \n",
       "1        365    365Coin       X11       True   PoW/PoS              NaN   \n",
       "2        404    404Coin    Scrypt       True   PoW/PoS     1.055185e+09   \n",
       "3        611  SixEleven   SHA-256       True       PoW              NaN   \n",
       "4        808        808   SHA-256       True   PoW/PoS     0.000000e+00   \n",
       "5       1337  EliteCoin       X13       True   PoW/PoS     2.927942e+10   \n",
       "6       2015  2015 coin       X11       True   PoW/PoS              NaN   \n",
       "7        BTC    Bitcoin   SHA-256       True       PoW     1.792718e+07   \n",
       "8        ETH   Ethereum    Ethash       True       PoW     1.076842e+08   \n",
       "9        LTC   Litecoin    Scrypt       True       PoW     6.303924e+07   \n",
       "\n",
       "  TotalCoinSupply  \n",
       "0              42  \n",
       "1      2300000000  \n",
       "2       532000000  \n",
       "3          611000  \n",
       "4               0  \n",
       "5    314159265359  \n",
       "6               0  \n",
       "7        21000000  \n",
       "8               0  \n",
       "9        84000000  "
      ]
     },
     "execution_count": 118,
     "metadata": {},
     "output_type": "execute_result"
    }
   ],
   "source": [
    "# Keep only cryptocurrencies that are trading\n",
    "trading_crypto_df = cleaned_crytpo_df(['IsTrading'] == True)\n",
    "trading_crypto_df = trading_crypto_df.drop([\"index\"], axis=1)\n",
    "trading_crypto_df.head(10)"
   ]
  },
  {
   "cell_type": "code",
   "execution_count": 119,
   "metadata": {},
   "outputs": [
    {
     "data": {
      "text/html": [
       "<div>\n",
       "<style scoped>\n",
       "    .dataframe tbody tr th:only-of-type {\n",
       "        vertical-align: middle;\n",
       "    }\n",
       "\n",
       "    .dataframe tbody tr th {\n",
       "        vertical-align: top;\n",
       "    }\n",
       "\n",
       "    .dataframe thead th {\n",
       "        text-align: right;\n",
       "    }\n",
       "</style>\n",
       "<table border=\"1\" class=\"dataframe\">\n",
       "  <thead>\n",
       "    <tr style=\"text-align: right;\">\n",
       "      <th></th>\n",
       "      <th>Unnamed: 0</th>\n",
       "      <th>CoinName</th>\n",
       "      <th>Algorithm</th>\n",
       "      <th>IsTrading</th>\n",
       "      <th>ProofType</th>\n",
       "      <th>TotalCoinsMined</th>\n",
       "      <th>TotalCoinSupply</th>\n",
       "    </tr>\n",
       "  </thead>\n",
       "  <tbody>\n",
       "    <tr>\n",
       "      <th>305</th>\n",
       "      <td>CIRC</td>\n",
       "      <td>CryptoCircuits</td>\n",
       "      <td>vDPOS</td>\n",
       "      <td>True</td>\n",
       "      <td>PoS</td>\n",
       "      <td>0.000000e+00</td>\n",
       "      <td>0</td>\n",
       "    </tr>\n",
       "    <tr>\n",
       "      <th>1038</th>\n",
       "      <td>SAFE</td>\n",
       "      <td>SafeCoin</td>\n",
       "      <td>Zhash</td>\n",
       "      <td>True</td>\n",
       "      <td>PoW/PoS</td>\n",
       "      <td>0.000000e+00</td>\n",
       "      <td>36000000</td>\n",
       "    </tr>\n",
       "    <tr>\n",
       "      <th>945</th>\n",
       "      <td>ELIC</td>\n",
       "      <td>Elicoin</td>\n",
       "      <td>YescryptR16</td>\n",
       "      <td>True</td>\n",
       "      <td>PoW</td>\n",
       "      <td>NaN</td>\n",
       "      <td>10000000</td>\n",
       "    </tr>\n",
       "    <tr>\n",
       "      <th>257</th>\n",
       "      <td>XG</td>\n",
       "      <td>XG Sports</td>\n",
       "      <td>XG Hash</td>\n",
       "      <td>True</td>\n",
       "      <td>PoW/PoS</td>\n",
       "      <td>NaN</td>\n",
       "      <td>0</td>\n",
       "    </tr>\n",
       "    <tr>\n",
       "      <th>1140</th>\n",
       "      <td>BEET</td>\n",
       "      <td>Beetle Coin</td>\n",
       "      <td>XEVAN</td>\n",
       "      <td>True</td>\n",
       "      <td>PoW/PoS</td>\n",
       "      <td>1.989381e+08</td>\n",
       "      <td>500000000</td>\n",
       "    </tr>\n",
       "    <tr>\n",
       "      <th>1087</th>\n",
       "      <td>BTXC</td>\n",
       "      <td>Bettex coin</td>\n",
       "      <td>XEVAN</td>\n",
       "      <td>True</td>\n",
       "      <td>PoS</td>\n",
       "      <td>6.787405e+06</td>\n",
       "      <td>50000000</td>\n",
       "    </tr>\n",
       "    <tr>\n",
       "      <th>1051</th>\n",
       "      <td>URALS</td>\n",
       "      <td>Urals Coin</td>\n",
       "      <td>XEVAN</td>\n",
       "      <td>True</td>\n",
       "      <td>PoW</td>\n",
       "      <td>1.474615e+07</td>\n",
       "      <td>210000000</td>\n",
       "    </tr>\n",
       "    <tr>\n",
       "      <th>992</th>\n",
       "      <td>XBI</td>\n",
       "      <td>Bitcoin Incognito</td>\n",
       "      <td>XEVAN</td>\n",
       "      <td>True</td>\n",
       "      <td>PoS/PoW</td>\n",
       "      <td>1.090496e+07</td>\n",
       "      <td>21000000</td>\n",
       "    </tr>\n",
       "    <tr>\n",
       "      <th>1042</th>\n",
       "      <td>XGS</td>\n",
       "      <td>GenesisX</td>\n",
       "      <td>XEVAN</td>\n",
       "      <td>False</td>\n",
       "      <td>PoS</td>\n",
       "      <td>0.000000e+00</td>\n",
       "      <td>19000000</td>\n",
       "    </tr>\n",
       "    <tr>\n",
       "      <th>1101</th>\n",
       "      <td>BITM</td>\n",
       "      <td>BitMoney</td>\n",
       "      <td>XEVAN</td>\n",
       "      <td>True</td>\n",
       "      <td>Pos</td>\n",
       "      <td>2.085159e+08</td>\n",
       "      <td>70000000000</td>\n",
       "    </tr>\n",
       "  </tbody>\n",
       "</table>\n",
       "</div>"
      ],
      "text/plain": [
       "     Unnamed: 0           CoinName    Algorithm  IsTrading ProofType  \\\n",
       "305        CIRC     CryptoCircuits        vDPOS       True       PoS   \n",
       "1038       SAFE           SafeCoin        Zhash       True   PoW/PoS   \n",
       "945        ELIC            Elicoin  YescryptR16       True       PoW   \n",
       "257          XG          XG Sports      XG Hash       True   PoW/PoS   \n",
       "1140       BEET        Beetle Coin        XEVAN       True   PoW/PoS   \n",
       "1087       BTXC        Bettex coin        XEVAN       True       PoS   \n",
       "1051      URALS         Urals Coin        XEVAN       True       PoW   \n",
       "992         XBI  Bitcoin Incognito        XEVAN       True   PoS/PoW   \n",
       "1042        XGS           GenesisX        XEVAN      False       PoS   \n",
       "1101       BITM           BitMoney        XEVAN       True       Pos   \n",
       "\n",
       "      TotalCoinsMined TotalCoinSupply  \n",
       "305      0.000000e+00               0  \n",
       "1038     0.000000e+00        36000000  \n",
       "945               NaN        10000000  \n",
       "257               NaN               0  \n",
       "1140     1.989381e+08       500000000  \n",
       "1087     6.787405e+06        50000000  \n",
       "1051     1.474615e+07       210000000  \n",
       "992      1.090496e+07        21000000  \n",
       "1042     0.000000e+00        19000000  \n",
       "1101     2.085159e+08     70000000000  "
      ]
     },
     "execution_count": 119,
     "metadata": {},
     "output_type": "execute_result"
    }
   ],
   "source": [
    "# Keep only cryptocurrencies with a working algorithm\n",
    "trading_crypto_df = trading_crypto_df.sort_values(by='Algorithm', ascending=False)\n",
    "trading_crypto_df = trading_crypto_df.dropna(axis=0, subset=['Algorithm'])\n",
    "trading_crypto_df.head(10)"
   ]
  },
  {
   "cell_type": "code",
   "execution_count": 120,
   "metadata": {},
   "outputs": [
    {
     "data": {
      "text/html": [
       "<div>\n",
       "<style scoped>\n",
       "    .dataframe tbody tr th:only-of-type {\n",
       "        vertical-align: middle;\n",
       "    }\n",
       "\n",
       "    .dataframe tbody tr th {\n",
       "        vertical-align: top;\n",
       "    }\n",
       "\n",
       "    .dataframe thead th {\n",
       "        text-align: right;\n",
       "    }\n",
       "</style>\n",
       "<table border=\"1\" class=\"dataframe\">\n",
       "  <thead>\n",
       "    <tr style=\"text-align: right;\">\n",
       "      <th></th>\n",
       "      <th>Unnamed: 0</th>\n",
       "      <th>CoinName</th>\n",
       "      <th>Algorithm</th>\n",
       "      <th>ProofType</th>\n",
       "      <th>TotalCoinsMined</th>\n",
       "      <th>TotalCoinSupply</th>\n",
       "    </tr>\n",
       "  </thead>\n",
       "  <tbody>\n",
       "    <tr>\n",
       "      <th>305</th>\n",
       "      <td>CIRC</td>\n",
       "      <td>CryptoCircuits</td>\n",
       "      <td>vDPOS</td>\n",
       "      <td>PoS</td>\n",
       "      <td>0.000000e+00</td>\n",
       "      <td>0</td>\n",
       "    </tr>\n",
       "    <tr>\n",
       "      <th>1038</th>\n",
       "      <td>SAFE</td>\n",
       "      <td>SafeCoin</td>\n",
       "      <td>Zhash</td>\n",
       "      <td>PoW/PoS</td>\n",
       "      <td>0.000000e+00</td>\n",
       "      <td>36000000</td>\n",
       "    </tr>\n",
       "    <tr>\n",
       "      <th>945</th>\n",
       "      <td>ELIC</td>\n",
       "      <td>Elicoin</td>\n",
       "      <td>YescryptR16</td>\n",
       "      <td>PoW</td>\n",
       "      <td>NaN</td>\n",
       "      <td>10000000</td>\n",
       "    </tr>\n",
       "    <tr>\n",
       "      <th>257</th>\n",
       "      <td>XG</td>\n",
       "      <td>XG Sports</td>\n",
       "      <td>XG Hash</td>\n",
       "      <td>PoW/PoS</td>\n",
       "      <td>NaN</td>\n",
       "      <td>0</td>\n",
       "    </tr>\n",
       "    <tr>\n",
       "      <th>1140</th>\n",
       "      <td>BEET</td>\n",
       "      <td>Beetle Coin</td>\n",
       "      <td>XEVAN</td>\n",
       "      <td>PoW/PoS</td>\n",
       "      <td>1.989381e+08</td>\n",
       "      <td>500000000</td>\n",
       "    </tr>\n",
       "    <tr>\n",
       "      <th>1087</th>\n",
       "      <td>BTXC</td>\n",
       "      <td>Bettex coin</td>\n",
       "      <td>XEVAN</td>\n",
       "      <td>PoS</td>\n",
       "      <td>6.787405e+06</td>\n",
       "      <td>50000000</td>\n",
       "    </tr>\n",
       "    <tr>\n",
       "      <th>1051</th>\n",
       "      <td>URALS</td>\n",
       "      <td>Urals Coin</td>\n",
       "      <td>XEVAN</td>\n",
       "      <td>PoW</td>\n",
       "      <td>1.474615e+07</td>\n",
       "      <td>210000000</td>\n",
       "    </tr>\n",
       "    <tr>\n",
       "      <th>992</th>\n",
       "      <td>XBI</td>\n",
       "      <td>Bitcoin Incognito</td>\n",
       "      <td>XEVAN</td>\n",
       "      <td>PoS/PoW</td>\n",
       "      <td>1.090496e+07</td>\n",
       "      <td>21000000</td>\n",
       "    </tr>\n",
       "    <tr>\n",
       "      <th>1042</th>\n",
       "      <td>XGS</td>\n",
       "      <td>GenesisX</td>\n",
       "      <td>XEVAN</td>\n",
       "      <td>PoS</td>\n",
       "      <td>0.000000e+00</td>\n",
       "      <td>19000000</td>\n",
       "    </tr>\n",
       "    <tr>\n",
       "      <th>1101</th>\n",
       "      <td>BITM</td>\n",
       "      <td>BitMoney</td>\n",
       "      <td>XEVAN</td>\n",
       "      <td>Pos</td>\n",
       "      <td>2.085159e+08</td>\n",
       "      <td>70000000000</td>\n",
       "    </tr>\n",
       "  </tbody>\n",
       "</table>\n",
       "</div>"
      ],
      "text/plain": [
       "     Unnamed: 0           CoinName    Algorithm ProofType  TotalCoinsMined  \\\n",
       "305        CIRC     CryptoCircuits        vDPOS       PoS     0.000000e+00   \n",
       "1038       SAFE           SafeCoin        Zhash   PoW/PoS     0.000000e+00   \n",
       "945        ELIC            Elicoin  YescryptR16       PoW              NaN   \n",
       "257          XG          XG Sports      XG Hash   PoW/PoS              NaN   \n",
       "1140       BEET        Beetle Coin        XEVAN   PoW/PoS     1.989381e+08   \n",
       "1087       BTXC        Bettex coin        XEVAN       PoS     6.787405e+06   \n",
       "1051      URALS         Urals Coin        XEVAN       PoW     1.474615e+07   \n",
       "992         XBI  Bitcoin Incognito        XEVAN   PoS/PoW     1.090496e+07   \n",
       "1042        XGS           GenesisX        XEVAN       PoS     0.000000e+00   \n",
       "1101       BITM           BitMoney        XEVAN       Pos     2.085159e+08   \n",
       "\n",
       "     TotalCoinSupply  \n",
       "305                0  \n",
       "1038        36000000  \n",
       "945         10000000  \n",
       "257                0  \n",
       "1140       500000000  \n",
       "1087        50000000  \n",
       "1051       210000000  \n",
       "992         21000000  \n",
       "1042        19000000  \n",
       "1101     70000000000  "
      ]
     },
     "execution_count": 120,
     "metadata": {},
     "output_type": "execute_result"
    }
   ],
   "source": [
    "# Remove the \"IsTrading\" column\n",
    "trading_crypto_df = trading_crypto_df.drop(['IsTrading'], axis=1)\n",
    "trading_crypto_df.head(10)"
   ]
  },
  {
   "cell_type": "code",
   "execution_count": 121,
   "metadata": {},
   "outputs": [
    {
     "data": {
      "text/html": [
       "<div>\n",
       "<style scoped>\n",
       "    .dataframe tbody tr th:only-of-type {\n",
       "        vertical-align: middle;\n",
       "    }\n",
       "\n",
       "    .dataframe tbody tr th {\n",
       "        vertical-align: top;\n",
       "    }\n",
       "\n",
       "    .dataframe thead th {\n",
       "        text-align: right;\n",
       "    }\n",
       "</style>\n",
       "<table border=\"1\" class=\"dataframe\">\n",
       "  <thead>\n",
       "    <tr style=\"text-align: right;\">\n",
       "      <th></th>\n",
       "      <th>Unnamed: 0</th>\n",
       "      <th>CoinName</th>\n",
       "      <th>Algorithm</th>\n",
       "      <th>ProofType</th>\n",
       "      <th>TotalCoinsMined</th>\n",
       "      <th>TotalCoinSupply</th>\n",
       "    </tr>\n",
       "  </thead>\n",
       "  <tbody>\n",
       "    <tr>\n",
       "      <th>305</th>\n",
       "      <td>CIRC</td>\n",
       "      <td>CryptoCircuits</td>\n",
       "      <td>vDPOS</td>\n",
       "      <td>PoS</td>\n",
       "      <td>0.000000e+00</td>\n",
       "      <td>0</td>\n",
       "    </tr>\n",
       "    <tr>\n",
       "      <th>1038</th>\n",
       "      <td>SAFE</td>\n",
       "      <td>SafeCoin</td>\n",
       "      <td>Zhash</td>\n",
       "      <td>PoW/PoS</td>\n",
       "      <td>0.000000e+00</td>\n",
       "      <td>36000000</td>\n",
       "    </tr>\n",
       "    <tr>\n",
       "      <th>1140</th>\n",
       "      <td>BEET</td>\n",
       "      <td>Beetle Coin</td>\n",
       "      <td>XEVAN</td>\n",
       "      <td>PoW/PoS</td>\n",
       "      <td>1.989381e+08</td>\n",
       "      <td>500000000</td>\n",
       "    </tr>\n",
       "    <tr>\n",
       "      <th>1087</th>\n",
       "      <td>BTXC</td>\n",
       "      <td>Bettex coin</td>\n",
       "      <td>XEVAN</td>\n",
       "      <td>PoS</td>\n",
       "      <td>6.787405e+06</td>\n",
       "      <td>50000000</td>\n",
       "    </tr>\n",
       "    <tr>\n",
       "      <th>1051</th>\n",
       "      <td>URALS</td>\n",
       "      <td>Urals Coin</td>\n",
       "      <td>XEVAN</td>\n",
       "      <td>PoW</td>\n",
       "      <td>1.474615e+07</td>\n",
       "      <td>210000000</td>\n",
       "    </tr>\n",
       "    <tr>\n",
       "      <th>992</th>\n",
       "      <td>XBI</td>\n",
       "      <td>Bitcoin Incognito</td>\n",
       "      <td>XEVAN</td>\n",
       "      <td>PoS/PoW</td>\n",
       "      <td>1.090496e+07</td>\n",
       "      <td>21000000</td>\n",
       "    </tr>\n",
       "    <tr>\n",
       "      <th>1042</th>\n",
       "      <td>XGS</td>\n",
       "      <td>GenesisX</td>\n",
       "      <td>XEVAN</td>\n",
       "      <td>PoS</td>\n",
       "      <td>0.000000e+00</td>\n",
       "      <td>19000000</td>\n",
       "    </tr>\n",
       "    <tr>\n",
       "      <th>1101</th>\n",
       "      <td>BITM</td>\n",
       "      <td>BitMoney</td>\n",
       "      <td>XEVAN</td>\n",
       "      <td>Pos</td>\n",
       "      <td>2.085159e+08</td>\n",
       "      <td>70000000000</td>\n",
       "    </tr>\n",
       "    <tr>\n",
       "      <th>940</th>\n",
       "      <td>ELP</td>\n",
       "      <td>Ellerium</td>\n",
       "      <td>XEVAN</td>\n",
       "      <td>PoW/PoS</td>\n",
       "      <td>4.192754e+05</td>\n",
       "      <td>60000000</td>\n",
       "    </tr>\n",
       "    <tr>\n",
       "      <th>956</th>\n",
       "      <td>REDN</td>\n",
       "      <td>Reden</td>\n",
       "      <td>X16S</td>\n",
       "      <td>PoW</td>\n",
       "      <td>0.000000e+00</td>\n",
       "      <td>14000000</td>\n",
       "    </tr>\n",
       "  </tbody>\n",
       "</table>\n",
       "</div>"
      ],
      "text/plain": [
       "     Unnamed: 0           CoinName Algorithm ProofType  TotalCoinsMined  \\\n",
       "305        CIRC     CryptoCircuits     vDPOS       PoS     0.000000e+00   \n",
       "1038       SAFE           SafeCoin     Zhash   PoW/PoS     0.000000e+00   \n",
       "1140       BEET        Beetle Coin     XEVAN   PoW/PoS     1.989381e+08   \n",
       "1087       BTXC        Bettex coin     XEVAN       PoS     6.787405e+06   \n",
       "1051      URALS         Urals Coin     XEVAN       PoW     1.474615e+07   \n",
       "992         XBI  Bitcoin Incognito     XEVAN   PoS/PoW     1.090496e+07   \n",
       "1042        XGS           GenesisX     XEVAN       PoS     0.000000e+00   \n",
       "1101       BITM           BitMoney     XEVAN       Pos     2.085159e+08   \n",
       "940         ELP           Ellerium     XEVAN   PoW/PoS     4.192754e+05   \n",
       "956        REDN              Reden      X16S       PoW     0.000000e+00   \n",
       "\n",
       "     TotalCoinSupply  \n",
       "305                0  \n",
       "1038        36000000  \n",
       "1140       500000000  \n",
       "1087        50000000  \n",
       "1051       210000000  \n",
       "992         21000000  \n",
       "1042        19000000  \n",
       "1101     70000000000  \n",
       "940         60000000  \n",
       "956         14000000  "
      ]
     },
     "execution_count": 121,
     "metadata": {},
     "output_type": "execute_result"
    }
   ],
   "source": [
    "# Remove rows with at least 1 null value\n",
    "trading_crypto_df = trading_crypto_df.dropna()\n",
    "trading_crypto_df.head(10)"
   ]
  },
  {
   "cell_type": "code",
   "execution_count": 122,
   "metadata": {},
   "outputs": [
    {
     "data": {
      "text/html": [
       "<div>\n",
       "<style scoped>\n",
       "    .dataframe tbody tr th:only-of-type {\n",
       "        vertical-align: middle;\n",
       "    }\n",
       "\n",
       "    .dataframe tbody tr th {\n",
       "        vertical-align: top;\n",
       "    }\n",
       "\n",
       "    .dataframe thead th {\n",
       "        text-align: right;\n",
       "    }\n",
       "</style>\n",
       "<table border=\"1\" class=\"dataframe\">\n",
       "  <thead>\n",
       "    <tr style=\"text-align: right;\">\n",
       "      <th></th>\n",
       "      <th>Unnamed: 0</th>\n",
       "      <th>CoinName</th>\n",
       "      <th>Algorithm</th>\n",
       "      <th>ProofType</th>\n",
       "      <th>TotalCoinsMined</th>\n",
       "      <th>TotalCoinSupply</th>\n",
       "    </tr>\n",
       "  </thead>\n",
       "  <tbody>\n",
       "    <tr>\n",
       "      <th>1140</th>\n",
       "      <td>BEET</td>\n",
       "      <td>Beetle Coin</td>\n",
       "      <td>XEVAN</td>\n",
       "      <td>PoW/PoS</td>\n",
       "      <td>1.989381e+08</td>\n",
       "      <td>500000000</td>\n",
       "    </tr>\n",
       "    <tr>\n",
       "      <th>1087</th>\n",
       "      <td>BTXC</td>\n",
       "      <td>Bettex coin</td>\n",
       "      <td>XEVAN</td>\n",
       "      <td>PoS</td>\n",
       "      <td>6.787405e+06</td>\n",
       "      <td>50000000</td>\n",
       "    </tr>\n",
       "    <tr>\n",
       "      <th>1051</th>\n",
       "      <td>URALS</td>\n",
       "      <td>Urals Coin</td>\n",
       "      <td>XEVAN</td>\n",
       "      <td>PoW</td>\n",
       "      <td>1.474615e+07</td>\n",
       "      <td>210000000</td>\n",
       "    </tr>\n",
       "    <tr>\n",
       "      <th>992</th>\n",
       "      <td>XBI</td>\n",
       "      <td>Bitcoin Incognito</td>\n",
       "      <td>XEVAN</td>\n",
       "      <td>PoS/PoW</td>\n",
       "      <td>1.090496e+07</td>\n",
       "      <td>21000000</td>\n",
       "    </tr>\n",
       "    <tr>\n",
       "      <th>1101</th>\n",
       "      <td>BITM</td>\n",
       "      <td>BitMoney</td>\n",
       "      <td>XEVAN</td>\n",
       "      <td>Pos</td>\n",
       "      <td>2.085159e+08</td>\n",
       "      <td>70000000000</td>\n",
       "    </tr>\n",
       "  </tbody>\n",
       "</table>\n",
       "</div>"
      ],
      "text/plain": [
       "     Unnamed: 0           CoinName Algorithm ProofType  TotalCoinsMined  \\\n",
       "1140       BEET        Beetle Coin     XEVAN   PoW/PoS     1.989381e+08   \n",
       "1087       BTXC        Bettex coin     XEVAN       PoS     6.787405e+06   \n",
       "1051      URALS         Urals Coin     XEVAN       PoW     1.474615e+07   \n",
       "992         XBI  Bitcoin Incognito     XEVAN   PoS/PoW     1.090496e+07   \n",
       "1101       BITM           BitMoney     XEVAN       Pos     2.085159e+08   \n",
       "\n",
       "     TotalCoinSupply  \n",
       "1140       500000000  \n",
       "1087        50000000  \n",
       "1051       210000000  \n",
       "992         21000000  \n",
       "1101     70000000000  "
      ]
     },
     "execution_count": 122,
     "metadata": {},
     "output_type": "execute_result"
    }
   ],
   "source": [
    "# Remove rows with cryptocurrencies having no coins mined,\n",
    "# by keeping only rows with total coins mined greater than zero\n",
    "trading_crypto_df = trading_crypto_df.loc[trading_crypto_df['TotalCoinsMined'] > 0]\n",
    "trading_crypto_df.head()"
   ]
  },
  {
   "cell_type": "code",
   "execution_count": 123,
   "metadata": {},
   "outputs": [
    {
     "data": {
      "text/html": [
       "<div>\n",
       "<style scoped>\n",
       "    .dataframe tbody tr th:only-of-type {\n",
       "        vertical-align: middle;\n",
       "    }\n",
       "\n",
       "    .dataframe tbody tr th {\n",
       "        vertical-align: top;\n",
       "    }\n",
       "\n",
       "    .dataframe thead th {\n",
       "        text-align: right;\n",
       "    }\n",
       "</style>\n",
       "<table border=\"1\" class=\"dataframe\">\n",
       "  <thead>\n",
       "    <tr style=\"text-align: right;\">\n",
       "      <th></th>\n",
       "      <th>Unnamed: 0</th>\n",
       "      <th>CoinName</th>\n",
       "      <th>Algorithm</th>\n",
       "      <th>ProofType</th>\n",
       "      <th>TotalCoinsMined</th>\n",
       "      <th>TotalCoinSupply</th>\n",
       "    </tr>\n",
       "  </thead>\n",
       "  <tbody>\n",
       "    <tr>\n",
       "      <th>1140</th>\n",
       "      <td>BEET</td>\n",
       "      <td>Beetle Coin</td>\n",
       "      <td>XEVAN</td>\n",
       "      <td>PoW/PoS</td>\n",
       "      <td>1.989381e+08</td>\n",
       "      <td>500000000</td>\n",
       "    </tr>\n",
       "    <tr>\n",
       "      <th>1087</th>\n",
       "      <td>BTXC</td>\n",
       "      <td>Bettex coin</td>\n",
       "      <td>XEVAN</td>\n",
       "      <td>PoS</td>\n",
       "      <td>6.787405e+06</td>\n",
       "      <td>50000000</td>\n",
       "    </tr>\n",
       "    <tr>\n",
       "      <th>1051</th>\n",
       "      <td>URALS</td>\n",
       "      <td>Urals Coin</td>\n",
       "      <td>XEVAN</td>\n",
       "      <td>PoW</td>\n",
       "      <td>1.474615e+07</td>\n",
       "      <td>210000000</td>\n",
       "    </tr>\n",
       "    <tr>\n",
       "      <th>992</th>\n",
       "      <td>XBI</td>\n",
       "      <td>Bitcoin Incognito</td>\n",
       "      <td>XEVAN</td>\n",
       "      <td>PoS/PoW</td>\n",
       "      <td>1.090496e+07</td>\n",
       "      <td>21000000</td>\n",
       "    </tr>\n",
       "    <tr>\n",
       "      <th>1101</th>\n",
       "      <td>BITM</td>\n",
       "      <td>BitMoney</td>\n",
       "      <td>XEVAN</td>\n",
       "      <td>Pos</td>\n",
       "      <td>2.085159e+08</td>\n",
       "      <td>70000000000</td>\n",
       "    </tr>\n",
       "    <tr>\n",
       "      <th>940</th>\n",
       "      <td>ELP</td>\n",
       "      <td>Ellerium</td>\n",
       "      <td>XEVAN</td>\n",
       "      <td>PoW/PoS</td>\n",
       "      <td>4.192754e+05</td>\n",
       "      <td>60000000</td>\n",
       "    </tr>\n",
       "    <tr>\n",
       "      <th>1034</th>\n",
       "      <td>TRVC</td>\n",
       "      <td>Trivechain</td>\n",
       "      <td>X16R</td>\n",
       "      <td>PoW/PoS</td>\n",
       "      <td>3.692312e+07</td>\n",
       "      <td>82546564</td>\n",
       "    </tr>\n",
       "    <tr>\n",
       "      <th>1030</th>\n",
       "      <td>XMN</td>\n",
       "      <td>Motion</td>\n",
       "      <td>X16R</td>\n",
       "      <td>PoW</td>\n",
       "      <td>8.125865e+06</td>\n",
       "      <td>22075700</td>\n",
       "    </tr>\n",
       "    <tr>\n",
       "      <th>987</th>\n",
       "      <td>PROTON</td>\n",
       "      <td>Proton</td>\n",
       "      <td>X16R</td>\n",
       "      <td>PoS</td>\n",
       "      <td>4.403800e+06</td>\n",
       "      <td>45000000</td>\n",
       "    </tr>\n",
       "    <tr>\n",
       "      <th>1075</th>\n",
       "      <td>XCG</td>\n",
       "      <td>Xchange</td>\n",
       "      <td>X16R</td>\n",
       "      <td>PoW</td>\n",
       "      <td>9.753754e+06</td>\n",
       "      <td>100000000</td>\n",
       "    </tr>\n",
       "  </tbody>\n",
       "</table>\n",
       "</div>"
      ],
      "text/plain": [
       "     Unnamed: 0           CoinName Algorithm ProofType  TotalCoinsMined  \\\n",
       "1140       BEET        Beetle Coin     XEVAN   PoW/PoS     1.989381e+08   \n",
       "1087       BTXC        Bettex coin     XEVAN       PoS     6.787405e+06   \n",
       "1051      URALS         Urals Coin     XEVAN       PoW     1.474615e+07   \n",
       "992         XBI  Bitcoin Incognito     XEVAN   PoS/PoW     1.090496e+07   \n",
       "1101       BITM           BitMoney     XEVAN       Pos     2.085159e+08   \n",
       "940         ELP           Ellerium     XEVAN   PoW/PoS     4.192754e+05   \n",
       "1034       TRVC         Trivechain      X16R   PoW/PoS     3.692312e+07   \n",
       "1030        XMN             Motion      X16R       PoW     8.125865e+06   \n",
       "987      PROTON             Proton      X16R       PoS     4.403800e+06   \n",
       "1075        XCG            Xchange      X16R       PoW     9.753754e+06   \n",
       "\n",
       "     TotalCoinSupply  \n",
       "1140       500000000  \n",
       "1087        50000000  \n",
       "1051       210000000  \n",
       "992         21000000  \n",
       "1101     70000000000  \n",
       "940         60000000  \n",
       "1034        82546564  \n",
       "1030        22075700  \n",
       "987         45000000  \n",
       "1075       100000000  "
      ]
     },
     "execution_count": 123,
     "metadata": {},
     "output_type": "execute_result"
    }
   ],
   "source": [
    "# Drop rows where there are 'N/A' text values\n",
    "trading_crypto_df = trading_crypto_df.dropna(axis=0, subset=['CoinName'])\n",
    "trading_crypto_df = trading_crypto_df.dropna(axis=0, subset=['Algorithm'])\n",
    "trading_crypto_df = trading_crypto_df.dropna(axis=0, subset=['ProofType'])\n",
    "trading_crypto_df = trading_crypto_df.dropna(axis=0, subset=['TotalCoinsMined'])\n",
    "trading_crypto_df = trading_crypto_df.dropna(axis=0, subset=['TotalCoinSupply'])\n",
    "trading_crypto_df.head(10)\n"
   ]
  },
  {
   "cell_type": "code",
   "execution_count": 124,
   "metadata": {},
   "outputs": [
    {
     "data": {
      "text/html": [
       "<div>\n",
       "<style scoped>\n",
       "    .dataframe tbody tr th:only-of-type {\n",
       "        vertical-align: middle;\n",
       "    }\n",
       "\n",
       "    .dataframe tbody tr th {\n",
       "        vertical-align: top;\n",
       "    }\n",
       "\n",
       "    .dataframe thead th {\n",
       "        text-align: right;\n",
       "    }\n",
       "</style>\n",
       "<table border=\"1\" class=\"dataframe\">\n",
       "  <thead>\n",
       "    <tr style=\"text-align: right;\">\n",
       "      <th></th>\n",
       "      <th>CoinName</th>\n",
       "    </tr>\n",
       "  </thead>\n",
       "  <tbody>\n",
       "    <tr>\n",
       "      <th>1140</th>\n",
       "      <td>Beetle Coin</td>\n",
       "    </tr>\n",
       "    <tr>\n",
       "      <th>1087</th>\n",
       "      <td>Bettex coin</td>\n",
       "    </tr>\n",
       "    <tr>\n",
       "      <th>1051</th>\n",
       "      <td>Urals Coin</td>\n",
       "    </tr>\n",
       "    <tr>\n",
       "      <th>992</th>\n",
       "      <td>Bitcoin Incognito</td>\n",
       "    </tr>\n",
       "    <tr>\n",
       "      <th>1101</th>\n",
       "      <td>BitMoney</td>\n",
       "    </tr>\n",
       "  </tbody>\n",
       "</table>\n",
       "</div>"
      ],
      "text/plain": [
       "               CoinName\n",
       "1140        Beetle Coin\n",
       "1087        Bettex coin\n",
       "1051         Urals Coin\n",
       "992   Bitcoin Incognito\n",
       "1101           BitMoney"
      ]
     },
     "execution_count": 124,
     "metadata": {},
     "output_type": "execute_result"
    }
   ],
   "source": [
    "# Store the 'CoinName'column in its own DataFrame prior to dropping it from crypto_df\n",
    "CoinName_df = trading_crypto_df[[\"CoinName\"]]\n",
    "CoinName_df.head(5)"
   ]
  },
  {
   "cell_type": "code",
   "execution_count": 128,
   "metadata": {},
   "outputs": [
    {
     "data": {
      "text/html": [
       "<div>\n",
       "<style scoped>\n",
       "    .dataframe tbody tr th:only-of-type {\n",
       "        vertical-align: middle;\n",
       "    }\n",
       "\n",
       "    .dataframe tbody tr th {\n",
       "        vertical-align: top;\n",
       "    }\n",
       "\n",
       "    .dataframe thead th {\n",
       "        text-align: right;\n",
       "    }\n",
       "</style>\n",
       "<table border=\"1\" class=\"dataframe\">\n",
       "  <thead>\n",
       "    <tr style=\"text-align: right;\">\n",
       "      <th></th>\n",
       "      <th>Algorithm</th>\n",
       "      <th>ProofType</th>\n",
       "      <th>TotalCoinsMined</th>\n",
       "      <th>TotalCoinSupply</th>\n",
       "    </tr>\n",
       "  </thead>\n",
       "  <tbody>\n",
       "    <tr>\n",
       "      <th>1140</th>\n",
       "      <td>XEVAN</td>\n",
       "      <td>PoW/PoS</td>\n",
       "      <td>1.989381e+08</td>\n",
       "      <td>500000000</td>\n",
       "    </tr>\n",
       "    <tr>\n",
       "      <th>1087</th>\n",
       "      <td>XEVAN</td>\n",
       "      <td>PoS</td>\n",
       "      <td>6.787405e+06</td>\n",
       "      <td>50000000</td>\n",
       "    </tr>\n",
       "    <tr>\n",
       "      <th>1051</th>\n",
       "      <td>XEVAN</td>\n",
       "      <td>PoW</td>\n",
       "      <td>1.474615e+07</td>\n",
       "      <td>210000000</td>\n",
       "    </tr>\n",
       "    <tr>\n",
       "      <th>992</th>\n",
       "      <td>XEVAN</td>\n",
       "      <td>PoS/PoW</td>\n",
       "      <td>1.090496e+07</td>\n",
       "      <td>21000000</td>\n",
       "    </tr>\n",
       "    <tr>\n",
       "      <th>1101</th>\n",
       "      <td>XEVAN</td>\n",
       "      <td>Pos</td>\n",
       "      <td>2.085159e+08</td>\n",
       "      <td>70000000000</td>\n",
       "    </tr>\n",
       "    <tr>\n",
       "      <th>940</th>\n",
       "      <td>XEVAN</td>\n",
       "      <td>PoW/PoS</td>\n",
       "      <td>4.192754e+05</td>\n",
       "      <td>60000000</td>\n",
       "    </tr>\n",
       "    <tr>\n",
       "      <th>1034</th>\n",
       "      <td>X16R</td>\n",
       "      <td>PoW/PoS</td>\n",
       "      <td>3.692312e+07</td>\n",
       "      <td>82546564</td>\n",
       "    </tr>\n",
       "    <tr>\n",
       "      <th>1030</th>\n",
       "      <td>X16R</td>\n",
       "      <td>PoW</td>\n",
       "      <td>8.125865e+06</td>\n",
       "      <td>22075700</td>\n",
       "    </tr>\n",
       "    <tr>\n",
       "      <th>987</th>\n",
       "      <td>X16R</td>\n",
       "      <td>PoS</td>\n",
       "      <td>4.403800e+06</td>\n",
       "      <td>45000000</td>\n",
       "    </tr>\n",
       "    <tr>\n",
       "      <th>1075</th>\n",
       "      <td>X16R</td>\n",
       "      <td>PoW</td>\n",
       "      <td>9.753754e+06</td>\n",
       "      <td>100000000</td>\n",
       "    </tr>\n",
       "  </tbody>\n",
       "</table>\n",
       "</div>"
      ],
      "text/plain": [
       "     Algorithm ProofType  TotalCoinsMined TotalCoinSupply\n",
       "1140     XEVAN   PoW/PoS     1.989381e+08       500000000\n",
       "1087     XEVAN       PoS     6.787405e+06        50000000\n",
       "1051     XEVAN       PoW     1.474615e+07       210000000\n",
       "992      XEVAN   PoS/PoW     1.090496e+07        21000000\n",
       "1101     XEVAN       Pos     2.085159e+08     70000000000\n",
       "940      XEVAN   PoW/PoS     4.192754e+05        60000000\n",
       "1034      X16R   PoW/PoS     3.692312e+07        82546564\n",
       "1030      X16R       PoW     8.125865e+06        22075700\n",
       "987       X16R       PoS     4.403800e+06        45000000\n",
       "1075      X16R       PoW     9.753754e+06       100000000"
      ]
     },
     "execution_count": 128,
     "metadata": {},
     "output_type": "execute_result"
    }
   ],
   "source": [
    "# Drop the 'CoinName' column since it's not going to be used on the clustering algorithm\n",
    "trading_crypto_df_sans_CoinName = trading_crypto_df.drop(['CoinName'], axis=1)\n",
    "trading_crypto_df_sans_CoinName = trading_crypto_df.drop(['Unnamed: 0'], axis=1)\n",
    "trading_crypto_df_sans_CoinName = trading_crypto_df_sans_CoinName.drop(['CoinName'], axis=1)\n",
    "trading_crypto_df_sans_CoinName.head(10)"
   ]
  },
  {
   "cell_type": "code",
   "execution_count": 129,
   "metadata": {},
   "outputs": [
    {
     "data": {
      "text/html": [
       "<div>\n",
       "<style scoped>\n",
       "    .dataframe tbody tr th:only-of-type {\n",
       "        vertical-align: middle;\n",
       "    }\n",
       "\n",
       "    .dataframe tbody tr th {\n",
       "        vertical-align: top;\n",
       "    }\n",
       "\n",
       "    .dataframe thead th {\n",
       "        text-align: right;\n",
       "    }\n",
       "</style>\n",
       "<table border=\"1\" class=\"dataframe\">\n",
       "  <thead>\n",
       "    <tr style=\"text-align: right;\">\n",
       "      <th></th>\n",
       "      <th>TotalCoinsMined</th>\n",
       "      <th>TotalCoinSupply</th>\n",
       "      <th>Algorithm_1GB AES Pattern Search</th>\n",
       "      <th>Algorithm_536</th>\n",
       "      <th>Algorithm_Argon2d</th>\n",
       "      <th>Algorithm_BLAKE256</th>\n",
       "      <th>Algorithm_Blake</th>\n",
       "      <th>Algorithm_Blake2S</th>\n",
       "      <th>Algorithm_Blake2b</th>\n",
       "      <th>Algorithm_C11</th>\n",
       "      <th>...</th>\n",
       "      <th>ProofType_PoW/PoS</th>\n",
       "      <th>ProofType_PoW/PoS</th>\n",
       "      <th>ProofType_PoW/PoW</th>\n",
       "      <th>ProofType_PoW/nPoS</th>\n",
       "      <th>ProofType_Pos</th>\n",
       "      <th>ProofType_Proof of Authority</th>\n",
       "      <th>ProofType_Proof of Trust</th>\n",
       "      <th>ProofType_TPoS</th>\n",
       "      <th>ProofType_Zero-Knowledge Proof</th>\n",
       "      <th>ProofType_dPoW/PoW</th>\n",
       "    </tr>\n",
       "  </thead>\n",
       "  <tbody>\n",
       "    <tr>\n",
       "      <th>1140</th>\n",
       "      <td>1.989381e+08</td>\n",
       "      <td>500000000</td>\n",
       "      <td>0</td>\n",
       "      <td>0</td>\n",
       "      <td>0</td>\n",
       "      <td>0</td>\n",
       "      <td>0</td>\n",
       "      <td>0</td>\n",
       "      <td>0</td>\n",
       "      <td>0</td>\n",
       "      <td>...</td>\n",
       "      <td>1</td>\n",
       "      <td>0</td>\n",
       "      <td>0</td>\n",
       "      <td>0</td>\n",
       "      <td>0</td>\n",
       "      <td>0</td>\n",
       "      <td>0</td>\n",
       "      <td>0</td>\n",
       "      <td>0</td>\n",
       "      <td>0</td>\n",
       "    </tr>\n",
       "    <tr>\n",
       "      <th>1087</th>\n",
       "      <td>6.787405e+06</td>\n",
       "      <td>50000000</td>\n",
       "      <td>0</td>\n",
       "      <td>0</td>\n",
       "      <td>0</td>\n",
       "      <td>0</td>\n",
       "      <td>0</td>\n",
       "      <td>0</td>\n",
       "      <td>0</td>\n",
       "      <td>0</td>\n",
       "      <td>...</td>\n",
       "      <td>0</td>\n",
       "      <td>0</td>\n",
       "      <td>0</td>\n",
       "      <td>0</td>\n",
       "      <td>0</td>\n",
       "      <td>0</td>\n",
       "      <td>0</td>\n",
       "      <td>0</td>\n",
       "      <td>0</td>\n",
       "      <td>0</td>\n",
       "    </tr>\n",
       "    <tr>\n",
       "      <th>1051</th>\n",
       "      <td>1.474615e+07</td>\n",
       "      <td>210000000</td>\n",
       "      <td>0</td>\n",
       "      <td>0</td>\n",
       "      <td>0</td>\n",
       "      <td>0</td>\n",
       "      <td>0</td>\n",
       "      <td>0</td>\n",
       "      <td>0</td>\n",
       "      <td>0</td>\n",
       "      <td>...</td>\n",
       "      <td>0</td>\n",
       "      <td>0</td>\n",
       "      <td>0</td>\n",
       "      <td>0</td>\n",
       "      <td>0</td>\n",
       "      <td>0</td>\n",
       "      <td>0</td>\n",
       "      <td>0</td>\n",
       "      <td>0</td>\n",
       "      <td>0</td>\n",
       "    </tr>\n",
       "    <tr>\n",
       "      <th>992</th>\n",
       "      <td>1.090496e+07</td>\n",
       "      <td>21000000</td>\n",
       "      <td>0</td>\n",
       "      <td>0</td>\n",
       "      <td>0</td>\n",
       "      <td>0</td>\n",
       "      <td>0</td>\n",
       "      <td>0</td>\n",
       "      <td>0</td>\n",
       "      <td>0</td>\n",
       "      <td>...</td>\n",
       "      <td>0</td>\n",
       "      <td>0</td>\n",
       "      <td>0</td>\n",
       "      <td>0</td>\n",
       "      <td>0</td>\n",
       "      <td>0</td>\n",
       "      <td>0</td>\n",
       "      <td>0</td>\n",
       "      <td>0</td>\n",
       "      <td>0</td>\n",
       "    </tr>\n",
       "    <tr>\n",
       "      <th>1101</th>\n",
       "      <td>2.085159e+08</td>\n",
       "      <td>70000000000</td>\n",
       "      <td>0</td>\n",
       "      <td>0</td>\n",
       "      <td>0</td>\n",
       "      <td>0</td>\n",
       "      <td>0</td>\n",
       "      <td>0</td>\n",
       "      <td>0</td>\n",
       "      <td>0</td>\n",
       "      <td>...</td>\n",
       "      <td>0</td>\n",
       "      <td>0</td>\n",
       "      <td>0</td>\n",
       "      <td>0</td>\n",
       "      <td>1</td>\n",
       "      <td>0</td>\n",
       "      <td>0</td>\n",
       "      <td>0</td>\n",
       "      <td>0</td>\n",
       "      <td>0</td>\n",
       "    </tr>\n",
       "    <tr>\n",
       "      <th>940</th>\n",
       "      <td>4.192754e+05</td>\n",
       "      <td>60000000</td>\n",
       "      <td>0</td>\n",
       "      <td>0</td>\n",
       "      <td>0</td>\n",
       "      <td>0</td>\n",
       "      <td>0</td>\n",
       "      <td>0</td>\n",
       "      <td>0</td>\n",
       "      <td>0</td>\n",
       "      <td>...</td>\n",
       "      <td>1</td>\n",
       "      <td>0</td>\n",
       "      <td>0</td>\n",
       "      <td>0</td>\n",
       "      <td>0</td>\n",
       "      <td>0</td>\n",
       "      <td>0</td>\n",
       "      <td>0</td>\n",
       "      <td>0</td>\n",
       "      <td>0</td>\n",
       "    </tr>\n",
       "    <tr>\n",
       "      <th>1034</th>\n",
       "      <td>3.692312e+07</td>\n",
       "      <td>82546564</td>\n",
       "      <td>0</td>\n",
       "      <td>0</td>\n",
       "      <td>0</td>\n",
       "      <td>0</td>\n",
       "      <td>0</td>\n",
       "      <td>0</td>\n",
       "      <td>0</td>\n",
       "      <td>0</td>\n",
       "      <td>...</td>\n",
       "      <td>1</td>\n",
       "      <td>0</td>\n",
       "      <td>0</td>\n",
       "      <td>0</td>\n",
       "      <td>0</td>\n",
       "      <td>0</td>\n",
       "      <td>0</td>\n",
       "      <td>0</td>\n",
       "      <td>0</td>\n",
       "      <td>0</td>\n",
       "    </tr>\n",
       "    <tr>\n",
       "      <th>1030</th>\n",
       "      <td>8.125865e+06</td>\n",
       "      <td>22075700</td>\n",
       "      <td>0</td>\n",
       "      <td>0</td>\n",
       "      <td>0</td>\n",
       "      <td>0</td>\n",
       "      <td>0</td>\n",
       "      <td>0</td>\n",
       "      <td>0</td>\n",
       "      <td>0</td>\n",
       "      <td>...</td>\n",
       "      <td>0</td>\n",
       "      <td>0</td>\n",
       "      <td>0</td>\n",
       "      <td>0</td>\n",
       "      <td>0</td>\n",
       "      <td>0</td>\n",
       "      <td>0</td>\n",
       "      <td>0</td>\n",
       "      <td>0</td>\n",
       "      <td>0</td>\n",
       "    </tr>\n",
       "    <tr>\n",
       "      <th>987</th>\n",
       "      <td>4.403800e+06</td>\n",
       "      <td>45000000</td>\n",
       "      <td>0</td>\n",
       "      <td>0</td>\n",
       "      <td>0</td>\n",
       "      <td>0</td>\n",
       "      <td>0</td>\n",
       "      <td>0</td>\n",
       "      <td>0</td>\n",
       "      <td>0</td>\n",
       "      <td>...</td>\n",
       "      <td>0</td>\n",
       "      <td>0</td>\n",
       "      <td>0</td>\n",
       "      <td>0</td>\n",
       "      <td>0</td>\n",
       "      <td>0</td>\n",
       "      <td>0</td>\n",
       "      <td>0</td>\n",
       "      <td>0</td>\n",
       "      <td>0</td>\n",
       "    </tr>\n",
       "    <tr>\n",
       "      <th>1075</th>\n",
       "      <td>9.753754e+06</td>\n",
       "      <td>100000000</td>\n",
       "      <td>0</td>\n",
       "      <td>0</td>\n",
       "      <td>0</td>\n",
       "      <td>0</td>\n",
       "      <td>0</td>\n",
       "      <td>0</td>\n",
       "      <td>0</td>\n",
       "      <td>0</td>\n",
       "      <td>...</td>\n",
       "      <td>0</td>\n",
       "      <td>0</td>\n",
       "      <td>0</td>\n",
       "      <td>0</td>\n",
       "      <td>0</td>\n",
       "      <td>0</td>\n",
       "      <td>0</td>\n",
       "      <td>0</td>\n",
       "      <td>0</td>\n",
       "      <td>0</td>\n",
       "    </tr>\n",
       "  </tbody>\n",
       "</table>\n",
       "<p>10 rows × 101 columns</p>\n",
       "</div>"
      ],
      "text/plain": [
       "      TotalCoinsMined TotalCoinSupply  Algorithm_1GB AES Pattern Search  \\\n",
       "1140     1.989381e+08       500000000                                 0   \n",
       "1087     6.787405e+06        50000000                                 0   \n",
       "1051     1.474615e+07       210000000                                 0   \n",
       "992      1.090496e+07        21000000                                 0   \n",
       "1101     2.085159e+08     70000000000                                 0   \n",
       "940      4.192754e+05        60000000                                 0   \n",
       "1034     3.692312e+07        82546564                                 0   \n",
       "1030     8.125865e+06        22075700                                 0   \n",
       "987      4.403800e+06        45000000                                 0   \n",
       "1075     9.753754e+06       100000000                                 0   \n",
       "\n",
       "      Algorithm_536  Algorithm_Argon2d  Algorithm_BLAKE256  Algorithm_Blake  \\\n",
       "1140              0                  0                   0                0   \n",
       "1087              0                  0                   0                0   \n",
       "1051              0                  0                   0                0   \n",
       "992               0                  0                   0                0   \n",
       "1101              0                  0                   0                0   \n",
       "940               0                  0                   0                0   \n",
       "1034              0                  0                   0                0   \n",
       "1030              0                  0                   0                0   \n",
       "987               0                  0                   0                0   \n",
       "1075              0                  0                   0                0   \n",
       "\n",
       "      Algorithm_Blake2S  Algorithm_Blake2b  Algorithm_C11  ...  \\\n",
       "1140                  0                  0              0  ...   \n",
       "1087                  0                  0              0  ...   \n",
       "1051                  0                  0              0  ...   \n",
       "992                   0                  0              0  ...   \n",
       "1101                  0                  0              0  ...   \n",
       "940                   0                  0              0  ...   \n",
       "1034                  0                  0              0  ...   \n",
       "1030                  0                  0              0  ...   \n",
       "987                   0                  0              0  ...   \n",
       "1075                  0                  0              0  ...   \n",
       "\n",
       "      ProofType_PoW/PoS  ProofType_PoW/PoS   ProofType_PoW/PoW  \\\n",
       "1140                  1                   0                  0   \n",
       "1087                  0                   0                  0   \n",
       "1051                  0                   0                  0   \n",
       "992                   0                   0                  0   \n",
       "1101                  0                   0                  0   \n",
       "940                   1                   0                  0   \n",
       "1034                  1                   0                  0   \n",
       "1030                  0                   0                  0   \n",
       "987                   0                   0                  0   \n",
       "1075                  0                   0                  0   \n",
       "\n",
       "      ProofType_PoW/nPoS  ProofType_Pos  ProofType_Proof of Authority  \\\n",
       "1140                   0              0                             0   \n",
       "1087                   0              0                             0   \n",
       "1051                   0              0                             0   \n",
       "992                    0              0                             0   \n",
       "1101                   0              1                             0   \n",
       "940                    0              0                             0   \n",
       "1034                   0              0                             0   \n",
       "1030                   0              0                             0   \n",
       "987                    0              0                             0   \n",
       "1075                   0              0                             0   \n",
       "\n",
       "      ProofType_Proof of Trust  ProofType_TPoS  \\\n",
       "1140                         0               0   \n",
       "1087                         0               0   \n",
       "1051                         0               0   \n",
       "992                          0               0   \n",
       "1101                         0               0   \n",
       "940                          0               0   \n",
       "1034                         0               0   \n",
       "1030                         0               0   \n",
       "987                          0               0   \n",
       "1075                         0               0   \n",
       "\n",
       "      ProofType_Zero-Knowledge Proof  ProofType_dPoW/PoW  \n",
       "1140                               0                   0  \n",
       "1087                               0                   0  \n",
       "1051                               0                   0  \n",
       "992                                0                   0  \n",
       "1101                               0                   0  \n",
       "940                                0                   0  \n",
       "1034                               0                   0  \n",
       "1030                               0                   0  \n",
       "987                                0                   0  \n",
       "1075                               0                   0  \n",
       "\n",
       "[10 rows x 101 columns]"
      ]
     },
     "execution_count": 129,
     "metadata": {},
     "output_type": "execute_result"
    }
   ],
   "source": [
    "# Create dummy variables for text features\n",
    "cleaned_crypto_df = pd.get_dummies(trading_crypto_df_sans_CoinName,\n",
    "                                   columns=['Algorithm', 'ProofType'])\n",
    "cleaned_crypto_df.head(10)"
   ]
  },
  {
   "cell_type": "code",
   "execution_count": 130,
   "metadata": {},
   "outputs": [],
   "source": [
    "# Standardize data\n",
    "standardized_crypto_df = StandardScaler().fit_transform(cleaned_crypto_df)"
   ]
  },
  {
   "cell_type": "markdown",
   "metadata": {},
   "source": [
    "### Reducing Dimensions Using PCA"
   ]
  },
  {
   "cell_type": "code",
   "execution_count": 131,
   "metadata": {},
   "outputs": [],
   "source": [
    "# Use PCA to reduce dimensions to 3 principal components\n",
    "pca = PCA(n_components=3)"
   ]
  },
  {
   "cell_type": "code",
   "execution_count": 132,
   "metadata": {},
   "outputs": [
    {
     "data": {
      "text/plain": [
       "array([[-0.3368219 ,  1.26459118, -0.39141416],\n",
       "       [-0.28632018,  0.95718287, -0.08343784],\n",
       "       [-0.17356728, -0.90254746,  0.15451554],\n",
       "       ...,\n",
       "       [-0.14219447, -2.08953828,  0.43356277],\n",
       "       [ 0.61123796,  1.97767581, -0.71415979],\n",
       "       [-0.16238632, -2.25088852,  0.33384941]])"
      ]
     },
     "execution_count": 132,
     "metadata": {},
     "output_type": "execute_result"
    }
   ],
   "source": [
    "# Create a DataFrame with the principal components data\n",
    "pca_crypto_df = pca.fit_transform(standardized_crypto_df)\n",
    "pca_crypto_df "
   ]
  },
  {
   "cell_type": "markdown",
   "metadata": {},
   "source": [
    "### Clustering Crytocurrencies Using K-Means\n",
    "\n",
    "#### Find the Best Value for `k` Using the Elbow Curve"
   ]
  },
  {
   "cell_type": "code",
   "execution_count": 133,
   "metadata": {},
   "outputs": [
    {
     "data": {},
     "metadata": {},
     "output_type": "display_data"
    },
    {
     "data": {
      "application/vnd.holoviews_exec.v0+json": "",
      "text/html": [
       "<div id='1095'>\n",
       "\n",
       "\n",
       "\n",
       "\n",
       "\n",
       "  <div class=\"bk-root\" id=\"5fe6f03f-650b-4d4c-b855-afc3687fa06d\" data-root-id=\"1095\"></div>\n",
       "</div>\n",
       "<script type=\"application/javascript\">(function(root) {\n",
       "  function embed_document(root) {\n",
       "  var docs_json = {\"f6115e15-cc22-42ae-81fb-b620d27e90f7\":{\"roots\":{\"references\":[{\"attributes\":{},\"id\":\"1139\",\"type\":\"BasicTickFormatter\"},{\"attributes\":{\"bottom_units\":\"screen\",\"fill_alpha\":0.5,\"fill_color\":\"lightgrey\",\"left_units\":\"screen\",\"level\":\"overlay\",\"line_alpha\":1.0,\"line_color\":\"black\",\"line_dash\":[4,4],\"line_width\":2,\"render_mode\":\"css\",\"right_units\":\"screen\",\"top_units\":\"screen\"},\"id\":\"1122\",\"type\":\"BoxAnnotation\"},{\"attributes\":{\"end\":10.0,\"reset_end\":10.0,\"reset_start\":1.0,\"start\":1.0,\"tags\":[[[\"k\",\"k\",null]]]},\"id\":\"1097\",\"type\":\"Range1d\"},{\"attributes\":{},\"id\":\"1143\",\"type\":\"BasicTickFormatter\"},{\"attributes\":{\"below\":[{\"id\":\"1109\"}],\"center\":[{\"id\":\"1112\"},{\"id\":\"1116\"}],\"left\":[{\"id\":\"1113\"}],\"margin\":null,\"min_border_bottom\":10,\"min_border_left\":10,\"min_border_right\":10,\"min_border_top\":10,\"plot_height\":300,\"plot_width\":700,\"renderers\":[{\"id\":\"1136\"}],\"sizing_mode\":\"fixed\",\"title\":{\"id\":\"1101\"},\"toolbar\":{\"id\":\"1123\"},\"x_range\":{\"id\":\"1097\"},\"x_scale\":{\"id\":\"1105\"},\"y_range\":{\"id\":\"1098\"},\"y_scale\":{\"id\":\"1107\"}},\"id\":\"1100\",\"subtype\":\"Figure\",\"type\":\"Plot\"},{\"attributes\":{\"axis\":{\"id\":\"1109\"},\"grid_line_color\":null,\"ticker\":null},\"id\":\"1112\",\"type\":\"Grid\"},{\"attributes\":{\"end\":4320.665913216131,\"reset_end\":4320.665913216131,\"reset_start\":-256.6027219162078,\"start\":-256.6027219162078,\"tags\":[[[\"inertia\",\"inertia\",null]]]},\"id\":\"1098\",\"type\":\"Range1d\"},{\"attributes\":{\"axis_label\":\"inertia\",\"bounds\":\"auto\",\"formatter\":{\"id\":\"1143\"},\"major_label_orientation\":\"horizontal\",\"ticker\":{\"id\":\"1114\"}},\"id\":\"1113\",\"type\":\"LinearAxis\"},{\"attributes\":{\"data\":{\"inertia\":{\"__ndarray__\":\"MR8IJ3TGrkBgrU9rcu2kQJk76NTwT5lAjVhnJWTZgUD3OSGFjBl2QIiO4oXeNHFAkPzzvejObEDH+meqJNpmQDKRzH5Sx2JA8b2BcoY1X0A=\",\"dtype\":\"float64\",\"shape\":[10]},\"k\":[1,2,3,4,5,6,7,8,9,10]},\"selected\":{\"id\":\"1131\"},\"selection_policy\":{\"id\":\"1149\"}},\"id\":\"1130\",\"type\":\"ColumnDataSource\"},{\"attributes\":{},\"id\":\"1149\",\"type\":\"UnionRenderers\"},{\"attributes\":{},\"id\":\"1107\",\"type\":\"LinearScale\"},{\"attributes\":{\"axis_label\":\"k\",\"bounds\":\"auto\",\"formatter\":{\"id\":\"1139\"},\"major_label_orientation\":\"horizontal\",\"ticker\":{\"id\":\"1138\"}},\"id\":\"1109\",\"type\":\"LinearAxis\"},{\"attributes\":{\"axis\":{\"id\":\"1113\"},\"dimension\":1,\"grid_line_color\":null,\"ticker\":null},\"id\":\"1116\",\"type\":\"Grid\"},{\"attributes\":{},\"id\":\"1117\",\"type\":\"SaveTool\"},{\"attributes\":{},\"id\":\"1118\",\"type\":\"PanTool\"},{\"attributes\":{},\"id\":\"1119\",\"type\":\"WheelZoomTool\"},{\"attributes\":{},\"id\":\"1105\",\"type\":\"LinearScale\"},{\"attributes\":{\"overlay\":{\"id\":\"1122\"}},\"id\":\"1120\",\"type\":\"BoxZoomTool\"},{\"attributes\":{},\"id\":\"1131\",\"type\":\"Selection\"},{\"attributes\":{},\"id\":\"1121\",\"type\":\"ResetTool\"},{\"attributes\":{\"line_alpha\":0.1,\"line_color\":\"#1f77b3\",\"line_width\":2,\"x\":{\"field\":\"k\"},\"y\":{\"field\":\"inertia\"}},\"id\":\"1134\",\"type\":\"Line\"},{\"attributes\":{\"active_drag\":\"auto\",\"active_inspect\":\"auto\",\"active_multi\":null,\"active_scroll\":\"auto\",\"active_tap\":\"auto\",\"tools\":[{\"id\":\"1099\"},{\"id\":\"1117\"},{\"id\":\"1118\"},{\"id\":\"1119\"},{\"id\":\"1120\"},{\"id\":\"1121\"}]},\"id\":\"1123\",\"type\":\"Toolbar\"},{\"attributes\":{\"line_color\":\"#1f77b3\",\"line_width\":2,\"x\":{\"field\":\"k\"},\"y\":{\"field\":\"inertia\"}},\"id\":\"1133\",\"type\":\"Line\"},{\"attributes\":{\"data_source\":{\"id\":\"1130\"},\"glyph\":{\"id\":\"1133\"},\"hover_glyph\":null,\"muted_glyph\":{\"id\":\"1135\"},\"nonselection_glyph\":{\"id\":\"1134\"},\"selection_glyph\":null,\"view\":{\"id\":\"1137\"}},\"id\":\"1136\",\"type\":\"GlyphRenderer\"},{\"attributes\":{\"margin\":[5,5,5,5],\"name\":\"HSpacer01703\",\"sizing_mode\":\"stretch_width\"},\"id\":\"1096\",\"type\":\"Spacer\"},{\"attributes\":{\"ticks\":[1,2,3,4,5,6,7,8,9,10]},\"id\":\"1138\",\"type\":\"FixedTicker\"},{\"attributes\":{\"margin\":[5,5,5,5],\"name\":\"HSpacer01704\",\"sizing_mode\":\"stretch_width\"},\"id\":\"1152\",\"type\":\"Spacer\"},{\"attributes\":{},\"id\":\"1114\",\"type\":\"BasicTicker\"},{\"attributes\":{\"line_alpha\":0.2,\"line_color\":\"#1f77b3\",\"line_width\":2,\"x\":{\"field\":\"k\"},\"y\":{\"field\":\"inertia\"}},\"id\":\"1135\",\"type\":\"Line\"},{\"attributes\":{\"text\":\"Elbow Curve\",\"text_color\":{\"value\":\"black\"},\"text_font_size\":{\"value\":\"12pt\"}},\"id\":\"1101\",\"type\":\"Title\"},{\"attributes\":{\"source\":{\"id\":\"1130\"}},\"id\":\"1137\",\"type\":\"CDSView\"},{\"attributes\":{\"children\":[{\"id\":\"1096\"},{\"id\":\"1100\"},{\"id\":\"1152\"}],\"margin\":[0,0,0,0],\"name\":\"Row01699\",\"tags\":[\"embedded\"]},\"id\":\"1095\",\"type\":\"Row\"},{\"attributes\":{\"callback\":null,\"renderers\":[{\"id\":\"1136\"}],\"tags\":[\"hv_created\"],\"tooltips\":[[\"k\",\"@{k}\"],[\"inertia\",\"@{inertia}\"]]},\"id\":\"1099\",\"type\":\"HoverTool\"}],\"root_ids\":[\"1095\"]},\"title\":\"Bokeh Application\",\"version\":\"2.0.2\"}};\n",
       "  var render_items = [{\"docid\":\"f6115e15-cc22-42ae-81fb-b620d27e90f7\",\"root_ids\":[\"1095\"],\"roots\":{\"1095\":\"5fe6f03f-650b-4d4c-b855-afc3687fa06d\"}}];\n",
       "  root.Bokeh.embed.embed_items_notebook(docs_json, render_items);\n",
       "  }\n",
       "if (root.Bokeh !== undefined) {\n",
       "    embed_document(root);\n",
       "  } else {\n",
       "    var attempts = 0;\n",
       "    var timer = setInterval(function(root) {\n",
       "      if (root.Bokeh !== undefined) {\n",
       "        clearInterval(timer);\n",
       "        embed_document(root);\n",
       "      } else if (document.readyState == \"complete\") {\n",
       "        attempts++;\n",
       "        if (attempts > 100) {\n",
       "          clearInterval(timer);\n",
       "          console.log(\"Bokeh: ERROR: Unable to run BokehJS code because BokehJS library is missing\");\n",
       "        }\n",
       "      }\n",
       "    }, 10, root)\n",
       "  }\n",
       "})(window);</script>"
      ],
      "text/plain": [
       ":Curve   [k]   (inertia)"
      ]
     },
     "execution_count": 133,
     "metadata": {
      "application/vnd.holoviews_exec.v0+json": {
       "id": "1095"
      }
     },
     "output_type": "execute_result"
    }
   ],
   "source": [
    "inertia = []\n",
    "k = list(range(1, 11))\n",
    "\n",
    "# Calculate the inertia for the range of k values    \n",
    "for i in k:\n",
    "    km = KMeans(n_clusters=i, random_state=0)\n",
    "    km.fit(pca_crypto_df)\n",
    "    inertia.append(km.inertia_)\n",
    "\n",
    "# Create the Elbow Curve using hvPlot\n",
    "elbow_data = {\"k\": k, \"inertia\": inertia}\n",
    "df_elbow = pd.DataFrame(elbow_data)\n",
    "df_elbow.hvplot.line(x=\"k\", y=\"inertia\", title=\"Elbow Curve\", xticks=k)"
   ]
  },
  {
   "cell_type": "markdown",
   "metadata": {},
   "source": [
    "Running K-Means with k=4"
   ]
  },
  {
   "cell_type": "code",
   "execution_count": 135,
   "metadata": {},
   "outputs": [
    {
     "data": {
      "text/html": [
       "<div>\n",
       "<style scoped>\n",
       "    .dataframe tbody tr th:only-of-type {\n",
       "        vertical-align: middle;\n",
       "    }\n",
       "\n",
       "    .dataframe tbody tr th {\n",
       "        vertical-align: top;\n",
       "    }\n",
       "\n",
       "    .dataframe thead th {\n",
       "        text-align: right;\n",
       "    }\n",
       "</style>\n",
       "<table border=\"1\" class=\"dataframe\">\n",
       "  <thead>\n",
       "    <tr style=\"text-align: right;\">\n",
       "      <th></th>\n",
       "      <th>PC 1</th>\n",
       "      <th>PC 2</th>\n",
       "      <th>PC 3</th>\n",
       "    </tr>\n",
       "  </thead>\n",
       "  <tbody>\n",
       "    <tr>\n",
       "      <th>1140</th>\n",
       "      <td>-0.336822</td>\n",
       "      <td>1.264591</td>\n",
       "      <td>-0.391414</td>\n",
       "    </tr>\n",
       "    <tr>\n",
       "      <th>1087</th>\n",
       "      <td>-0.286320</td>\n",
       "      <td>0.957183</td>\n",
       "      <td>-0.083438</td>\n",
       "    </tr>\n",
       "    <tr>\n",
       "      <th>1051</th>\n",
       "      <td>-0.173567</td>\n",
       "      <td>-0.902547</td>\n",
       "      <td>0.154516</td>\n",
       "    </tr>\n",
       "    <tr>\n",
       "      <th>992</th>\n",
       "      <td>-0.334293</td>\n",
       "      <td>0.550353</td>\n",
       "      <td>0.154909</td>\n",
       "    </tr>\n",
       "    <tr>\n",
       "      <th>1101</th>\n",
       "      <td>0.447025</td>\n",
       "      <td>0.576839</td>\n",
       "      <td>-0.133451</td>\n",
       "    </tr>\n",
       "    <tr>\n",
       "      <th>940</th>\n",
       "      <td>-0.342570</td>\n",
       "      <td>1.264735</td>\n",
       "      <td>-0.391304</td>\n",
       "    </tr>\n",
       "    <tr>\n",
       "      <th>1034</th>\n",
       "      <td>-0.361518</td>\n",
       "      <td>0.765942</td>\n",
       "      <td>-0.486656</td>\n",
       "    </tr>\n",
       "    <tr>\n",
       "      <th>1030</th>\n",
       "      <td>-0.194607</td>\n",
       "      <td>-1.401252</td>\n",
       "      <td>0.059200</td>\n",
       "    </tr>\n",
       "    <tr>\n",
       "      <th>987</th>\n",
       "      <td>-0.305964</td>\n",
       "      <td>0.458389</td>\n",
       "      <td>-0.178773</td>\n",
       "    </tr>\n",
       "    <tr>\n",
       "      <th>1075</th>\n",
       "      <td>-0.194014</td>\n",
       "      <td>-1.401290</td>\n",
       "      <td>0.059191</td>\n",
       "    </tr>\n",
       "  </tbody>\n",
       "</table>\n",
       "</div>"
      ],
      "text/plain": [
       "          PC 1      PC 2      PC 3\n",
       "1140 -0.336822  1.264591 -0.391414\n",
       "1087 -0.286320  0.957183 -0.083438\n",
       "1051 -0.173567 -0.902547  0.154516\n",
       "992  -0.334293  0.550353  0.154909\n",
       "1101  0.447025  0.576839 -0.133451\n",
       "940  -0.342570  1.264735 -0.391304\n",
       "1034 -0.361518  0.765942 -0.486656\n",
       "1030 -0.194607 -1.401252  0.059200\n",
       "987  -0.305964  0.458389 -0.178773\n",
       "1075 -0.194014 -1.401290  0.059191"
      ]
     },
     "execution_count": 135,
     "metadata": {},
     "output_type": "execute_result"
    }
   ],
   "source": [
    "pca_crypto_df = pd.DataFrame(data = pca_crypto_df, \n",
    "                             columns=[\"PC 1\", \"PC 2\", \"PC 3\"], \n",
    "                             index = index_values)\n",
    "pca_crypto_df.head(10)"
   ]
  },
  {
   "cell_type": "code",
   "execution_count": 136,
   "metadata": {},
   "outputs": [
    {
     "name": "stdout",
     "output_type": "stream",
     "text": [
      "[1 1 0 1 1 1 1 0 1 0 1 1 1 1 1 1 1 1 1 1 1 1 1 1 1 1 1 1 0 1 1 1 0 1 0 1 0\n",
      " 0 1 0 1 0 1 0 1 1 1 1 0 1 1 0 1 1 0 1 1 0 1 0 0 1 0 1 1 0 0 1 0 1 1 1 1 1\n",
      " 1 1 1 0 1 0 0 1 1 1 1 1 1 1 0 1 1 0 1 1 1 0 0 1 1 1 0 1 1 0 0 1 1 0 1 1 1\n",
      " 1 1 0 1 0 2 0 1 0 1 1 1 1 1 1 0 1 1 0 1 1 1 1 1 0 1 1 0 0 1 1 1 1 1 1 1 0\n",
      " 0 1 1 1 1 0 0 1 1 1 0 1 1 1 1 1 1 0 1 1 1 0 1 1 0 1 1 0 1 1 1 1 1 0 1 1 1\n",
      " 0 1 1 1 1 0 1 1 1 1 0 1 1 0 1 1 0 1 0 1 0 0 0 1 0 0 1 1 1 1 1 0 1 0 0 0 0\n",
      " 1 0 1 1 0 1 0 1 0 0 1 0 0 0 0 0 1 1 0 1 0 0 1 0 1 0 0 0 1 1 1 0 0 0 1 1 0\n",
      " 1 0 0 0 0 0 0 1 0 1 0 1 1 0 0 1 0 0 0 0 0 0 0 1 1 1 0 1 0 0 0 1 1 1 0 1 1\n",
      " 1 1 0 1 1 0 0 0 1 0 1 1 0 1 1 0 1 0 1 1 1 1 1 1 0 1 1 1 1 0 1 1 1 1 1 1 1\n",
      " 1 3 1 0 1 0 0 0 0 0 0 0 0 1 1 0 1 0 0 0 1 0 0 1 1 1 0 0 1 0 1 1 1 0 1 0 1\n",
      " 1 0 1 0 1 1 1 0 1 1 1 0 0 1 0 0 0 1 1 1 1 1 1 1 1 1 1 1 1 1 1 0 0 1 1 3 3\n",
      " 1 1 1 1 1 1 1 1 1 1 1 1 1 1 1 1 1 1 1 1 1 1 1 0 1 1 1 1 0 0 1 1 1 0 0 0 0\n",
      " 0 0 0 1 1 1 1 1 1 0 0 1 1 0 0 1 0 0 0 0 1 0 0 0 0 0 0 0 1 0 0 1 0 1 0 0 0\n",
      " 0 3 1 0 0 0 0 0 0 1 0 1 0 1 0 0 0 0 0 0 0 0 0 0 0 0 0 0 0 0 0 0 0 0 0 0 0\n",
      " 0 0 3 0 0 0 0 1 1 1 1 1 1 1 0 0 0 0 0 0 0 0 0 0 0 0 0 0 0 0 0 0 0 0 0 0 0\n",
      " 0 0 0 0 0 1 0 1 0 0 0 1 0 0 0 0 0 1 0 0 1 0]\n"
     ]
    }
   ],
   "source": [
    "# Initialize the K-Means model\n",
    "model = KMeans(n_clusters=4, random_state=0)\n",
    "\n",
    "# Fit the model\n",
    "model.fit(pca_crypto_df)\n",
    "\n",
    "# Predict clusters\n",
    "predictions = model.predict(pca_crypto_df)\n",
    "pca_crypto_df[\"class\"] = model.labels_   \n",
    "print(predictions)\n",
    "\n",
    "# Create a new DataFrame including predicted clusters and cryptocurrencies features\n",
    "# index_values = (cleaned_crypto_df.index.tolist())\n",
    "# pca_crypto_df= pd.DataFrame(data = pca_crypto_df, \n",
    "#                             index = index_values)\n",
    "# frames = [trading_crypto_df,pca_crypto_df]\n",
    "# clustered_df = pd.concat(frames, sort=False)\n",
    "# frames_2 = [clustered_df,CoinName_df]\n",
    "# clustered_df = pd.concat(frames_2, sort=False)\n",
    "# # clustered_df = cleaned_crypto_df.join(, how='inner')\n",
    "# clustered_df.head(10)"
   ]
  },
  {
   "cell_type": "code",
   "execution_count": 140,
   "metadata": {},
   "outputs": [
    {
     "data": {
      "text/html": [
       "<div>\n",
       "<style scoped>\n",
       "    .dataframe tbody tr th:only-of-type {\n",
       "        vertical-align: middle;\n",
       "    }\n",
       "\n",
       "    .dataframe tbody tr th {\n",
       "        vertical-align: top;\n",
       "    }\n",
       "\n",
       "    .dataframe thead th {\n",
       "        text-align: right;\n",
       "    }\n",
       "</style>\n",
       "<table border=\"1\" class=\"dataframe\">\n",
       "  <thead>\n",
       "    <tr style=\"text-align: right;\">\n",
       "      <th></th>\n",
       "      <th>Algorithm</th>\n",
       "      <th>ProofType</th>\n",
       "      <th>TotalCoinsMined</th>\n",
       "      <th>TotalCoinSupply</th>\n",
       "      <th>PC 1</th>\n",
       "      <th>PC 2</th>\n",
       "      <th>PC 3</th>\n",
       "      <th>class</th>\n",
       "      <th>CoinName</th>\n",
       "    </tr>\n",
       "  </thead>\n",
       "  <tbody>\n",
       "    <tr>\n",
       "      <th>1140</th>\n",
       "      <td>XEVAN</td>\n",
       "      <td>PoW/PoS</td>\n",
       "      <td>1.989381e+08</td>\n",
       "      <td>500000000</td>\n",
       "      <td>-0.336822</td>\n",
       "      <td>1.264591</td>\n",
       "      <td>-0.391414</td>\n",
       "      <td>1</td>\n",
       "      <td>Beetle Coin</td>\n",
       "    </tr>\n",
       "    <tr>\n",
       "      <th>1087</th>\n",
       "      <td>XEVAN</td>\n",
       "      <td>PoS</td>\n",
       "      <td>6.787405e+06</td>\n",
       "      <td>50000000</td>\n",
       "      <td>-0.286320</td>\n",
       "      <td>0.957183</td>\n",
       "      <td>-0.083438</td>\n",
       "      <td>1</td>\n",
       "      <td>Bettex coin</td>\n",
       "    </tr>\n",
       "    <tr>\n",
       "      <th>1051</th>\n",
       "      <td>XEVAN</td>\n",
       "      <td>PoW</td>\n",
       "      <td>1.474615e+07</td>\n",
       "      <td>210000000</td>\n",
       "      <td>-0.173567</td>\n",
       "      <td>-0.902547</td>\n",
       "      <td>0.154516</td>\n",
       "      <td>0</td>\n",
       "      <td>Urals Coin</td>\n",
       "    </tr>\n",
       "    <tr>\n",
       "      <th>992</th>\n",
       "      <td>XEVAN</td>\n",
       "      <td>PoS/PoW</td>\n",
       "      <td>1.090496e+07</td>\n",
       "      <td>21000000</td>\n",
       "      <td>-0.334293</td>\n",
       "      <td>0.550353</td>\n",
       "      <td>0.154909</td>\n",
       "      <td>1</td>\n",
       "      <td>Bitcoin Incognito</td>\n",
       "    </tr>\n",
       "    <tr>\n",
       "      <th>1101</th>\n",
       "      <td>XEVAN</td>\n",
       "      <td>Pos</td>\n",
       "      <td>2.085159e+08</td>\n",
       "      <td>70000000000</td>\n",
       "      <td>0.447025</td>\n",
       "      <td>0.576839</td>\n",
       "      <td>-0.133451</td>\n",
       "      <td>1</td>\n",
       "      <td>BitMoney</td>\n",
       "    </tr>\n",
       "    <tr>\n",
       "      <th>940</th>\n",
       "      <td>XEVAN</td>\n",
       "      <td>PoW/PoS</td>\n",
       "      <td>4.192754e+05</td>\n",
       "      <td>60000000</td>\n",
       "      <td>-0.342570</td>\n",
       "      <td>1.264735</td>\n",
       "      <td>-0.391304</td>\n",
       "      <td>1</td>\n",
       "      <td>Ellerium</td>\n",
       "    </tr>\n",
       "    <tr>\n",
       "      <th>1034</th>\n",
       "      <td>X16R</td>\n",
       "      <td>PoW/PoS</td>\n",
       "      <td>3.692312e+07</td>\n",
       "      <td>82546564</td>\n",
       "      <td>-0.361518</td>\n",
       "      <td>0.765942</td>\n",
       "      <td>-0.486656</td>\n",
       "      <td>1</td>\n",
       "      <td>Trivechain</td>\n",
       "    </tr>\n",
       "    <tr>\n",
       "      <th>1030</th>\n",
       "      <td>X16R</td>\n",
       "      <td>PoW</td>\n",
       "      <td>8.125865e+06</td>\n",
       "      <td>22075700</td>\n",
       "      <td>-0.194607</td>\n",
       "      <td>-1.401252</td>\n",
       "      <td>0.059200</td>\n",
       "      <td>0</td>\n",
       "      <td>Motion</td>\n",
       "    </tr>\n",
       "    <tr>\n",
       "      <th>987</th>\n",
       "      <td>X16R</td>\n",
       "      <td>PoS</td>\n",
       "      <td>4.403800e+06</td>\n",
       "      <td>45000000</td>\n",
       "      <td>-0.305964</td>\n",
       "      <td>0.458389</td>\n",
       "      <td>-0.178773</td>\n",
       "      <td>1</td>\n",
       "      <td>Proton</td>\n",
       "    </tr>\n",
       "    <tr>\n",
       "      <th>1075</th>\n",
       "      <td>X16R</td>\n",
       "      <td>PoW</td>\n",
       "      <td>9.753754e+06</td>\n",
       "      <td>100000000</td>\n",
       "      <td>-0.194014</td>\n",
       "      <td>-1.401290</td>\n",
       "      <td>0.059191</td>\n",
       "      <td>0</td>\n",
       "      <td>Xchange</td>\n",
       "    </tr>\n",
       "  </tbody>\n",
       "</table>\n",
       "</div>"
      ],
      "text/plain": [
       "     Algorithm ProofType  TotalCoinsMined TotalCoinSupply      PC 1      PC 2  \\\n",
       "1140     XEVAN   PoW/PoS     1.989381e+08       500000000 -0.336822  1.264591   \n",
       "1087     XEVAN       PoS     6.787405e+06        50000000 -0.286320  0.957183   \n",
       "1051     XEVAN       PoW     1.474615e+07       210000000 -0.173567 -0.902547   \n",
       "992      XEVAN   PoS/PoW     1.090496e+07        21000000 -0.334293  0.550353   \n",
       "1101     XEVAN       Pos     2.085159e+08     70000000000  0.447025  0.576839   \n",
       "940      XEVAN   PoW/PoS     4.192754e+05        60000000 -0.342570  1.264735   \n",
       "1034      X16R   PoW/PoS     3.692312e+07        82546564 -0.361518  0.765942   \n",
       "1030      X16R       PoW     8.125865e+06        22075700 -0.194607 -1.401252   \n",
       "987       X16R       PoS     4.403800e+06        45000000 -0.305964  0.458389   \n",
       "1075      X16R       PoW     9.753754e+06       100000000 -0.194014 -1.401290   \n",
       "\n",
       "          PC 3  class           CoinName  \n",
       "1140 -0.391414      1        Beetle Coin  \n",
       "1087 -0.083438      1        Bettex coin  \n",
       "1051  0.154516      0         Urals Coin  \n",
       "992   0.154909      1  Bitcoin Incognito  \n",
       "1101 -0.133451      1           BitMoney  \n",
       "940  -0.391304      1           Ellerium  \n",
       "1034 -0.486656      1         Trivechain  \n",
       "1030  0.059200      0             Motion  \n",
       "987  -0.178773      1             Proton  \n",
       "1075  0.059191      0            Xchange  "
      ]
     },
     "execution_count": 140,
     "metadata": {},
     "output_type": "execute_result"
    }
   ],
   "source": [
    "clustered_df = trading_crypto_df_sans_CoinName.join(pca_crypto_df, how='inner')\n",
    "clustered_df_complete = clustered_df.join(CoinName_df, how='inner')\n",
    "clustered_df_complete.head(10)"
   ]
  },
  {
   "cell_type": "markdown",
   "metadata": {
    "tags": []
   },
   "source": [
    "### Visualizing Results\n",
    "\n",
    "#### 3D-Scatter with Clusters"
   ]
  },
  {
   "cell_type": "code",
   "execution_count": 146,
   "metadata": {},
   "outputs": [
    {
     "data": {
      "application/vnd.plotly.v1+json": {
       "config": {
        "plotlyServerURL": "https://plot.ly"
       },
       "data": [
        {
         "customdata": [
          [
           "XEVAN",
           198938144.363399,
           "500000000"
          ],
          [
           "XEVAN",
           6787405.18013774,
           "50000000"
          ],
          [
           "XEVAN",
           10904963.0923455,
           "21000000"
          ],
          [
           "XEVAN",
           208515864.36734298,
           "70000000000"
          ],
          [
           "XEVAN",
           419275.38,
           "60000000"
          ],
          [
           "X16R",
           36923120.6205934,
           "82546564"
          ],
          [
           "X16R",
           4403800,
           "45000000"
          ],
          [
           "X15",
           25542535.5881841,
           "350000000"
          ],
          [
           "X15",
           13530556.4180753,
           "26298000"
          ],
          [
           "X15",
           40659020000,
           "90000000000"
          ],
          [
           "X15",
           30284196.369129,
           "90000000"
          ],
          [
           "X14",
           100000000,
           "100000000"
          ],
          [
           "X13",
           33093725.4123502,
           "0"
          ],
          [
           "X13",
           21917018.0492836,
           "18898187.6216583"
          ],
          [
           "X13",
           183534024.88980702,
           "210000000"
          ],
          [
           "X13",
           7096834,
           "10000000"
          ],
          [
           "X13",
           2022464.886973,
           "12000000"
          ],
          [
           "X13",
           140777.753365,
           "120000"
          ],
          [
           "X13",
           15156364.3306548,
           "0"
          ],
          [
           "X13",
           230298925,
           "800000000"
          ],
          [
           "X13",
           66087096.20771079,
           "0"
          ],
          [
           "X13",
           21268092,
           "30000000"
          ],
          [
           "X13",
           23042604,
           "50000000"
          ],
          [
           "X13",
           92192822723,
           "850000000"
          ],
          [
           "X13",
           2500124,
           "2500124"
          ],
          [
           "X13",
           5000000,
           "200000000"
          ],
          [
           "X13",
           14524851.4827,
           "14524851.4827"
          ],
          [
           "X13",
           29279424622.5027,
           "314159265359"
          ],
          [
           "X11",
           201364327.427503,
           "208000000"
          ],
          [
           "X11",
           1513704,
           "0"
          ],
          [
           "X11",
           17209923728.3266,
           "0"
          ],
          [
           "X11",
           657636.34549789,
           "3000000"
          ],
          [
           "X11",
           7262402.04264803,
           "27000000"
          ],
          [
           "X11",
           16901016.6609755,
           "16504333"
          ],
          [
           "X11",
           814671,
           "5000000"
          ],
          [
           "X11",
           15563873,
           "50000000"
          ],
          [
           "X11",
           657000000,
           "657000000"
          ],
          [
           "X11",
           12569262.535930699,
           "9507271"
          ],
          [
           "X11",
           2689812,
           "20000000"
          ],
          [
           "X11",
           19269509.94,
           "55000000"
          ],
          [
           "X11",
           110630387.85047099,
           "110000000"
          ],
          [
           "X11",
           13162749.085802699,
           "100000000"
          ],
          [
           "X11",
           10996318099,
           "26550000000"
          ],
          [
           "X11",
           134554941.15118998,
           "75000000"
          ],
          [
           "X11",
           10407269.788186802,
           "384000000"
          ],
          [
           "X11",
           436353624.49031204,
           "500000000"
          ],
          [
           "X11",
           4504639,
           "100000000"
          ],
          [
           "X11",
           30771125.976086702,
           "50000000"
          ],
          [
           "X11",
           242574105.22384,
           "0"
          ],
          [
           "X11",
           329200.01639,
           "0"
          ],
          [
           "X11",
           17171382,
           "40000000"
          ],
          [
           "X11",
           24387724.5010828,
           "139000000"
          ],
          [
           "X11",
           121665451.643876,
           "500000000"
          ],
          [
           "X11",
           21521322.0099142,
           "100000000"
          ],
          [
           "X11",
           494240666.028571,
           "1000000000"
          ],
          [
           "X11",
           5659096.95728771,
           "9354000"
          ],
          [
           "X11",
           23775960.3207514,
           "30000000"
          ],
          [
           "X11",
           3680297312.25584,
           "3980000000"
          ],
          [
           "X11",
           17650913.974345602,
           "22000000"
          ],
          [
           "X11",
           3853326.77707314,
           "3853326.77707314"
          ],
          [
           "X11",
           11359634.6460345,
           "8148139"
          ],
          [
           "X11",
           50707661.74935179,
           "0"
          ],
          [
           "X11",
           1177,
           "1000"
          ],
          [
           "X11",
           1678520090.7713,
           "0"
          ],
          [
           "X11",
           4407252,
           "21000000"
          ],
          [
           "X11",
           9031294.37563393,
           "22000000"
          ],
          [
           "X11",
           715659.44237941,
           "19700000"
          ],
          [
           "X11",
           264678458.28861898,
           "1500000000"
          ],
          [
           "X11",
           45174214.1078625,
           "50000000"
          ],
          [
           "X11",
           18342813,
           "30000000"
          ],
          [
           "X11",
           3521630,
           "25000000"
          ],
          [
           "X11",
           75590369,
           "76500000"
          ],
          [
           "X11",
           6950831.0970606,
           "5500000"
          ],
          [
           "X11",
           2167827.1,
           "25000000"
          ],
          [
           "X11",
           7256580,
           "62000000"
          ],
          [
           "X11",
           1431851.00002479,
           "10000000"
          ],
          [
           "X11",
           15420234.5389336,
           "420000000"
          ],
          [
           "X11",
           6069482.07721352,
           "60000000"
          ],
          [
           "X11",
           38198594.8342105,
           "144000000"
          ],
          [
           "VeChainThor Authority",
           55454734800,
           "86712634466"
          ],
          [
           "VBFT",
           650848625,
           "1000000000"
          ],
          [
           "Tribus",
           1859475.60962,
           "36500000"
          ],
          [
           "SkunkHash v2 Raptor",
           107972766,
           "137500000"
          ],
          [
           "Skein",
           47331802.477423795,
           "100000000"
          ],
          [
           "Skein",
           11661844.4720073,
           "72000000"
          ],
          [
           "Skein",
           6804362,
           "100000000"
          ],
          [
           "Skein",
           2985970.9999482003,
           "69000000"
          ],
          [
           "Shabal256",
           1813033920,
           "2158812800"
          ],
          [
           "Semux BFT consensus",
           1231147,
           "100000000"
          ],
          [
           "Scrypt",
           8377873,
           "144000000"
          ],
          [
           "Scrypt",
           11821728,
           "20000000"
          ],
          [
           "Scrypt",
           308179,
           "21933333"
          ],
          [
           "Scrypt",
           10914418,
           "650659833"
          ],
          [
           "Scrypt",
           20244023.640728,
           "33000000"
          ],
          [
           "Scrypt",
           14777549.394076401,
           "21000000"
          ],
          [
           "Scrypt",
           11080722.3769581,
           "28000000"
          ],
          [
           "Scrypt",
           33813143821.8337,
           "32514916898"
          ],
          [
           "Scrypt",
           18135099.992959,
           "16768584"
          ],
          [
           "Scrypt",
           23965372,
           "500000000"
          ],
          [
           "Scrypt",
           30825710000.0296,
           "74800000000"
          ],
          [
           "Scrypt",
           3315789,
           "3315789"
          ],
          [
           "Scrypt",
           3472983,
           "13000000"
          ],
          [
           "Scrypt",
           17089600,
           "38540000 "
          ],
          [
           "Scrypt",
           20546528.2059957,
           "84000000"
          ],
          [
           "Scrypt",
           2449577.41533168,
           "42000000"
          ],
          [
           "Scrypt",
           8094818.38874615,
           "110000000"
          ],
          [
           "Scrypt",
           25330252.323000003,
           "100000000"
          ],
          [
           "Scrypt",
           110976977.29338,
           "210000000"
          ],
          [
           "Scrypt",
           3783270,
           "30000000"
          ],
          [
           "Scrypt",
           38706809.466534995,
           "26000000"
          ],
          [
           "Scrypt",
           4911500269.41,
           "50000000000"
          ],
          [
           "Scrypt",
           8419402.321,
           "150000000"
          ],
          [
           "Scrypt",
           10200000000,
           "10200000000"
          ],
          [
           "Scrypt",
           7630000.0154,
           "44000000"
          ],
          [
           "Scrypt",
           1140734.91680375,
           "15733333"
          ],
          [
           "Scrypt",
           48459472454,
           "25000000000"
          ],
          [
           "Scrypt",
           77872059787.8998,
           "92000000000"
          ],
          [
           "Scrypt",
           2149688,
           "21000000"
          ],
          [
           "Scrypt",
           16362544.992,
           "14788275.991"
          ],
          [
           "Scrypt",
           21599339.6728,
           "84000000"
          ],
          [
           "Scrypt",
           5573908,
           "50000000"
          ],
          [
           "Scrypt",
           9880502.37178894,
           "30000000"
          ],
          [
           "Scrypt",
           267297676.3125,
           "500000000"
          ],
          [
           "Scrypt",
           1182153.5,
           "5000000"
          ],
          [
           "Scrypt",
           845637.81347436,
           "3000000"
          ],
          [
           "Scrypt",
           49933217.7511508,
           "70000000"
          ],
          [
           "Scrypt",
           1055184902.04,
           "532000000"
          ],
          [
           "Scrypt",
           25570013.1348022,
           "124000000"
          ],
          [
           "Scrypt",
           234846265.78215697,
           "232000000"
          ],
          [
           "Scrypt",
           9399342.52839847,
           "30000000"
          ],
          [
           "Scrypt",
           25000000000,
           "25000000000"
          ],
          [
           "Scrypt",
           2504486.227718,
           "4000000"
          ],
          [
           "Scrypt",
           591022748,
           "900000000"
          ],
          [
           "Scrypt",
           1404157529.46026,
           "5121951220"
          ],
          [
           "Scrypt",
           63613903.880998,
           "250000000"
          ],
          [
           "Scrypt",
           2922613.96424908,
           "55000000"
          ],
          [
           "Scrypt",
           36050365,
           "34426423"
          ],
          [
           "Scrypt",
           5368934,
           "21212121"
          ],
          [
           "Scrypt",
           1148324,
           "28600000"
          ],
          [
           "Scrypt",
           500000,
           "1000000000"
          ],
          [
           "Scrypt",
           21491213.4644496,
           "100000000"
          ],
          [
           "Scrypt",
           110000000,
           "110000000"
          ],
          [
           "Scrypt",
           1000000000,
           "1000000000"
          ],
          [
           "Scrypt",
           14931046.1546605,
           "250000000"
          ],
          [
           "Scrypt",
           1059954080.4343901,
           "18000000000"
          ],
          [
           "Scrypt",
           295135466.361878,
           "2000000000"
          ],
          [
           "Scrypt",
           18663297.348979898,
           "17405891.19707116"
          ],
          [
           "Scrypt",
           107763867.917675,
           "260000000"
          ],
          [
           "Scrypt",
           19539588,
           "48252000"
          ],
          [
           "Scrypt",
           128326.99633965,
           "1000000"
          ],
          [
           "Scrypt",
           4200000,
           "4200000"
          ],
          [
           "Scrypt",
           8240763.49472804,
           "15600000"
          ],
          [
           "Scrypt",
           1042012.45227735,
           "16880000000"
          ],
          [
           "Scrypt",
           9044930943.24243,
           "50000000000"
          ],
          [
           "Scrypt",
           5403802.49590733,
           "1000000000"
          ],
          [
           "Scrypt",
           21358764,
           "105000000"
          ],
          [
           "Scrypt",
           103621876.167052,
           "160000000"
          ],
          [
           "Scrypt",
           1039116.65144562,
           "1000000"
          ],
          [
           "Scrypt",
           11604722,
           "20000000"
          ],
          [
           "Scrypt",
           404316475.545465,
           "400000000"
          ],
          [
           "Scrypt",
           252005564.19257003,
           "300000000"
          ],
          [
           "Scrypt",
           10000244677.7002,
           "10008835635"
          ],
          [
           "Scrypt",
           27184490.3918338,
           "0"
          ],
          [
           "Scrypt",
           174646113.934655,
           "500000000"
          ],
          [
           "Scrypt",
           1467841,
           "0"
          ],
          [
           "Scrypt",
           980732528.97974,
           "10500000000"
          ],
          [
           "Scrypt",
           8998743.2411911,
           "42000000"
          ],
          [
           "Scrypt",
           40477042,
           "221052632"
          ],
          [
           "Scrypt",
           42579.476901,
           "500000"
          ],
          [
           "Scrypt",
           60000000,
           "15000000"
          ],
          [
           "Scrypt",
           100000000,
           "100000000"
          ],
          [
           "Scrypt",
           21293925445.4969,
           "0"
          ],
          [
           "Scrypt",
           16180000,
           "16180000"
          ],
          [
           "Scrypt",
           89266933.684704,
           "120000000"
          ],
          [
           "Scrypt",
           461829905.32892996,
           "0"
          ],
          [
           "Scrypt",
           24924986.0946492,
           "900000000"
          ],
          [
           "Scrypt",
           147990237.978331,
           "1000000000"
          ],
          [
           "Scrypt",
           1098952592.6,
           "1600000000"
          ],
          [
           "Scrypt",
           50235211.141939,
           "100000000"
          ],
          [
           "Scrypt",
           32021108.413669605,
           "0"
          ],
          [
           "Scrypt",
           222677226.014206,
           "420000000"
          ],
          [
           "Scrypt",
           73959274.625,
           "98000000"
          ],
          [
           "Scrypt",
           29315567169.0888,
           "0"
          ],
          [
           "Scrypt",
           39999997299.8568,
           "40000000000"
          ],
          [
           "Scrypt",
           41.99995383,
           "42"
          ],
          [
           "Scrypt",
           123062801.128773,
           "0"
          ],
          [
           "Scrypt",
           169598616,
           "0"
          ],
          [
           "Scrypt",
           665200057,
           "3100000000"
          ],
          [
           "Scrypt",
           3537150,
           "200000000"
          ],
          [
           "Scrypt",
           15318887081.0146,
           "35000000000"
          ],
          [
           "Scrypt",
           2581970,
           "21000000"
          ],
          [
           "Scrypt",
           100000000,
           "100000000"
          ],
          [
           "Scrypt",
           4526324,
           "44333333"
          ],
          [
           "Scrypt",
           813092338.575672,
           "2000000000"
          ],
          [
           "Scrypt",
           1939889,
           "0"
          ],
          [
           "Scrypt",
           43165500,
           "90000000"
          ],
          [
           "Scrypt",
           9631199.99309942,
           "0"
          ],
          [
           "Scrypt",
           20576532,
           "54256119"
          ],
          [
           "Scrypt",
           635423900,
           "0"
          ],
          [
           "Scrypt",
           33522957,
           "0"
          ],
          [
           "Scrypt",
           2147483647,
           "2147483647"
          ],
          [
           "Scrypt",
           36971236046.8073,
           " 99000000000"
          ],
          [
           "SHA3",
           61445805,
           "100000000"
          ],
          [
           "SHA3",
           63657220,
           "78000000"
          ],
          [
           "SHA-512",
           25000000,
           "91388946"
          ],
          [
           "SHA-512",
           200000000,
           "200000000"
          ],
          [
           "SHA-512",
           2741570000,
           "3600570502"
          ],
          [
           "SHA-512",
           1000000000,
           "1000000000"
          ],
          [
           "SHA-256D",
           658584.46163633,
           "7500000"
          ],
          [
           "SHA-256D",
           33238183.7225834,
           "100000000"
          ],
          [
           "SHA-256D",
           896361168,
           "5000000000"
          ],
          [
           "SHA-256D",
           19577787259,
           "20000000000"
          ],
          [
           "SHA-256D",
           1082162635.5368302,
           "7506000000"
          ],
          [
           "SHA-256",
           8999999990,
           "9000000000"
          ],
          [
           "SHA-256",
           595429,
           "21000000"
          ],
          [
           "SHA-256",
           12416554,
           "20000000"
          ],
          [
           "SHA-256",
           1613836099.99999,
           "2419200000"
          ],
          [
           "SHA-256",
           1000000000,
           "1000000000"
          ],
          [
           "SHA-256",
           3427006,
           "25000000"
          ],
          [
           "SHA-256",
           1195525,
           "222725000"
          ],
          [
           "SHA-256",
           100545745,
           "75000000000"
          ],
          [
           "SHA-256",
           16662820,
           "525000000"
          ],
          [
           "SHA-256",
           2526078.47525448,
           "21000000"
          ],
          [
           "SHA-256",
           10343113,
           "200084200"
          ],
          [
           "SHA-256",
           4377081.60953993,
           "40000000"
          ],
          [
           "SHA-256",
           4392258.24647793,
           "21000000"
          ],
          [
           "SHA-256",
           5129014,
           "10500000"
          ],
          [
           "SHA-256",
           3669691.84494672,
           "22000000"
          ],
          [
           "SHA-256",
           17939725045.334,
           "190000000"
          ],
          [
           "SHA-256",
           43059794.804778,
           "1000000000"
          ],
          [
           "SHA-256",
           11995334.8847328,
           "12500000"
          ],
          [
           "SHA-256",
           39121694,
           "68000000"
          ],
          [
           "SHA-256",
           57811001.000889,
           "100262205"
          ],
          [
           "SHA-256",
           74676064.9488608,
           "105000000"
          ],
          [
           "SHA-256",
           92050800,
           "100000000"
          ],
          [
           "SHA-256",
           1999999995.3056,
           "2000000000"
          ],
          [
           "SHA-256",
           1288862,
           "22000000"
          ],
          [
           "Quark",
           66053877.6256106,
           "100000000"
          ],
          [
           "Quark",
           5919489.76813523,
           "5151000"
          ],
          [
           "Quark",
           14303114.6740944,
           "38000000"
          ],
          [
           "Quark",
           7082392.24744494,
           "21000000"
          ],
          [
           "Quark",
           10517772.7391666,
           "15000000"
          ],
          [
           "Quark",
           30711550.5294042,
           "200000000"
          ],
          [
           "Quark",
           35312185.7437239,
           "54000000"
          ],
          [
           "Quark",
           65269530.104518995,
           "57879300"
          ],
          [
           "Quark",
           16955764.902064003,
           "20000000"
          ],
          [
           "Quark",
           139739596.506702,
           "200000000"
          ],
          [
           "Quark",
           27299680,
           "120000000"
          ],
          [
           "Quark",
           18265011.248600602,
           "19035999"
          ],
          [
           "Quark",
           1934701.67524713,
           "13370000"
          ],
          [
           "Quark",
           2716264.95302831,
           "650000000 "
          ],
          [
           "QuBit",
           30227750,
           "78835200"
          ],
          [
           "QUAIT",
           8568038.35935056,
           "5060000"
          ],
          [
           "PoS",
           9327131.59708692,
           "210000000"
          ],
          [
           "PoS",
           9283137.5558676,
           "8634140"
          ],
          [
           "PoS",
           11075254.0929996,
           "80000000"
          ],
          [
           "PoS",
           1000000000,
           "1000000000"
          ],
          [
           "PoS",
           21876586.8530324,
           "88000000"
          ],
          [
           "PoS",
           3821245.74150193,
           "9000000"
          ],
          [
           "PoS",
           50000000,
           "50000000"
          ],
          [
           "PoS",
           20000000,
           "20000000"
          ],
          [
           "PoS",
           111135836.889,
           "110290030"
          ],
          [
           "PoS",
           17818682.1654,
           "301000000"
          ],
          [
           "PoS",
           5679705,
           "0"
          ],
          [
           "PoS",
           4000000,
           "61599965"
          ],
          [
           "PoS",
           20000000,
           "20000000"
          ],
          [
           "PoS",
           148716816,
           "39999898"
          ],
          [
           "PoS",
           11390225.974277198,
           "30000000"
          ],
          [
           "PoS",
           401421401,
           "400000000"
          ],
          [
           "PoS",
           74033806.79496829,
           "74000000"
          ],
          [
           "POS 3.0",
           38589808.6658096,
           "33500000"
          ],
          [
           "POS 3.0",
           100000000,
           "100000000"
          ],
          [
           "POS 3.0",
           20445861.534425102,
           "25000000"
          ],
          [
           "POS 2.0",
           12330806.30517,
           "21000000"
          ],
          [
           "PHI2",
           2233828.12953048,
           "21000000"
          ],
          [
           "PHI1612",
           8305775.31777569,
           "60000000"
          ],
          [
           "PHI1612",
           1622326490.46336,
           "2300000000"
          ],
          [
           "PHI1612",
           1360250,
           "32000000"
          ],
          [
           "Ouroboros",
           25927070538,
           "45000000000"
          ],
          [
           "NeoScrypt",
           2381470.97805063,
           "21000000"
          ],
          [
           "NeoScrypt",
           1120385.00502,
           "60168145"
          ],
          [
           "NeoScrypt",
           3220616.279225,
           "3770000"
          ],
          [
           "NeoScrypt",
           182638400,
           "400000000"
          ],
          [
           "NIST5",
           10069449031.9252,
           "0"
          ],
          [
           "NIST5",
           13787854.6277781,
           "50000000"
          ],
          [
           "NIST5",
           83450403,
           "90000000"
          ],
          [
           "NIST5",
           13247178.880728599,
           "27716121"
          ],
          [
           "NIST5",
           560563220,
           "1200000000"
          ],
          [
           "NIST5",
           62942075,
           "120000000"
          ],
          [
           "NIST5",
           28399150208,
           "30000000000"
          ],
          [
           "NIST5",
           4171382,
           "10000000"
          ],
          [
           "Multiple",
           80260463.7331396,
           "100000000"
          ],
          [
           "Multiple",
           100000000,
           "0"
          ],
          [
           "Lyra2Z",
           11086825523.3769,
           "100000000000"
          ],
          [
           "Lyra2REv2",
           24000000,
           "24000000"
          ],
          [
           "Lyra2REv2",
           13332617.9413708,
           "52500000"
          ],
          [
           "Keccak",
           4672513.84432375,
           "366000000"
          ],
          [
           "Groestl",
           53193831,
           "0"
          ],
          [
           "Groestl",
           3304487.74735637,
           "4380000"
          ],
          [
           "Green Protocol",
           9803691.3618195,
           "21000000"
          ],
          [
           "DPoS",
           1020544523.0722,
           "0"
          ],
          [
           "DPoS",
           120012140,
           "159918400"
          ],
          [
           "DPoS",
           18194936,
           "18081806 "
          ],
          [
           "DPoS",
           1000000000,
           "1000000000"
          ],
          [
           "DPoS",
           1122382283.37,
           "0"
          ],
          [
           "DPoS",
           288090567.493887,
           "500000000"
          ],
          [
           "DPoS",
           108202084,
           "125000000"
          ],
          [
           "Counterparty",
           51173144,
           "500000000"
          ],
          [
           "C11",
           11251342.1879021,
           "19340594"
          ],
          [
           "Blake2S",
           12184195.9258495,
           "36900000"
          ],
          [
           "BLAKE256",
           10365046.928166099,
           "21000000"
          ],
          [
           "536",
           22801882871,
           "50000000000"
          ]
         ],
         "hovertemplate": "<b>%{hovertext}</b><br><br>class=%{marker.color}<br>PC 1=%{x}<br>PC 2=%{y}<br>PC 3=%{z}<br>Algorithm=%{customdata[0]}<br>TotalCoinsMined=%{customdata[1]}<br>TotalCoinSupply=%{customdata[2]}<extra></extra>",
         "hovertext": [
          "Beetle Coin",
          "Bettex coin",
          "Bitcoin Incognito",
          "BitMoney",
          "Ellerium",
          "Trivechain",
          "Proton",
          "KoboCoin",
          "EverGreenCoin",
          "HTML5 Coin",
          "Dekado",
          "GanjaCoin V2",
          "StealthCoin",
          "DeepOnion",
          "Bitcoin Diamond",
          "Sativa Coin",
          "Kore",
          "Triangles Coin",
          "OpalCoin",
          "Tokyo Coin",
          "NavCoin",
          "BritCoin",
          "Paycon",
          "EmberCoin",
          "RoyalCoin",
          "MudraCoin",
          "FindCoin",
          "EliteCoin",
          "CapriCoin",
          "IslaCoin",
          "Junson Ming Chan Coin",
          "MustangCoin",
          "Regalcoin",
          "Creditbit ",
          "Enigma",
          "GoldBlocks",
          "Lutetium Coin",
          "Monoeci",
          "Ucoin",
          "ARENON",
          "Impact",
          "VirtacoinPlus",
          "Hitcoin",
          "Ratecoin",
          "EuropeCoin",
          "PinkCoin",
          "PAXEX",
          "EUNO",
          "TruckCoin",
          "Squall Coin",
          "GoldReserve",
          "BitSend",
          "Condensate",
          "HappyCoin",
          "Piggy Coin",
          "KushCoin",
          "Insane Coin",
          "BitSoar Coin",
          "IOCoin",
          "XenixCoin",
          "BetKings",
          "SuperCoin",
          "SyncCoin",
          "HyperStake",
          "Monkey Project",
          "Dash",
          "Dash Platinum",
          "Halloween Coin",
          "PhantomX",
          "InsaneCoin",
          "DigiMoney",
          "Stakenet",
          "X11 Coin",
          "Pushi",
          "Reliance",
          "TorCoin",
          "Award",
          "Eternity",
          "Magnet",
          "Vechain",
          "Ontology",
          "Averopay",
          "Signatum",
          "Cream",
          "BashCoin",
          "Bitcoin Planet",
          "Lizus Payment",
          "BurstCoin",
          "Semux",
          "Russiacoin",
          "Printerium",
          "Impeach",
          "MoneyCoin",
          "BitcoinFast",
          "Oduwa",
          "BitConnect Coin",
          "PandaCoin",
          "Aurora Coin",
          "Klingon Empire Darsek",
          "Credit",
          "GAKHcoin",
          "GameUnits",
          "PLNCoin",
          "Nasdacoin",
          "AquariusCoin",
          "Listerclassic Coin",
          "Mercoin",
          "Cash & Back Coin",
          "Parlay",
          "HollyWoodCoin",
          "GermanCoin",
          "LiteCoin Ultra",
          "Swisscoin",
          "Xt3ch",
          "TerraNovaCoin",
          "WomenCoin",
          "Lynx",
          "Xios",
          "BlackholeCoin",
          "EmaratCoin",
          "Accolade",
          "Abjcoin",
          "MedicCoin",
          "Ignition",
          "Briacoin",
          "OmiseGO Classic",
          "404Coin",
          "Velox",
          "Unified Society USDEX",
          "My Big Coin",
          "ECC",
          "Litecoin Plus",
          "Trollcoin",
          "iDealCash",
          "MYCE",
          "Zilbercoin",
          "RenosCoin",
          "Independent Money System",
          "ArgusCoin",
          "LomoCoin",
          "DivotyCoin",
          "FirstCoin",
          "OpenChat",
          "Gapcoin",
          "ThunderStake",
          "GrowthCoin",
          "Draftcoin",
          "MMOCoin",
          "CoinonatX",
          "BitcoinPlus",
          "Ethereum Dark",
          "GambleCoin",
          "Peony Coin",
          "Linda",
          "TPCash",
          "Degas Coin",
          " ClubCoin",
          "CryptoBullion",
          "Vtorrent",
          "XiaoMiCoin",
          "WhiteCoin",
          "HiCoin",
          "RubyCoin",
          "Dnotes",
          "8BIT Coin",
          "AudioCoin",
          "BillaryCoin",
          "GPU Coin",
          "BitBar",
          "Genstake",
          "Diggits",
          "MintCoin",
          "Nautilus Coin",
          "HoboNickels",
          "FlutterCoin",
          "ShardCoin",
          "ZCC Coin",
          "UnitaryStatus Dollar",
          "UltraCoin",
          "VeriCoin",
          "PotCoin",
          "PhoenixCoin",
          "Reddcoin",
          "CasinoCoin",
          "42 Coin",
          "EnergyCoin",
          "BitCurrency",
          "Swiscoin",
          "OrangeCoin",
          "LiteDoge",
          "ZoneCoin",
          "Frankywillcoin",
          "iBankCoin",
          "PutinCoin",
          "RootCoin",
          "CarterCoin",
          "HyperCoin",
          "BitstarCoin",
          "BlueCoin",
          "PesoBit",
          "SafeExchangeCoin",
          "ZeitCoin",
          "MaxCoin",
          "Nexus",
          "Obsidian",
          "TWIST",
          "Bitshares",
          "Kcash",
          "Cognitio",
          "TheVig",
          "Titan Coin",
          "BuzzCoin",
          "LanaCoin",
          "Infinity Economics",
          "BitTokens",
          "Eurocoin",
          "MazaCoin",
          "TigerCash",
          "Credence Coin",
          "Revenu",
          "ProCurrency",
          "Clockcoin",
          "Internet of People",
          "Ultimate Secure Cash",
          "SwingCoin",
          "NeosCoin",
          "DubaiCoin",
          "EDRCoin",
          "IncaKoin",
          "Emercoin",
          "PayCoin",
          "Neutron",
          "BitcoinWSpectrum",
          "OKCash",
          "Theresa May Coin",
          "ZEPHYR",
          "BitcoinDark",
          "Vitae",
          "Giant",
          "DACH Coin",
          "Dystem",
          "Allsafe",
          "Bitcloud 2.0",
          "HerbCoin",
          "Alqo",
          "Kalkulus",
          "Carebit",
          "Digiwage",
          "Galilel",
          "Crypto Sports",
          "Poseidon Quark",
          "LiteCreed",
          "Droidz",
          "Ketan",
          "Particl",
          "Zealium",
          "Nxt",
          "Deviant Coin",
          "Radium",
          "FreeCoin",
          "Creatio",
          "Atmos",
          "TeamUP",
          "Exclusive Coin",
          "Stakecoin",
          "Nebuchadnezzar",
          "CoffeeCoin",
          "Phreak",
          "MacronCoin",
          "Opair",
          "Let it Ride",
          "QTUM",
          "TokenPay",
          "KekCoin",
          "Gexan",
          "LUXCoin",
          "TittieCoin",
          "Seraph",
          "Cardano",
          "SimpleBank",
          "FriendshipCoin",
          "Orbitcoin",
          "TrezarCoin",
          "PWR Coin",
          "Bitspace",
          "VIP Tokens",
          "Bulwark",
          "NamoCoin",
          "Virta Unique Coin",
          "Electra",
          "Denarius",
          "TeslaCoin",
          "Crypti",
          "LAPO",
          "Rupee",
          "Absolute Coin",
          "XDNA",
          "FairCoin",
          "Diamond",
          "Bitcoin Green",
          "EOS",
          "Lisk",
          "Muse",
          "ALAX",
          "Oxycoin",
          "Lamden Tau",
          "ARK",
          "StorjCoin",
          "Stipend",
          "TajCoin",
          "Decred",
          "Espers"
         ],
         "legendgroup": "1",
         "marker": {
          "color": [
           1,
           1,
           1,
           1,
           1,
           1,
           1,
           1,
           1,
           1,
           1,
           1,
           1,
           1,
           1,
           1,
           1,
           1,
           1,
           1,
           1,
           1,
           1,
           1,
           1,
           1,
           1,
           1,
           1,
           1,
           1,
           1,
           1,
           1,
           1,
           1,
           1,
           1,
           1,
           1,
           1,
           1,
           1,
           1,
           1,
           1,
           1,
           1,
           1,
           1,
           1,
           1,
           1,
           1,
           1,
           1,
           1,
           1,
           1,
           1,
           1,
           1,
           1,
           1,
           1,
           1,
           1,
           1,
           1,
           1,
           1,
           1,
           1,
           1,
           1,
           1,
           1,
           1,
           1,
           1,
           1,
           1,
           1,
           1,
           1,
           1,
           1,
           1,
           1,
           1,
           1,
           1,
           1,
           1,
           1,
           1,
           1,
           1,
           1,
           1,
           1,
           1,
           1,
           1,
           1,
           1,
           1,
           1,
           1,
           1,
           1,
           1,
           1,
           1,
           1,
           1,
           1,
           1,
           1,
           1,
           1,
           1,
           1,
           1,
           1,
           1,
           1,
           1,
           1,
           1,
           1,
           1,
           1,
           1,
           1,
           1,
           1,
           1,
           1,
           1,
           1,
           1,
           1,
           1,
           1,
           1,
           1,
           1,
           1,
           1,
           1,
           1,
           1,
           1,
           1,
           1,
           1,
           1,
           1,
           1,
           1,
           1,
           1,
           1,
           1,
           1,
           1,
           1,
           1,
           1,
           1,
           1,
           1,
           1,
           1,
           1,
           1,
           1,
           1,
           1,
           1,
           1,
           1,
           1,
           1,
           1,
           1,
           1,
           1,
           1,
           1,
           1,
           1,
           1,
           1,
           1,
           1,
           1,
           1,
           1,
           1,
           1,
           1,
           1,
           1,
           1,
           1,
           1,
           1,
           1,
           1,
           1,
           1,
           1,
           1,
           1,
           1,
           1,
           1,
           1,
           1,
           1,
           1,
           1,
           1,
           1,
           1,
           1,
           1,
           1,
           1,
           1,
           1,
           1,
           1,
           1,
           1,
           1,
           1,
           1,
           1,
           1,
           1,
           1,
           1,
           1,
           1,
           1,
           1,
           1,
           1,
           1,
           1,
           1,
           1,
           1,
           1,
           1,
           1,
           1,
           1,
           1,
           1,
           1,
           1,
           1,
           1,
           1,
           1,
           1,
           1,
           1,
           1,
           1,
           1,
           1,
           1,
           1,
           1,
           1,
           1,
           1,
           1,
           1,
           1,
           1,
           1,
           1,
           1,
           1,
           1,
           1,
           1,
           1,
           1,
           1,
           1,
           1,
           1,
           1,
           1,
           1,
           1,
           1,
           1,
           1,
           1,
           1,
           1,
           1,
           1,
           1
          ],
          "coloraxis": "coloraxis",
          "symbol": "circle"
         },
         "mode": "markers",
         "name": "1",
         "scene": "scene",
         "showlegend": true,
         "type": "scatter3d",
         "x": [
          -0.3368219033527985,
          -0.2863201827988218,
          -0.3342933061253958,
          0.4470250355700055,
          -0.3425696228462323,
          -0.36151780301515557,
          -0.305964184220812,
          -0.2341503729537454,
          -0.23667688701756362,
          0.9392999066277381,
          -0.17975505027904595,
          -0.4025183216462313,
          -0.2667344726945097,
          -0.26673779960209426,
          -0.2632840491948602,
          -0.26699124656298356,
          -0.2670410139514417,
          -0.2671520341176428,
          -0.26696224400355656,
          -0.20212133074310457,
          -0.2663155179094831,
          -0.2666646206593862,
          -0.26649541050114167,
          0.9097574065999277,
          -0.21086270414897917,
          -0.20938252451958883,
          -0.21062182472012195,
          2.408638931370948,
          -0.39344183597682364,
          -0.39750501148820316,
          -0.12274811746598893,
          -0.3974938803933509,
          -0.3972339995195307,
          -0.4110690093501175,
          -0.3974772186298923,
          -0.3969599074840057,
          -0.32812128877902036,
          -0.39729490137799917,
          -0.3411014848076291,
          -0.34063426831794263,
          -0.39531270716522254,
          -0.39662370447173884,
          -0.06317743086947351,
          -0.3952655945802451,
          -0.39457587860333526,
          -0.38831642032285313,
          -0.34049173130958016,
          -0.3967668034983307,
          -0.3944439902545867,
          -0.3890908641978673,
          -0.3970128336619102,
          -0.39619514762650543,
          -0.3923123780751861,
          -0.3965175660555015,
          -0.38391443351345317,
          -0.3973837717674835,
          -0.3970023063019502,
          -0.2653605982900093,
          -0.3971387539169329,
          -0.3974470428591039,
          -0.34107831394815347,
          -0.3406384240669084,
          -0.3975242104496974,
          -0.31996821699729555,
          -0.34107234263928404,
          -0.3972482071431093,
          -0.34112875305081536,
          -0.38316252050779925,
          -0.3965839109188062,
          -0.3970712972238509,
          -0.39729616811938867,
          -0.3982734469485198,
          -0.3973956338175661,
          -0.39731335891224395,
          -0.34073547331094955,
          -0.39743271230093025,
          -0.39424820437458763,
          -0.39700713011905486,
          -0.395983105833177,
          4.559884765301621,
          -0.2919362718669358,
          -0.3756644445758634,
          -0.3219949507030143,
          -0.4130757311420215,
          -0.4137340216271776,
          -0.4135903546771011,
          -0.41386619074419273,
          -0.0861943216465393,
          4.184479011389631,
          -0.32299996241344897,
          -0.3238656300799872,
          -0.3239976520694312,
          -0.3192519822723996,
          -0.3236633423634377,
          -0.3238207627584304,
          -0.32381636862566354,
          0.3999036276455095,
          -0.3238091606753221,
          -0.3201911769509355,
          0.6158395768613203,
          -0.3240959993887496,
          -0.324022980698051,
          -0.3236627681420831,
          -0.3232854744131768,
          -0.32382329420606215,
          -0.3232529078180047,
          -0.32310738825443436,
          -0.3212131089995251,
          -0.26765244991346016,
          -0.26723832098391376,
          0.10489739277364439,
          -0.32295543192649717,
          -0.11983594671672758,
          -0.26750092956055255,
          -0.3240325500619382,
          0.4745296713552053,
          2.3694602890756165,
          -0.3239811132418203,
          -0.3238461921408932,
          -0.3232721056548136,
          -0.3237249501311721,
          -0.3238169414860236,
          -0.26085939160384336,
          -0.3241107408507978,
          -0.3241296816913975,
          -0.32301499180573073,
          -0.30686191282783026,
          -0.26668641602370446,
          -0.31947885329085834,
          -0.2593208693690267,
          0.23287967664591802,
          -0.3241012835278214,
          -0.3100570543379424,
          -0.2687685604988926,
          -0.3215211781538745,
          -0.2674800322308108,
          -0.26721025473487375,
          -0.32393867910683344,
          -0.3239380914000879,
          -0.3168222153251919,
          -0.3231561369473057,
          -0.24811087976732446,
          -0.3041304139863293,
          -0.32213936040387026,
          -0.1786935407916965,
          -0.24950511781183568,
          -0.2675558644797339,
          -0.2646453015544526,
          -0.3235604314077547,
          -0.2679115427795129,
          -0.3240782868675323,
          -0.26770145552992325,
          -0.14411177008546194,
          0.15738431719609847,
          -0.31675994610349795,
          -0.3231211495260381,
          -0.32167319802483013,
          -0.3241418925818067,
          -0.323868385654816,
          -0.3160948071177421,
          -0.3187622596695895,
          -0.06753252679584869,
          -0.2675753134039871,
          -0.2620358950790158,
          -0.3241437824324405,
          -0.23470343470192997,
          -0.3237401319133187,
          -0.26578535421430016,
          -0.3241582136891912,
          -0.32329052441993056,
          -0.26591730542072123,
          0.002472962060993591,
          -0.26759638827360577,
          -0.3221488335195701,
          -0.2555512803447241,
          -0.26100353372135493,
          -0.3149493620987361,
          -0.29847358494292614,
          -0.32279114134129516,
          -0.26048653400918476,
          -0.318254612491432,
          -0.32250455732855,
          0.04809106008861108,
          0.6763400835358548,
          -0.3241624204568986,
          -0.3225997513391324,
          -0.26576691741592645,
          -0.2171375235753402,
          -0.32265073465593663,
          0.1270441024571528,
          -0.3239756240599631,
          -0.32215922056705115,
          -0.3237798110352411,
          -0.29916993868679376,
          -0.32413778829593365,
          -0.3229542521657379,
          -0.3240401228720621,
          -0.3235032307873281,
          -0.3160937130393476,
          -0.32373674174793204,
          -0.08192176653493129,
          0.9275976430510298,
          -0.3877480092864273,
          -0.3510093137575558,
          -0.31534887402042305,
          -0.3123301597704009,
          -0.25511762418981804,
          -0.3393453164171377,
          -0.3678929718117581,
          -0.36680088939686206,
          -0.3199049251172334,
          0.027322486803263477,
          -0.29916694474929995,
          -0.07615008340906589,
          -0.31251849239377555,
          -0.31237571982736,
          -0.27444526408691466,
          -0.23640614177739008,
          -0.3124532011755292,
          -0.3110314500017873,
          0.2948778632424641,
          -0.3086182023695829,
          -0.31249397671634194,
          -0.25483942179436003,
          -0.31233112911906685,
          -0.25622836453857734,
          -0.312537929746958,
          -0.3124721210848603,
          -0.08348530441233806,
          -0.3047994275865597,
          -0.2561941573114467,
          -0.31168458881171457,
          -0.25496874763927374,
          -0.31096176135630815,
          -0.3107778036417135,
          2.616086355593605,
          -0.31250235322034164,
          -0.3345659438949337,
          -0.39226706353623947,
          -0.33567778199460135,
          -0.33589414738133655,
          -0.33589452754451005,
          -0.3905232555369303,
          -0.39153557908606373,
          -0.3911267259903004,
          -0.33577610766717175,
          -0.38913880100975856,
          -0.3349113733876036,
          -0.3920084676518477,
          -0.33601547085863787,
          -0.33133659313370434,
          -0.36251978418147424,
          -0.4378558785598425,
          -0.3219643504638694,
          -0.32344169750817314,
          -0.32289555393819386,
          -0.3212518927007469,
          -0.32269972613495174,
          -0.32350837026709295,
          -0.32262129736677264,
          -0.3232222575861301,
          -0.3214028268618793,
          -0.3211891424998007,
          -0.3235507759839706,
          -0.3231203398024897,
          -0.3232222575861301,
          -0.3214411157058385,
          -0.3232582472227614,
          -0.3155920456439062,
          -0.32214009990751913,
          -0.32614703245552495,
          -0.32487953512529977,
          -0.32643976480893583,
          -0.3157269098324604,
          -0.412384420165208,
          -0.3818805927394786,
          -0.2887157603296363,
          -0.38217413605780803,
          0.7330901942953393,
          -0.3450995996146824,
          -0.3448283595036691,
          -0.3452153063757787,
          -0.34003113825250064,
          -0.2276152142173136,
          -0.35493681951466555,
          -0.35375887972129394,
          -0.2988651967300118,
          -0.3395598482499411,
          -0.35379928184804377,
          0.2251537952967398,
          -0.3553522852064596,
          -0.22888672714970426,
          -0.22936945723886806,
          0.6204633842082312,
          -0.29415599770686346,
          -0.3503243539535095,
          -0.3464214152648486,
          -0.35947135294504884,
          -0.36007273303651754,
          -0.33056910090810104,
          3.9705521581432284,
          3.9602898811511693,
          1.125496291578071,
          3.9776251375969163,
          3.971845309341323,
          3.964918276092837,
          3.9598838287349802,
          -0.30206894953784513,
          -0.3812644038707514,
          -0.3978428991188832,
          -0.05587003636146806,
          0.6112379613618134
         ],
         "y": [
          1.2645911845317468,
          0.9571828673854249,
          0.5503534709098108,
          0.576839063327236,
          1.2647352013698903,
          0.7659421564622602,
          0.4583887448327036,
          1.8010283154490982,
          1.8011854003861756,
          1.771755559345246,
          1.4936002192018045,
          1.9762381396111608,
          1.6935984938190414,
          1.693584791602438,
          1.6935510048907345,
          1.6935835818477796,
          1.6935806471437,
          1.6935858625553135,
          1.693591650834318,
          1.3857144222687623,
          1.693611080571981,
          1.6935789994311161,
          1.6935696877377697,
          1.7283323034816243,
          1.386025816205216,
          1.3859281319560828,
          1.3860243980148046,
          1.5478543036528822,
          1.2278763755621431,
          1.2279040159125694,
          0.9269091529116024,
          1.227902191029724,
          1.2278927243146553,
          0.5641426905956615,
          1.227901252071612,
          1.2278844043143295,
          0.9202661944766003,
          1.2279034852911943,
          0.9203347182191772,
          0.920323563112974,
          1.2278907055877057,
          1.2278585166565528,
          1.218838517709992,
          1.227917312798107,
          1.2277156265165456,
          1.2278201880201316,
          0.9202954559318929,
          1.2278902057808516,
          1.2279959788627204,
          0.5134983554684766,
          1.2278900118973648,
          1.2278433210275004,
          1.2277001365616356,
          1.22786170539689,
          1.227592555095261,
          1.2279009256572677,
          1.2278975258293257,
          0.9197599469053398,
          1.2278991846277978,
          1.227902983985042,
          0.9203439449085056,
          0.9203630253695043,
          1.2279034383940808,
          0.9209840250546678,
          0.920334873978291,
          1.227895896299879,
          0.9203341149228909,
          1.227255262181242,
          1.2278957004637987,
          1.2278954531195245,
          1.227892296100635,
          0.6134624312307698,
          1.2279033432596933,
          1.2278917796337745,
          0.9203154842293009,
          1.227898990357217,
          1.2276995593451658,
          1.2278757879379574,
          1.227846092618784,
          2.7003090046533713,
          1.2874921259364607,
          1.0201251258552992,
          1.1179778662485307,
          2.020088920811578,
          2.0200892970794326,
          2.020073459860839,
          2.0200874855897246,
          0.9243994029184234,
          1.86245855331762,
          1.1381567976875817,
          1.1382200411747854,
          1.1382146832618212,
          1.1379047227743435,
          1.1382167615972518,
          1.138220669368218,
          1.1382157630228578,
          0.8273262339858274,
          1.138224063559938,
          1.1379849461039724,
          1.1126277438658467,
          1.1382251288591045,
          1.1382203522140177,
          1.138212791347226,
          1.138191405922977,
          1.1382054782375253,
          1.1381736704226295,
          1.1381852399557588,
          1.1381629759966707,
          0.8306522225143274,
          0.8306675433454505,
          1.1151275799491627,
          1.1381538169333587,
          1.137022536966958,
          0.8306466979558457,
          1.138218097360366,
          1.1442266660097444,
          0.3898183422306819,
          1.1382158519225403,
          1.1382243763728845,
          1.1381918075635946,
          1.1382026746858185,
          1.1382143062810617,
          0.8305180180572642,
          1.1382234737408805,
          1.1382243442281645,
          1.1382096088114164,
          1.1383623676877148,
          0.8306135873205114,
          1.1381992437879638,
          0.6093606242454565,
          0.8277172745747715,
          1.1382244776349757,
          1.1380015015868654,
          1.1362031258023269,
          1.1381249299812404,
          0.8306394083573017,
          0.8306623214965866,
          1.1382169741034112,
          1.1382116742187711,
          1.1377262777709094,
          1.1381837753878021,
          0.34258735277052754,
          1.1381075804162601,
          1.138106357792712,
          1.1296400932458799,
          0.8297794886441091,
          0.8306641890586843,
          0.8305770208589309,
          1.1382088755091586,
          0.830665311731748,
          1.1382250245756964,
          0.8306611148523637,
          0.8222357324214057,
          1.116704456437712,
          1.1377281485391577,
          1.1381812276947196,
          1.1381851417190634,
          1.1382254169048578,
          1.1382199583884307,
          1.1381799908263732,
          1.1381718285098958,
          0.8294820476912922,
          0.8306761329121952,
          0.8304826720984547,
          1.1382260798932609,
          1.133355617478033,
          1.1382079767010111,
          0.8305708029763177,
          1.1382252864489595,
          1.1382409180316806,
          0.8306539682582083,
          0.8387892540569322,
          0.8306638539475479,
          1.1381996427192593,
          0.5625986870449687,
          0.8302257813185714,
          1.13778254432209,
          1.1378456704380195,
          1.1381947410329771,
          0.46196075300327283,
          1.1381007079949923,
          1.1382047904722232,
          1.1494092150807218,
          0.5989206157417347,
          1.1382255199166655,
          1.1382724675670561,
          0.8307304629600485,
          0.7265025262643403,
          1.1381269827414895,
          1.1265894227073427,
          1.138216016835267,
          1.138213725971083,
          1.1382051051593634,
          1.1375368434810984,
          1.1382262599764539,
          1.1381970383138669,
          1.1382291941607736,
          1.1382062724418942,
          1.1384679299406175,
          1.1382383087081964,
          0.6033849238270841,
          0.795326187613256,
          1.941773819211954,
          1.9933334926841555,
          1.4038140979133058,
          1.4038266153235244,
          1.4030978507053031,
          2.155185464772228,
          1.8860745286917397,
          1.8860407600505635,
          1.8839228145683022,
          1.8835581617149424,
          1.8827421177595016,
          0.5337398039589105,
          0.8423507562852136,
          0.8423557653991854,
          0.8417684569664236,
          0.5346833200055965,
          0.8423498387815388,
          0.8422502371166433,
          0.4973821497428648,
          0.8421051717084157,
          0.8423514928152313,
          0.5347052767084876,
          0.8423427097356445,
          0.5347924470376074,
          0.8423577298633561,
          0.8423514296632774,
          0.8491100115332498,
          0.8418780113536058,
          0.5347995927407319,
          0.8423419804545534,
          0.5347732397822815,
          0.8423370651949248,
          0.8423461907060227,
          0.8238596367551565,
          0.8423505213924236,
          1.2567955964141542,
          1.5643797839663127,
          1.2568068186796946,
          1.2568125543810587,
          1.2568168615533997,
          1.564291927973042,
          1.5643666002879968,
          1.5643760913668745,
          1.2568168204403807,
          1.5643335214521301,
          1.2567708232858983,
          1.564377559075898,
          1.2568144012441282,
          1.2564967454398792,
          0.4731720414071366,
          2.1510913218944796,
          1.4498989612373216,
          1.4499995131887837,
          1.4499645544111652,
          1.866769149478366,
          1.4499646795850596,
          1.449997246790629,
          1.449994386931438,
          1.4499979251165989,
          1.449987599024861,
          1.4498567523140877,
          1.4500024506766314,
          1.4499710448312737,
          1.4499979251165989,
          1.4500370411243417,
          1.4499896462157271,
          1.449953650359651,
          1.4499915692803778,
          1.3041665830388627,
          1.304156798333383,
          1.304163906422554,
          1.1127355260186689,
          1.7810389359018801,
          1.4506462510402467,
          1.1425835018746382,
          1.4506575854893613,
          1.3158800265469262,
          0.5233170354102257,
          0.5232969924541168,
          0.5233259607674353,
          0.5231965171694014,
          1.5715063161265423,
          1.567645176189874,
          1.5676517746758547,
          1.2600963415150295,
          1.5672794195466813,
          1.5676289678973196,
          1.5635159890812385,
          1.5676614848850083,
          -0.04560731330197349,
          -0.04554983950958487,
          0.228908198365553,
          0.3679450255741205,
          0.6754864799136534,
          0.9129080430656705,
          0.8636231729483611,
          0.8636019529774859,
          1.320588517341266,
          1.922427406844078,
          1.922003991180753,
          1.6327417301946194,
          1.9219201363468783,
          1.9224662572766946,
          1.9218982640513442,
          1.9220169251201134,
          1.319970101918187,
          0.8367857642100789,
          1.830956369092436,
          0.8900177418130354,
          1.9776758125147598
         ],
         "z": [
          -0.3914141610105358,
          -0.08343783809326082,
          0.15490894182548404,
          -0.1334510782374882,
          -0.39130432767748186,
          -0.4866555974473937,
          -0.1787734041927872,
          -0.6191814411268346,
          -0.6191453562672308,
          -0.641621789936573,
          -0.31128963509622576,
          -0.5319589064286289,
          -0.5778834143863769,
          -0.577881558245918,
          -0.5779544154629866,
          -0.5778757320515364,
          -0.5778742372911099,
          -0.5778724322563566,
          -0.5778774299829629,
          -0.2701608605132675,
          -0.5778944218941116,
          -0.5778824418829149,
          -0.5778850158144387,
          -0.6087146986237554,
          -0.2700058320416621,
          -0.2700262373683544,
          -0.2700110354190789,
          -0.6187724942796313,
          -0.48834181652606046,
          -0.488254528979235,
          -0.1861281107940649,
          -0.48825454065694684,
          -0.4882591224766566,
          -0.3030262066045211,
          -0.4882547912385705,
          -0.4882641712692707,
          -0.18067069982828107,
          -0.48825915954692406,
          -0.18038928004920682,
          -0.18039827983191212,
          -0.4883018338219398,
          -0.488268324949636,
          -0.494553680783636,
          -0.48830634738594814,
          -0.48829554869427694,
          -0.4884491513139167,
          -0.18039781314558034,
          -0.4882692448325566,
          -0.48833495344533023,
          0.057958769310306926,
          -0.4882637166266198,
          -0.488275934628694,
          -0.4883441625718454,
          -0.48827111360244385,
          -0.48851801166579656,
          -0.4882568389347339,
          -0.4882649291455193,
          -0.18200864954045304,
          -0.48826209289745415,
          -0.48825569138893554,
          -0.18039099808053582,
          -0.18040331823684042,
          -0.4882540244571822,
          -0.1809464018160706,
          -0.1803899521302848,
          -0.4882592171522029,
          -0.18038859168833815,
          -0.48849097093941884,
          -0.4882740501040454,
          -0.4882631164961984,
          -0.488257676260393,
          -0.24489714200458276,
          -0.4882568879801621,
          -0.4882572245940268,
          -0.1803949656504969,
          -0.4882554926232342,
          -0.48830078858777054,
          -0.48826199462837366,
          -0.48828103779604537,
          5.647125706879278,
          0.00625022680560888,
          -0.462304238409328,
          0.022825260592959144,
          -0.6411714849916632,
          -0.6411568098330298,
          -0.6411579639083741,
          -0.6411536180341864,
          -0.24962058354632813,
          0.0743694901902763,
          -0.5680785714916546,
          -0.5680674326473725,
          -0.5680637829907498,
          -0.5681296253335314,
          -0.5680715307980266,
          -0.5680685178869866,
          -0.5680679781892036,
          -0.27469696394793297,
          -0.568069218746211,
          -0.5681190498224846,
          -0.5857581466375994,
          -0.5680629415031756,
          -0.5680639536067258,
          -0.5680710273820657,
          -0.5680766855794234,
          -0.5680664859321866,
          -0.5680751078184527,
          -0.5680798670869739,
          -0.5681193416974938,
          -0.26019811852895725,
          -0.2602093736137612,
          -0.5746548822168348,
          -0.5680791799184575,
          -0.5724752823586823,
          -0.26020078923868173,
          -0.5680634463640865,
          -0.5867063179382254,
          -0.46235334799793815,
          -0.5680643048805976,
          -0.5680684311333716,
          -0.5680770368266613,
          -0.5680683210578698,
          -0.5680677759528583,
          -0.2603326090414432,
          -0.568062396560227,
          -0.5680620860987299,
          -0.5680851024643895,
          -0.5684662644365926,
          -0.26021470214641246,
          -0.5681628480386569,
          -0.3422689937428499,
          -0.2710119610997578,
          -0.5680627386320227,
          -0.5683478740596659,
          -0.569037533764168,
          -0.5681075038663697,
          -0.26020030877122563,
          -0.26020932236831873,
          -0.5680653999309377,
          -0.5680647239215224,
          -0.5681607687426276,
          -0.5680785862766504,
          -0.2734083170589791,
          -0.568494229789959,
          -0.5680912619086662,
          -0.5701988512901665,
          -0.26049053936985056,
          -0.2602018349043721,
          -0.2602556012595812,
          -0.5680728071793325,
          -0.2601940253760631,
          -0.568063324121705,
          -0.26019817870146433,
          -0.2618669588310378,
          -0.5760339098522201,
          -0.5681624047877664,
          -0.5680790375640391,
          -0.5681119330686341,
          -0.568061952458173,
          -0.5680673602481251,
          -0.5682360360232858,
          -0.5681753113352808,
          -0.2645220717210219,
          -0.26020295297074664,
          -0.2603016978988444,
          -0.5680619963973164,
          -0.5694292064431337,
          -0.568068670916374,
          -0.26022929300082254,
          -0.5680615704379846,
          -0.5680830107849991,
          -0.26023715577788714,
          -0.26729813027161087,
          -0.2602008849272012,
          -0.5681031800501138,
          -0.33321829841938505,
          -0.2602913848567909,
          -0.5682099755952814,
          -0.5685867002782148,
          -0.5680881760751195,
          -0.37741514474625454,
          -0.568177418013824,
          -0.568095892893192,
          -0.5778419966609679,
          -0.3536830874852062,
          -0.5680615067028373,
          -0.5681025638638043,
          -0.2602504662908867,
          -0.3782536855976273,
          -0.5680825058252592,
          -0.5766406477596062,
          -0.5680644491019164,
          -0.5681047789951925,
          -0.5680674100149109,
          -0.5685309674306583,
          -0.5680621538856808,
          -0.5680848264700713,
          -0.5680647199213179,
          -0.5680737481123789,
          -0.5682735018014146,
          -0.56807269087711,
          -0.3373034299665111,
          -0.28233894703723367,
          -0.5119277175920135,
          -0.1983420668249363,
          -0.2320935737344873,
          -0.23216272144910866,
          -0.23334764037620723,
          -0.5880859386226837,
          -0.716712029586743,
          -0.7167320653588379,
          -0.7175055939298555,
          -0.7252246668224299,
          -0.7178159151576381,
          -0.008780267591558226,
          -0.31275566251636433,
          -0.31275950727777174,
          -0.3135315347653735,
          -0.005318482752526701,
          -0.3127570035903191,
          -0.3127758527132121,
          -0.012351447811645136,
          -0.3128109670486529,
          -0.31275630663481957,
          -0.0049090377905257835,
          -0.3127588069906732,
          -0.004889306027080035,
          -0.3127561345465693,
          -0.31275678727134637,
          -0.318757403059405,
          -0.31286684405581694,
          -0.004891000315703751,
          -0.3127731734282284,
          -0.004914982515523746,
          -0.3127887018809958,
          -0.3127940031004708,
          0.0062281517302847315,
          -0.31275599296017714,
          -0.20972188929378124,
          -0.5175600509190756,
          -0.20969847989228893,
          -0.20969438623896036,
          -0.2096949378061421,
          -0.5175876308504886,
          -0.5175746978449467,
          -0.517585076869855,
          -0.2096975811759185,
          -0.5176240056442855,
          -0.209710941718593,
          -0.5175655456663679,
          -0.20969191272925228,
          -0.20975526048574628,
          -0.38983395589896214,
          -0.907801623630997,
          -0.03710809586944324,
          -0.03708812679276834,
          -0.03709579671008806,
          0.14932335943634528,
          -0.03710019309758768,
          -0.037086340808469696,
          -0.037105810232494194,
          -0.03709282853933544,
          -0.037132181306237605,
          -0.037119946554504915,
          -0.03708606898506066,
          -0.037091612852238866,
          -0.03709282853933544,
          -0.03713775395013863,
          -0.037090947031281636,
          -0.03725773753832361,
          -0.0371162068659097,
          -0.21497849628891189,
          -0.21500557427343484,
          -0.21497160065306092,
          0.11032930309119236,
          -0.8445105493138518,
          -0.5487822939117514,
          -0.2416751263203086,
          -0.5487772020241614,
          -0.16125450268215677,
          -0.3238770726932212,
          -0.3238805333366923,
          -0.3238756452444187,
          -0.3239747685244175,
          -0.5632437883646056,
          -0.5598938943946505,
          -0.5599210995714354,
          -0.2520238825664247,
          -0.5601902734210298,
          -0.5599172302791479,
          -0.5723319446865714,
          -0.5598867222616936,
          0.08687819659643808,
          0.08688152046157427,
          -0.34017046253960087,
          0.01228634662018723,
          -0.2955805418757116,
          -0.4631798684225039,
          -0.4018628070027216,
          -0.4018465965650011,
          -0.10048294690323684,
          -0.08628369821468772,
          -0.08599910267459941,
          -0.097930435873235,
          -0.0863759392334275,
          -0.0863176741288525,
          -0.08608887879003203,
          -0.08599170226350615,
          0.08752631095768619,
          -0.4590994875727829,
          -0.6394438942395332,
          -0.40990230252674137,
          -0.7141597880214021
         ]
        },
        {
         "customdata": [
          [
           "XEVAN",
           14746153.0962884,
           "210000000"
          ],
          [
           "X16R",
           8125865.02097646,
           "22075700"
          ],
          [
           "X16R",
           9753753.61515394,
           "100000000"
          ],
          [
           "X13",
           1170292.5,
           "2100000"
          ],
          [
           "X11GOST",
           17263355,
           "24000000"
          ],
          [
           "X11",
           35138975,
           "100000000"
          ],
          [
           "X11",
           32221574.820996,
           "33000000"
          ],
          [
           "X11",
           26042364.373555303,
           "60000000"
          ],
          [
           "X11",
           2622886,
           "18900000"
          ],
          [
           "X11",
           2702855668.85288,
           "1800000000"
          ],
          [
           "X11",
           4993030.69736615,
           "21000000"
          ],
          [
           "X11",
           1377917,
           "25000000"
          ],
          [
           "X11",
           122475638.389743,
           "1100000000"
          ],
          [
           "X11",
           5015881.37315389,
           "25000000"
          ],
          [
           "X11",
           536982074,
           "100000000000"
          ],
          [
           "X11",
           45110324,
           "84000000"
          ],
          [
           "X11",
           30385540,
           "1000000000"
          ],
          [
           "X11",
           13654082.4987998,
           "25000000"
          ],
          [
           "X11",
           11149733.9976203,
           "20000000"
          ],
          [
           "X11",
           15867695,
           "16000000"
          ],
          [
           "X11",
           15863837.5,
           "21000000"
          ],
          [
           "X11",
           26709236.7607446,
           "50000000"
          ],
          [
           "X11",
           80316207,
           "550000000"
          ],
          [
           "X11",
           4996986.20575291,
           "18000000"
          ],
          [
           "X11",
           8478104.33969947,
           "23000000"
          ],
          [
           "X11",
           31801461.1867843,
           "100000000"
          ],
          [
           "X11",
           824000000,
           "500000000"
          ],
          [
           "X11",
           4229040.50393462,
           "19800000"
          ],
          [
           "X11",
           211297638.500483,
           "500000000"
          ],
          [
           "X11",
           175215859,
           "350000000"
          ],
          [
           "X11",
           1207310,
           "0"
          ],
          [
           "X11",
           61364813,
           "228000000"
          ],
          [
           "Tribus",
           795447,
           "18000000"
          ],
          [
           "Time Travel",
           17801865.1605478,
           "21000000"
          ],
          [
           "Stanford Folding",
           719416990,
           "1000000000"
          ],
          [
           "SkunkHash",
           4818338.98949984,
           "16600000"
          ],
          [
           "ScryptOG",
           84000000,
           "84000000"
          ],
          [
           "Scrypt",
           196297971,
           "10000000000"
          ],
          [
           "Scrypt",
           35284717.173946,
           "120000000"
          ],
          [
           "Scrypt",
           12205795.444954902,
           "64000000"
          ],
          [
           "Scrypt",
           894026,
           "2714286"
          ],
          [
           "Scrypt",
           20910478.806249898,
           "21000000 "
          ],
          [
           "Scrypt",
           5768310,
           "21000000"
          ],
          [
           "Scrypt",
           63039243.30000489,
           "84000000"
          ],
          [
           "Scrypt",
           5761512.810349099,
           "100000000"
          ],
          [
           "Scrypt",
           3964201248.87125,
           "4999999999"
          ],
          [
           "Scrypt",
           99990001.493466,
           "100000000"
          ],
          [
           "Scrypt",
           12446100.00278,
           "40000000"
          ],
          [
           "Scrypt",
           10000000000,
           "10000000000"
          ],
          [
           "Scrypt",
           14491014421,
           "18406979840"
          ],
          [
           "Scrypt",
           17630550.2128923,
           "24000000"
          ],
          [
           "Scrypt",
           45483049.3398182,
           "64000000"
          ],
          [
           "Scrypt",
           64096052,
           "4000000000"
          ],
          [
           "Scrypt",
           3115258,
           "3360000"
          ],
          [
           "Scrypt",
           99843408.3158479,
           "100000000 "
          ],
          [
           "Scrypt",
           20276099.146523997,
           "35520400"
          ],
          [
           "Scrypt",
           9704042,
           "20000000"
          ],
          [
           "Scrypt",
           485214,
           "10500000000"
          ],
          [
           "Scrypt",
           143006669741.68698,
           "0"
          ],
          [
           "Scrypt",
           17453749.4042601,
           "84000000"
          ],
          [
           "Scrypt",
           32646731.063036,
           "100000000"
          ],
          [
           "Scrypt",
           33716526,
           "100000000"
          ],
          [
           "Scrypt",
           163055097500,
           "200000000000"
          ],
          [
           "Scrypt",
           5167775,
           " 75000000"
          ],
          [
           "Scrypt",
           18133195,
           "19276800"
          ],
          [
           "Scrypt",
           1416663.06600024,
           "22105263"
          ],
          [
           "Scrypt",
           269143950.637501,
           "1000000000"
          ],
          [
           "Scrypt",
           13673406.4325268,
           "72000000"
          ],
          [
           "Scrypt",
           4703879.51824446,
           "13140000"
          ],
          [
           "Scrypt",
           10140044.443029301,
           "3371337"
          ],
          [
           "Scrypt",
           4610340640.89,
           "10000000000"
          ],
          [
           "Scrypt",
           7219956.64626131,
           "21000000 "
          ],
          [
           "Scrypt",
           619478,
           "619478"
          ],
          [
           "Scrypt",
           5052555.91981545,
           "5000000"
          ],
          [
           "Scrypt",
           69684455.4387001,
           "182000000"
          ],
          [
           "Scrypt",
           792537250,
           "1000000000"
          ],
          [
           "Scrypt",
           415032420,
           "1680000000"
          ],
          [
           "Scrypt",
           68194674.8711679,
           "105120000"
          ],
          [
           "Scrypt",
           137517654.41397,
           "166386000"
          ],
          [
           "Scrypt",
           181919.2435974,
           "2628000"
          ],
          [
           "Scrypt",
           152270664.860648,
           "160000000"
          ],
          [
           "Scrypt",
           88213,
           "92000000000"
          ],
          [
           "Scrypt",
           210000000,
           "210000000"
          ],
          [
           "Scrypt",
           69836100,
           "84000000"
          ],
          [
           "Scrypt",
           33442988.3440364,
           "48166000"
          ],
          [
           "Scrypt",
           780210700,
           "1000000000"
          ],
          [
           "Scrypt",
           636462.55983338,
           "168351300"
          ],
          [
           "Scrypt",
           29583989322.9213,
           "50000000000"
          ],
          [
           "Scrypt",
           32565300,
           "210240000"
          ],
          [
           "Scrypt",
           75614500,
           "250000000"
          ],
          [
           "Scrypt",
           151447649.8,
           "265420800"
          ],
          [
           "Scrypt",
           19326319.14375,
           "20000000"
          ],
          [
           "Scrypt",
           1104344.22938102,
           "1350000"
          ],
          [
           "Scrypt",
           38151999.993099704,
           "42000000"
          ],
          [
           "Scrypt",
           5804204.88794916,
           "10000000"
          ],
          [
           "Scrypt",
           90595753018.6314,
           "90600000000"
          ],
          [
           "Scrypt",
           218871896.499999,
           "299792458"
          ],
          [
           "Scrypt",
           19496786.31025,
           "32000000"
          ],
          [
           "Scrypt",
           1142732.14912776,
           "11235813"
          ],
          [
           "Scrypt",
           12539015186.821999,
           "13500000000"
          ],
          [
           "Scrypt",
           884125802,
           "1420609614"
          ],
          [
           "Scrypt",
           65672720.470874794,
           "70000000"
          ],
          [
           "Scrypt",
           41658647.9999715,
           "72245700"
          ],
          [
           "Scrypt",
           2366066305.76482,
           "15000000000"
          ],
          [
           "Scrypt",
           334709223.48313797,
           "337000000"
          ],
          [
           "Scrypt",
           23150892.167968698,
           "23000000"
          ],
          [
           "Scrypt",
           119606941,
           "265420800"
          ],
          [
           "Scrypt",
           25593737.1355044,
           "51200000"
          ],
          [
           "Scrypt",
           1104157.42169891,
           "21000000"
          ],
          [
           "Scrypt",
           24215181.725,
           "250000000"
          ],
          [
           "Scrypt",
           4070212.1493015997,
           "21000000"
          ],
          [
           "Scrypt",
           11119200,
           "30000000"
          ],
          [
           "Scrypt",
           616448,
           "616448"
          ],
          [
           "Scrypt",
           116845228,
           "200000000"
          ],
          [
           "Scrypt",
           88,
           "384000000000"
          ],
          [
           "Scrypt",
           128940951.183046,
           "250000000"
          ],
          [
           "Scrypt",
           7357794.7925,
           "100000000"
          ],
          [
           "Scrypt",
           55565076.3863525,
           "98100000000"
          ],
          [
           "Scrypt",
           6570807.65677618,
           "20000000"
          ],
          [
           "SHA-512",
           60045900,
           "545399000"
          ],
          [
           "SHA-256",
           39195739.362088,
           "45000000"
          ],
          [
           "SHA-256",
           200911.79151896,
           "250000"
          ],
          [
           "SHA-256",
           6243840,
           "9736000"
          ],
          [
           "SHA-256",
           2278150,
           "80000000"
          ],
          [
           "SHA-256",
           9106714,
           "10638298"
          ],
          [
           "SHA-256",
           14736400,
           "21000000"
          ],
          [
           "SHA-256",
           17927175,
           "21000000"
          ],
          [
           "SHA-256",
           18773857500,
           "21000000000"
          ],
          [
           "SHA-256",
           20166000,
           "20166000"
          ],
          [
           "SHA-256",
           84613099.9999955,
           "168000000"
          ],
          [
           "SHA-256",
           563336541.299966,
           "888000000"
          ],
          [
           "SHA-256",
           43536800,
           "47011968"
          ],
          [
           "SHA-256",
           22935396,
           "42000000"
          ],
          [
           "SHA-256",
           21089348.999,
           "21000000"
          ],
          [
           "SHA-256",
           2100000000,
           "2100000000"
          ],
          [
           "SHA-256",
           1317747500,
           "2500000000"
          ],
          [
           "SHA-256",
           14747200.0002,
           "53760000"
          ],
          [
           "SHA-256",
           52293836.62779579,
           "64000000"
          ],
          [
           "SHA-256",
           21739971929,
           "21626280000 "
          ],
          [
           "SHA-256",
           2360478328.70966,
           "10044655075.56243680"
          ],
          [
           "SHA-256",
           20997476.865023103,
           "21000000"
          ],
          [
           "SHA-256",
           22986929.0854247,
           "42000000"
          ],
          [
           "SHA-256",
           170204389.754849,
           "169795588"
          ],
          [
           "SHA-256",
           17992514.6469233,
           "21000000"
          ],
          [
           "SHA-256",
           12462620,
           "21000000"
          ],
          [
           "SHA-256",
           17995589.6469082,
           "21000000"
          ],
          [
           "Quark",
           8928876.68577239,
           "11892000"
          ],
          [
           "Quark",
           259557164.91477,
           "247000000"
          ],
          [
           "QuBit",
           6365285,
           "0"
          ],
          [
           "QuBit",
           12925790.4226959,
           "100000000"
          ],
          [
           "PHI1612",
           13969583.3757376,
           "64000000"
          ],
          [
           "NeoScrypt",
           5832306.875,
           "31800000"
          ],
          [
           "NeoScrypt",
           3824685012,
           "4000000000"
          ],
          [
           "NeoScrypt",
           4165967.57499639,
           "27000000"
          ],
          [
           "NeoScrypt",
           208669093.00773,
           "336000000"
          ],
          [
           "NeoScrypt",
           6375259.04,
           "45000000"
          ],
          [
           "NeoScrypt",
           3982139.24553469,
           "32000000"
          ],
          [
           "NeoScrypt",
           4478901.29233779,
           "21000000"
          ],
          [
           "NeoScrypt",
           299797953,
           "500000000"
          ],
          [
           "NeoScrypt",
           7847417.33355824,
           "21000000"
          ],
          [
           "NIST5",
           10123200,
           "48252000"
          ],
          [
           "NIST5",
           21069346.252259802,
           "21000000"
          ],
          [
           "Multiple",
           1000000000,
           "1200000000"
          ],
          [
           "Multiple",
           481730566.566176,
           "660000000"
          ],
          [
           "Multiple",
           11406219141,
           "21000000000"
          ],
          [
           "Multiple",
           1688254250,
           "2000000000"
          ],
          [
           "Multiple",
           15929530669.1206,
           "16555000000"
          ],
          [
           "Multiple",
           3332922.5,
           "2800000"
          ],
          [
           "Multiple",
           65113302,
           "0"
          ],
          [
           "M7 POW",
           708506520,
           "1840000000"
          ],
          [
           "Lyra2Z",
           40874452.4756771,
           "210000000"
          ],
          [
           "Lyra2Z",
           13634850,
           "84000000"
          ],
          [
           "Lyra2Z",
           6986399.70430446,
           "10500000"
          ],
          [
           "Lyra2Z",
           7568281.24956067,
           "21400000"
          ],
          [
           "Lyra2Z",
           27340501.6514783,
           "300000000"
          ],
          [
           "Lyra2REv2",
           6040583.72997153,
           "32700000"
          ],
          [
           "Lyra2REv2",
           643795911.540095,
           "1100000000"
          ],
          [
           "Lyra2REv2",
           51173723.81663471,
           "84000000"
          ],
          [
           "Lyra2RE",
           13742738,
           "65789100"
          ],
          [
           "Lyra2RE",
           1876146.4435959999,
           "9999999"
          ],
          [
           "Lyra2RE",
           5097689.71077377,
           "26280000"
          ],
          [
           "Lyra2RE",
           18545757.5,
           "21000000"
          ],
          [
           "Keccak",
           2241009149.22257,
           "5000000000"
          ],
          [
           "Jump Consistent Hash",
           135862416.039898,
           "168000000"
          ],
          [
           "IMesh",
           25000000,
           "25000000"
          ],
          [
           "HybridScryptHash256",
           40431856.9,
           "200000000"
          ],
          [
           "HMQ1725",
           8645406.16776286,
           "21000000"
          ],
          [
           "HMQ1725",
           75579791.70522141,
           "207000000"
          ],
          [
           "Groestl",
           73298203.8873662,
           "105000000"
          ],
          [
           "Groestl",
           49548585.14129171,
           "84000000"
          ],
          [
           "Exosis",
           406091.925,
           "21000000"
          ],
          [
           "Ethash",
           247612453,
           "6500000000"
          ],
          [
           "Ethash",
           12756367,
           "280000000"
          ],
          [
           "Ethash",
           26205539,
           "26205539"
          ],
          [
           "Ethash",
           1618033,
           "1618033"
          ],
          [
           "Ethash",
           10000000000,
           "10000000000"
          ],
          [
           "Ethash",
           24487944.095820397,
           "24487944"
          ],
          [
           "Ethash",
           10495278,
           "16906397"
          ],
          [
           "Ethash",
           520891780,
           "10000000000"
          ],
          [
           "Ethash",
           113359703,
           "210000000"
          ],
          [
           "Ethash",
           107684222.6865,
           "0"
          ],
          [
           "Equihash+Scrypt",
           100000000,
           "2100000000"
          ],
          [
           "Equihash",
           5613550,
           "21000000"
          ],
          [
           "Equihash",
           115898131,
           "200000000"
          ],
          [
           "Equihash",
           17202361.088994,
           "21000000"
          ],
          [
           "Equihash",
           71355477,
           "70000000"
          ],
          [
           "Equihash",
           13475920,
           "105000000"
          ],
          [
           "Equihash",
           7296537.5,
           "21000000"
          ],
          [
           "Equihash",
           7383056.25,
           "21000000"
          ],
          [
           "Equihash",
           6921653.89980891,
           "17000000"
          ],
          [
           "Equihash",
           11000068.2715789,
           "11000000"
          ],
          [
           "Equihash",
           4235111504,
           "7600000000"
          ],
          [
           "Equihash",
           5211553258.01514,
           "21000000000"
          ],
          [
           "Equihash",
           35687520,
           "262800000"
          ],
          [
           "Equihash",
           25150787.5,
           "30886000"
          ],
          [
           "Dagger-Hashimoto",
           2232901,
           "2232901"
          ],
          [
           "Dagger",
           5702048,
           "30000000"
          ],
          [
           "Dagger",
           107325266.02778299,
           "100000000"
          ],
          [
           "Dagger",
           33986980,
           "156306732.71"
          ],
          [
           "Cryptonight-GPU",
           4890897,
           "88188888"
          ],
          [
           "CryptoNight-V7",
           15580199.3087496,
           "1750000000"
          ],
          [
           "CryptoNight-V7",
           441250233.377,
           "999481516"
          ],
          [
           "CryptoNight-V7",
           69036016.8340164,
           "105000000"
          ],
          [
           "CryptoNight-V7",
           17201143.1449131,
           "0"
          ],
          [
           "CryptoNight-V7",
           10969318.522954,
           "185000000"
          ],
          [
           "CryptoNight Heavy",
           99553110528.8022,
           "184470000000"
          ],
          [
           "CryptoNight Heavy",
           19153632,
           "150000000"
          ],
          [
           "CryptoNight",
           560085952.404637,
           "1000000000"
          ],
          [
           "CryptoNight",
           980222595,
           "1400222610"
          ],
          [
           "CryptoNight",
           4500000,
           "12500000"
          ],
          [
           "CryptoNight",
           19281821413.4924,
           "85000000000"
          ],
          [
           "CryptoNight",
           41294520017,
           "184000000000"
          ],
          [
           "CryptoNight",
           84300,
           "600000518"
          ],
          [
           "CryptoNight",
           16016864,
           "18400000"
          ],
          [
           "CryptoNight",
           184066828814,
           "184467440735"
          ],
          [
           "CryptoNight",
           6906587610.38292,
           "10000000000"
          ],
          [
           "CryptoNight",
           7822432.72439746,
           "10000000"
          ],
          [
           "CryptoNight",
           133932467.77410801,
           "336000000"
          ],
          [
           "CryptoNight",
           9357088,
           "25000000"
          ],
          [
           "CryptoNight",
           53139835213.77,
           "1000000000000"
          ],
          [
           "CryptoNight",
           978145,
           "21000000"
          ],
          [
           "CryptoNight",
           1867054873.2839699,
           "8080000000"
          ],
          [
           "CryptoNight",
           80049082.9057215,
           "1000000000"
          ],
          [
           "CryptoNight",
           484454200,
           "1000000000"
          ],
          [
           "CryptoNight",
           14161803,
           "54000000"
          ],
          [
           "CryptoNight",
           1809467143,
           "2000000000"
          ],
          [
           "CryptoNight",
           8946653,
           "88888888"
          ],
          [
           "Cloverhash",
           18407259.0885883,
           "30000000"
          ],
          [
           "C11",
           11916588.09471,
           "23000000"
          ],
          [
           "Blake2b",
           33098296530,
           "0"
          ],
          [
           "Blake2b",
           133248297,
           "340282367"
          ],
          [
           "Blake",
           1578281.31341127,
           "105120001.44"
          ],
          [
           "Blake",
           15846721.248274697,
           "25228800"
          ],
          [
           "Blake",
           20595483.8480416,
           "21000000"
          ],
          [
           "Blake",
           24156921.986802302,
           "7000000000"
          ],
          [
           "Blake",
           23356790.1494191,
           "7000000000"
          ],
          [
           "BLAKE256",
           30089671530.5228,
           " 90000000000"
          ],
          [
           "Argon2d",
           19784224.6512734,
           "0"
          ],
          [
           "1GB AES Pattern Search",
           11448949,
           "81962100"
          ]
         ],
         "hovertemplate": "<b>%{hovertext}</b><br><br>class=%{marker.color}<br>PC 1=%{x}<br>PC 2=%{y}<br>PC 3=%{z}<br>Algorithm=%{customdata[0]}<br>TotalCoinsMined=%{customdata[1]}<br>TotalCoinSupply=%{customdata[2]}<extra></extra>",
         "hovertext": [
          "Urals Coin",
          "Motion",
          "Xchange",
          "Bitcoin Rhodium",
          "SibCoin",
          "DigitalPrice",
          "MarsCoin ",
          "ArcticCoin",
          "DAS",
          "Elements",
          "Axe",
          "PizzaCoin",
          "Onix",
          "Azart",
          "PacCoin",
          "Adzcoin",
          "VaultCoin",
          "BolivarCoin",
          "Spreadcoin",
          "MindCoin",
          "BowsCoin",
          "DACash",
          "AC3",
          "CryptCoin",
          "Pioneer Coin",
          "FuturoCoin",
          "ArtexCoin",
          "Sucre",
          "Crypto Improvement Fund",
          "Pura",
          "UroCoin",
          "Kurrent",
          "KEYCO",
          "Bitcore",
          "Folding Coin",
          "MUNcoin",
          "Aiden",
          "KiloCoin",
          "Block-Logic",
          "Argentum",
          "OsmiumCoin",
          "E-Gulden",
          "ProsperCoin",
          "Litecoin",
          "BoxyCoin",
          "PopularCoin",
          "eBoost",
          "BitFlip",
          "ShareChain",
          "LottoCoin",
          "Crypto Wisdom Coin",
          "IrishCoin",
          "EB3coin",
          "BeaverCoin",
          "Canada eCoin",
          "BenjiRolls",
          "FrazCoin",
          "Sojourn Coin",
          "NewYorkCoin",
          "Kronecoin",
          "AdCoin",
          "Linx",
          "gCn Coin",
          "SocialCoin",
          "Unify",
          "HexCoin",
          "Deimos",
          "EquiTrader",
          "CannaCoin",
          "OmniCron",
          "GreenCoin",
          "Catcoin",
          "MasterCoin",
          "Bata",
          "Pakcoin",
          "ArtByte",
          "Gulden",
          "MonaCoin",
          "PesetaCoin",
          "Wild Beast Coin",
          "Flo",
          "1Credit",
          "Revolution VR",
          "Gamecredits",
          "Digitalcoin ",
          "Crypto Escudo",
          "YoCoin",
          "SmileyCoin",
          "Song Coin",
          "BitZeny",
          "KrugerCoin",
          "LuckyCoin",
          "Litebar ",
          "MegaCoin",
          "MinCoin",
          "Infinite Coin",
          "Einsteinium",
          "Emerald",
          "Franko",
          "EarthCoin",
          "GrandCoin",
          "GlobalCoin",
          "GoldCoin",
          "NobleCoin",
          "NyanCoin",
          "ViaCoin",
          "WorldCoin",
          "SmartCoin",
          "RonPaulCoin",
          "StableCoin",
          "Poseidon",
          "Shilling",
          "Omni",
          "DopeCoin",
          "MoonCoin",
          "SexCoin",
          "Quatloo",
          "SolarCoin",
          "Francs",
          "Arionum",
          "JouleCoin",
          "Unobtanium",
          "ZayedCoin",
          "UnbreakableCoin",
          "DollarCoin",
          "Namecoin",
          "Bitcoin",
          "DevCoin",
          "UnitedBitcoin",
          "GlobalToken",
          "SysCoin",
          "TigerCoin",
          "TerraCoin",
          "IXcoin",
          "Project Pai",
          "ILCoin",
          "Anarchists Prime",
          "BLAST",
          "CarpeDiemCoin",
          "Manna",
          "I0coin",
          "Crown Coin",
          "ZetaCoin",
          "Bitcoin SV",
          "SoonCoin",
          "Bitcoin Cash",
          "Cosmo",
          "QuarkCoin",
          "CypherPunkCoin",
          "SLICE",
          "Argoneum",
          "GoByte",
          "UFO Coin",
          "VIVO Coin",
          "FeatherCoin",
          "Innova",
          "GoaCoin",
          "Rapture",
          "GunCoin",
          "SparksPay",
          "Coinonat",
          "Jumpcoin",
          "Circuits of Value",
          "SHIELD",
          "DigiByte",
          "MyriadCoin",
          "Verge",
          "JoinCoin",
          "Unitus",
          "Cryptonite",
          "TecraCoin",
          "Actinium",
          "GINcoin",
          "ZCoin",
          "Alpenschillling",
          "Scribe Network",
          "KREDS",
          "Vertcoin",
          "Crypto",
          "HexxCoin",
          "Infinex",
          "Zoin",
          "SmartCash",
          "MassGrid",
          "Aidos Kuneen",
          "MediterraneanCoin",
          "PlusOneCoin",
          "Brazio",
          "Groestlcoin",
          "Riecoin",
          "Exosis",
          "Callisto Network",
          "Ellaism",
          "Elementrem",
          "1717 Masonic Commemorative Token",
          "Media Protocol Token",
          "Reality Clash",
          "Expanse",
          "DaxxCoin",
          "Ethereum Classic",
          "Ethereum",
          "Vollar",
          "ZClassic",
          "Komodo",
          "Bitcoin Gold",
          "Bitrolium",
          "PirateCash",
          "Horizen",
          "ZCash",
          "Zero",
          "ChainZilla",
          "CrypticCoin",
          "BitcoinZ",
          "Beam",
          "Bithereum",
          "DubaiCoin",
          "SoilCoin",
          "Travelflex",
          "Pirl",
          "Ryo",
          "Webchain",
          "Lethean",
          "Quantum Resistant Ledger",
          "Monero",
          "Citadel",
          "Qwertycoin",
          "Loki",
          "PluraCoin",
          "Beldex",
          "BitCoal",
          "UltraNote",
          "Newton Coin",
          "PlatinCoin",
          "Monero Classic",
          "ByteCoin",
          "DigitalNote ",
          "Karbo",
          "Niobio Cash",
          "Bikercoins",
          "TurtleCoin",
          "Cannabis Industry Coin",
          "FREDEnergy",
          "BitTube",
          "Bitcoin Nova",
          "LeviarCoin",
          "Dinastycoin",
          "Sumokoin",
          "ChanCoin",
          "Interzone",
          "Siacoin",
          "Nano",
          "Universal Molecule",
          "Lithium",
          "BlakeBitcoin",
          "Electron",
          "BlakeCoin",
          "Photon",
          "Dynamic",
          "HOdlcoin"
         ],
         "legendgroup": "0",
         "marker": {
          "color": [
           0,
           0,
           0,
           0,
           0,
           0,
           0,
           0,
           0,
           0,
           0,
           0,
           0,
           0,
           0,
           0,
           0,
           0,
           0,
           0,
           0,
           0,
           0,
           0,
           0,
           0,
           0,
           0,
           0,
           0,
           0,
           0,
           0,
           0,
           0,
           0,
           0,
           0,
           0,
           0,
           0,
           0,
           0,
           0,
           0,
           0,
           0,
           0,
           0,
           0,
           0,
           0,
           0,
           0,
           0,
           0,
           0,
           0,
           0,
           0,
           0,
           0,
           0,
           0,
           0,
           0,
           0,
           0,
           0,
           0,
           0,
           0,
           0,
           0,
           0,
           0,
           0,
           0,
           0,
           0,
           0,
           0,
           0,
           0,
           0,
           0,
           0,
           0,
           0,
           0,
           0,
           0,
           0,
           0,
           0,
           0,
           0,
           0,
           0,
           0,
           0,
           0,
           0,
           0,
           0,
           0,
           0,
           0,
           0,
           0,
           0,
           0,
           0,
           0,
           0,
           0,
           0,
           0,
           0,
           0,
           0,
           0,
           0,
           0,
           0,
           0,
           0,
           0,
           0,
           0,
           0,
           0,
           0,
           0,
           0,
           0,
           0,
           0,
           0,
           0,
           0,
           0,
           0,
           0,
           0,
           0,
           0,
           0,
           0,
           0,
           0,
           0,
           0,
           0,
           0,
           0,
           0,
           0,
           0,
           0,
           0,
           0,
           0,
           0,
           0,
           0,
           0,
           0,
           0,
           0,
           0,
           0,
           0,
           0,
           0,
           0,
           0,
           0,
           0,
           0,
           0,
           0,
           0,
           0,
           0,
           0,
           0,
           0,
           0,
           0,
           0,
           0,
           0,
           0,
           0,
           0,
           0,
           0,
           0,
           0,
           0,
           0,
           0,
           0,
           0,
           0,
           0,
           0,
           0,
           0,
           0,
           0,
           0,
           0,
           0,
           0,
           0,
           0,
           0,
           0,
           0,
           0,
           0,
           0,
           0,
           0,
           0,
           0,
           0,
           0,
           0,
           0,
           0,
           0,
           0,
           0,
           0,
           0,
           0,
           0,
           0,
           0,
           0,
           0,
           0,
           0,
           0,
           0,
           0,
           0,
           0,
           0,
           0,
           0,
           0,
           0,
           0,
           0,
           0
          ],
          "coloraxis": "coloraxis",
          "symbol": "diamond"
         },
         "mode": "markers",
         "name": "0",
         "scene": "scene",
         "showlegend": true,
         "type": "scatter3d",
         "x": [
          -0.17356728114846845,
          -0.1946066212464565,
          -0.1940144644071652,
          -0.0994041018329974,
          -0.12637755157540434,
          -0.22862430873466558,
          -0.22915272273311202,
          -0.22903317314057203,
          -0.2296319787180799,
          -0.1822816841676629,
          -0.22958648116472413,
          -0.22960305099462597,
          -0.22018143774843613,
          -0.22955685557581454,
          0.5104004745152654,
          -0.22861503275559775,
          -0.22208419735921997,
          -0.22944716639861415,
          -0.2295156362770606,
          -0.22948506232619606,
          -0.22944844202482206,
          -0.22909804366367095,
          -0.22475040584340852,
          -0.22960843250777713,
          -0.22952755946161388,
          -0.22866668898707476,
          -0.2156736900242809,
          -0.22960498305539262,
          -0.22345387676965753,
          -0.22501212716763844,
          -0.2297885638104197,
          -0.2273525554160826,
          -0.20809329380892186,
          -0.12750015337174664,
          -0.13780383389918152,
          -0.11858230222243248,
          -0.15342771414228593,
          -0.0806108928431913,
          -0.15511396950962714,
          -0.1558177251154156,
          -0.1564108243216351,
          -0.15602254758339434,
          -0.1562148251204913,
          -0.15502555721052963,
          -0.15563553673729824,
          -0.06943477477166723,
          -0.15443900921470963,
          -0.1559906862575435,
          0.04387799013577108,
          0.1625611538550005,
          -0.1560421950393267,
          -0.15539516554009147,
          -0.12629275408274296,
          -0.15637788320952173,
          -0.1544408706769287,
          -0.1559241124960337,
          -0.1561721824604637,
          -0.07943042423564926,
          1.6594781196117723,
          -0.15560440866871736,
          -0.15529414419201054,
          -0.1552805597749889,
          3.3808274504211417,
          -0.15582642253176673,
          -0.15607045165311498,
          -0.1562619771471317,
          -0.14569059571728557,
          -0.15574041831516344,
          -0.15628598553407105,
          -0.15628859827070565,
          -0.02456071508680627,
          -0.15619639189302906,
          -0.15642967359553553,
          -0.15634125558382655,
          -0.15422245733127038,
          -0.13904446887626434,
          -0.1388510592991085,
          -0.1548052017073071,
          -0.1534756120092178,
          -0.15642049956951498,
          -0.15333511007365522,
          0.5182738717601836,
          -0.1522353614478593,
          -0.15493924970181017,
          -0.15566417633573096,
          -0.1392009932622509,
          -0.1551993367432774,
          0.585912708179501,
          -0.15448669383147914,
          -0.1536484544644155,
          -0.15257241978143216,
          -0.15604999733796654,
          -0.15641815914741536,
          -0.1556496011591417,
          -0.15629504174768136,
          1.658403850667752,
          -0.15146417973416662,
          -0.15595982643747155,
          -0.1563451705539755,
          0.10178728602409647,
          -0.1347967729478283,
          -0.15509479091787165,
          -0.15538325557972613,
          -0.01638956367544461,
          -0.14972038514402242,
          -0.1559794307637419,
          -0.1529767378910652,
          -0.15574159638638665,
          -0.15627405123148475,
          -0.15430113073905213,
          -0.15623638782241733,
          -0.15608087400234166,
          -0.15642973429251766,
          -0.15349159332348208,
          2.6597589669059816,
          -0.1529713071662446,
          -0.15561526690858568,
          0.5637148523928095,
          -0.15621196874143653,
          -0.200095787976057,
          -0.14413198896633853,
          -0.1449553412483788,
          -0.1448090382705131,
          -0.1443440890775586,
          -0.14476606774143339,
          -0.1446185899021353,
          -0.1445780729612478,
          0.24744453532127242,
          -0.14455576046129992,
          -0.14265320809111354,
          -0.1312939288602981,
          -0.1440621100400067,
          -0.14436046682282822,
          -0.14453791920017312,
          -0.10289251056573404,
          -0.10989212771337867,
          -0.14437819561013493,
          -0.14382632407606136,
          0.2897017503840384,
          -0.04131995414127236,
          -0.14453908580634922,
          -0.1443598124479582,
          -0.14155318843423267,
          -0.1445772432685832,
          -0.1446474627025838,
          -0.1445772042217709,
          -0.22445907404427554,
          -0.2195523099147847,
          -0.1956806211117262,
          -0.19486392913729209,
          -0.21405899911036952,
          -0.17725623641203062,
          -0.09966165941115376,
          -0.17731259835221247,
          -0.17244962512388673,
          -0.17715253501272032,
          -0.17727826334750116,
          -0.1773526278141871,
          -0.17008970462139578,
          -0.1773098538908236,
          -0.1872758351173208,
          -0.18733670157393523,
          -0.0976620704202417,
          -0.10820341636583457,
          0.1796880320512489,
          -0.08305542891234416,
          0.20452672829410548,
          -0.1190979923611862,
          -0.11833403060897094,
          -0.11002991216996344,
          -0.08392500547744866,
          -0.08519496401603248,
          -0.08581842551989917,
          -0.08573109766032778,
          -0.08343681449990502,
          -0.18284182135244634,
          -0.16691608280547077,
          -0.18189248709210729,
          -0.1425458114058295,
          -0.14310564445350835,
          -0.14294534161490557,
          -0.14281329879176005,
          -0.11631864511283284,
          -0.13482031834470778,
          -0.15706193140634467,
          -0.13576662649849222,
          -0.14763264328709622,
          -0.1454186030086694,
          -0.19072567130498966,
          -0.19118125853095883,
          -0.14223387645239777,
          -0.08214557948692396,
          -0.13074440729719816,
          -0.1324349199466367,
          -0.24440588021516182,
          0.06736020362363479,
          -0.13246932682101878,
          -0.13270260978055973,
          -0.053006938345170035,
          -0.12998030098736194,
          -0.131592479038602,
          -0.12359401774532966,
          -0.12431787483104699,
          -0.17137407261107115,
          -0.12417071836471864,
          -0.1231237149654959,
          -0.23508041646330843,
          -0.1242965040026269,
          -0.12429540537452576,
          -0.12433059975856135,
          -0.1662181473292994,
          -0.015027772206399188,
          0.09564491448776605,
          -0.12216266443854017,
          -0.12399728554130444,
          -0.1546612965522937,
          -0.14985962625786184,
          -0.14805582936693423,
          -0.14857414443394482,
          -0.1596964540131987,
          -0.14481865580639136,
          -0.14491762884787274,
          -0.15620406039190082,
          -0.15763232238897296,
          -0.15635469150927575,
          3.2243105669451397,
          0.608636907551499,
          0.30523618436359934,
          0.31350631799475887,
          0.29093908668540075,
          1.1590115766797688,
          2.164583967453197,
          0.29519166018903814,
          0.2911285993124683,
          3.9809563629802267,
          0.451829729100342,
          0.2909629407936311,
          0.29495514233611286,
          0.2910924359306221,
          8.299424790164142,
          0.29095670342450586,
          0.37375597914417147,
          0.29914060399040304,
          0.30427580099548557,
          0.2913661287744263,
          0.32843487154413226,
          0.2915557761272113,
          -0.17884315080232485,
          -0.213508780603348,
          0.39712194709643434,
          -0.018977611588825168,
          -0.14190310791795419,
          -0.14230783576024486,
          -0.14227854867252201,
          -0.09105033770529594,
          -0.09106049789971811,
          1.153694969844061,
          -0.14219446964131174,
          -0.16238632081529422
         ],
         "y": [
          -0.902547458109592,
          -1.4012518385156914,
          -1.4012901354458778,
          -0.47362794372279987,
          -2.232260635853241,
          -0.939346309712528,
          -0.939313960677292,
          -0.9393298026934755,
          -0.939318210377637,
          -0.9391776293475599,
          -0.9393183549921813,
          -0.9393217318657578,
          -0.9398124242499666,
          -0.9393203440063892,
          -0.9890482063372171,
          -0.9393345147824159,
          -0.9397976127242349,
          -0.9393170485897405,
          -0.9393155068176583,
          -0.939311709215122,
          -0.93931420785122,
          -0.9393245539570924,
          -0.9395538197008811,
          -0.9393168551844885,
          -0.9393180243254107,
          -0.9393475829519932,
          -0.9392451376032095,
          -0.9393180471299148,
          -0.9394788795054128,
          -0.9394177295312548,
          -0.9393093111287658,
          -0.939400232139498,
          -1.1470792507100311,
          -2.4858139847584444,
          -2.1064585485687517,
          -2.419093690952805,
          -2.151348948789401,
          -1.0339071328276757,
          -1.0290341612936766,
          -1.0290149975075567,
          -1.0289887047711404,
          -1.0289902011137866,
          -1.0289959777511273,
          -1.0290055935410534,
          -1.029035435543105,
          -1.0299725381377707,
          -1.0289994879973297,
          -1.029002919443418,
          -1.030167085286019,
          -1.0326525152607418,
          -1.0289929506835633,
          -1.029002302455091,
          -1.0309609696017572,
          -1.0289881798766238,
          -1.0289995439216582,
          -1.0289976950908784,
          -1.0289939768624787,
          -1.0342315505492523,
          -0.9744315907073986,
          -1.0290229841057479,
          -1.029025179009998,
          -1.0290247708902986,
          -1.0666698274777653,
          -1.0290231762277213,
          -1.0289904000064374,
          -1.0289981898803795,
          -1.029384446491158,
          -1.0290184330868426,
          -1.028992458281749,
          -1.0289855056290858,
          -1.0322232047169013,
          -1.028995423957524,
          -1.0289877632933588,
          -1.0289882598802207,
          -1.0290520028604793,
          -1.0291847754060095,
          -1.029668405374356,
          -1.029014174800769,
          -1.0290183267980488,
          -1.028988933341095,
          -1.0290095092435676,
          -1.0749354831410523,
          -1.029012457528555,
          -1.0290030005851356,
          -1.0289989876383026,
          -1.0291894779033814,
          -1.02907152760371,
          -1.042673238665632,
          -1.0290802675580202,
          -1.0290837020246884,
          -1.029062473833966,
          -1.0289903060273324,
          -1.0289879431668154,
          -1.0289941116782302,
          -1.0289904702955934,
          -1.0396746296132755,
          -1.0290539182661298,
          -1.0289962341900034,
          -1.0289928658223073,
          -1.0309464829108597,
          -1.029359901256831,
          -1.0289975968263507,
          -1.0290078796127724,
          -1.035576545032718,
          -1.0290283097618398,
          -1.0289903452766882,
          -1.029074620853971,
          -1.029003497355182,
          -1.028997757094515,
          -1.0291033105249654,
          -1.0289966255642364,
          -1.0289984313180274,
          -1.0289877629360025,
          -1.029043001129537,
          -1.220769922802541,
          -1.029063358335941,
          -1.029034826572077,
          -1.0779608597584318,
          -1.0289951721706765,
          -0.456052732305321,
          -1.3248597144950385,
          -1.324852241141922,
          -1.324854673425207,
          -1.32489127846284,
          -1.324854031894998,
          -1.3248570591818416,
          -1.3248558419222638,
          -1.3281781811962599,
          -1.324854571298283,
          -1.3249038183184518,
          -1.3250807801751106,
          -1.3248590632520985,
          -1.3248644194098917,
          -1.324854635573778,
          -1.3250998658914723,
          -1.3255980632100968,
          -1.324873416483432,
          -1.3248642068825345,
          -1.3273594129765292,
          -1.3289683172335724,
          -1.3248546706223903,
          -1.3248643997503602,
          -1.3248720625827115,
          -1.3248558169956197,
          -1.3248579266138862,
          -1.324855815822527,
          -0.6028356448036746,
          -0.6028574524374983,
          -1.6940108992272747,
          -1.6940583397275475,
          -0.7165667961400436,
          -1.6439002521480233,
          -1.6444252346993038,
          -1.6438984905675478,
          -1.64397479874184,
          -1.6439066375296063,
          -1.6439010578613278,
          -1.6438953745880178,
          -1.644021940679103,
          -1.6438940895214074,
          -0.5995685589969952,
          -0.5995507725692113,
          -1.9054592673748036,
          -1.9053872899743596,
          -1.9113781349049517,
          -1.905596249244305,
          -1.9074325422178389,
          -1.9052415682141666,
          -1.905216600995517,
          -2.4142845409605185,
          -1.8926805602988261,
          -1.8926280234821005,
          -1.8925938515039962,
          -1.8925990733386135,
          -1.892730672372401,
          -1.4917196233318935,
          -1.4920093686199918,
          -1.491728026244825,
          -2.2989879652256007,
          -2.298964629339509,
          -2.2989715311101095,
          -2.298963763755415,
          -1.255766391486167,
          -2.097620041075659,
          -2.229218657355723,
          -2.272329036456508,
          -2.063491967112673,
          -2.0635593266058074,
          -1.3036348079745073,
          -1.3036333802062776,
          -2.26126273780382,
          -2.056436727290952,
          -2.0534198507139814,
          -2.053287966640732,
          -0.19363161436126242,
          -2.0544642710260144,
          -2.053287764068391,
          -2.0532893157040584,
          -2.0580804881744372,
          -2.053346510903261,
          -2.053243795153042,
          -2.0037388387743125,
          -2.245738589663411,
          -2.17530989098186,
          -2.24573416860856,
          -2.2457379817646537,
          -0.38612409014341875,
          -2.2457379476148014,
          -2.24573791460847,
          -2.245736092898828,
          -2.149642569626921,
          -2.2479102660717225,
          -2.254230160820079,
          -2.245847879517177,
          -2.245736073730031,
          -2.2663121656383374,
          -2.3078350366191374,
          -2.3078312283357985,
          -2.3078873278419634,
          -2.3035326085674996,
          -2.247623140276176,
          -2.2470859163499664,
          -2.246781180118792,
          -2.246748514326354,
          -2.246843286812288,
          -2.296487351324701,
          -2.242403426515306,
          -2.317640377982547,
          -2.31767998296736,
          -2.317359140365916,
          -2.3524505229985557,
          -2.3934966807833424,
          -2.3176542420122184,
          -2.317357693412497,
          -2.3392634436907085,
          -2.319714125614065,
          -2.3173566242975423,
          -2.3174713292770552,
          -2.3173635303301565,
          -2.796515015591891,
          -2.3173647291099537,
          -2.320677762889252,
          -2.3178235088762,
          -2.317669230996319,
          -2.317376180917158,
          -2.3176631802115937,
          -2.317395595120843,
          -2.12353477994602,
          -1.3304290197847939,
          -2.319743568780556,
          -2.3324894650584267,
          -2.192508913185406,
          -2.192463569575645,
          -2.1924596459522556,
          -2.195943829478132,
          -2.1959441347231405,
          -1.3106588843558231,
          -2.0895382755328673,
          -2.2508885218168286
         ],
         "z": [
          0.15451553826015604,
          0.059199512564225364,
          0.05919124752771749,
          -0.03203346186993432,
          0.5448571226736647,
          0.05756385323892218,
          0.057571465946254695,
          0.057570851931431695,
          0.05758273813644299,
          0.05650536670904137,
          0.0575817392901244,
          0.05758254901179921,
          0.057435620050671723,
          0.057581335285526204,
          0.04749680952011566,
          0.05756211204298603,
          0.05747625339764443,
          0.057578453340959485,
          0.057579784337613855,
          0.05757860667535139,
          0.057578112486100556,
          0.057571620396663754,
          0.057504187995817066,
          0.05758203525618865,
          0.05758037838197072,
          0.05756496672651761,
          0.05726102912470497,
          0.05758211309283148,
          0.05746544370316219,
          0.05749234587669256,
          0.057585083312148705,
          0.057542419377444115,
          0.08353745991208504,
          0.5657916865158779,
          0.3480325401378013,
          0.5131549783830582,
          0.33554953879317273,
          -0.02327843952742912,
          -0.02224566000886419,
          -0.022232410903901628,
          -0.02222256385966982,
          -0.022231053933300955,
          -0.022226002083907195,
          -0.022251352263270772,
          -0.022233828340454096,
          -0.024040040819198052,
          -0.02226526558960352,
          -0.022230112790340487,
          -0.026549227667814163,
          -0.028880646922823036,
          -0.022230256943471277,
          -0.022243513122947138,
          -0.022639761819734247,
          -0.022223368911737977,
          -0.02226521668203499,
          -0.022232281189153318,
          -0.022227216058512644,
          -0.02326265855812029,
          -0.0699330059869724,
          -0.02223614367243767,
          -0.022242797998319304,
          -0.022243154911716165,
          -0.0964407688684471,
          -0.022231152871877505,
          -0.022229956593119993,
          -0.022224659779554387,
          -0.022410885779510944,
          -0.022233693301768852,
          -0.022224868071624063,
          -0.022225713699657573,
          -0.024751087142903656,
          -0.022226486393673188,
          -0.022222264677297997,
          -0.0222241777644997,
          -0.022263280625099642,
          -0.022585504366576175,
          -0.02252694300347026,
          -0.022255165150433742,
          -0.022284364397055903,
          -0.02222231773048356,
          -0.02228865359015001,
          -0.03133878849629823,
          -0.022312868466966305,
          -0.022253619884034927,
          -0.0222379271490536,
          -0.022581391886062854,
          -0.022238891769653716,
          -0.037046801901958776,
          -0.022253695090350235,
          -0.022271997529778126,
          -0.02229882570929781,
          -0.022230426318256842,
          -0.022222498833436834,
          -0.022238887185264133,
          -0.022224924011757685,
          -0.061425293043361126,
          -0.02232472638435882,
          -0.022231672333781417,
          -0.02222349127776824,
          -0.02774314722842433,
          -0.022657741271638332,
          -0.022250843531210415,
          -0.02224305430576135,
          -0.024497810916560923,
          -0.022367060034469043,
          -0.022231999588107183,
          -0.022288202761719673,
          -0.022235609075130922,
          -0.02222444599265793,
          -0.02225484928515166,
          -0.02222543555115307,
          -0.022228679147090088,
          -0.02222226336614689,
          -0.022280798487177268,
          -0.060274570353275915,
          -0.022289788719634933,
          -0.02223436090459772,
          -0.03196177811218678,
          -0.02222617072424005,
          0.0058216305922578655,
          0.23306859112859746,
          0.23308603540169065,
          0.23308307929499175,
          0.2330774395314381,
          0.2330820347470216,
          0.23307912973153352,
          0.23307806520009453,
          0.22474164515519632,
          0.2330774009111316,
          0.2330412499166876,
          0.23281018586312616,
          0.23306694345336132,
          0.23307431331790882,
          0.23307701021074625,
          0.23217740868415127,
          0.23239875181507955,
          0.23307587976815794,
          0.23306233842878338,
          0.22369000537255712,
          0.23130322832295988,
          0.2330770408618499,
          0.23307429612503575,
          0.23301251634351286,
          0.23307804340096783,
          0.2330798883278919,
          0.23307804237506227,
          0.02827778713437184,
          0.028170872469963838,
          0.1560213275473917,
          0.1560092292555953,
          -0.002945069827087558,
          0.22196021585295211,
          0.220292910445091,
          0.22196124744734014,
          0.22186239907657426,
          0.22195872665176122,
          0.22196081330137257,
          0.22196173761539764,
          0.2218157443298942,
          0.22196061378459514,
          -0.014052988475469513,
          -0.014053939871242383,
          0.3244342279461013,
          0.3246606485005135,
          0.31900033747839224,
          0.32412533095744206,
          0.31793171308717494,
          0.3248853806777154,
          0.3248650464885181,
          0.4248058471490891,
          0.21924299896375182,
          0.21926457285481557,
          0.219274074463505,
          0.21927280019344972,
          0.21923859569485663,
          0.2502633631057072,
          0.24994482580572397,
          0.2502432218466891,
          0.37895171850254517,
          0.37896120596268457,
          0.3789585178954225,
          0.37895455446821624,
          0.08145433007772791,
          0.3514716799091614,
          0.3100454379338464,
          0.295796146407504,
          0.4742210628385077,
          0.47418029994722555,
          0.14395959068753508,
          0.14396959522216782,
          0.3053757907947623,
          0.39596162208389135,
          0.39665634903545943,
          0.39667701184101645,
          0.15871576457046094,
          0.39236112053026845,
          0.39667775508402664,
          0.39668317472253967,
          0.39552361513237805,
          0.3966297216267162,
          0.39665242512632226,
          0.525036419291796,
          0.4727064265700165,
          0.873668016649272,
          0.47270256021975815,
          0.4726796375645587,
          0.23472359261132686,
          0.4727058650784967,
          0.47270583621343093,
          0.4727063865310859,
          0.6123034532642125,
          0.4705443053588781,
          0.4688906609147831,
          0.47267243182571844,
          0.4726989287476721,
          0.44341253490647076,
          0.3673530853295429,
          0.36731224432557513,
          0.36733113229167275,
          0.28537146542196035,
          0.35156213870857334,
          0.35149449613782796,
          0.35170731603493627,
          0.3517350145936075,
          0.35171876108378164,
          0.2959207410518964,
          0.34739327759466865,
          0.3912223313658537,
          0.3910425019191408,
          0.39150554687238526,
          0.37665223830600103,
          0.35949775959094016,
          0.39144880156573086,
          0.39150111986374064,
          0.3118186184058552,
          0.38821310439490053,
          0.39150468615437123,
          0.39143030728353884,
          0.39150268772195335,
          0.2746841132841103,
          0.3915058795517623,
          0.3900846957922839,
          0.39138248503995143,
          0.391247564225652,
          0.39149821097308696,
          0.39070640774730026,
          0.3914964935695572,
          0.34206243077824167,
          0.08673943792272619,
          0.3210714694528847,
          0.33203580762706036,
          0.42669196639506984,
          0.42669512288407363,
          0.42669395761853174,
          0.4260011837154294,
          0.42600145066170303,
          0.11698542188976527,
          0.4335627666226764,
          0.33384940537406105
         ]
        },
        {
         "customdata": [
          [
           "TRC10",
           989988713439.649,
           "990000000000"
          ]
         ],
         "hovertemplate": "<b>%{hovertext}</b><br><br>class=%{marker.color}<br>PC 1=%{x}<br>PC 2=%{y}<br>PC 3=%{z}<br>Algorithm=%{customdata[0]}<br>TotalCoinsMined=%{customdata[1]}<br>TotalCoinSupply=%{customdata[2]}<extra></extra>",
         "hovertext": [
          "BitTorrent"
         ],
         "legendgroup": "2",
         "marker": {
          "color": [
           2
          ],
          "coloraxis": "coloraxis",
          "symbol": "square"
         },
         "mode": "markers",
         "name": "2",
         "scene": "scene",
         "showlegend": true,
         "type": "scatter3d",
         "x": [
          35.42273475509366
         ],
         "y": [
          1.6568342288813116
         ],
         "z": [
          -0.8964189142839196
         ]
        },
        {
         "customdata": [
          [
           "SHA-256 + Hive",
           638382332.208514,
           "840000000"
          ],
          [
           "Proof-of-BibleHash",
           1772091549.88818,
           "5200000000"
          ],
          [
           "Proof-of-Authority",
           204479039,
           "252460800"
          ],
          [
           "Leased POS",
           100000000,
           "100000000"
          ],
          [
           "ECC 256K1",
           1000000000,
           "1000000000"
          ]
         ],
         "hovertemplate": "<b>%{hovertext}</b><br><br>class=%{marker.color}<br>PC 1=%{x}<br>PC 2=%{y}<br>PC 3=%{z}<br>Algorithm=%{customdata[0]}<br>TotalCoinsMined=%{customdata[1]}<br>TotalCoinSupply=%{customdata[2]}<extra></extra>",
         "hovertext": [
          "LitecoinCash",
          "BiblePay",
          "Poa Network",
          "Waves",
          "Acute Angle Cloud"
         ],
         "legendgroup": "3",
         "marker": {
          "color": [
           3,
           3,
           3,
           3,
           3
          ],
          "coloraxis": "coloraxis",
          "symbol": "x"
         },
         "mode": "markers",
         "name": "3",
         "scene": "scene",
         "showlegend": true,
         "type": "scatter3d",
         "x": [
          -0.3268076667619793,
          -0.20696902374039436,
          -0.42681151878381063,
          -0.45369321014109826,
          -0.2735370408523714
         ],
         "y": [
          2.6897137512499274,
          3.955301962885054,
          2.348550935316648,
          3.796059001753691,
          4.306267331535241
         ],
         "z": [
          14.90674133443192,
          13.021668411981658,
          19.899871246652783,
          13.163679190035825,
          9.349669309362207
         ]
        }
       ],
       "layout": {
        "coloraxis": {
         "colorbar": {
          "title": {
           "text": "class"
          }
         },
         "colorscale": [
          [
           0,
           "#0d0887"
          ],
          [
           0.1111111111111111,
           "#46039f"
          ],
          [
           0.2222222222222222,
           "#7201a8"
          ],
          [
           0.3333333333333333,
           "#9c179e"
          ],
          [
           0.4444444444444444,
           "#bd3786"
          ],
          [
           0.5555555555555556,
           "#d8576b"
          ],
          [
           0.6666666666666666,
           "#ed7953"
          ],
          [
           0.7777777777777778,
           "#fb9f3a"
          ],
          [
           0.8888888888888888,
           "#fdca26"
          ],
          [
           1,
           "#f0f921"
          ]
         ]
        },
        "legend": {
         "title": {
          "text": "class"
         },
         "tracegroupgap": 0,
         "x": 0,
         "y": 1
        },
        "margin": {
         "t": 60
        },
        "scene": {
         "domain": {
          "x": [
           0,
           1
          ],
          "y": [
           0,
           1
          ]
         },
         "xaxis": {
          "title": {
           "text": "PC 1"
          }
         },
         "yaxis": {
          "title": {
           "text": "PC 2"
          }
         },
         "zaxis": {
          "title": {
           "text": "PC 3"
          }
         }
        },
        "template": {
         "data": {
          "bar": [
           {
            "error_x": {
             "color": "#2a3f5f"
            },
            "error_y": {
             "color": "#2a3f5f"
            },
            "marker": {
             "line": {
              "color": "#E5ECF6",
              "width": 0.5
             }
            },
            "type": "bar"
           }
          ],
          "barpolar": [
           {
            "marker": {
             "line": {
              "color": "#E5ECF6",
              "width": 0.5
             }
            },
            "type": "barpolar"
           }
          ],
          "carpet": [
           {
            "aaxis": {
             "endlinecolor": "#2a3f5f",
             "gridcolor": "white",
             "linecolor": "white",
             "minorgridcolor": "white",
             "startlinecolor": "#2a3f5f"
            },
            "baxis": {
             "endlinecolor": "#2a3f5f",
             "gridcolor": "white",
             "linecolor": "white",
             "minorgridcolor": "white",
             "startlinecolor": "#2a3f5f"
            },
            "type": "carpet"
           }
          ],
          "choropleth": [
           {
            "colorbar": {
             "outlinewidth": 0,
             "ticks": ""
            },
            "type": "choropleth"
           }
          ],
          "contour": [
           {
            "colorbar": {
             "outlinewidth": 0,
             "ticks": ""
            },
            "colorscale": [
             [
              0,
              "#0d0887"
             ],
             [
              0.1111111111111111,
              "#46039f"
             ],
             [
              0.2222222222222222,
              "#7201a8"
             ],
             [
              0.3333333333333333,
              "#9c179e"
             ],
             [
              0.4444444444444444,
              "#bd3786"
             ],
             [
              0.5555555555555556,
              "#d8576b"
             ],
             [
              0.6666666666666666,
              "#ed7953"
             ],
             [
              0.7777777777777778,
              "#fb9f3a"
             ],
             [
              0.8888888888888888,
              "#fdca26"
             ],
             [
              1,
              "#f0f921"
             ]
            ],
            "type": "contour"
           }
          ],
          "contourcarpet": [
           {
            "colorbar": {
             "outlinewidth": 0,
             "ticks": ""
            },
            "type": "contourcarpet"
           }
          ],
          "heatmap": [
           {
            "colorbar": {
             "outlinewidth": 0,
             "ticks": ""
            },
            "colorscale": [
             [
              0,
              "#0d0887"
             ],
             [
              0.1111111111111111,
              "#46039f"
             ],
             [
              0.2222222222222222,
              "#7201a8"
             ],
             [
              0.3333333333333333,
              "#9c179e"
             ],
             [
              0.4444444444444444,
              "#bd3786"
             ],
             [
              0.5555555555555556,
              "#d8576b"
             ],
             [
              0.6666666666666666,
              "#ed7953"
             ],
             [
              0.7777777777777778,
              "#fb9f3a"
             ],
             [
              0.8888888888888888,
              "#fdca26"
             ],
             [
              1,
              "#f0f921"
             ]
            ],
            "type": "heatmap"
           }
          ],
          "heatmapgl": [
           {
            "colorbar": {
             "outlinewidth": 0,
             "ticks": ""
            },
            "colorscale": [
             [
              0,
              "#0d0887"
             ],
             [
              0.1111111111111111,
              "#46039f"
             ],
             [
              0.2222222222222222,
              "#7201a8"
             ],
             [
              0.3333333333333333,
              "#9c179e"
             ],
             [
              0.4444444444444444,
              "#bd3786"
             ],
             [
              0.5555555555555556,
              "#d8576b"
             ],
             [
              0.6666666666666666,
              "#ed7953"
             ],
             [
              0.7777777777777778,
              "#fb9f3a"
             ],
             [
              0.8888888888888888,
              "#fdca26"
             ],
             [
              1,
              "#f0f921"
             ]
            ],
            "type": "heatmapgl"
           }
          ],
          "histogram": [
           {
            "marker": {
             "colorbar": {
              "outlinewidth": 0,
              "ticks": ""
             }
            },
            "type": "histogram"
           }
          ],
          "histogram2d": [
           {
            "colorbar": {
             "outlinewidth": 0,
             "ticks": ""
            },
            "colorscale": [
             [
              0,
              "#0d0887"
             ],
             [
              0.1111111111111111,
              "#46039f"
             ],
             [
              0.2222222222222222,
              "#7201a8"
             ],
             [
              0.3333333333333333,
              "#9c179e"
             ],
             [
              0.4444444444444444,
              "#bd3786"
             ],
             [
              0.5555555555555556,
              "#d8576b"
             ],
             [
              0.6666666666666666,
              "#ed7953"
             ],
             [
              0.7777777777777778,
              "#fb9f3a"
             ],
             [
              0.8888888888888888,
              "#fdca26"
             ],
             [
              1,
              "#f0f921"
             ]
            ],
            "type": "histogram2d"
           }
          ],
          "histogram2dcontour": [
           {
            "colorbar": {
             "outlinewidth": 0,
             "ticks": ""
            },
            "colorscale": [
             [
              0,
              "#0d0887"
             ],
             [
              0.1111111111111111,
              "#46039f"
             ],
             [
              0.2222222222222222,
              "#7201a8"
             ],
             [
              0.3333333333333333,
              "#9c179e"
             ],
             [
              0.4444444444444444,
              "#bd3786"
             ],
             [
              0.5555555555555556,
              "#d8576b"
             ],
             [
              0.6666666666666666,
              "#ed7953"
             ],
             [
              0.7777777777777778,
              "#fb9f3a"
             ],
             [
              0.8888888888888888,
              "#fdca26"
             ],
             [
              1,
              "#f0f921"
             ]
            ],
            "type": "histogram2dcontour"
           }
          ],
          "mesh3d": [
           {
            "colorbar": {
             "outlinewidth": 0,
             "ticks": ""
            },
            "type": "mesh3d"
           }
          ],
          "parcoords": [
           {
            "line": {
             "colorbar": {
              "outlinewidth": 0,
              "ticks": ""
             }
            },
            "type": "parcoords"
           }
          ],
          "pie": [
           {
            "automargin": true,
            "type": "pie"
           }
          ],
          "scatter": [
           {
            "marker": {
             "colorbar": {
              "outlinewidth": 0,
              "ticks": ""
             }
            },
            "type": "scatter"
           }
          ],
          "scatter3d": [
           {
            "line": {
             "colorbar": {
              "outlinewidth": 0,
              "ticks": ""
             }
            },
            "marker": {
             "colorbar": {
              "outlinewidth": 0,
              "ticks": ""
             }
            },
            "type": "scatter3d"
           }
          ],
          "scattercarpet": [
           {
            "marker": {
             "colorbar": {
              "outlinewidth": 0,
              "ticks": ""
             }
            },
            "type": "scattercarpet"
           }
          ],
          "scattergeo": [
           {
            "marker": {
             "colorbar": {
              "outlinewidth": 0,
              "ticks": ""
             }
            },
            "type": "scattergeo"
           }
          ],
          "scattergl": [
           {
            "marker": {
             "colorbar": {
              "outlinewidth": 0,
              "ticks": ""
             }
            },
            "type": "scattergl"
           }
          ],
          "scattermapbox": [
           {
            "marker": {
             "colorbar": {
              "outlinewidth": 0,
              "ticks": ""
             }
            },
            "type": "scattermapbox"
           }
          ],
          "scatterpolar": [
           {
            "marker": {
             "colorbar": {
              "outlinewidth": 0,
              "ticks": ""
             }
            },
            "type": "scatterpolar"
           }
          ],
          "scatterpolargl": [
           {
            "marker": {
             "colorbar": {
              "outlinewidth": 0,
              "ticks": ""
             }
            },
            "type": "scatterpolargl"
           }
          ],
          "scatterternary": [
           {
            "marker": {
             "colorbar": {
              "outlinewidth": 0,
              "ticks": ""
             }
            },
            "type": "scatterternary"
           }
          ],
          "surface": [
           {
            "colorbar": {
             "outlinewidth": 0,
             "ticks": ""
            },
            "colorscale": [
             [
              0,
              "#0d0887"
             ],
             [
              0.1111111111111111,
              "#46039f"
             ],
             [
              0.2222222222222222,
              "#7201a8"
             ],
             [
              0.3333333333333333,
              "#9c179e"
             ],
             [
              0.4444444444444444,
              "#bd3786"
             ],
             [
              0.5555555555555556,
              "#d8576b"
             ],
             [
              0.6666666666666666,
              "#ed7953"
             ],
             [
              0.7777777777777778,
              "#fb9f3a"
             ],
             [
              0.8888888888888888,
              "#fdca26"
             ],
             [
              1,
              "#f0f921"
             ]
            ],
            "type": "surface"
           }
          ],
          "table": [
           {
            "cells": {
             "fill": {
              "color": "#EBF0F8"
             },
             "line": {
              "color": "white"
             }
            },
            "header": {
             "fill": {
              "color": "#C8D4E3"
             },
             "line": {
              "color": "white"
             }
            },
            "type": "table"
           }
          ]
         },
         "layout": {
          "annotationdefaults": {
           "arrowcolor": "#2a3f5f",
           "arrowhead": 0,
           "arrowwidth": 1
          },
          "autotypenumbers": "strict",
          "coloraxis": {
           "colorbar": {
            "outlinewidth": 0,
            "ticks": ""
           }
          },
          "colorscale": {
           "diverging": [
            [
             0,
             "#8e0152"
            ],
            [
             0.1,
             "#c51b7d"
            ],
            [
             0.2,
             "#de77ae"
            ],
            [
             0.3,
             "#f1b6da"
            ],
            [
             0.4,
             "#fde0ef"
            ],
            [
             0.5,
             "#f7f7f7"
            ],
            [
             0.6,
             "#e6f5d0"
            ],
            [
             0.7,
             "#b8e186"
            ],
            [
             0.8,
             "#7fbc41"
            ],
            [
             0.9,
             "#4d9221"
            ],
            [
             1,
             "#276419"
            ]
           ],
           "sequential": [
            [
             0,
             "#0d0887"
            ],
            [
             0.1111111111111111,
             "#46039f"
            ],
            [
             0.2222222222222222,
             "#7201a8"
            ],
            [
             0.3333333333333333,
             "#9c179e"
            ],
            [
             0.4444444444444444,
             "#bd3786"
            ],
            [
             0.5555555555555556,
             "#d8576b"
            ],
            [
             0.6666666666666666,
             "#ed7953"
            ],
            [
             0.7777777777777778,
             "#fb9f3a"
            ],
            [
             0.8888888888888888,
             "#fdca26"
            ],
            [
             1,
             "#f0f921"
            ]
           ],
           "sequentialminus": [
            [
             0,
             "#0d0887"
            ],
            [
             0.1111111111111111,
             "#46039f"
            ],
            [
             0.2222222222222222,
             "#7201a8"
            ],
            [
             0.3333333333333333,
             "#9c179e"
            ],
            [
             0.4444444444444444,
             "#bd3786"
            ],
            [
             0.5555555555555556,
             "#d8576b"
            ],
            [
             0.6666666666666666,
             "#ed7953"
            ],
            [
             0.7777777777777778,
             "#fb9f3a"
            ],
            [
             0.8888888888888888,
             "#fdca26"
            ],
            [
             1,
             "#f0f921"
            ]
           ]
          },
          "colorway": [
           "#636efa",
           "#EF553B",
           "#00cc96",
           "#ab63fa",
           "#FFA15A",
           "#19d3f3",
           "#FF6692",
           "#B6E880",
           "#FF97FF",
           "#FECB52"
          ],
          "font": {
           "color": "#2a3f5f"
          },
          "geo": {
           "bgcolor": "white",
           "lakecolor": "white",
           "landcolor": "#E5ECF6",
           "showlakes": true,
           "showland": true,
           "subunitcolor": "white"
          },
          "hoverlabel": {
           "align": "left"
          },
          "hovermode": "closest",
          "mapbox": {
           "style": "light"
          },
          "paper_bgcolor": "white",
          "plot_bgcolor": "#E5ECF6",
          "polar": {
           "angularaxis": {
            "gridcolor": "white",
            "linecolor": "white",
            "ticks": ""
           },
           "bgcolor": "#E5ECF6",
           "radialaxis": {
            "gridcolor": "white",
            "linecolor": "white",
            "ticks": ""
           }
          },
          "scene": {
           "xaxis": {
            "backgroundcolor": "#E5ECF6",
            "gridcolor": "white",
            "gridwidth": 2,
            "linecolor": "white",
            "showbackground": true,
            "ticks": "",
            "zerolinecolor": "white"
           },
           "yaxis": {
            "backgroundcolor": "#E5ECF6",
            "gridcolor": "white",
            "gridwidth": 2,
            "linecolor": "white",
            "showbackground": true,
            "ticks": "",
            "zerolinecolor": "white"
           },
           "zaxis": {
            "backgroundcolor": "#E5ECF6",
            "gridcolor": "white",
            "gridwidth": 2,
            "linecolor": "white",
            "showbackground": true,
            "ticks": "",
            "zerolinecolor": "white"
           }
          },
          "shapedefaults": {
           "line": {
            "color": "#2a3f5f"
           }
          },
          "ternary": {
           "aaxis": {
            "gridcolor": "white",
            "linecolor": "white",
            "ticks": ""
           },
           "baxis": {
            "gridcolor": "white",
            "linecolor": "white",
            "ticks": ""
           },
           "bgcolor": "#E5ECF6",
           "caxis": {
            "gridcolor": "white",
            "linecolor": "white",
            "ticks": ""
           }
          },
          "title": {
           "x": 0.05
          },
          "xaxis": {
           "automargin": true,
           "gridcolor": "white",
           "linecolor": "white",
           "ticks": "",
           "title": {
            "standoff": 15
           },
           "zerolinecolor": "white",
           "zerolinewidth": 2
          },
          "yaxis": {
           "automargin": true,
           "gridcolor": "white",
           "linecolor": "white",
           "ticks": "",
           "title": {
            "standoff": 15
           },
           "zerolinecolor": "white",
           "zerolinewidth": 2
          }
         }
        },
        "width": 800
       }
      },
      "text/html": [
       "<div>                            <div id=\"899cefd6-b3f8-42c5-b875-fd24ed128f23\" class=\"plotly-graph-div\" style=\"height:525px; width:800px;\"></div>            <script type=\"text/javascript\">                require([\"plotly\"], function(Plotly) {                    window.PLOTLYENV=window.PLOTLYENV || {};                                    if (document.getElementById(\"899cefd6-b3f8-42c5-b875-fd24ed128f23\")) {                    Plotly.newPlot(                        \"899cefd6-b3f8-42c5-b875-fd24ed128f23\",                        [{\"customdata\": [[\"XEVAN\", 198938144.363399, \"500000000\"], [\"XEVAN\", 6787405.18013774, \"50000000\"], [\"XEVAN\", 10904963.0923455, \"21000000\"], [\"XEVAN\", 208515864.36734298, \"70000000000\"], [\"XEVAN\", 419275.38, \"60000000\"], [\"X16R\", 36923120.6205934, \"82546564\"], [\"X16R\", 4403800.0, \"45000000\"], [\"X15\", 25542535.5881841, \"350000000\"], [\"X15\", 13530556.4180753, \"26298000\"], [\"X15\", 40659020000.0, \"90000000000\"], [\"X15\", 30284196.369129, \"90000000\"], [\"X14\", 100000000.0, \"100000000\"], [\"X13\", 33093725.4123502, \"0\"], [\"X13\", 21917018.0492836, \"18898187.6216583\"], [\"X13\", 183534024.88980702, \"210000000\"], [\"X13\", 7096834.0, \"10000000\"], [\"X13\", 2022464.886973, \"12000000\"], [\"X13\", 140777.753365, \"120000\"], [\"X13\", 15156364.3306548, \"0\"], [\"X13\", 230298925.0, \"800000000\"], [\"X13\", 66087096.20771079, \"0\"], [\"X13\", 21268092.0, \"30000000\"], [\"X13\", 23042604.0, \"50000000\"], [\"X13\", 92192822723.0, \"850000000\"], [\"X13\", 2500124.0, \"2500124\"], [\"X13\", 5000000.0, \"200000000\"], [\"X13\", 14524851.4827, \"14524851.4827\"], [\"X13\", 29279424622.5027, \"314159265359\"], [\"X11\", 201364327.427503, \"208000000\"], [\"X11\", 1513704.0, \"0\"], [\"X11\", 17209923728.3266, \"0\"], [\"X11\", 657636.34549789, \"3000000\"], [\"X11\", 7262402.04264803, \"27000000\"], [\"X11\", 16901016.6609755, \"16504333\"], [\"X11\", 814671.0, \"5000000\"], [\"X11\", 15563873.0, \"50000000\"], [\"X11\", 657000000.0, \"657000000\"], [\"X11\", 12569262.535930699, \"9507271\"], [\"X11\", 2689812.0, \"20000000\"], [\"X11\", 19269509.94, \"55000000\"], [\"X11\", 110630387.85047099, \"110000000\"], [\"X11\", 13162749.085802699, \"100000000\"], [\"X11\", 10996318099.0, \"26550000000\"], [\"X11\", 134554941.15118998, \"75000000\"], [\"X11\", 10407269.788186802, \"384000000\"], [\"X11\", 436353624.49031204, \"500000000\"], [\"X11\", 4504639.0, \"100000000\"], [\"X11\", 30771125.976086702, \"50000000\"], [\"X11\", 242574105.22384, \"0\"], [\"X11\", 329200.01639, \"0\"], [\"X11\", 17171382.0, \"40000000\"], [\"X11\", 24387724.5010828, \"139000000\"], [\"X11\", 121665451.643876, \"500000000\"], [\"X11\", 21521322.0099142, \"100000000\"], [\"X11\", 494240666.028571, \"1000000000\"], [\"X11\", 5659096.95728771, \"9354000\"], [\"X11\", 23775960.3207514, \"30000000\"], [\"X11\", 3680297312.25584, \"3980000000\"], [\"X11\", 17650913.974345602, \"22000000\"], [\"X11\", 3853326.77707314, \"3853326.77707314\"], [\"X11\", 11359634.6460345, \"8148139\"], [\"X11\", 50707661.74935179, \"0\"], [\"X11\", 1177.0, \"1000\"], [\"X11\", 1678520090.7713, \"0\"], [\"X11\", 4407252.0, \"21000000\"], [\"X11\", 9031294.37563393, \"22000000\"], [\"X11\", 715659.44237941, \"19700000\"], [\"X11\", 264678458.28861898, \"1500000000\"], [\"X11\", 45174214.1078625, \"50000000\"], [\"X11\", 18342813.0, \"30000000\"], [\"X11\", 3521630.0, \"25000000\"], [\"X11\", 75590369.0, \"76500000\"], [\"X11\", 6950831.0970606, \"5500000\"], [\"X11\", 2167827.1, \"25000000\"], [\"X11\", 7256580.0, \"62000000\"], [\"X11\", 1431851.00002479, \"10000000\"], [\"X11\", 15420234.5389336, \"420000000\"], [\"X11\", 6069482.07721352, \"60000000\"], [\"X11\", 38198594.8342105, \"144000000\"], [\"VeChainThor Authority\", 55454734800.0, \"86712634466\"], [\"VBFT\", 650848625.0, \"1000000000\"], [\"Tribus\", 1859475.60962, \"36500000\"], [\"SkunkHash v2 Raptor\", 107972766.0, \"137500000\"], [\"Skein\", 47331802.477423795, \"100000000\"], [\"Skein\", 11661844.4720073, \"72000000\"], [\"Skein\", 6804362.0, \"100000000\"], [\"Skein\", 2985970.9999482003, \"69000000\"], [\"Shabal256\", 1813033920.0, \"2158812800\"], [\"Semux BFT consensus\", 1231147.0, \"100000000\"], [\"Scrypt\", 8377873.0, \"144000000\"], [\"Scrypt\", 11821728.0, \"20000000\"], [\"Scrypt\", 308179.0, \"21933333\"], [\"Scrypt\", 10914418.0, \"650659833\"], [\"Scrypt\", 20244023.640728, \"33000000\"], [\"Scrypt\", 14777549.394076401, \"21000000\"], [\"Scrypt\", 11080722.3769581, \"28000000\"], [\"Scrypt\", 33813143821.8337, \"32514916898\"], [\"Scrypt\", 18135099.992959, \"16768584\"], [\"Scrypt\", 23965372.0, \"500000000\"], [\"Scrypt\", 30825710000.0296, \"74800000000\"], [\"Scrypt\", 3315789.0, \"3315789\"], [\"Scrypt\", 3472983.0, \"13000000\"], [\"Scrypt\", 17089600.0, \"38540000 \"], [\"Scrypt\", 20546528.2059957, \"84000000\"], [\"Scrypt\", 2449577.41533168, \"42000000\"], [\"Scrypt\", 8094818.38874615, \"110000000\"], [\"Scrypt\", 25330252.323000003, \"100000000\"], [\"Scrypt\", 110976977.29338, \"210000000\"], [\"Scrypt\", 3783270.0, \"30000000\"], [\"Scrypt\", 38706809.466534995, \"26000000\"], [\"Scrypt\", 4911500269.41, \"50000000000\"], [\"Scrypt\", 8419402.321, \"150000000\"], [\"Scrypt\", 10200000000.0, \"10200000000\"], [\"Scrypt\", 7630000.0154, \"44000000\"], [\"Scrypt\", 1140734.91680375, \"15733333\"], [\"Scrypt\", 48459472454.0, \"25000000000\"], [\"Scrypt\", 77872059787.8998, \"92000000000\"], [\"Scrypt\", 2149688.0, \"21000000\"], [\"Scrypt\", 16362544.992, \"14788275.991\"], [\"Scrypt\", 21599339.6728, \"84000000\"], [\"Scrypt\", 5573908.0, \"50000000\"], [\"Scrypt\", 9880502.37178894, \"30000000\"], [\"Scrypt\", 267297676.3125, \"500000000\"], [\"Scrypt\", 1182153.5, \"5000000\"], [\"Scrypt\", 845637.81347436, \"3000000\"], [\"Scrypt\", 49933217.7511508, \"70000000\"], [\"Scrypt\", 1055184902.04, \"532000000\"], [\"Scrypt\", 25570013.1348022, \"124000000\"], [\"Scrypt\", 234846265.78215697, \"232000000\"], [\"Scrypt\", 9399342.52839847, \"30000000\"], [\"Scrypt\", 25000000000.0, \"25000000000\"], [\"Scrypt\", 2504486.227718, \"4000000\"], [\"Scrypt\", 591022748.0, \"900000000\"], [\"Scrypt\", 1404157529.46026, \"5121951220\"], [\"Scrypt\", 63613903.880998, \"250000000\"], [\"Scrypt\", 2922613.96424908, \"55000000\"], [\"Scrypt\", 36050365.0, \"34426423\"], [\"Scrypt\", 5368934.0, \"21212121\"], [\"Scrypt\", 1148324.0, \"28600000\"], [\"Scrypt\", 500000.0, \"1000000000\"], [\"Scrypt\", 21491213.4644496, \"100000000\"], [\"Scrypt\", 110000000.0, \"110000000\"], [\"Scrypt\", 1000000000.0, \"1000000000\"], [\"Scrypt\", 14931046.1546605, \"250000000\"], [\"Scrypt\", 1059954080.4343901, \"18000000000\"], [\"Scrypt\", 295135466.361878, \"2000000000\"], [\"Scrypt\", 18663297.348979898, \"17405891.19707116\"], [\"Scrypt\", 107763867.917675, \"260000000\"], [\"Scrypt\", 19539588.0, \"48252000\"], [\"Scrypt\", 128326.99633965, \"1000000\"], [\"Scrypt\", 4200000.0, \"4200000\"], [\"Scrypt\", 8240763.49472804, \"15600000\"], [\"Scrypt\", 1042012.45227735, \"16880000000\"], [\"Scrypt\", 9044930943.24243, \"50000000000\"], [\"Scrypt\", 5403802.49590733, \"1000000000\"], [\"Scrypt\", 21358764.0, \"105000000\"], [\"Scrypt\", 103621876.167052, \"160000000\"], [\"Scrypt\", 1039116.65144562, \"1000000\"], [\"Scrypt\", 11604722.0, \"20000000\"], [\"Scrypt\", 404316475.545465, \"400000000\"], [\"Scrypt\", 252005564.19257003, \"300000000\"], [\"Scrypt\", 10000244677.7002, \"10008835635\"], [\"Scrypt\", 27184490.3918338, \"0\"], [\"Scrypt\", 174646113.934655, \"500000000\"], [\"Scrypt\", 1467841.0, \"0\"], [\"Scrypt\", 980732528.97974, \"10500000000\"], [\"Scrypt\", 8998743.2411911, \"42000000\"], [\"Scrypt\", 40477042.0, \"221052632\"], [\"Scrypt\", 42579.476901, \"500000\"], [\"Scrypt\", 60000000.0, \"15000000\"], [\"Scrypt\", 100000000.0, \"100000000\"], [\"Scrypt\", 21293925445.4969, \"0\"], [\"Scrypt\", 16180000.0, \"16180000\"], [\"Scrypt\", 89266933.684704, \"120000000\"], [\"Scrypt\", 461829905.32892996, \"0\"], [\"Scrypt\", 24924986.0946492, \"900000000\"], [\"Scrypt\", 147990237.978331, \"1000000000\"], [\"Scrypt\", 1098952592.6, \"1600000000\"], [\"Scrypt\", 50235211.141939, \"100000000\"], [\"Scrypt\", 32021108.413669605, \"0\"], [\"Scrypt\", 222677226.014206, \"420000000\"], [\"Scrypt\", 73959274.625, \"98000000\"], [\"Scrypt\", 29315567169.0888, \"0\"], [\"Scrypt\", 39999997299.8568, \"40000000000\"], [\"Scrypt\", 41.99995383, \"42\"], [\"Scrypt\", 123062801.128773, \"0\"], [\"Scrypt\", 169598616.0, \"0\"], [\"Scrypt\", 665200057.0, \"3100000000\"], [\"Scrypt\", 3537150.0, \"200000000\"], [\"Scrypt\", 15318887081.0146, \"35000000000\"], [\"Scrypt\", 2581970.0, \"21000000\"], [\"Scrypt\", 100000000.0, \"100000000\"], [\"Scrypt\", 4526324.0, \"44333333\"], [\"Scrypt\", 813092338.575672, \"2000000000\"], [\"Scrypt\", 1939889.0, \"0\"], [\"Scrypt\", 43165500.0, \"90000000\"], [\"Scrypt\", 9631199.99309942, \"0\"], [\"Scrypt\", 20576532.0, \"54256119\"], [\"Scrypt\", 635423900.0, \"0\"], [\"Scrypt\", 33522957.0, \"0\"], [\"Scrypt\", 2147483647.0, \"2147483647\"], [\"Scrypt\", 36971236046.8073, \" 99000000000\"], [\"SHA3\", 61445805.0, \"100000000\"], [\"SHA3\", 63657220.0, \"78000000\"], [\"SHA-512\", 25000000.0, \"91388946\"], [\"SHA-512\", 200000000.0, \"200000000\"], [\"SHA-512\", 2741570000.0, \"3600570502\"], [\"SHA-512\", 1000000000.0, \"1000000000\"], [\"SHA-256D\", 658584.46163633, \"7500000\"], [\"SHA-256D\", 33238183.7225834, \"100000000\"], [\"SHA-256D\", 896361168.0, \"5000000000\"], [\"SHA-256D\", 19577787259.0, \"20000000000\"], [\"SHA-256D\", 1082162635.5368302, \"7506000000\"], [\"SHA-256\", 8999999990.0, \"9000000000\"], [\"SHA-256\", 595429.0, \"21000000\"], [\"SHA-256\", 12416554.0, \"20000000\"], [\"SHA-256\", 1613836099.99999, \"2419200000\"], [\"SHA-256\", 1000000000.0, \"1000000000\"], [\"SHA-256\", 3427006.0, \"25000000\"], [\"SHA-256\", 1195525.0, \"222725000\"], [\"SHA-256\", 100545745.0, \"75000000000\"], [\"SHA-256\", 16662820.0, \"525000000\"], [\"SHA-256\", 2526078.47525448, \"21000000\"], [\"SHA-256\", 10343113.0, \"200084200\"], [\"SHA-256\", 4377081.60953993, \"40000000\"], [\"SHA-256\", 4392258.24647793, \"21000000\"], [\"SHA-256\", 5129014.0, \"10500000\"], [\"SHA-256\", 3669691.84494672, \"22000000\"], [\"SHA-256\", 17939725045.334, \"190000000\"], [\"SHA-256\", 43059794.804778, \"1000000000\"], [\"SHA-256\", 11995334.8847328, \"12500000\"], [\"SHA-256\", 39121694.0, \"68000000\"], [\"SHA-256\", 57811001.000889, \"100262205\"], [\"SHA-256\", 74676064.9488608, \"105000000\"], [\"SHA-256\", 92050800.0, \"100000000\"], [\"SHA-256\", 1999999995.3056, \"2000000000\"], [\"SHA-256\", 1288862.0, \"22000000\"], [\"Quark\", 66053877.6256106, \"100000000\"], [\"Quark\", 5919489.76813523, \"5151000\"], [\"Quark\", 14303114.6740944, \"38000000\"], [\"Quark\", 7082392.24744494, \"21000000\"], [\"Quark\", 10517772.7391666, \"15000000\"], [\"Quark\", 30711550.5294042, \"200000000\"], [\"Quark\", 35312185.7437239, \"54000000\"], [\"Quark\", 65269530.104518995, \"57879300\"], [\"Quark\", 16955764.902064003, \"20000000\"], [\"Quark\", 139739596.506702, \"200000000\"], [\"Quark\", 27299680.0, \"120000000\"], [\"Quark\", 18265011.248600602, \"19035999\"], [\"Quark\", 1934701.67524713, \"13370000\"], [\"Quark\", 2716264.95302831, \"650000000 \"], [\"QuBit\", 30227750.0, \"78835200\"], [\"QUAIT\", 8568038.35935056, \"5060000\"], [\"PoS\", 9327131.59708692, \"210000000\"], [\"PoS\", 9283137.5558676, \"8634140\"], [\"PoS\", 11075254.0929996, \"80000000\"], [\"PoS\", 1000000000.0, \"1000000000\"], [\"PoS\", 21876586.8530324, \"88000000\"], [\"PoS\", 3821245.74150193, \"9000000\"], [\"PoS\", 50000000.0, \"50000000\"], [\"PoS\", 20000000.0, \"20000000\"], [\"PoS\", 111135836.889, \"110290030\"], [\"PoS\", 17818682.1654, \"301000000\"], [\"PoS\", 5679705.0, \"0\"], [\"PoS\", 4000000.0, \"61599965\"], [\"PoS\", 20000000.0, \"20000000\"], [\"PoS\", 148716816.0, \"39999898\"], [\"PoS\", 11390225.974277198, \"30000000\"], [\"PoS\", 401421401.0, \"400000000\"], [\"PoS\", 74033806.79496829, \"74000000\"], [\"POS 3.0\", 38589808.6658096, \"33500000\"], [\"POS 3.0\", 100000000.0, \"100000000\"], [\"POS 3.0\", 20445861.534425102, \"25000000\"], [\"POS 2.0\", 12330806.30517, \"21000000\"], [\"PHI2\", 2233828.12953048, \"21000000\"], [\"PHI1612\", 8305775.31777569, \"60000000\"], [\"PHI1612\", 1622326490.46336, \"2300000000\"], [\"PHI1612\", 1360250.0, \"32000000\"], [\"Ouroboros\", 25927070538.0, \"45000000000\"], [\"NeoScrypt\", 2381470.97805063, \"21000000\"], [\"NeoScrypt\", 1120385.00502, \"60168145\"], [\"NeoScrypt\", 3220616.279225, \"3770000\"], [\"NeoScrypt\", 182638400.0, \"400000000\"], [\"NIST5\", 10069449031.9252, \"0\"], [\"NIST5\", 13787854.6277781, \"50000000\"], [\"NIST5\", 83450403.0, \"90000000\"], [\"NIST5\", 13247178.880728599, \"27716121\"], [\"NIST5\", 560563220.0, \"1200000000\"], [\"NIST5\", 62942075.0, \"120000000\"], [\"NIST5\", 28399150208.0, \"30000000000\"], [\"NIST5\", 4171382.0, \"10000000\"], [\"Multiple\", 80260463.7331396, \"100000000\"], [\"Multiple\", 100000000.0, \"0\"], [\"Lyra2Z\", 11086825523.3769, \"100000000000\"], [\"Lyra2REv2\", 24000000.0, \"24000000\"], [\"Lyra2REv2\", 13332617.9413708, \"52500000\"], [\"Keccak\", 4672513.84432375, \"366000000\"], [\"Groestl\", 53193831.0, \"0\"], [\"Groestl\", 3304487.74735637, \"4380000\"], [\"Green Protocol\", 9803691.3618195, \"21000000\"], [\"DPoS\", 1020544523.0722, \"0\"], [\"DPoS\", 120012140.0, \"159918400\"], [\"DPoS\", 18194936.0, \"18081806 \"], [\"DPoS\", 1000000000.0, \"1000000000\"], [\"DPoS\", 1122382283.37, \"0\"], [\"DPoS\", 288090567.493887, \"500000000\"], [\"DPoS\", 108202084.0, \"125000000\"], [\"Counterparty\", 51173144.0, \"500000000\"], [\"C11\", 11251342.1879021, \"19340594\"], [\"Blake2S\", 12184195.9258495, \"36900000\"], [\"BLAKE256\", 10365046.928166099, \"21000000\"], [\"536\", 22801882871.0, \"50000000000\"]], \"hovertemplate\": \"<b>%{hovertext}</b><br><br>class=%{marker.color}<br>PC 1=%{x}<br>PC 2=%{y}<br>PC 3=%{z}<br>Algorithm=%{customdata[0]}<br>TotalCoinsMined=%{customdata[1]}<br>TotalCoinSupply=%{customdata[2]}<extra></extra>\", \"hovertext\": [\"Beetle Coin\", \"Bettex coin\", \"Bitcoin Incognito\", \"BitMoney\", \"Ellerium\", \"Trivechain\", \"Proton\", \"KoboCoin\", \"EverGreenCoin\", \"HTML5 Coin\", \"Dekado\", \"GanjaCoin V2\", \"StealthCoin\", \"DeepOnion\", \"Bitcoin Diamond\", \"Sativa Coin\", \"Kore\", \"Triangles Coin\", \"OpalCoin\", \"Tokyo Coin\", \"NavCoin\", \"BritCoin\", \"Paycon\", \"EmberCoin\", \"RoyalCoin\", \"MudraCoin\", \"FindCoin\", \"EliteCoin\", \"CapriCoin\", \"IslaCoin\", \"Junson Ming Chan Coin\", \"MustangCoin\", \"Regalcoin\", \"Creditbit \", \"Enigma\", \"GoldBlocks\", \"Lutetium Coin\", \"Monoeci\", \"Ucoin\", \"ARENON\", \"Impact\", \"VirtacoinPlus\", \"Hitcoin\", \"Ratecoin\", \"EuropeCoin\", \"PinkCoin\", \"PAXEX\", \"EUNO\", \"TruckCoin\", \"Squall Coin\", \"GoldReserve\", \"BitSend\", \"Condensate\", \"HappyCoin\", \"Piggy Coin\", \"KushCoin\", \"Insane Coin\", \"BitSoar Coin\", \"IOCoin\", \"XenixCoin\", \"BetKings\", \"SuperCoin\", \"SyncCoin\", \"HyperStake\", \"Monkey Project\", \"Dash\", \"Dash Platinum\", \"Halloween Coin\", \"PhantomX\", \"InsaneCoin\", \"DigiMoney\", \"Stakenet\", \"X11 Coin\", \"Pushi\", \"Reliance\", \"TorCoin\", \"Award\", \"Eternity\", \"Magnet\", \"Vechain\", \"Ontology\", \"Averopay\", \"Signatum\", \"Cream\", \"BashCoin\", \"Bitcoin Planet\", \"Lizus Payment\", \"BurstCoin\", \"Semux\", \"Russiacoin\", \"Printerium\", \"Impeach\", \"MoneyCoin\", \"BitcoinFast\", \"Oduwa\", \"BitConnect Coin\", \"PandaCoin\", \"Aurora Coin\", \"Klingon Empire Darsek\", \"Credit\", \"GAKHcoin\", \"GameUnits\", \"PLNCoin\", \"Nasdacoin\", \"AquariusCoin\", \"Listerclassic Coin\", \"Mercoin\", \"Cash & Back Coin\", \"Parlay\", \"HollyWoodCoin\", \"GermanCoin\", \"LiteCoin Ultra\", \"Swisscoin\", \"Xt3ch\", \"TerraNovaCoin\", \"WomenCoin\", \"Lynx\", \"Xios\", \"BlackholeCoin\", \"EmaratCoin\", \"Accolade\", \"Abjcoin\", \"MedicCoin\", \"Ignition\", \"Briacoin\", \"OmiseGO Classic\", \"404Coin\", \"Velox\", \"Unified Society USDEX\", \"My Big Coin\", \"ECC\", \"Litecoin Plus\", \"Trollcoin\", \"iDealCash\", \"MYCE\", \"Zilbercoin\", \"RenosCoin\", \"Independent Money System\", \"ArgusCoin\", \"LomoCoin\", \"DivotyCoin\", \"FirstCoin\", \"OpenChat\", \"Gapcoin\", \"ThunderStake\", \"GrowthCoin\", \"Draftcoin\", \"MMOCoin\", \"CoinonatX\", \"BitcoinPlus\", \"Ethereum Dark\", \"GambleCoin\", \"Peony Coin\", \"Linda\", \"TPCash\", \"Degas Coin\", \" ClubCoin\", \"CryptoBullion\", \"Vtorrent\", \"XiaoMiCoin\", \"WhiteCoin\", \"HiCoin\", \"RubyCoin\", \"Dnotes\", \"8BIT Coin\", \"AudioCoin\", \"BillaryCoin\", \"GPU Coin\", \"BitBar\", \"Genstake\", \"Diggits\", \"MintCoin\", \"Nautilus Coin\", \"HoboNickels\", \"FlutterCoin\", \"ShardCoin\", \"ZCC Coin\", \"UnitaryStatus Dollar\", \"UltraCoin\", \"VeriCoin\", \"PotCoin\", \"PhoenixCoin\", \"Reddcoin\", \"CasinoCoin\", \"42 Coin\", \"EnergyCoin\", \"BitCurrency\", \"Swiscoin\", \"OrangeCoin\", \"LiteDoge\", \"ZoneCoin\", \"Frankywillcoin\", \"iBankCoin\", \"PutinCoin\", \"RootCoin\", \"CarterCoin\", \"HyperCoin\", \"BitstarCoin\", \"BlueCoin\", \"PesoBit\", \"SafeExchangeCoin\", \"ZeitCoin\", \"MaxCoin\", \"Nexus\", \"Obsidian\", \"TWIST\", \"Bitshares\", \"Kcash\", \"Cognitio\", \"TheVig\", \"Titan Coin\", \"BuzzCoin\", \"LanaCoin\", \"Infinity Economics\", \"BitTokens\", \"Eurocoin\", \"MazaCoin\", \"TigerCash\", \"Credence Coin\", \"Revenu\", \"ProCurrency\", \"Clockcoin\", \"Internet of People\", \"Ultimate Secure Cash\", \"SwingCoin\", \"NeosCoin\", \"DubaiCoin\", \"EDRCoin\", \"IncaKoin\", \"Emercoin\", \"PayCoin\", \"Neutron\", \"BitcoinWSpectrum\", \"OKCash\", \"Theresa May Coin\", \"ZEPHYR\", \"BitcoinDark\", \"Vitae\", \"Giant\", \"DACH Coin\", \"Dystem\", \"Allsafe\", \"Bitcloud 2.0\", \"HerbCoin\", \"Alqo\", \"Kalkulus\", \"Carebit\", \"Digiwage\", \"Galilel\", \"Crypto Sports\", \"Poseidon Quark\", \"LiteCreed\", \"Droidz\", \"Ketan\", \"Particl\", \"Zealium\", \"Nxt\", \"Deviant Coin\", \"Radium\", \"FreeCoin\", \"Creatio\", \"Atmos\", \"TeamUP\", \"Exclusive Coin\", \"Stakecoin\", \"Nebuchadnezzar\", \"CoffeeCoin\", \"Phreak\", \"MacronCoin\", \"Opair\", \"Let it Ride\", \"QTUM\", \"TokenPay\", \"KekCoin\", \"Gexan\", \"LUXCoin\", \"TittieCoin\", \"Seraph\", \"Cardano\", \"SimpleBank\", \"FriendshipCoin\", \"Orbitcoin\", \"TrezarCoin\", \"PWR Coin\", \"Bitspace\", \"VIP Tokens\", \"Bulwark\", \"NamoCoin\", \"Virta Unique Coin\", \"Electra\", \"Denarius\", \"TeslaCoin\", \"Crypti\", \"LAPO\", \"Rupee\", \"Absolute Coin\", \"XDNA\", \"FairCoin\", \"Diamond\", \"Bitcoin Green\", \"EOS\", \"Lisk\", \"Muse\", \"ALAX\", \"Oxycoin\", \"Lamden Tau\", \"ARK\", \"StorjCoin\", \"Stipend\", \"TajCoin\", \"Decred\", \"Espers\"], \"legendgroup\": \"1\", \"marker\": {\"color\": [1, 1, 1, 1, 1, 1, 1, 1, 1, 1, 1, 1, 1, 1, 1, 1, 1, 1, 1, 1, 1, 1, 1, 1, 1, 1, 1, 1, 1, 1, 1, 1, 1, 1, 1, 1, 1, 1, 1, 1, 1, 1, 1, 1, 1, 1, 1, 1, 1, 1, 1, 1, 1, 1, 1, 1, 1, 1, 1, 1, 1, 1, 1, 1, 1, 1, 1, 1, 1, 1, 1, 1, 1, 1, 1, 1, 1, 1, 1, 1, 1, 1, 1, 1, 1, 1, 1, 1, 1, 1, 1, 1, 1, 1, 1, 1, 1, 1, 1, 1, 1, 1, 1, 1, 1, 1, 1, 1, 1, 1, 1, 1, 1, 1, 1, 1, 1, 1, 1, 1, 1, 1, 1, 1, 1, 1, 1, 1, 1, 1, 1, 1, 1, 1, 1, 1, 1, 1, 1, 1, 1, 1, 1, 1, 1, 1, 1, 1, 1, 1, 1, 1, 1, 1, 1, 1, 1, 1, 1, 1, 1, 1, 1, 1, 1, 1, 1, 1, 1, 1, 1, 1, 1, 1, 1, 1, 1, 1, 1, 1, 1, 1, 1, 1, 1, 1, 1, 1, 1, 1, 1, 1, 1, 1, 1, 1, 1, 1, 1, 1, 1, 1, 1, 1, 1, 1, 1, 1, 1, 1, 1, 1, 1, 1, 1, 1, 1, 1, 1, 1, 1, 1, 1, 1, 1, 1, 1, 1, 1, 1, 1, 1, 1, 1, 1, 1, 1, 1, 1, 1, 1, 1, 1, 1, 1, 1, 1, 1, 1, 1, 1, 1, 1, 1, 1, 1, 1, 1, 1, 1, 1, 1, 1, 1, 1, 1, 1, 1, 1, 1, 1, 1, 1, 1, 1, 1, 1, 1, 1, 1, 1, 1, 1, 1, 1, 1, 1, 1, 1, 1, 1, 1, 1, 1, 1, 1, 1, 1, 1, 1, 1, 1, 1, 1, 1, 1, 1, 1, 1, 1, 1, 1], \"coloraxis\": \"coloraxis\", \"symbol\": \"circle\"}, \"mode\": \"markers\", \"name\": \"1\", \"scene\": \"scene\", \"showlegend\": true, \"type\": \"scatter3d\", \"x\": [-0.3368219033527985, -0.2863201827988218, -0.3342933061253958, 0.4470250355700055, -0.3425696228462323, -0.36151780301515557, -0.305964184220812, -0.2341503729537454, -0.23667688701756362, 0.9392999066277381, -0.17975505027904595, -0.4025183216462313, -0.2667344726945097, -0.26673779960209426, -0.2632840491948602, -0.26699124656298356, -0.2670410139514417, -0.2671520341176428, -0.26696224400355656, -0.20212133074310457, -0.2663155179094831, -0.2666646206593862, -0.26649541050114167, 0.9097574065999277, -0.21086270414897917, -0.20938252451958883, -0.21062182472012195, 2.408638931370948, -0.39344183597682364, -0.39750501148820316, -0.12274811746598893, -0.3974938803933509, -0.3972339995195307, -0.4110690093501175, -0.3974772186298923, -0.3969599074840057, -0.32812128877902036, -0.39729490137799917, -0.3411014848076291, -0.34063426831794263, -0.39531270716522254, -0.39662370447173884, -0.06317743086947351, -0.3952655945802451, -0.39457587860333526, -0.38831642032285313, -0.34049173130958016, -0.3967668034983307, -0.3944439902545867, -0.3890908641978673, -0.3970128336619102, -0.39619514762650543, -0.3923123780751861, -0.3965175660555015, -0.38391443351345317, -0.3973837717674835, -0.3970023063019502, -0.2653605982900093, -0.3971387539169329, -0.3974470428591039, -0.34107831394815347, -0.3406384240669084, -0.3975242104496974, -0.31996821699729555, -0.34107234263928404, -0.3972482071431093, -0.34112875305081536, -0.38316252050779925, -0.3965839109188062, -0.3970712972238509, -0.39729616811938867, -0.3982734469485198, -0.3973956338175661, -0.39731335891224395, -0.34073547331094955, -0.39743271230093025, -0.39424820437458763, -0.39700713011905486, -0.395983105833177, 4.559884765301621, -0.2919362718669358, -0.3756644445758634, -0.3219949507030143, -0.4130757311420215, -0.4137340216271776, -0.4135903546771011, -0.41386619074419273, -0.0861943216465393, 4.184479011389631, -0.32299996241344897, -0.3238656300799872, -0.3239976520694312, -0.3192519822723996, -0.3236633423634377, -0.3238207627584304, -0.32381636862566354, 0.3999036276455095, -0.3238091606753221, -0.3201911769509355, 0.6158395768613203, -0.3240959993887496, -0.324022980698051, -0.3236627681420831, -0.3232854744131768, -0.32382329420606215, -0.3232529078180047, -0.32310738825443436, -0.3212131089995251, -0.26765244991346016, -0.26723832098391376, 0.10489739277364439, -0.32295543192649717, -0.11983594671672758, -0.26750092956055255, -0.3240325500619382, 0.4745296713552053, 2.3694602890756165, -0.3239811132418203, -0.3238461921408932, -0.3232721056548136, -0.3237249501311721, -0.3238169414860236, -0.26085939160384336, -0.3241107408507978, -0.3241296816913975, -0.32301499180573073, -0.30686191282783026, -0.26668641602370446, -0.31947885329085834, -0.2593208693690267, 0.23287967664591802, -0.3241012835278214, -0.3100570543379424, -0.2687685604988926, -0.3215211781538745, -0.2674800322308108, -0.26721025473487375, -0.32393867910683344, -0.3239380914000879, -0.3168222153251919, -0.3231561369473057, -0.24811087976732446, -0.3041304139863293, -0.32213936040387026, -0.1786935407916965, -0.24950511781183568, -0.2675558644797339, -0.2646453015544526, -0.3235604314077547, -0.2679115427795129, -0.3240782868675323, -0.26770145552992325, -0.14411177008546194, 0.15738431719609847, -0.31675994610349795, -0.3231211495260381, -0.32167319802483013, -0.3241418925818067, -0.323868385654816, -0.3160948071177421, -0.3187622596695895, -0.06753252679584869, -0.2675753134039871, -0.2620358950790158, -0.3241437824324405, -0.23470343470192997, -0.3237401319133187, -0.26578535421430016, -0.3241582136891912, -0.32329052441993056, -0.26591730542072123, 0.002472962060993591, -0.26759638827360577, -0.3221488335195701, -0.2555512803447241, -0.26100353372135493, -0.3149493620987361, -0.29847358494292614, -0.32279114134129516, -0.26048653400918476, -0.318254612491432, -0.32250455732855, 0.04809106008861108, 0.6763400835358548, -0.3241624204568986, -0.3225997513391324, -0.26576691741592645, -0.2171375235753402, -0.32265073465593663, 0.1270441024571528, -0.3239756240599631, -0.32215922056705115, -0.3237798110352411, -0.29916993868679376, -0.32413778829593365, -0.3229542521657379, -0.3240401228720621, -0.3235032307873281, -0.3160937130393476, -0.32373674174793204, -0.08192176653493129, 0.9275976430510298, -0.3877480092864273, -0.3510093137575558, -0.31534887402042305, -0.3123301597704009, -0.25511762418981804, -0.3393453164171377, -0.3678929718117581, -0.36680088939686206, -0.3199049251172334, 0.027322486803263477, -0.29916694474929995, -0.07615008340906589, -0.31251849239377555, -0.31237571982736, -0.27444526408691466, -0.23640614177739008, -0.3124532011755292, -0.3110314500017873, 0.2948778632424641, -0.3086182023695829, -0.31249397671634194, -0.25483942179436003, -0.31233112911906685, -0.25622836453857734, -0.312537929746958, -0.3124721210848603, -0.08348530441233806, -0.3047994275865597, -0.2561941573114467, -0.31168458881171457, -0.25496874763927374, -0.31096176135630815, -0.3107778036417135, 2.616086355593605, -0.31250235322034164, -0.3345659438949337, -0.39226706353623947, -0.33567778199460135, -0.33589414738133655, -0.33589452754451005, -0.3905232555369303, -0.39153557908606373, -0.3911267259903004, -0.33577610766717175, -0.38913880100975856, -0.3349113733876036, -0.3920084676518477, -0.33601547085863787, -0.33133659313370434, -0.36251978418147424, -0.4378558785598425, -0.3219643504638694, -0.32344169750817314, -0.32289555393819386, -0.3212518927007469, -0.32269972613495174, -0.32350837026709295, -0.32262129736677264, -0.3232222575861301, -0.3214028268618793, -0.3211891424998007, -0.3235507759839706, -0.3231203398024897, -0.3232222575861301, -0.3214411157058385, -0.3232582472227614, -0.3155920456439062, -0.32214009990751913, -0.32614703245552495, -0.32487953512529977, -0.32643976480893583, -0.3157269098324604, -0.412384420165208, -0.3818805927394786, -0.2887157603296363, -0.38217413605780803, 0.7330901942953393, -0.3450995996146824, -0.3448283595036691, -0.3452153063757787, -0.34003113825250064, -0.2276152142173136, -0.35493681951466555, -0.35375887972129394, -0.2988651967300118, -0.3395598482499411, -0.35379928184804377, 0.2251537952967398, -0.3553522852064596, -0.22888672714970426, -0.22936945723886806, 0.6204633842082312, -0.29415599770686346, -0.3503243539535095, -0.3464214152648486, -0.35947135294504884, -0.36007273303651754, -0.33056910090810104, 3.9705521581432284, 3.9602898811511693, 1.125496291578071, 3.9776251375969163, 3.971845309341323, 3.964918276092837, 3.9598838287349802, -0.30206894953784513, -0.3812644038707514, -0.3978428991188832, -0.05587003636146806, 0.6112379613618134], \"y\": [1.2645911845317468, 0.9571828673854249, 0.5503534709098108, 0.576839063327236, 1.2647352013698903, 0.7659421564622602, 0.4583887448327036, 1.8010283154490982, 1.8011854003861756, 1.771755559345246, 1.4936002192018045, 1.9762381396111608, 1.6935984938190414, 1.693584791602438, 1.6935510048907345, 1.6935835818477796, 1.6935806471437, 1.6935858625553135, 1.693591650834318, 1.3857144222687623, 1.693611080571981, 1.6935789994311161, 1.6935696877377697, 1.7283323034816243, 1.386025816205216, 1.3859281319560828, 1.3860243980148046, 1.5478543036528822, 1.2278763755621431, 1.2279040159125694, 0.9269091529116024, 1.227902191029724, 1.2278927243146553, 0.5641426905956615, 1.227901252071612, 1.2278844043143295, 0.9202661944766003, 1.2279034852911943, 0.9203347182191772, 0.920323563112974, 1.2278907055877057, 1.2278585166565528, 1.218838517709992, 1.227917312798107, 1.2277156265165456, 1.2278201880201316, 0.9202954559318929, 1.2278902057808516, 1.2279959788627204, 0.5134983554684766, 1.2278900118973648, 1.2278433210275004, 1.2277001365616356, 1.22786170539689, 1.227592555095261, 1.2279009256572677, 1.2278975258293257, 0.9197599469053398, 1.2278991846277978, 1.227902983985042, 0.9203439449085056, 0.9203630253695043, 1.2279034383940808, 0.9209840250546678, 0.920334873978291, 1.227895896299879, 0.9203341149228909, 1.227255262181242, 1.2278957004637987, 1.2278954531195245, 1.227892296100635, 0.6134624312307698, 1.2279033432596933, 1.2278917796337745, 0.9203154842293009, 1.227898990357217, 1.2276995593451658, 1.2278757879379574, 1.227846092618784, 2.7003090046533713, 1.2874921259364607, 1.0201251258552992, 1.1179778662485307, 2.020088920811578, 2.0200892970794326, 2.020073459860839, 2.0200874855897246, 0.9243994029184234, 1.86245855331762, 1.1381567976875817, 1.1382200411747854, 1.1382146832618212, 1.1379047227743435, 1.1382167615972518, 1.138220669368218, 1.1382157630228578, 0.8273262339858274, 1.138224063559938, 1.1379849461039724, 1.1126277438658467, 1.1382251288591045, 1.1382203522140177, 1.138212791347226, 1.138191405922977, 1.1382054782375253, 1.1381736704226295, 1.1381852399557588, 1.1381629759966707, 0.8306522225143274, 0.8306675433454505, 1.1151275799491627, 1.1381538169333587, 1.137022536966958, 0.8306466979558457, 1.138218097360366, 1.1442266660097444, 0.3898183422306819, 1.1382158519225403, 1.1382243763728845, 1.1381918075635946, 1.1382026746858185, 1.1382143062810617, 0.8305180180572642, 1.1382234737408805, 1.1382243442281645, 1.1382096088114164, 1.1383623676877148, 0.8306135873205114, 1.1381992437879638, 0.6093606242454565, 0.8277172745747715, 1.1382244776349757, 1.1380015015868654, 1.1362031258023269, 1.1381249299812404, 0.8306394083573017, 0.8306623214965866, 1.1382169741034112, 1.1382116742187711, 1.1377262777709094, 1.1381837753878021, 0.34258735277052754, 1.1381075804162601, 1.138106357792712, 1.1296400932458799, 0.8297794886441091, 0.8306641890586843, 0.8305770208589309, 1.1382088755091586, 0.830665311731748, 1.1382250245756964, 0.8306611148523637, 0.8222357324214057, 1.116704456437712, 1.1377281485391577, 1.1381812276947196, 1.1381851417190634, 1.1382254169048578, 1.1382199583884307, 1.1381799908263732, 1.1381718285098958, 0.8294820476912922, 0.8306761329121952, 0.8304826720984547, 1.1382260798932609, 1.133355617478033, 1.1382079767010111, 0.8305708029763177, 1.1382252864489595, 1.1382409180316806, 0.8306539682582083, 0.8387892540569322, 0.8306638539475479, 1.1381996427192593, 0.5625986870449687, 0.8302257813185714, 1.13778254432209, 1.1378456704380195, 1.1381947410329771, 0.46196075300327283, 1.1381007079949923, 1.1382047904722232, 1.1494092150807218, 0.5989206157417347, 1.1382255199166655, 1.1382724675670561, 0.8307304629600485, 0.7265025262643403, 1.1381269827414895, 1.1265894227073427, 1.138216016835267, 1.138213725971083, 1.1382051051593634, 1.1375368434810984, 1.1382262599764539, 1.1381970383138669, 1.1382291941607736, 1.1382062724418942, 1.1384679299406175, 1.1382383087081964, 0.6033849238270841, 0.795326187613256, 1.941773819211954, 1.9933334926841555, 1.4038140979133058, 1.4038266153235244, 1.4030978507053031, 2.155185464772228, 1.8860745286917397, 1.8860407600505635, 1.8839228145683022, 1.8835581617149424, 1.8827421177595016, 0.5337398039589105, 0.8423507562852136, 0.8423557653991854, 0.8417684569664236, 0.5346833200055965, 0.8423498387815388, 0.8422502371166433, 0.4973821497428648, 0.8421051717084157, 0.8423514928152313, 0.5347052767084876, 0.8423427097356445, 0.5347924470376074, 0.8423577298633561, 0.8423514296632774, 0.8491100115332498, 0.8418780113536058, 0.5347995927407319, 0.8423419804545534, 0.5347732397822815, 0.8423370651949248, 0.8423461907060227, 0.8238596367551565, 0.8423505213924236, 1.2567955964141542, 1.5643797839663127, 1.2568068186796946, 1.2568125543810587, 1.2568168615533997, 1.564291927973042, 1.5643666002879968, 1.5643760913668745, 1.2568168204403807, 1.5643335214521301, 1.2567708232858983, 1.564377559075898, 1.2568144012441282, 1.2564967454398792, 0.4731720414071366, 2.1510913218944796, 1.4498989612373216, 1.4499995131887837, 1.4499645544111652, 1.866769149478366, 1.4499646795850596, 1.449997246790629, 1.449994386931438, 1.4499979251165989, 1.449987599024861, 1.4498567523140877, 1.4500024506766314, 1.4499710448312737, 1.4499979251165989, 1.4500370411243417, 1.4499896462157271, 1.449953650359651, 1.4499915692803778, 1.3041665830388627, 1.304156798333383, 1.304163906422554, 1.1127355260186689, 1.7810389359018801, 1.4506462510402467, 1.1425835018746382, 1.4506575854893613, 1.3158800265469262, 0.5233170354102257, 0.5232969924541168, 0.5233259607674353, 0.5231965171694014, 1.5715063161265423, 1.567645176189874, 1.5676517746758547, 1.2600963415150295, 1.5672794195466813, 1.5676289678973196, 1.5635159890812385, 1.5676614848850083, -0.04560731330197349, -0.04554983950958487, 0.228908198365553, 0.3679450255741205, 0.6754864799136534, 0.9129080430656705, 0.8636231729483611, 0.8636019529774859, 1.320588517341266, 1.922427406844078, 1.922003991180753, 1.6327417301946194, 1.9219201363468783, 1.9224662572766946, 1.9218982640513442, 1.9220169251201134, 1.319970101918187, 0.8367857642100789, 1.830956369092436, 0.8900177418130354, 1.9776758125147598], \"z\": [-0.3914141610105358, -0.08343783809326082, 0.15490894182548404, -0.1334510782374882, -0.39130432767748186, -0.4866555974473937, -0.1787734041927872, -0.6191814411268346, -0.6191453562672308, -0.641621789936573, -0.31128963509622576, -0.5319589064286289, -0.5778834143863769, -0.577881558245918, -0.5779544154629866, -0.5778757320515364, -0.5778742372911099, -0.5778724322563566, -0.5778774299829629, -0.2701608605132675, -0.5778944218941116, -0.5778824418829149, -0.5778850158144387, -0.6087146986237554, -0.2700058320416621, -0.2700262373683544, -0.2700110354190789, -0.6187724942796313, -0.48834181652606046, -0.488254528979235, -0.1861281107940649, -0.48825454065694684, -0.4882591224766566, -0.3030262066045211, -0.4882547912385705, -0.4882641712692707, -0.18067069982828107, -0.48825915954692406, -0.18038928004920682, -0.18039827983191212, -0.4883018338219398, -0.488268324949636, -0.494553680783636, -0.48830634738594814, -0.48829554869427694, -0.4884491513139167, -0.18039781314558034, -0.4882692448325566, -0.48833495344533023, 0.057958769310306926, -0.4882637166266198, -0.488275934628694, -0.4883441625718454, -0.48827111360244385, -0.48851801166579656, -0.4882568389347339, -0.4882649291455193, -0.18200864954045304, -0.48826209289745415, -0.48825569138893554, -0.18039099808053582, -0.18040331823684042, -0.4882540244571822, -0.1809464018160706, -0.1803899521302848, -0.4882592171522029, -0.18038859168833815, -0.48849097093941884, -0.4882740501040454, -0.4882631164961984, -0.488257676260393, -0.24489714200458276, -0.4882568879801621, -0.4882572245940268, -0.1803949656504969, -0.4882554926232342, -0.48830078858777054, -0.48826199462837366, -0.48828103779604537, 5.647125706879278, 0.00625022680560888, -0.462304238409328, 0.022825260592959144, -0.6411714849916632, -0.6411568098330298, -0.6411579639083741, -0.6411536180341864, -0.24962058354632813, 0.0743694901902763, -0.5680785714916546, -0.5680674326473725, -0.5680637829907498, -0.5681296253335314, -0.5680715307980266, -0.5680685178869866, -0.5680679781892036, -0.27469696394793297, -0.568069218746211, -0.5681190498224846, -0.5857581466375994, -0.5680629415031756, -0.5680639536067258, -0.5680710273820657, -0.5680766855794234, -0.5680664859321866, -0.5680751078184527, -0.5680798670869739, -0.5681193416974938, -0.26019811852895725, -0.2602093736137612, -0.5746548822168348, -0.5680791799184575, -0.5724752823586823, -0.26020078923868173, -0.5680634463640865, -0.5867063179382254, -0.46235334799793815, -0.5680643048805976, -0.5680684311333716, -0.5680770368266613, -0.5680683210578698, -0.5680677759528583, -0.2603326090414432, -0.568062396560227, -0.5680620860987299, -0.5680851024643895, -0.5684662644365926, -0.26021470214641246, -0.5681628480386569, -0.3422689937428499, -0.2710119610997578, -0.5680627386320227, -0.5683478740596659, -0.569037533764168, -0.5681075038663697, -0.26020030877122563, -0.26020932236831873, -0.5680653999309377, -0.5680647239215224, -0.5681607687426276, -0.5680785862766504, -0.2734083170589791, -0.568494229789959, -0.5680912619086662, -0.5701988512901665, -0.26049053936985056, -0.2602018349043721, -0.2602556012595812, -0.5680728071793325, -0.2601940253760631, -0.568063324121705, -0.26019817870146433, -0.2618669588310378, -0.5760339098522201, -0.5681624047877664, -0.5680790375640391, -0.5681119330686341, -0.568061952458173, -0.5680673602481251, -0.5682360360232858, -0.5681753113352808, -0.2645220717210219, -0.26020295297074664, -0.2603016978988444, -0.5680619963973164, -0.5694292064431337, -0.568068670916374, -0.26022929300082254, -0.5680615704379846, -0.5680830107849991, -0.26023715577788714, -0.26729813027161087, -0.2602008849272012, -0.5681031800501138, -0.33321829841938505, -0.2602913848567909, -0.5682099755952814, -0.5685867002782148, -0.5680881760751195, -0.37741514474625454, -0.568177418013824, -0.568095892893192, -0.5778419966609679, -0.3536830874852062, -0.5680615067028373, -0.5681025638638043, -0.2602504662908867, -0.3782536855976273, -0.5680825058252592, -0.5766406477596062, -0.5680644491019164, -0.5681047789951925, -0.5680674100149109, -0.5685309674306583, -0.5680621538856808, -0.5680848264700713, -0.5680647199213179, -0.5680737481123789, -0.5682735018014146, -0.56807269087711, -0.3373034299665111, -0.28233894703723367, -0.5119277175920135, -0.1983420668249363, -0.2320935737344873, -0.23216272144910866, -0.23334764037620723, -0.5880859386226837, -0.716712029586743, -0.7167320653588379, -0.7175055939298555, -0.7252246668224299, -0.7178159151576381, -0.008780267591558226, -0.31275566251636433, -0.31275950727777174, -0.3135315347653735, -0.005318482752526701, -0.3127570035903191, -0.3127758527132121, -0.012351447811645136, -0.3128109670486529, -0.31275630663481957, -0.0049090377905257835, -0.3127588069906732, -0.004889306027080035, -0.3127561345465693, -0.31275678727134637, -0.318757403059405, -0.31286684405581694, -0.004891000315703751, -0.3127731734282284, -0.004914982515523746, -0.3127887018809958, -0.3127940031004708, 0.0062281517302847315, -0.31275599296017714, -0.20972188929378124, -0.5175600509190756, -0.20969847989228893, -0.20969438623896036, -0.2096949378061421, -0.5175876308504886, -0.5175746978449467, -0.517585076869855, -0.2096975811759185, -0.5176240056442855, -0.209710941718593, -0.5175655456663679, -0.20969191272925228, -0.20975526048574628, -0.38983395589896214, -0.907801623630997, -0.03710809586944324, -0.03708812679276834, -0.03709579671008806, 0.14932335943634528, -0.03710019309758768, -0.037086340808469696, -0.037105810232494194, -0.03709282853933544, -0.037132181306237605, -0.037119946554504915, -0.03708606898506066, -0.037091612852238866, -0.03709282853933544, -0.03713775395013863, -0.037090947031281636, -0.03725773753832361, -0.0371162068659097, -0.21497849628891189, -0.21500557427343484, -0.21497160065306092, 0.11032930309119236, -0.8445105493138518, -0.5487822939117514, -0.2416751263203086, -0.5487772020241614, -0.16125450268215677, -0.3238770726932212, -0.3238805333366923, -0.3238756452444187, -0.3239747685244175, -0.5632437883646056, -0.5598938943946505, -0.5599210995714354, -0.2520238825664247, -0.5601902734210298, -0.5599172302791479, -0.5723319446865714, -0.5598867222616936, 0.08687819659643808, 0.08688152046157427, -0.34017046253960087, 0.01228634662018723, -0.2955805418757116, -0.4631798684225039, -0.4018628070027216, -0.4018465965650011, -0.10048294690323684, -0.08628369821468772, -0.08599910267459941, -0.097930435873235, -0.0863759392334275, -0.0863176741288525, -0.08608887879003203, -0.08599170226350615, 0.08752631095768619, -0.4590994875727829, -0.6394438942395332, -0.40990230252674137, -0.7141597880214021]}, {\"customdata\": [[\"XEVAN\", 14746153.0962884, \"210000000\"], [\"X16R\", 8125865.02097646, \"22075700\"], [\"X16R\", 9753753.61515394, \"100000000\"], [\"X13\", 1170292.5, \"2100000\"], [\"X11GOST\", 17263355.0, \"24000000\"], [\"X11\", 35138975.0, \"100000000\"], [\"X11\", 32221574.820996, \"33000000\"], [\"X11\", 26042364.373555303, \"60000000\"], [\"X11\", 2622886.0, \"18900000\"], [\"X11\", 2702855668.85288, \"1800000000\"], [\"X11\", 4993030.69736615, \"21000000\"], [\"X11\", 1377917.0, \"25000000\"], [\"X11\", 122475638.389743, \"1100000000\"], [\"X11\", 5015881.37315389, \"25000000\"], [\"X11\", 536982074.0, \"100000000000\"], [\"X11\", 45110324.0, \"84000000\"], [\"X11\", 30385540.0, \"1000000000\"], [\"X11\", 13654082.4987998, \"25000000\"], [\"X11\", 11149733.9976203, \"20000000\"], [\"X11\", 15867695.0, \"16000000\"], [\"X11\", 15863837.5, \"21000000\"], [\"X11\", 26709236.7607446, \"50000000\"], [\"X11\", 80316207.0, \"550000000\"], [\"X11\", 4996986.20575291, \"18000000\"], [\"X11\", 8478104.33969947, \"23000000\"], [\"X11\", 31801461.1867843, \"100000000\"], [\"X11\", 824000000.0, \"500000000\"], [\"X11\", 4229040.50393462, \"19800000\"], [\"X11\", 211297638.500483, \"500000000\"], [\"X11\", 175215859.0, \"350000000\"], [\"X11\", 1207310.0, \"0\"], [\"X11\", 61364813.0, \"228000000\"], [\"Tribus\", 795447.0, \"18000000\"], [\"Time Travel\", 17801865.1605478, \"21000000\"], [\"Stanford Folding\", 719416990.0, \"1000000000\"], [\"SkunkHash\", 4818338.98949984, \"16600000\"], [\"ScryptOG\", 84000000.0, \"84000000\"], [\"Scrypt\", 196297971.0, \"10000000000\"], [\"Scrypt\", 35284717.173946, \"120000000\"], [\"Scrypt\", 12205795.444954902, \"64000000\"], [\"Scrypt\", 894026.0, \"2714286\"], [\"Scrypt\", 20910478.806249898, \"21000000 \"], [\"Scrypt\", 5768310.0, \"21000000\"], [\"Scrypt\", 63039243.30000489, \"84000000\"], [\"Scrypt\", 5761512.810349099, \"100000000\"], [\"Scrypt\", 3964201248.87125, \"4999999999\"], [\"Scrypt\", 99990001.493466, \"100000000\"], [\"Scrypt\", 12446100.00278, \"40000000\"], [\"Scrypt\", 10000000000.0, \"10000000000\"], [\"Scrypt\", 14491014421.0, \"18406979840\"], [\"Scrypt\", 17630550.2128923, \"24000000\"], [\"Scrypt\", 45483049.3398182, \"64000000\"], [\"Scrypt\", 64096052.0, \"4000000000\"], [\"Scrypt\", 3115258.0, \"3360000\"], [\"Scrypt\", 99843408.3158479, \"100000000 \"], [\"Scrypt\", 20276099.146523997, \"35520400\"], [\"Scrypt\", 9704042.0, \"20000000\"], [\"Scrypt\", 485214.0, \"10500000000\"], [\"Scrypt\", 143006669741.68698, \"0\"], [\"Scrypt\", 17453749.4042601, \"84000000\"], [\"Scrypt\", 32646731.063036, \"100000000\"], [\"Scrypt\", 33716526.0, \"100000000\"], [\"Scrypt\", 163055097500.0, \"200000000000\"], [\"Scrypt\", 5167775.0, \" 75000000\"], [\"Scrypt\", 18133195.0, \"19276800\"], [\"Scrypt\", 1416663.06600024, \"22105263\"], [\"Scrypt\", 269143950.637501, \"1000000000\"], [\"Scrypt\", 13673406.4325268, \"72000000\"], [\"Scrypt\", 4703879.51824446, \"13140000\"], [\"Scrypt\", 10140044.443029301, \"3371337\"], [\"Scrypt\", 4610340640.89, \"10000000000\"], [\"Scrypt\", 7219956.64626131, \"21000000 \"], [\"Scrypt\", 619478.0, \"619478\"], [\"Scrypt\", 5052555.91981545, \"5000000\"], [\"Scrypt\", 69684455.4387001, \"182000000\"], [\"Scrypt\", 792537250.0, \"1000000000\"], [\"Scrypt\", 415032420.0, \"1680000000\"], [\"Scrypt\", 68194674.8711679, \"105120000\"], [\"Scrypt\", 137517654.41397, \"166386000\"], [\"Scrypt\", 181919.2435974, \"2628000\"], [\"Scrypt\", 152270664.860648, \"160000000\"], [\"Scrypt\", 88213.0, \"92000000000\"], [\"Scrypt\", 210000000.0, \"210000000\"], [\"Scrypt\", 69836100.0, \"84000000\"], [\"Scrypt\", 33442988.3440364, \"48166000\"], [\"Scrypt\", 780210700.0, \"1000000000\"], [\"Scrypt\", 636462.55983338, \"168351300\"], [\"Scrypt\", 29583989322.9213, \"50000000000\"], [\"Scrypt\", 32565300.0, \"210240000\"], [\"Scrypt\", 75614500.0, \"250000000\"], [\"Scrypt\", 151447649.8, \"265420800\"], [\"Scrypt\", 19326319.14375, \"20000000\"], [\"Scrypt\", 1104344.22938102, \"1350000\"], [\"Scrypt\", 38151999.993099704, \"42000000\"], [\"Scrypt\", 5804204.88794916, \"10000000\"], [\"Scrypt\", 90595753018.6314, \"90600000000\"], [\"Scrypt\", 218871896.499999, \"299792458\"], [\"Scrypt\", 19496786.31025, \"32000000\"], [\"Scrypt\", 1142732.14912776, \"11235813\"], [\"Scrypt\", 12539015186.821999, \"13500000000\"], [\"Scrypt\", 884125802.0, \"1420609614\"], [\"Scrypt\", 65672720.470874794, \"70000000\"], [\"Scrypt\", 41658647.9999715, \"72245700\"], [\"Scrypt\", 2366066305.76482, \"15000000000\"], [\"Scrypt\", 334709223.48313797, \"337000000\"], [\"Scrypt\", 23150892.167968698, \"23000000\"], [\"Scrypt\", 119606941.0, \"265420800\"], [\"Scrypt\", 25593737.1355044, \"51200000\"], [\"Scrypt\", 1104157.42169891, \"21000000\"], [\"Scrypt\", 24215181.725, \"250000000\"], [\"Scrypt\", 4070212.1493015997, \"21000000\"], [\"Scrypt\", 11119200.0, \"30000000\"], [\"Scrypt\", 616448.0, \"616448\"], [\"Scrypt\", 116845228.0, \"200000000\"], [\"Scrypt\", 88.0, \"384000000000\"], [\"Scrypt\", 128940951.183046, \"250000000\"], [\"Scrypt\", 7357794.7925, \"100000000\"], [\"Scrypt\", 55565076.3863525, \"98100000000\"], [\"Scrypt\", 6570807.65677618, \"20000000\"], [\"SHA-512\", 60045900.0, \"545399000\"], [\"SHA-256\", 39195739.362088, \"45000000\"], [\"SHA-256\", 200911.79151896, \"250000\"], [\"SHA-256\", 6243840.0, \"9736000\"], [\"SHA-256\", 2278150.0, \"80000000\"], [\"SHA-256\", 9106714.0, \"10638298\"], [\"SHA-256\", 14736400.0, \"21000000\"], [\"SHA-256\", 17927175.0, \"21000000\"], [\"SHA-256\", 18773857500.0, \"21000000000\"], [\"SHA-256\", 20166000.0, \"20166000\"], [\"SHA-256\", 84613099.9999955, \"168000000\"], [\"SHA-256\", 563336541.299966, \"888000000\"], [\"SHA-256\", 43536800.0, \"47011968\"], [\"SHA-256\", 22935396.0, \"42000000\"], [\"SHA-256\", 21089348.999, \"21000000\"], [\"SHA-256\", 2100000000.0, \"2100000000\"], [\"SHA-256\", 1317747500.0, \"2500000000\"], [\"SHA-256\", 14747200.0002, \"53760000\"], [\"SHA-256\", 52293836.62779579, \"64000000\"], [\"SHA-256\", 21739971929.0, \"21626280000 \"], [\"SHA-256\", 2360478328.70966, \"10044655075.56243680\"], [\"SHA-256\", 20997476.865023103, \"21000000\"], [\"SHA-256\", 22986929.0854247, \"42000000\"], [\"SHA-256\", 170204389.754849, \"169795588\"], [\"SHA-256\", 17992514.6469233, \"21000000\"], [\"SHA-256\", 12462620.0, \"21000000\"], [\"SHA-256\", 17995589.6469082, \"21000000\"], [\"Quark\", 8928876.68577239, \"11892000\"], [\"Quark\", 259557164.91477, \"247000000\"], [\"QuBit\", 6365285.0, \"0\"], [\"QuBit\", 12925790.4226959, \"100000000\"], [\"PHI1612\", 13969583.3757376, \"64000000\"], [\"NeoScrypt\", 5832306.875, \"31800000\"], [\"NeoScrypt\", 3824685012.0, \"4000000000\"], [\"NeoScrypt\", 4165967.57499639, \"27000000\"], [\"NeoScrypt\", 208669093.00773, \"336000000\"], [\"NeoScrypt\", 6375259.04, \"45000000\"], [\"NeoScrypt\", 3982139.24553469, \"32000000\"], [\"NeoScrypt\", 4478901.29233779, \"21000000\"], [\"NeoScrypt\", 299797953.0, \"500000000\"], [\"NeoScrypt\", 7847417.33355824, \"21000000\"], [\"NIST5\", 10123200.0, \"48252000\"], [\"NIST5\", 21069346.252259802, \"21000000\"], [\"Multiple\", 1000000000.0, \"1200000000\"], [\"Multiple\", 481730566.566176, \"660000000\"], [\"Multiple\", 11406219141.0, \"21000000000\"], [\"Multiple\", 1688254250.0, \"2000000000\"], [\"Multiple\", 15929530669.1206, \"16555000000\"], [\"Multiple\", 3332922.5, \"2800000\"], [\"Multiple\", 65113302.0, \"0\"], [\"M7 POW\", 708506520.0, \"1840000000\"], [\"Lyra2Z\", 40874452.4756771, \"210000000\"], [\"Lyra2Z\", 13634850.0, \"84000000\"], [\"Lyra2Z\", 6986399.70430446, \"10500000\"], [\"Lyra2Z\", 7568281.24956067, \"21400000\"], [\"Lyra2Z\", 27340501.6514783, \"300000000\"], [\"Lyra2REv2\", 6040583.72997153, \"32700000\"], [\"Lyra2REv2\", 643795911.540095, \"1100000000\"], [\"Lyra2REv2\", 51173723.81663471, \"84000000\"], [\"Lyra2RE\", 13742738.0, \"65789100\"], [\"Lyra2RE\", 1876146.4435959999, \"9999999\"], [\"Lyra2RE\", 5097689.71077377, \"26280000\"], [\"Lyra2RE\", 18545757.5, \"21000000\"], [\"Keccak\", 2241009149.22257, \"5000000000\"], [\"Jump Consistent Hash\", 135862416.039898, \"168000000\"], [\"IMesh\", 25000000.0, \"25000000\"], [\"HybridScryptHash256\", 40431856.9, \"200000000\"], [\"HMQ1725\", 8645406.16776286, \"21000000\"], [\"HMQ1725\", 75579791.70522141, \"207000000\"], [\"Groestl\", 73298203.8873662, \"105000000\"], [\"Groestl\", 49548585.14129171, \"84000000\"], [\"Exosis\", 406091.925, \"21000000\"], [\"Ethash\", 247612453.0, \"6500000000\"], [\"Ethash\", 12756367.0, \"280000000\"], [\"Ethash\", 26205539.0, \"26205539\"], [\"Ethash\", 1618033.0, \"1618033\"], [\"Ethash\", 10000000000.0, \"10000000000\"], [\"Ethash\", 24487944.095820397, \"24487944\"], [\"Ethash\", 10495278.0, \"16906397\"], [\"Ethash\", 520891780.0, \"10000000000\"], [\"Ethash\", 113359703.0, \"210000000\"], [\"Ethash\", 107684222.6865, \"0\"], [\"Equihash+Scrypt\", 100000000.0, \"2100000000\"], [\"Equihash\", 5613550.0, \"21000000\"], [\"Equihash\", 115898131.0, \"200000000\"], [\"Equihash\", 17202361.088994, \"21000000\"], [\"Equihash\", 71355477.0, \"70000000\"], [\"Equihash\", 13475920.0, \"105000000\"], [\"Equihash\", 7296537.5, \"21000000\"], [\"Equihash\", 7383056.25, \"21000000\"], [\"Equihash\", 6921653.89980891, \"17000000\"], [\"Equihash\", 11000068.2715789, \"11000000\"], [\"Equihash\", 4235111504.0, \"7600000000\"], [\"Equihash\", 5211553258.01514, \"21000000000\"], [\"Equihash\", 35687520.0, \"262800000\"], [\"Equihash\", 25150787.5, \"30886000\"], [\"Dagger-Hashimoto\", 2232901.0, \"2232901\"], [\"Dagger\", 5702048.0, \"30000000\"], [\"Dagger\", 107325266.02778299, \"100000000\"], [\"Dagger\", 33986980.0, \"156306732.71\"], [\"Cryptonight-GPU\", 4890897.0, \"88188888\"], [\"CryptoNight-V7\", 15580199.3087496, \"1750000000\"], [\"CryptoNight-V7\", 441250233.377, \"999481516\"], [\"CryptoNight-V7\", 69036016.8340164, \"105000000\"], [\"CryptoNight-V7\", 17201143.1449131, \"0\"], [\"CryptoNight-V7\", 10969318.522954, \"185000000\"], [\"CryptoNight Heavy\", 99553110528.8022, \"184470000000\"], [\"CryptoNight Heavy\", 19153632.0, \"150000000\"], [\"CryptoNight\", 560085952.404637, \"1000000000\"], [\"CryptoNight\", 980222595.0, \"1400222610\"], [\"CryptoNight\", 4500000.0, \"12500000\"], [\"CryptoNight\", 19281821413.4924, \"85000000000\"], [\"CryptoNight\", 41294520017.0, \"184000000000\"], [\"CryptoNight\", 84300.0, \"600000518\"], [\"CryptoNight\", 16016864.0, \"18400000\"], [\"CryptoNight\", 184066828814.0, \"184467440735\"], [\"CryptoNight\", 6906587610.38292, \"10000000000\"], [\"CryptoNight\", 7822432.72439746, \"10000000\"], [\"CryptoNight\", 133932467.77410801, \"336000000\"], [\"CryptoNight\", 9357088.0, \"25000000\"], [\"CryptoNight\", 53139835213.77, \"1000000000000\"], [\"CryptoNight\", 978145.0, \"21000000\"], [\"CryptoNight\", 1867054873.2839699, \"8080000000\"], [\"CryptoNight\", 80049082.9057215, \"1000000000\"], [\"CryptoNight\", 484454200.0, \"1000000000\"], [\"CryptoNight\", 14161803.0, \"54000000\"], [\"CryptoNight\", 1809467143.0, \"2000000000\"], [\"CryptoNight\", 8946653.0, \"88888888\"], [\"Cloverhash\", 18407259.0885883, \"30000000\"], [\"C11\", 11916588.09471, \"23000000\"], [\"Blake2b\", 33098296530.0, \"0\"], [\"Blake2b\", 133248297.0, \"340282367\"], [\"Blake\", 1578281.31341127, \"105120001.44\"], [\"Blake\", 15846721.248274697, \"25228800\"], [\"Blake\", 20595483.8480416, \"21000000\"], [\"Blake\", 24156921.986802302, \"7000000000\"], [\"Blake\", 23356790.1494191, \"7000000000\"], [\"BLAKE256\", 30089671530.5228, \" 90000000000\"], [\"Argon2d\", 19784224.6512734, \"0\"], [\"1GB AES Pattern Search\", 11448949.0, \"81962100\"]], \"hovertemplate\": \"<b>%{hovertext}</b><br><br>class=%{marker.color}<br>PC 1=%{x}<br>PC 2=%{y}<br>PC 3=%{z}<br>Algorithm=%{customdata[0]}<br>TotalCoinsMined=%{customdata[1]}<br>TotalCoinSupply=%{customdata[2]}<extra></extra>\", \"hovertext\": [\"Urals Coin\", \"Motion\", \"Xchange\", \"Bitcoin Rhodium\", \"SibCoin\", \"DigitalPrice\", \"MarsCoin \", \"ArcticCoin\", \"DAS\", \"Elements\", \"Axe\", \"PizzaCoin\", \"Onix\", \"Azart\", \"PacCoin\", \"Adzcoin\", \"VaultCoin\", \"BolivarCoin\", \"Spreadcoin\", \"MindCoin\", \"BowsCoin\", \"DACash\", \"AC3\", \"CryptCoin\", \"Pioneer Coin\", \"FuturoCoin\", \"ArtexCoin\", \"Sucre\", \"Crypto Improvement Fund\", \"Pura\", \"UroCoin\", \"Kurrent\", \"KEYCO\", \"Bitcore\", \"Folding Coin\", \"MUNcoin\", \"Aiden\", \"KiloCoin\", \"Block-Logic\", \"Argentum\", \"OsmiumCoin\", \"E-Gulden\", \"ProsperCoin\", \"Litecoin\", \"BoxyCoin\", \"PopularCoin\", \"eBoost\", \"BitFlip\", \"ShareChain\", \"LottoCoin\", \"Crypto Wisdom Coin\", \"IrishCoin\", \"EB3coin\", \"BeaverCoin\", \"Canada eCoin\", \"BenjiRolls\", \"FrazCoin\", \"Sojourn Coin\", \"NewYorkCoin\", \"Kronecoin\", \"AdCoin\", \"Linx\", \"gCn Coin\", \"SocialCoin\", \"Unify\", \"HexCoin\", \"Deimos\", \"EquiTrader\", \"CannaCoin\", \"OmniCron\", \"GreenCoin\", \"Catcoin\", \"MasterCoin\", \"Bata\", \"Pakcoin\", \"ArtByte\", \"Gulden\", \"MonaCoin\", \"PesetaCoin\", \"Wild Beast Coin\", \"Flo\", \"1Credit\", \"Revolution VR\", \"Gamecredits\", \"Digitalcoin \", \"Crypto Escudo\", \"YoCoin\", \"SmileyCoin\", \"Song Coin\", \"BitZeny\", \"KrugerCoin\", \"LuckyCoin\", \"Litebar \", \"MegaCoin\", \"MinCoin\", \"Infinite Coin\", \"Einsteinium\", \"Emerald\", \"Franko\", \"EarthCoin\", \"GrandCoin\", \"GlobalCoin\", \"GoldCoin\", \"NobleCoin\", \"NyanCoin\", \"ViaCoin\", \"WorldCoin\", \"SmartCoin\", \"RonPaulCoin\", \"StableCoin\", \"Poseidon\", \"Shilling\", \"Omni\", \"DopeCoin\", \"MoonCoin\", \"SexCoin\", \"Quatloo\", \"SolarCoin\", \"Francs\", \"Arionum\", \"JouleCoin\", \"Unobtanium\", \"ZayedCoin\", \"UnbreakableCoin\", \"DollarCoin\", \"Namecoin\", \"Bitcoin\", \"DevCoin\", \"UnitedBitcoin\", \"GlobalToken\", \"SysCoin\", \"TigerCoin\", \"TerraCoin\", \"IXcoin\", \"Project Pai\", \"ILCoin\", \"Anarchists Prime\", \"BLAST\", \"CarpeDiemCoin\", \"Manna\", \"I0coin\", \"Crown Coin\", \"ZetaCoin\", \"Bitcoin SV\", \"SoonCoin\", \"Bitcoin Cash\", \"Cosmo\", \"QuarkCoin\", \"CypherPunkCoin\", \"SLICE\", \"Argoneum\", \"GoByte\", \"UFO Coin\", \"VIVO Coin\", \"FeatherCoin\", \"Innova\", \"GoaCoin\", \"Rapture\", \"GunCoin\", \"SparksPay\", \"Coinonat\", \"Jumpcoin\", \"Circuits of Value\", \"SHIELD\", \"DigiByte\", \"MyriadCoin\", \"Verge\", \"JoinCoin\", \"Unitus\", \"Cryptonite\", \"TecraCoin\", \"Actinium\", \"GINcoin\", \"ZCoin\", \"Alpenschillling\", \"Scribe Network\", \"KREDS\", \"Vertcoin\", \"Crypto\", \"HexxCoin\", \"Infinex\", \"Zoin\", \"SmartCash\", \"MassGrid\", \"Aidos Kuneen\", \"MediterraneanCoin\", \"PlusOneCoin\", \"Brazio\", \"Groestlcoin\", \"Riecoin\", \"Exosis\", \"Callisto Network\", \"Ellaism\", \"Elementrem\", \"1717 Masonic Commemorative Token\", \"Media Protocol Token\", \"Reality Clash\", \"Expanse\", \"DaxxCoin\", \"Ethereum Classic\", \"Ethereum\", \"Vollar\", \"ZClassic\", \"Komodo\", \"Bitcoin Gold\", \"Bitrolium\", \"PirateCash\", \"Horizen\", \"ZCash\", \"Zero\", \"ChainZilla\", \"CrypticCoin\", \"BitcoinZ\", \"Beam\", \"Bithereum\", \"DubaiCoin\", \"SoilCoin\", \"Travelflex\", \"Pirl\", \"Ryo\", \"Webchain\", \"Lethean\", \"Quantum Resistant Ledger\", \"Monero\", \"Citadel\", \"Qwertycoin\", \"Loki\", \"PluraCoin\", \"Beldex\", \"BitCoal\", \"UltraNote\", \"Newton Coin\", \"PlatinCoin\", \"Monero Classic\", \"ByteCoin\", \"DigitalNote \", \"Karbo\", \"Niobio Cash\", \"Bikercoins\", \"TurtleCoin\", \"Cannabis Industry Coin\", \"FREDEnergy\", \"BitTube\", \"Bitcoin Nova\", \"LeviarCoin\", \"Dinastycoin\", \"Sumokoin\", \"ChanCoin\", \"Interzone\", \"Siacoin\", \"Nano\", \"Universal Molecule\", \"Lithium\", \"BlakeBitcoin\", \"Electron\", \"BlakeCoin\", \"Photon\", \"Dynamic\", \"HOdlcoin\"], \"legendgroup\": \"0\", \"marker\": {\"color\": [0, 0, 0, 0, 0, 0, 0, 0, 0, 0, 0, 0, 0, 0, 0, 0, 0, 0, 0, 0, 0, 0, 0, 0, 0, 0, 0, 0, 0, 0, 0, 0, 0, 0, 0, 0, 0, 0, 0, 0, 0, 0, 0, 0, 0, 0, 0, 0, 0, 0, 0, 0, 0, 0, 0, 0, 0, 0, 0, 0, 0, 0, 0, 0, 0, 0, 0, 0, 0, 0, 0, 0, 0, 0, 0, 0, 0, 0, 0, 0, 0, 0, 0, 0, 0, 0, 0, 0, 0, 0, 0, 0, 0, 0, 0, 0, 0, 0, 0, 0, 0, 0, 0, 0, 0, 0, 0, 0, 0, 0, 0, 0, 0, 0, 0, 0, 0, 0, 0, 0, 0, 0, 0, 0, 0, 0, 0, 0, 0, 0, 0, 0, 0, 0, 0, 0, 0, 0, 0, 0, 0, 0, 0, 0, 0, 0, 0, 0, 0, 0, 0, 0, 0, 0, 0, 0, 0, 0, 0, 0, 0, 0, 0, 0, 0, 0, 0, 0, 0, 0, 0, 0, 0, 0, 0, 0, 0, 0, 0, 0, 0, 0, 0, 0, 0, 0, 0, 0, 0, 0, 0, 0, 0, 0, 0, 0, 0, 0, 0, 0, 0, 0, 0, 0, 0, 0, 0, 0, 0, 0, 0, 0, 0, 0, 0, 0, 0, 0, 0, 0, 0, 0, 0, 0, 0, 0, 0, 0, 0, 0, 0, 0, 0, 0, 0, 0, 0, 0, 0, 0, 0, 0, 0, 0, 0, 0, 0, 0, 0, 0, 0, 0, 0, 0, 0, 0, 0, 0, 0], \"coloraxis\": \"coloraxis\", \"symbol\": \"diamond\"}, \"mode\": \"markers\", \"name\": \"0\", \"scene\": \"scene\", \"showlegend\": true, \"type\": \"scatter3d\", \"x\": [-0.17356728114846845, -0.1946066212464565, -0.1940144644071652, -0.0994041018329974, -0.12637755157540434, -0.22862430873466558, -0.22915272273311202, -0.22903317314057203, -0.2296319787180799, -0.1822816841676629, -0.22958648116472413, -0.22960305099462597, -0.22018143774843613, -0.22955685557581454, 0.5104004745152654, -0.22861503275559775, -0.22208419735921997, -0.22944716639861415, -0.2295156362770606, -0.22948506232619606, -0.22944844202482206, -0.22909804366367095, -0.22475040584340852, -0.22960843250777713, -0.22952755946161388, -0.22866668898707476, -0.2156736900242809, -0.22960498305539262, -0.22345387676965753, -0.22501212716763844, -0.2297885638104197, -0.2273525554160826, -0.20809329380892186, -0.12750015337174664, -0.13780383389918152, -0.11858230222243248, -0.15342771414228593, -0.0806108928431913, -0.15511396950962714, -0.1558177251154156, -0.1564108243216351, -0.15602254758339434, -0.1562148251204913, -0.15502555721052963, -0.15563553673729824, -0.06943477477166723, -0.15443900921470963, -0.1559906862575435, 0.04387799013577108, 0.1625611538550005, -0.1560421950393267, -0.15539516554009147, -0.12629275408274296, -0.15637788320952173, -0.1544408706769287, -0.1559241124960337, -0.1561721824604637, -0.07943042423564926, 1.6594781196117723, -0.15560440866871736, -0.15529414419201054, -0.1552805597749889, 3.3808274504211417, -0.15582642253176673, -0.15607045165311498, -0.1562619771471317, -0.14569059571728557, -0.15574041831516344, -0.15628598553407105, -0.15628859827070565, -0.02456071508680627, -0.15619639189302906, -0.15642967359553553, -0.15634125558382655, -0.15422245733127038, -0.13904446887626434, -0.1388510592991085, -0.1548052017073071, -0.1534756120092178, -0.15642049956951498, -0.15333511007365522, 0.5182738717601836, -0.1522353614478593, -0.15493924970181017, -0.15566417633573096, -0.1392009932622509, -0.1551993367432774, 0.585912708179501, -0.15448669383147914, -0.1536484544644155, -0.15257241978143216, -0.15604999733796654, -0.15641815914741536, -0.1556496011591417, -0.15629504174768136, 1.658403850667752, -0.15146417973416662, -0.15595982643747155, -0.1563451705539755, 0.10178728602409647, -0.1347967729478283, -0.15509479091787165, -0.15538325557972613, -0.01638956367544461, -0.14972038514402242, -0.1559794307637419, -0.1529767378910652, -0.15574159638638665, -0.15627405123148475, -0.15430113073905213, -0.15623638782241733, -0.15608087400234166, -0.15642973429251766, -0.15349159332348208, 2.6597589669059816, -0.1529713071662446, -0.15561526690858568, 0.5637148523928095, -0.15621196874143653, -0.200095787976057, -0.14413198896633853, -0.1449553412483788, -0.1448090382705131, -0.1443440890775586, -0.14476606774143339, -0.1446185899021353, -0.1445780729612478, 0.24744453532127242, -0.14455576046129992, -0.14265320809111354, -0.1312939288602981, -0.1440621100400067, -0.14436046682282822, -0.14453791920017312, -0.10289251056573404, -0.10989212771337867, -0.14437819561013493, -0.14382632407606136, 0.2897017503840384, -0.04131995414127236, -0.14453908580634922, -0.1443598124479582, -0.14155318843423267, -0.1445772432685832, -0.1446474627025838, -0.1445772042217709, -0.22445907404427554, -0.2195523099147847, -0.1956806211117262, -0.19486392913729209, -0.21405899911036952, -0.17725623641203062, -0.09966165941115376, -0.17731259835221247, -0.17244962512388673, -0.17715253501272032, -0.17727826334750116, -0.1773526278141871, -0.17008970462139578, -0.1773098538908236, -0.1872758351173208, -0.18733670157393523, -0.0976620704202417, -0.10820341636583457, 0.1796880320512489, -0.08305542891234416, 0.20452672829410548, -0.1190979923611862, -0.11833403060897094, -0.11002991216996344, -0.08392500547744866, -0.08519496401603248, -0.08581842551989917, -0.08573109766032778, -0.08343681449990502, -0.18284182135244634, -0.16691608280547077, -0.18189248709210729, -0.1425458114058295, -0.14310564445350835, -0.14294534161490557, -0.14281329879176005, -0.11631864511283284, -0.13482031834470778, -0.15706193140634467, -0.13576662649849222, -0.14763264328709622, -0.1454186030086694, -0.19072567130498966, -0.19118125853095883, -0.14223387645239777, -0.08214557948692396, -0.13074440729719816, -0.1324349199466367, -0.24440588021516182, 0.06736020362363479, -0.13246932682101878, -0.13270260978055973, -0.053006938345170035, -0.12998030098736194, -0.131592479038602, -0.12359401774532966, -0.12431787483104699, -0.17137407261107115, -0.12417071836471864, -0.1231237149654959, -0.23508041646330843, -0.1242965040026269, -0.12429540537452576, -0.12433059975856135, -0.1662181473292994, -0.015027772206399188, 0.09564491448776605, -0.12216266443854017, -0.12399728554130444, -0.1546612965522937, -0.14985962625786184, -0.14805582936693423, -0.14857414443394482, -0.1596964540131987, -0.14481865580639136, -0.14491762884787274, -0.15620406039190082, -0.15763232238897296, -0.15635469150927575, 3.2243105669451397, 0.608636907551499, 0.30523618436359934, 0.31350631799475887, 0.29093908668540075, 1.1590115766797688, 2.164583967453197, 0.29519166018903814, 0.2911285993124683, 3.9809563629802267, 0.451829729100342, 0.2909629407936311, 0.29495514233611286, 0.2910924359306221, 8.299424790164142, 0.29095670342450586, 0.37375597914417147, 0.29914060399040304, 0.30427580099548557, 0.2913661287744263, 0.32843487154413226, 0.2915557761272113, -0.17884315080232485, -0.213508780603348, 0.39712194709643434, -0.018977611588825168, -0.14190310791795419, -0.14230783576024486, -0.14227854867252201, -0.09105033770529594, -0.09106049789971811, 1.153694969844061, -0.14219446964131174, -0.16238632081529422], \"y\": [-0.902547458109592, -1.4012518385156914, -1.4012901354458778, -0.47362794372279987, -2.232260635853241, -0.939346309712528, -0.939313960677292, -0.9393298026934755, -0.939318210377637, -0.9391776293475599, -0.9393183549921813, -0.9393217318657578, -0.9398124242499666, -0.9393203440063892, -0.9890482063372171, -0.9393345147824159, -0.9397976127242349, -0.9393170485897405, -0.9393155068176583, -0.939311709215122, -0.93931420785122, -0.9393245539570924, -0.9395538197008811, -0.9393168551844885, -0.9393180243254107, -0.9393475829519932, -0.9392451376032095, -0.9393180471299148, -0.9394788795054128, -0.9394177295312548, -0.9393093111287658, -0.939400232139498, -1.1470792507100311, -2.4858139847584444, -2.1064585485687517, -2.419093690952805, -2.151348948789401, -1.0339071328276757, -1.0290341612936766, -1.0290149975075567, -1.0289887047711404, -1.0289902011137866, -1.0289959777511273, -1.0290055935410534, -1.029035435543105, -1.0299725381377707, -1.0289994879973297, -1.029002919443418, -1.030167085286019, -1.0326525152607418, -1.0289929506835633, -1.029002302455091, -1.0309609696017572, -1.0289881798766238, -1.0289995439216582, -1.0289976950908784, -1.0289939768624787, -1.0342315505492523, -0.9744315907073986, -1.0290229841057479, -1.029025179009998, -1.0290247708902986, -1.0666698274777653, -1.0290231762277213, -1.0289904000064374, -1.0289981898803795, -1.029384446491158, -1.0290184330868426, -1.028992458281749, -1.0289855056290858, -1.0322232047169013, -1.028995423957524, -1.0289877632933588, -1.0289882598802207, -1.0290520028604793, -1.0291847754060095, -1.029668405374356, -1.029014174800769, -1.0290183267980488, -1.028988933341095, -1.0290095092435676, -1.0749354831410523, -1.029012457528555, -1.0290030005851356, -1.0289989876383026, -1.0291894779033814, -1.02907152760371, -1.042673238665632, -1.0290802675580202, -1.0290837020246884, -1.029062473833966, -1.0289903060273324, -1.0289879431668154, -1.0289941116782302, -1.0289904702955934, -1.0396746296132755, -1.0290539182661298, -1.0289962341900034, -1.0289928658223073, -1.0309464829108597, -1.029359901256831, -1.0289975968263507, -1.0290078796127724, -1.035576545032718, -1.0290283097618398, -1.0289903452766882, -1.029074620853971, -1.029003497355182, -1.028997757094515, -1.0291033105249654, -1.0289966255642364, -1.0289984313180274, -1.0289877629360025, -1.029043001129537, -1.220769922802541, -1.029063358335941, -1.029034826572077, -1.0779608597584318, -1.0289951721706765, -0.456052732305321, -1.3248597144950385, -1.324852241141922, -1.324854673425207, -1.32489127846284, -1.324854031894998, -1.3248570591818416, -1.3248558419222638, -1.3281781811962599, -1.324854571298283, -1.3249038183184518, -1.3250807801751106, -1.3248590632520985, -1.3248644194098917, -1.324854635573778, -1.3250998658914723, -1.3255980632100968, -1.324873416483432, -1.3248642068825345, -1.3273594129765292, -1.3289683172335724, -1.3248546706223903, -1.3248643997503602, -1.3248720625827115, -1.3248558169956197, -1.3248579266138862, -1.324855815822527, -0.6028356448036746, -0.6028574524374983, -1.6940108992272747, -1.6940583397275475, -0.7165667961400436, -1.6439002521480233, -1.6444252346993038, -1.6438984905675478, -1.64397479874184, -1.6439066375296063, -1.6439010578613278, -1.6438953745880178, -1.644021940679103, -1.6438940895214074, -0.5995685589969952, -0.5995507725692113, -1.9054592673748036, -1.9053872899743596, -1.9113781349049517, -1.905596249244305, -1.9074325422178389, -1.9052415682141666, -1.905216600995517, -2.4142845409605185, -1.8926805602988261, -1.8926280234821005, -1.8925938515039962, -1.8925990733386135, -1.892730672372401, -1.4917196233318935, -1.4920093686199918, -1.491728026244825, -2.2989879652256007, -2.298964629339509, -2.2989715311101095, -2.298963763755415, -1.255766391486167, -2.097620041075659, -2.229218657355723, -2.272329036456508, -2.063491967112673, -2.0635593266058074, -1.3036348079745073, -1.3036333802062776, -2.26126273780382, -2.056436727290952, -2.0534198507139814, -2.053287966640732, -0.19363161436126242, -2.0544642710260144, -2.053287764068391, -2.0532893157040584, -2.0580804881744372, -2.053346510903261, -2.053243795153042, -2.0037388387743125, -2.245738589663411, -2.17530989098186, -2.24573416860856, -2.2457379817646537, -0.38612409014341875, -2.2457379476148014, -2.24573791460847, -2.245736092898828, -2.149642569626921, -2.2479102660717225, -2.254230160820079, -2.245847879517177, -2.245736073730031, -2.2663121656383374, -2.3078350366191374, -2.3078312283357985, -2.3078873278419634, -2.3035326085674996, -2.247623140276176, -2.2470859163499664, -2.246781180118792, -2.246748514326354, -2.246843286812288, -2.296487351324701, -2.242403426515306, -2.317640377982547, -2.31767998296736, -2.317359140365916, -2.3524505229985557, -2.3934966807833424, -2.3176542420122184, -2.317357693412497, -2.3392634436907085, -2.319714125614065, -2.3173566242975423, -2.3174713292770552, -2.3173635303301565, -2.796515015591891, -2.3173647291099537, -2.320677762889252, -2.3178235088762, -2.317669230996319, -2.317376180917158, -2.3176631802115937, -2.317395595120843, -2.12353477994602, -1.3304290197847939, -2.319743568780556, -2.3324894650584267, -2.192508913185406, -2.192463569575645, -2.1924596459522556, -2.195943829478132, -2.1959441347231405, -1.3106588843558231, -2.0895382755328673, -2.2508885218168286], \"z\": [0.15451553826015604, 0.059199512564225364, 0.05919124752771749, -0.03203346186993432, 0.5448571226736647, 0.05756385323892218, 0.057571465946254695, 0.057570851931431695, 0.05758273813644299, 0.05650536670904137, 0.0575817392901244, 0.05758254901179921, 0.057435620050671723, 0.057581335285526204, 0.04749680952011566, 0.05756211204298603, 0.05747625339764443, 0.057578453340959485, 0.057579784337613855, 0.05757860667535139, 0.057578112486100556, 0.057571620396663754, 0.057504187995817066, 0.05758203525618865, 0.05758037838197072, 0.05756496672651761, 0.05726102912470497, 0.05758211309283148, 0.05746544370316219, 0.05749234587669256, 0.057585083312148705, 0.057542419377444115, 0.08353745991208504, 0.5657916865158779, 0.3480325401378013, 0.5131549783830582, 0.33554953879317273, -0.02327843952742912, -0.02224566000886419, -0.022232410903901628, -0.02222256385966982, -0.022231053933300955, -0.022226002083907195, -0.022251352263270772, -0.022233828340454096, -0.024040040819198052, -0.02226526558960352, -0.022230112790340487, -0.026549227667814163, -0.028880646922823036, -0.022230256943471277, -0.022243513122947138, -0.022639761819734247, -0.022223368911737977, -0.02226521668203499, -0.022232281189153318, -0.022227216058512644, -0.02326265855812029, -0.0699330059869724, -0.02223614367243767, -0.022242797998319304, -0.022243154911716165, -0.0964407688684471, -0.022231152871877505, -0.022229956593119993, -0.022224659779554387, -0.022410885779510944, -0.022233693301768852, -0.022224868071624063, -0.022225713699657573, -0.024751087142903656, -0.022226486393673188, -0.022222264677297997, -0.0222241777644997, -0.022263280625099642, -0.022585504366576175, -0.02252694300347026, -0.022255165150433742, -0.022284364397055903, -0.02222231773048356, -0.02228865359015001, -0.03133878849629823, -0.022312868466966305, -0.022253619884034927, -0.0222379271490536, -0.022581391886062854, -0.022238891769653716, -0.037046801901958776, -0.022253695090350235, -0.022271997529778126, -0.02229882570929781, -0.022230426318256842, -0.022222498833436834, -0.022238887185264133, -0.022224924011757685, -0.061425293043361126, -0.02232472638435882, -0.022231672333781417, -0.02222349127776824, -0.02774314722842433, -0.022657741271638332, -0.022250843531210415, -0.02224305430576135, -0.024497810916560923, -0.022367060034469043, -0.022231999588107183, -0.022288202761719673, -0.022235609075130922, -0.02222444599265793, -0.02225484928515166, -0.02222543555115307, -0.022228679147090088, -0.02222226336614689, -0.022280798487177268, -0.060274570353275915, -0.022289788719634933, -0.02223436090459772, -0.03196177811218678, -0.02222617072424005, 0.0058216305922578655, 0.23306859112859746, 0.23308603540169065, 0.23308307929499175, 0.2330774395314381, 0.2330820347470216, 0.23307912973153352, 0.23307806520009453, 0.22474164515519632, 0.2330774009111316, 0.2330412499166876, 0.23281018586312616, 0.23306694345336132, 0.23307431331790882, 0.23307701021074625, 0.23217740868415127, 0.23239875181507955, 0.23307587976815794, 0.23306233842878338, 0.22369000537255712, 0.23130322832295988, 0.2330770408618499, 0.23307429612503575, 0.23301251634351286, 0.23307804340096783, 0.2330798883278919, 0.23307804237506227, 0.02827778713437184, 0.028170872469963838, 0.1560213275473917, 0.1560092292555953, -0.002945069827087558, 0.22196021585295211, 0.220292910445091, 0.22196124744734014, 0.22186239907657426, 0.22195872665176122, 0.22196081330137257, 0.22196173761539764, 0.2218157443298942, 0.22196061378459514, -0.014052988475469513, -0.014053939871242383, 0.3244342279461013, 0.3246606485005135, 0.31900033747839224, 0.32412533095744206, 0.31793171308717494, 0.3248853806777154, 0.3248650464885181, 0.4248058471490891, 0.21924299896375182, 0.21926457285481557, 0.219274074463505, 0.21927280019344972, 0.21923859569485663, 0.2502633631057072, 0.24994482580572397, 0.2502432218466891, 0.37895171850254517, 0.37896120596268457, 0.3789585178954225, 0.37895455446821624, 0.08145433007772791, 0.3514716799091614, 0.3100454379338464, 0.295796146407504, 0.4742210628385077, 0.47418029994722555, 0.14395959068753508, 0.14396959522216782, 0.3053757907947623, 0.39596162208389135, 0.39665634903545943, 0.39667701184101645, 0.15871576457046094, 0.39236112053026845, 0.39667775508402664, 0.39668317472253967, 0.39552361513237805, 0.3966297216267162, 0.39665242512632226, 0.525036419291796, 0.4727064265700165, 0.873668016649272, 0.47270256021975815, 0.4726796375645587, 0.23472359261132686, 0.4727058650784967, 0.47270583621343093, 0.4727063865310859, 0.6123034532642125, 0.4705443053588781, 0.4688906609147831, 0.47267243182571844, 0.4726989287476721, 0.44341253490647076, 0.3673530853295429, 0.36731224432557513, 0.36733113229167275, 0.28537146542196035, 0.35156213870857334, 0.35149449613782796, 0.35170731603493627, 0.3517350145936075, 0.35171876108378164, 0.2959207410518964, 0.34739327759466865, 0.3912223313658537, 0.3910425019191408, 0.39150554687238526, 0.37665223830600103, 0.35949775959094016, 0.39144880156573086, 0.39150111986374064, 0.3118186184058552, 0.38821310439490053, 0.39150468615437123, 0.39143030728353884, 0.39150268772195335, 0.2746841132841103, 0.3915058795517623, 0.3900846957922839, 0.39138248503995143, 0.391247564225652, 0.39149821097308696, 0.39070640774730026, 0.3914964935695572, 0.34206243077824167, 0.08673943792272619, 0.3210714694528847, 0.33203580762706036, 0.42669196639506984, 0.42669512288407363, 0.42669395761853174, 0.4260011837154294, 0.42600145066170303, 0.11698542188976527, 0.4335627666226764, 0.33384940537406105]}, {\"customdata\": [[\"TRC10\", 989988713439.649, \"990000000000\"]], \"hovertemplate\": \"<b>%{hovertext}</b><br><br>class=%{marker.color}<br>PC 1=%{x}<br>PC 2=%{y}<br>PC 3=%{z}<br>Algorithm=%{customdata[0]}<br>TotalCoinsMined=%{customdata[1]}<br>TotalCoinSupply=%{customdata[2]}<extra></extra>\", \"hovertext\": [\"BitTorrent\"], \"legendgroup\": \"2\", \"marker\": {\"color\": [2], \"coloraxis\": \"coloraxis\", \"symbol\": \"square\"}, \"mode\": \"markers\", \"name\": \"2\", \"scene\": \"scene\", \"showlegend\": true, \"type\": \"scatter3d\", \"x\": [35.42273475509366], \"y\": [1.6568342288813116], \"z\": [-0.8964189142839196]}, {\"customdata\": [[\"SHA-256 + Hive\", 638382332.208514, \"840000000\"], [\"Proof-of-BibleHash\", 1772091549.88818, \"5200000000\"], [\"Proof-of-Authority\", 204479039.0, \"252460800\"], [\"Leased POS\", 100000000.0, \"100000000\"], [\"ECC 256K1\", 1000000000.0, \"1000000000\"]], \"hovertemplate\": \"<b>%{hovertext}</b><br><br>class=%{marker.color}<br>PC 1=%{x}<br>PC 2=%{y}<br>PC 3=%{z}<br>Algorithm=%{customdata[0]}<br>TotalCoinsMined=%{customdata[1]}<br>TotalCoinSupply=%{customdata[2]}<extra></extra>\", \"hovertext\": [\"LitecoinCash\", \"BiblePay\", \"Poa Network\", \"Waves\", \"Acute Angle Cloud\"], \"legendgroup\": \"3\", \"marker\": {\"color\": [3, 3, 3, 3, 3], \"coloraxis\": \"coloraxis\", \"symbol\": \"x\"}, \"mode\": \"markers\", \"name\": \"3\", \"scene\": \"scene\", \"showlegend\": true, \"type\": \"scatter3d\", \"x\": [-0.3268076667619793, -0.20696902374039436, -0.42681151878381063, -0.45369321014109826, -0.2735370408523714], \"y\": [2.6897137512499274, 3.955301962885054, 2.348550935316648, 3.796059001753691, 4.306267331535241], \"z\": [14.90674133443192, 13.021668411981658, 19.899871246652783, 13.163679190035825, 9.349669309362207]}],                        {\"coloraxis\": {\"colorbar\": {\"title\": {\"text\": \"class\"}}, \"colorscale\": [[0.0, \"#0d0887\"], [0.1111111111111111, \"#46039f\"], [0.2222222222222222, \"#7201a8\"], [0.3333333333333333, \"#9c179e\"], [0.4444444444444444, \"#bd3786\"], [0.5555555555555556, \"#d8576b\"], [0.6666666666666666, \"#ed7953\"], [0.7777777777777778, \"#fb9f3a\"], [0.8888888888888888, \"#fdca26\"], [1.0, \"#f0f921\"]]}, \"legend\": {\"title\": {\"text\": \"class\"}, \"tracegroupgap\": 0, \"x\": 0, \"y\": 1}, \"margin\": {\"t\": 60}, \"scene\": {\"domain\": {\"x\": [0.0, 1.0], \"y\": [0.0, 1.0]}, \"xaxis\": {\"title\": {\"text\": \"PC 1\"}}, \"yaxis\": {\"title\": {\"text\": \"PC 2\"}}, \"zaxis\": {\"title\": {\"text\": \"PC 3\"}}}, \"template\": {\"data\": {\"bar\": [{\"error_x\": {\"color\": \"#2a3f5f\"}, \"error_y\": {\"color\": \"#2a3f5f\"}, \"marker\": {\"line\": {\"color\": \"#E5ECF6\", \"width\": 0.5}}, \"type\": \"bar\"}], \"barpolar\": [{\"marker\": {\"line\": {\"color\": \"#E5ECF6\", \"width\": 0.5}}, \"type\": \"barpolar\"}], \"carpet\": [{\"aaxis\": {\"endlinecolor\": \"#2a3f5f\", \"gridcolor\": \"white\", \"linecolor\": \"white\", \"minorgridcolor\": \"white\", \"startlinecolor\": \"#2a3f5f\"}, \"baxis\": {\"endlinecolor\": \"#2a3f5f\", \"gridcolor\": \"white\", \"linecolor\": \"white\", \"minorgridcolor\": \"white\", \"startlinecolor\": \"#2a3f5f\"}, \"type\": \"carpet\"}], \"choropleth\": [{\"colorbar\": {\"outlinewidth\": 0, \"ticks\": \"\"}, \"type\": \"choropleth\"}], \"contour\": [{\"colorbar\": {\"outlinewidth\": 0, \"ticks\": \"\"}, \"colorscale\": [[0.0, \"#0d0887\"], [0.1111111111111111, \"#46039f\"], [0.2222222222222222, \"#7201a8\"], [0.3333333333333333, \"#9c179e\"], [0.4444444444444444, \"#bd3786\"], [0.5555555555555556, \"#d8576b\"], [0.6666666666666666, \"#ed7953\"], [0.7777777777777778, \"#fb9f3a\"], [0.8888888888888888, \"#fdca26\"], [1.0, \"#f0f921\"]], \"type\": \"contour\"}], \"contourcarpet\": [{\"colorbar\": {\"outlinewidth\": 0, \"ticks\": \"\"}, \"type\": \"contourcarpet\"}], \"heatmap\": [{\"colorbar\": {\"outlinewidth\": 0, \"ticks\": \"\"}, \"colorscale\": [[0.0, \"#0d0887\"], [0.1111111111111111, \"#46039f\"], [0.2222222222222222, \"#7201a8\"], [0.3333333333333333, \"#9c179e\"], [0.4444444444444444, \"#bd3786\"], [0.5555555555555556, \"#d8576b\"], [0.6666666666666666, \"#ed7953\"], [0.7777777777777778, \"#fb9f3a\"], [0.8888888888888888, \"#fdca26\"], [1.0, \"#f0f921\"]], \"type\": \"heatmap\"}], \"heatmapgl\": [{\"colorbar\": {\"outlinewidth\": 0, \"ticks\": \"\"}, \"colorscale\": [[0.0, \"#0d0887\"], [0.1111111111111111, \"#46039f\"], [0.2222222222222222, \"#7201a8\"], [0.3333333333333333, \"#9c179e\"], [0.4444444444444444, \"#bd3786\"], [0.5555555555555556, \"#d8576b\"], [0.6666666666666666, \"#ed7953\"], [0.7777777777777778, \"#fb9f3a\"], [0.8888888888888888, \"#fdca26\"], [1.0, \"#f0f921\"]], \"type\": \"heatmapgl\"}], \"histogram\": [{\"marker\": {\"colorbar\": {\"outlinewidth\": 0, \"ticks\": \"\"}}, \"type\": \"histogram\"}], \"histogram2d\": [{\"colorbar\": {\"outlinewidth\": 0, \"ticks\": \"\"}, \"colorscale\": [[0.0, \"#0d0887\"], [0.1111111111111111, \"#46039f\"], [0.2222222222222222, \"#7201a8\"], [0.3333333333333333, \"#9c179e\"], [0.4444444444444444, \"#bd3786\"], [0.5555555555555556, \"#d8576b\"], [0.6666666666666666, \"#ed7953\"], [0.7777777777777778, \"#fb9f3a\"], [0.8888888888888888, \"#fdca26\"], [1.0, \"#f0f921\"]], \"type\": \"histogram2d\"}], \"histogram2dcontour\": [{\"colorbar\": {\"outlinewidth\": 0, \"ticks\": \"\"}, \"colorscale\": [[0.0, \"#0d0887\"], [0.1111111111111111, \"#46039f\"], [0.2222222222222222, \"#7201a8\"], [0.3333333333333333, \"#9c179e\"], [0.4444444444444444, \"#bd3786\"], [0.5555555555555556, \"#d8576b\"], [0.6666666666666666, \"#ed7953\"], [0.7777777777777778, \"#fb9f3a\"], [0.8888888888888888, \"#fdca26\"], [1.0, \"#f0f921\"]], \"type\": \"histogram2dcontour\"}], \"mesh3d\": [{\"colorbar\": {\"outlinewidth\": 0, \"ticks\": \"\"}, \"type\": \"mesh3d\"}], \"parcoords\": [{\"line\": {\"colorbar\": {\"outlinewidth\": 0, \"ticks\": \"\"}}, \"type\": \"parcoords\"}], \"pie\": [{\"automargin\": true, \"type\": \"pie\"}], \"scatter\": [{\"marker\": {\"colorbar\": {\"outlinewidth\": 0, \"ticks\": \"\"}}, \"type\": \"scatter\"}], \"scatter3d\": [{\"line\": {\"colorbar\": {\"outlinewidth\": 0, \"ticks\": \"\"}}, \"marker\": {\"colorbar\": {\"outlinewidth\": 0, \"ticks\": \"\"}}, \"type\": \"scatter3d\"}], \"scattercarpet\": [{\"marker\": {\"colorbar\": {\"outlinewidth\": 0, \"ticks\": \"\"}}, \"type\": \"scattercarpet\"}], \"scattergeo\": [{\"marker\": {\"colorbar\": {\"outlinewidth\": 0, \"ticks\": \"\"}}, \"type\": \"scattergeo\"}], \"scattergl\": [{\"marker\": {\"colorbar\": {\"outlinewidth\": 0, \"ticks\": \"\"}}, \"type\": \"scattergl\"}], \"scattermapbox\": [{\"marker\": {\"colorbar\": {\"outlinewidth\": 0, \"ticks\": \"\"}}, \"type\": \"scattermapbox\"}], \"scatterpolar\": [{\"marker\": {\"colorbar\": {\"outlinewidth\": 0, \"ticks\": \"\"}}, \"type\": \"scatterpolar\"}], \"scatterpolargl\": [{\"marker\": {\"colorbar\": {\"outlinewidth\": 0, \"ticks\": \"\"}}, \"type\": \"scatterpolargl\"}], \"scatterternary\": [{\"marker\": {\"colorbar\": {\"outlinewidth\": 0, \"ticks\": \"\"}}, \"type\": \"scatterternary\"}], \"surface\": [{\"colorbar\": {\"outlinewidth\": 0, \"ticks\": \"\"}, \"colorscale\": [[0.0, \"#0d0887\"], [0.1111111111111111, \"#46039f\"], [0.2222222222222222, \"#7201a8\"], [0.3333333333333333, \"#9c179e\"], [0.4444444444444444, \"#bd3786\"], [0.5555555555555556, \"#d8576b\"], [0.6666666666666666, \"#ed7953\"], [0.7777777777777778, \"#fb9f3a\"], [0.8888888888888888, \"#fdca26\"], [1.0, \"#f0f921\"]], \"type\": \"surface\"}], \"table\": [{\"cells\": {\"fill\": {\"color\": \"#EBF0F8\"}, \"line\": {\"color\": \"white\"}}, \"header\": {\"fill\": {\"color\": \"#C8D4E3\"}, \"line\": {\"color\": \"white\"}}, \"type\": \"table\"}]}, \"layout\": {\"annotationdefaults\": {\"arrowcolor\": \"#2a3f5f\", \"arrowhead\": 0, \"arrowwidth\": 1}, \"autotypenumbers\": \"strict\", \"coloraxis\": {\"colorbar\": {\"outlinewidth\": 0, \"ticks\": \"\"}}, \"colorscale\": {\"diverging\": [[0, \"#8e0152\"], [0.1, \"#c51b7d\"], [0.2, \"#de77ae\"], [0.3, \"#f1b6da\"], [0.4, \"#fde0ef\"], [0.5, \"#f7f7f7\"], [0.6, \"#e6f5d0\"], [0.7, \"#b8e186\"], [0.8, \"#7fbc41\"], [0.9, \"#4d9221\"], [1, \"#276419\"]], \"sequential\": [[0.0, \"#0d0887\"], [0.1111111111111111, \"#46039f\"], [0.2222222222222222, \"#7201a8\"], [0.3333333333333333, \"#9c179e\"], [0.4444444444444444, \"#bd3786\"], [0.5555555555555556, \"#d8576b\"], [0.6666666666666666, \"#ed7953\"], [0.7777777777777778, \"#fb9f3a\"], [0.8888888888888888, \"#fdca26\"], [1.0, \"#f0f921\"]], \"sequentialminus\": [[0.0, \"#0d0887\"], [0.1111111111111111, \"#46039f\"], [0.2222222222222222, \"#7201a8\"], [0.3333333333333333, \"#9c179e\"], [0.4444444444444444, \"#bd3786\"], [0.5555555555555556, \"#d8576b\"], [0.6666666666666666, \"#ed7953\"], [0.7777777777777778, \"#fb9f3a\"], [0.8888888888888888, \"#fdca26\"], [1.0, \"#f0f921\"]]}, \"colorway\": [\"#636efa\", \"#EF553B\", \"#00cc96\", \"#ab63fa\", \"#FFA15A\", \"#19d3f3\", \"#FF6692\", \"#B6E880\", \"#FF97FF\", \"#FECB52\"], \"font\": {\"color\": \"#2a3f5f\"}, \"geo\": {\"bgcolor\": \"white\", \"lakecolor\": \"white\", \"landcolor\": \"#E5ECF6\", \"showlakes\": true, \"showland\": true, \"subunitcolor\": \"white\"}, \"hoverlabel\": {\"align\": \"left\"}, \"hovermode\": \"closest\", \"mapbox\": {\"style\": \"light\"}, \"paper_bgcolor\": \"white\", \"plot_bgcolor\": \"#E5ECF6\", \"polar\": {\"angularaxis\": {\"gridcolor\": \"white\", \"linecolor\": \"white\", \"ticks\": \"\"}, \"bgcolor\": \"#E5ECF6\", \"radialaxis\": {\"gridcolor\": \"white\", \"linecolor\": \"white\", \"ticks\": \"\"}}, \"scene\": {\"xaxis\": {\"backgroundcolor\": \"#E5ECF6\", \"gridcolor\": \"white\", \"gridwidth\": 2, \"linecolor\": \"white\", \"showbackground\": true, \"ticks\": \"\", \"zerolinecolor\": \"white\"}, \"yaxis\": {\"backgroundcolor\": \"#E5ECF6\", \"gridcolor\": \"white\", \"gridwidth\": 2, \"linecolor\": \"white\", \"showbackground\": true, \"ticks\": \"\", \"zerolinecolor\": \"white\"}, \"zaxis\": {\"backgroundcolor\": \"#E5ECF6\", \"gridcolor\": \"white\", \"gridwidth\": 2, \"linecolor\": \"white\", \"showbackground\": true, \"ticks\": \"\", \"zerolinecolor\": \"white\"}}, \"shapedefaults\": {\"line\": {\"color\": \"#2a3f5f\"}}, \"ternary\": {\"aaxis\": {\"gridcolor\": \"white\", \"linecolor\": \"white\", \"ticks\": \"\"}, \"baxis\": {\"gridcolor\": \"white\", \"linecolor\": \"white\", \"ticks\": \"\"}, \"bgcolor\": \"#E5ECF6\", \"caxis\": {\"gridcolor\": \"white\", \"linecolor\": \"white\", \"ticks\": \"\"}}, \"title\": {\"x\": 0.05}, \"xaxis\": {\"automargin\": true, \"gridcolor\": \"white\", \"linecolor\": \"white\", \"ticks\": \"\", \"title\": {\"standoff\": 15}, \"zerolinecolor\": \"white\", \"zerolinewidth\": 2}, \"yaxis\": {\"automargin\": true, \"gridcolor\": \"white\", \"linecolor\": \"white\", \"ticks\": \"\", \"title\": {\"standoff\": 15}, \"zerolinecolor\": \"white\", \"zerolinewidth\": 2}}}, \"width\": 800},                        {\"responsive\": true}                    ).then(function(){\n",
       "                            \n",
       "var gd = document.getElementById('899cefd6-b3f8-42c5-b875-fd24ed128f23');\n",
       "var x = new MutationObserver(function (mutations, observer) {{\n",
       "        var display = window.getComputedStyle(gd).display;\n",
       "        if (!display || display === 'none') {{\n",
       "            console.log([gd, 'removed!']);\n",
       "            Plotly.purge(gd);\n",
       "            observer.disconnect();\n",
       "        }}\n",
       "}});\n",
       "\n",
       "// Listen for the removal of the full notebook cells\n",
       "var notebookContainer = gd.closest('#notebook-container');\n",
       "if (notebookContainer) {{\n",
       "    x.observe(notebookContainer, {childList: true});\n",
       "}}\n",
       "\n",
       "// Listen for the clearing of the current output cell\n",
       "var outputEl = gd.closest('.output');\n",
       "if (outputEl) {{\n",
       "    x.observe(outputEl, {childList: true});\n",
       "}}\n",
       "\n",
       "                        })                };                });            </script>        </div>"
      ]
     },
     "metadata": {},
     "output_type": "display_data"
    }
   ],
   "source": [
    "# Create a 3D-Scatter with the PCA data and the clusters\n",
    "fig = px.scatter_3d(\n",
    "    clustered_df_complete, \n",
    "    x=\"PC 1\", \n",
    "    y=\"PC 2\", \n",
    "    z=\"PC 3\", \n",
    "    color=\"class\", \n",
    "    symbol=\"class\",\n",
    "    width=800,\n",
    "    hover_name=\"CoinName\", \n",
    "    hover_data=[\"Algorithm\", \"TotalCoinsMined\", \"TotalCoinSupply\"]\n",
    ")\n",
    "fig.update_layout(legend=dict(x=0, y=1))\n",
    "fig.show()"
   ]
  },
  {
   "cell_type": "markdown",
   "metadata": {},
   "source": [
    "#### Table of Tradable Cryptocurrencies"
   ]
  },
  {
   "cell_type": "code",
   "execution_count": 148,
   "metadata": {},
   "outputs": [
    {
     "data": {},
     "metadata": {},
     "output_type": "display_data"
    },
    {
     "data": {
      "application/vnd.holoviews_exec.v0+json": "",
      "text/html": [
       "<div id='1189'>\n",
       "\n",
       "\n",
       "\n",
       "\n",
       "\n",
       "  <div class=\"bk-root\" id=\"73759fc7-c62a-4ba5-a6a5-2276443c0839\" data-root-id=\"1189\"></div>\n",
       "</div>\n",
       "<script type=\"application/javascript\">(function(root) {\n",
       "  function embed_document(root) {\n",
       "  var docs_json = {\"655f17ae-46a3-4154-b83f-ea3604796b08\":{\"roots\":{\"references\":[{\"attributes\":{},\"id\":\"1192\",\"type\":\"Selection\"},{\"attributes\":{\"editor\":{\"id\":\"1219\"},\"field\":\"class\",\"formatter\":{\"id\":\"1218\"},\"title\":\"class\"},\"id\":\"1220\",\"type\":\"TableColumn\"},{\"attributes\":{},\"id\":\"1213\",\"type\":\"StringFormatter\"},{\"attributes\":{},\"id\":\"1204\",\"type\":\"StringEditor\"},{\"attributes\":{},\"id\":\"1199\",\"type\":\"StringEditor\"},{\"attributes\":{\"margin\":[5,5,5,5],\"name\":\"HSpacer01899\",\"sizing_mode\":\"stretch_width\"},\"id\":\"1227\",\"type\":\"Spacer\"},{\"attributes\":{},\"id\":\"1225\",\"type\":\"UnionRenderers\"},{\"attributes\":{},\"id\":\"1198\",\"type\":\"StringFormatter\"},{\"attributes\":{\"margin\":[5,5,5,5],\"name\":\"HSpacer01898\",\"sizing_mode\":\"stretch_width\"},\"id\":\"1190\",\"type\":\"Spacer\"},{\"attributes\":{},\"id\":\"1209\",\"type\":\"NumberEditor\"},{\"attributes\":{\"format\":\"0,0.0[00000]\"},\"id\":\"1208\",\"type\":\"NumberFormatter\"},{\"attributes\":{\"editor\":{\"id\":\"1199\"},\"field\":\"Algorithm\",\"formatter\":{\"id\":\"1198\"},\"title\":\"Algorithm\"},\"id\":\"1200\",\"type\":\"TableColumn\"},{\"attributes\":{\"editor\":{\"id\":\"1194\"},\"field\":\"CoinName\",\"formatter\":{\"id\":\"1193\"},\"title\":\"CoinName\"},\"id\":\"1195\",\"type\":\"TableColumn\"},{\"attributes\":{},\"id\":\"1219\",\"type\":\"IntEditor\"},{\"attributes\":{},\"id\":\"1214\",\"type\":\"StringEditor\"},{\"attributes\":{\"children\":[{\"id\":\"1190\"},{\"id\":\"1223\"},{\"id\":\"1227\"}],\"margin\":[0,0,0,0],\"name\":\"Row01894\",\"tags\":[\"embedded\"]},\"id\":\"1189\",\"type\":\"Row\"},{\"attributes\":{\"editor\":{\"id\":\"1204\"},\"field\":\"ProofType\",\"formatter\":{\"id\":\"1203\"},\"title\":\"ProofType\"},\"id\":\"1205\",\"type\":\"TableColumn\"},{\"attributes\":{},\"id\":\"1194\",\"type\":\"StringEditor\"},{\"attributes\":{\"editor\":{\"id\":\"1209\"},\"field\":\"TotalCoinsMined\",\"formatter\":{\"id\":\"1208\"},\"title\":\"TotalCoinsMined\"},\"id\":\"1210\",\"type\":\"TableColumn\"},{\"attributes\":{\"data\":{\"Algorithm\":[\"XEVAN\",\"XEVAN\",\"XEVAN\",\"XEVAN\",\"XEVAN\",\"XEVAN\",\"X16R\",\"X16R\",\"X16R\",\"X16R\",\"X15\",\"X15\",\"X15\",\"X15\",\"X14\",\"X13\",\"X13\",\"X13\",\"X13\",\"X13\",\"X13\",\"X13\",\"X13\",\"X13\",\"X13\",\"X13\",\"X13\",\"X13\",\"X13\",\"X13\",\"X13\",\"X13\",\"X11GOST\",\"X11\",\"X11\",\"X11\",\"X11\",\"X11\",\"X11\",\"X11\",\"X11\",\"X11\",\"X11\",\"X11\",\"X11\",\"X11\",\"X11\",\"X11\",\"X11\",\"X11\",\"X11\",\"X11\",\"X11\",\"X11\",\"X11\",\"X11\",\"X11\",\"X11\",\"X11\",\"X11\",\"X11\",\"X11\",\"X11\",\"X11\",\"X11\",\"X11\",\"X11\",\"X11\",\"X11\",\"X11\",\"X11\",\"X11\",\"X11\",\"X11\",\"X11\",\"X11\",\"X11\",\"X11\",\"X11\",\"X11\",\"X11\",\"X11\",\"X11\",\"X11\",\"X11\",\"X11\",\"X11\",\"X11\",\"X11\",\"X11\",\"X11\",\"X11\",\"X11\",\"X11\",\"X11\",\"X11\",\"X11\",\"X11\",\"X11\",\"X11\",\"X11\",\"X11\",\"X11\",\"X11\",\"X11\",\"X11\",\"X11\",\"X11\",\"X11\",\"X11\",\"X11\",\"VeChainThor Authority\",\"VBFT\",\"Tribus\",\"Tribus\",\"Time Travel\",\"TRC10\",\"Stanford Folding\",\"SkunkHash v2 Raptor\",\"SkunkHash\",\"Skein\",\"Skein\",\"Skein\",\"Skein\",\"Shabal256\",\"Semux BFT consensus\",\"ScryptOG\",\"Scrypt\",\"Scrypt\",\"Scrypt\",\"Scrypt\",\"Scrypt\",\"Scrypt\",\"Scrypt\",\"Scrypt\",\"Scrypt\",\"Scrypt\",\"Scrypt\",\"Scrypt\",\"Scrypt\",\"Scrypt\",\"Scrypt\",\"Scrypt\",\"Scrypt\",\"Scrypt\",\"Scrypt\",\"Scrypt\",\"Scrypt\",\"Scrypt\",\"Scrypt\",\"Scrypt\",\"Scrypt\",\"Scrypt\",\"Scrypt\",\"Scrypt\",\"Scrypt\",\"Scrypt\",\"Scrypt\",\"Scrypt\",\"Scrypt\",\"Scrypt\",\"Scrypt\",\"Scrypt\",\"Scrypt\",\"Scrypt\",\"Scrypt\",\"Scrypt\",\"Scrypt\",\"Scrypt\",\"Scrypt\",\"Scrypt\",\"Scrypt\",\"Scrypt\",\"Scrypt\",\"Scrypt\",\"Scrypt\",\"Scrypt\",\"Scrypt\",\"Scrypt\",\"Scrypt\",\"Scrypt\",\"Scrypt\",\"Scrypt\",\"Scrypt\",\"Scrypt\",\"Scrypt\",\"Scrypt\",\"Scrypt\",\"Scrypt\",\"Scrypt\",\"Scrypt\",\"Scrypt\",\"Scrypt\",\"Scrypt\",\"Scrypt\",\"Scrypt\",\"Scrypt\",\"Scrypt\",\"Scrypt\",\"Scrypt\",\"Scrypt\",\"Scrypt\",\"Scrypt\",\"Scrypt\",\"Scrypt\",\"Scrypt\",\"Scrypt\",\"Scrypt\",\"Scrypt\",\"Scrypt\",\"Scrypt\",\"Scrypt\",\"Scrypt\",\"Scrypt\",\"Scrypt\",\"Scrypt\",\"Scrypt\",\"Scrypt\",\"Scrypt\",\"Scrypt\",\"Scrypt\",\"Scrypt\",\"Scrypt\",\"Scrypt\",\"Scrypt\",\"Scrypt\",\"Scrypt\",\"Scrypt\",\"Scrypt\",\"Scrypt\",\"Scrypt\",\"Scrypt\",\"Scrypt\",\"Scrypt\",\"Scrypt\",\"Scrypt\",\"Scrypt\",\"Scrypt\",\"Scrypt\",\"Scrypt\",\"Scrypt\",\"Scrypt\",\"Scrypt\",\"Scrypt\",\"Scrypt\",\"Scrypt\",\"Scrypt\",\"Scrypt\",\"Scrypt\",\"Scrypt\",\"Scrypt\",\"Scrypt\",\"Scrypt\",\"Scrypt\",\"Scrypt\",\"Scrypt\",\"Scrypt\",\"Scrypt\",\"Scrypt\",\"Scrypt\",\"Scrypt\",\"Scrypt\",\"Scrypt\",\"Scrypt\",\"Scrypt\",\"Scrypt\",\"Scrypt\",\"Scrypt\",\"Scrypt\",\"Scrypt\",\"Scrypt\",\"Scrypt\",\"Scrypt\",\"Scrypt\",\"Scrypt\",\"Scrypt\",\"Scrypt\",\"Scrypt\",\"Scrypt\",\"Scrypt\",\"Scrypt\",\"Scrypt\",\"Scrypt\",\"Scrypt\",\"Scrypt\",\"Scrypt\",\"Scrypt\",\"Scrypt\",\"Scrypt\",\"Scrypt\",\"Scrypt\",\"Scrypt\",\"Scrypt\",\"Scrypt\",\"Scrypt\",\"Scrypt\",\"Scrypt\",\"Scrypt\",\"Scrypt\",\"Scrypt\",\"Scrypt\",\"Scrypt\",\"Scrypt\",\"Scrypt\",\"Scrypt\",\"Scrypt\",\"Scrypt\",\"Scrypt\",\"Scrypt\",\"Scrypt\",\"Scrypt\",\"Scrypt\",\"Scrypt\",\"Scrypt\",\"Scrypt\",\"Scrypt\",\"Scrypt\",\"Scrypt\",\"Scrypt\",\"Scrypt\",\"Scrypt\",\"Scrypt\",\"SHA3\",\"SHA3\",\"SHA-512\",\"SHA-512\",\"SHA-512\",\"SHA-512\",\"SHA-512\",\"SHA-256D\",\"SHA-256D\",\"SHA-256D\",\"SHA-256D\",\"SHA-256D\",\"SHA-256 + Hive\",\"SHA-256\",\"SHA-256\",\"SHA-256\",\"SHA-256\",\"SHA-256\",\"SHA-256\",\"SHA-256\",\"SHA-256\",\"SHA-256\",\"SHA-256\",\"SHA-256\",\"SHA-256\",\"SHA-256\",\"SHA-256\",\"SHA-256\",\"SHA-256\",\"SHA-256\",\"SHA-256\",\"SHA-256\",\"SHA-256\",\"SHA-256\",\"SHA-256\",\"SHA-256\",\"SHA-256\",\"SHA-256\",\"SHA-256\",\"SHA-256\",\"SHA-256\",\"SHA-256\",\"SHA-256\",\"SHA-256\",\"SHA-256\",\"SHA-256\",\"SHA-256\",\"SHA-256\",\"SHA-256\",\"SHA-256\",\"SHA-256\",\"SHA-256\",\"SHA-256\",\"SHA-256\",\"SHA-256\",\"SHA-256\",\"SHA-256\",\"SHA-256\",\"SHA-256\",\"SHA-256\",\"SHA-256\",\"SHA-256\",\"SHA-256\",\"Quark\",\"Quark\",\"Quark\",\"Quark\",\"Quark\",\"Quark\",\"Quark\",\"Quark\",\"Quark\",\"Quark\",\"Quark\",\"Quark\",\"Quark\",\"Quark\",\"Quark\",\"Quark\",\"QuBit\",\"QuBit\",\"QuBit\",\"QUAIT\",\"Proof-of-BibleHash\",\"Proof-of-Authority\",\"PoS\",\"PoS\",\"PoS\",\"PoS\",\"PoS\",\"PoS\",\"PoS\",\"PoS\",\"PoS\",\"PoS\",\"PoS\",\"PoS\",\"PoS\",\"PoS\",\"PoS\",\"PoS\",\"PoS\",\"POS 3.0\",\"POS 3.0\",\"POS 3.0\",\"POS 2.0\",\"PHI2\",\"PHI1612\",\"PHI1612\",\"PHI1612\",\"PHI1612\",\"Ouroboros\",\"NeoScrypt\",\"NeoScrypt\",\"NeoScrypt\",\"NeoScrypt\",\"NeoScrypt\",\"NeoScrypt\",\"NeoScrypt\",\"NeoScrypt\",\"NeoScrypt\",\"NeoScrypt\",\"NeoScrypt\",\"NeoScrypt\",\"NeoScrypt\",\"NIST5\",\"NIST5\",\"NIST5\",\"NIST5\",\"NIST5\",\"NIST5\",\"NIST5\",\"NIST5\",\"NIST5\",\"NIST5\",\"Multiple\",\"Multiple\",\"Multiple\",\"Multiple\",\"Multiple\",\"Multiple\",\"Multiple\",\"Multiple\",\"Multiple\",\"M7 POW\",\"Lyra2Z\",\"Lyra2Z\",\"Lyra2Z\",\"Lyra2Z\",\"Lyra2Z\",\"Lyra2Z\",\"Lyra2REv2\",\"Lyra2REv2\",\"Lyra2REv2\",\"Lyra2REv2\",\"Lyra2REv2\",\"Lyra2RE\",\"Lyra2RE\",\"Lyra2RE\",\"Lyra2RE\",\"Leased POS\",\"Keccak\",\"Keccak\",\"Jump Consistent Hash\",\"IMesh\",\"HybridScryptHash256\",\"HMQ1725\",\"HMQ1725\",\"Groestl\",\"Groestl\",\"Groestl\",\"Groestl\",\"Green Protocol\",\"Exosis\",\"Ethash\",\"Ethash\",\"Ethash\",\"Ethash\",\"Ethash\",\"Ethash\",\"Ethash\",\"Ethash\",\"Ethash\",\"Ethash\",\"Equihash+Scrypt\",\"Equihash\",\"Equihash\",\"Equihash\",\"Equihash\",\"Equihash\",\"Equihash\",\"Equihash\",\"Equihash\",\"Equihash\",\"Equihash\",\"Equihash\",\"Equihash\",\"Equihash\",\"ECC 256K1\",\"Dagger-Hashimoto\",\"Dagger\",\"Dagger\",\"Dagger\",\"DPoS\",\"DPoS\",\"DPoS\",\"DPoS\",\"DPoS\",\"DPoS\",\"DPoS\",\"Cryptonight-GPU\",\"CryptoNight-V7\",\"CryptoNight-V7\",\"CryptoNight-V7\",\"CryptoNight-V7\",\"CryptoNight-V7\",\"CryptoNight Heavy\",\"CryptoNight Heavy\",\"CryptoNight\",\"CryptoNight\",\"CryptoNight\",\"CryptoNight\",\"CryptoNight\",\"CryptoNight\",\"CryptoNight\",\"CryptoNight\",\"CryptoNight\",\"CryptoNight\",\"CryptoNight\",\"CryptoNight\",\"CryptoNight\",\"CryptoNight\",\"CryptoNight\",\"CryptoNight\",\"CryptoNight\",\"CryptoNight\",\"CryptoNight\",\"CryptoNight\",\"Counterparty\",\"Cloverhash\",\"C11\",\"C11\",\"Blake2b\",\"Blake2b\",\"Blake2S\",\"Blake\",\"Blake\",\"Blake\",\"Blake\",\"Blake\",\"BLAKE256\",\"BLAKE256\",\"Argon2d\",\"536\",\"1GB AES Pattern Search\"],\"CoinName\":[\"Beetle Coin\",\"Bettex coin\",\"Urals Coin\",\"Bitcoin Incognito\",\"BitMoney\",\"Ellerium\",\"Trivechain\",\"Motion\",\"Proton\",\"Xchange\",\"KoboCoin\",\"EverGreenCoin\",\"HTML5 Coin\",\"Dekado\",\"GanjaCoin V2\",\"StealthCoin\",\"DeepOnion\",\"Bitcoin Diamond\",\"Sativa Coin\",\"Kore\",\"Triangles Coin\",\"OpalCoin\",\"Tokyo Coin\",\"NavCoin\",\"BritCoin\",\"Paycon\",\"EmberCoin\",\"RoyalCoin\",\"Bitcoin Rhodium\",\"MudraCoin\",\"FindCoin\",\"EliteCoin\",\"SibCoin\",\"CapriCoin\",\"DigitalPrice\",\"IslaCoin\",\"MarsCoin \",\"ArcticCoin\",\"Junson Ming Chan Coin\",\"DAS\",\"MustangCoin\",\"Elements\",\"Regalcoin\",\"Axe\",\"Creditbit \",\"Enigma\",\"GoldBlocks\",\"Lutetium Coin\",\"PizzaCoin\",\"Monoeci\",\"Ucoin\",\"Onix\",\"ARENON\",\"Impact\",\"Azart\",\"VirtacoinPlus\",\"Hitcoin\",\"PacCoin\",\"Ratecoin\",\"Adzcoin\",\"VaultCoin\",\"EuropeCoin\",\"BolivarCoin\",\"PinkCoin\",\"PAXEX\",\"Spreadcoin\",\"MindCoin\",\"EUNO\",\"BowsCoin\",\"TruckCoin\",\"Squall Coin\",\"GoldReserve\",\"BitSend\",\"Condensate\",\"HappyCoin\",\"Piggy Coin\",\"KushCoin\",\"DACash\",\"Insane Coin\",\"AC3\",\"CryptCoin\",\"BitSoar Coin\",\"IOCoin\",\"XenixCoin\",\"BetKings\",\"SuperCoin\",\"SyncCoin\",\"HyperStake\",\"Pioneer Coin\",\"Monkey Project\",\"Dash\",\"FuturoCoin\",\"Dash Platinum\",\"Halloween Coin\",\"PhantomX\",\"ArtexCoin\",\"Sucre\",\"InsaneCoin\",\"DigiMoney\",\"Stakenet\",\"Crypto Improvement Fund\",\"X11 Coin\",\"Pushi\",\"Pura\",\"UroCoin\",\"Reliance\",\"TorCoin\",\"Kurrent\",\"Award\",\"Eternity\",\"Magnet\",\"Vechain\",\"Ontology\",\"KEYCO\",\"Averopay\",\"Bitcore\",\"BitTorrent\",\"Folding Coin\",\"Signatum\",\"MUNcoin\",\"Cream\",\"BashCoin\",\"Bitcoin Planet\",\"Lizus Payment\",\"BurstCoin\",\"Semux\",\"Aiden\",\"Russiacoin\",\"Printerium\",\"KiloCoin\",\"Impeach\",\"MoneyCoin\",\"BitcoinFast\",\"Oduwa\",\"BitConnect Coin\",\"Block-Logic\",\"PandaCoin\",\"Aurora Coin\",\"Argentum\",\"OsmiumCoin\",\"Klingon Empire Darsek\",\"Credit\",\"GAKHcoin\",\"GameUnits\",\"PLNCoin\",\"Nasdacoin\",\"AquariusCoin\",\"E-Gulden\",\"ProsperCoin\",\"Listerclassic Coin\",\"Mercoin\",\"Cash & Back Coin\",\"Parlay\",\"Litecoin\",\"BoxyCoin\",\"HollyWoodCoin\",\"GermanCoin\",\"LiteCoin Ultra\",\"PopularCoin\",\"Swisscoin\",\"Xt3ch\",\"TerraNovaCoin\",\"WomenCoin\",\"Lynx\",\"Xios\",\"eBoost\",\"BlackholeCoin\",\"EmaratCoin\",\"Accolade\",\"BitFlip\",\"Abjcoin\",\"MedicCoin\",\"ShareChain\",\"Ignition\",\"Briacoin\",\"LottoCoin\",\"OmiseGO Classic\",\"404Coin\",\"Velox\",\"Unified Society USDEX\",\"My Big Coin\",\"Crypto Wisdom Coin\",\"ECC\",\"Litecoin Plus\",\"Trollcoin\",\"IrishCoin\",\"iDealCash\",\"MYCE\",\"Zilbercoin\",\"RenosCoin\",\"EB3coin\",\"Independent Money System\",\"ArgusCoin\",\"LomoCoin\",\"DivotyCoin\",\"BeaverCoin\",\"FirstCoin\",\"OpenChat\",\"Canada eCoin\",\"Gapcoin\",\"ThunderStake\",\"BenjiRolls\",\"GrowthCoin\",\"FrazCoin\",\"Draftcoin\",\"Sojourn Coin\",\"NewYorkCoin\",\"Kronecoin\",\"MMOCoin\",\"AdCoin\",\"Linx\",\"CoinonatX\",\"BitcoinPlus\",\"Ethereum Dark\",\"GambleCoin\",\"Peony Coin\",\"gCn Coin\",\"Linda\",\"SocialCoin\",\"Unify\",\"HexCoin\",\"Deimos\",\"TPCash\",\"EquiTrader\",\"Degas Coin\",\" ClubCoin\",\"CannaCoin\",\"CryptoBullion\",\"OmniCron\",\"Vtorrent\",\"GreenCoin\",\"Catcoin\",\"XiaoMiCoin\",\"MasterCoin\",\"Bata\",\"Pakcoin\",\"ArtByte\",\"Gulden\",\"WhiteCoin\",\"HiCoin\",\"MonaCoin\",\"RubyCoin\",\"PesetaCoin\",\"Wild Beast Coin\",\"Dnotes\",\"Flo\",\"8BIT Coin\",\"1Credit\",\"Revolution VR\",\"Gamecredits\",\"AudioCoin\",\"BillaryCoin\",\"GPU Coin\",\"Digitalcoin \",\"Crypto Escudo\",\"YoCoin\",\"BitBar\",\"Genstake\",\"SmileyCoin\",\"Diggits\",\"Song Coin\",\"BitZeny\",\"KrugerCoin\",\"LuckyCoin\",\"Litebar \",\"MegaCoin\",\"MintCoin\",\"MinCoin\",\"Nautilus Coin\",\"Infinite Coin\",\"HoboNickels\",\"FlutterCoin\",\"Einsteinium\",\"Emerald\",\"ShardCoin\",\"Franko\",\"EarthCoin\",\"GrandCoin\",\"GlobalCoin\",\"GoldCoin\",\"NobleCoin\",\"NyanCoin\",\"ZCC Coin\",\"UnitaryStatus Dollar\",\"UltraCoin\",\"ViaCoin\",\"VeriCoin\",\"WorldCoin\",\"SmartCoin\",\"RonPaulCoin\",\"PotCoin\",\"PhoenixCoin\",\"Reddcoin\",\"StableCoin\",\"CasinoCoin\",\"42 Coin\",\"EnergyCoin\",\"BitCurrency\",\"Poseidon\",\"Swiscoin\",\"OrangeCoin\",\"Shilling\",\"Omni\",\"DopeCoin\",\"LiteDoge\",\"MoonCoin\",\"ZoneCoin\",\"Frankywillcoin\",\"SexCoin\",\"iBankCoin\",\"PutinCoin\",\"Quatloo\",\"RootCoin\",\"SolarCoin\",\"CarterCoin\",\"HyperCoin\",\"BitstarCoin\",\"BlueCoin\",\"PesoBit\",\"SafeExchangeCoin\",\"Francs\",\"ZeitCoin\",\"MaxCoin\",\"Nexus\",\"Obsidian\",\"Arionum\",\"TWIST\",\"Bitshares\",\"Kcash\",\"Cognitio\",\"TheVig\",\"Titan Coin\",\"BuzzCoin\",\"LanaCoin\",\"LitecoinCash\",\"Infinity Economics\",\"JouleCoin\",\"BitTokens\",\"Unobtanium\",\"ZayedCoin\",\"UnbreakableCoin\",\"DollarCoin\",\"Namecoin\",\"Bitcoin\",\"DevCoin\",\"UnitedBitcoin\",\"Eurocoin\",\"MazaCoin\",\"GlobalToken\",\"TigerCash\",\"SysCoin\",\"TigerCoin\",\"TerraCoin\",\"Credence Coin\",\"IXcoin\",\"Project Pai\",\"Revenu\",\"ProCurrency\",\"Clockcoin\",\"ILCoin\",\"Anarchists Prime\",\"Internet of People\",\"BLAST\",\"Ultimate Secure Cash\",\"SwingCoin\",\"NeosCoin\",\"CarpeDiemCoin\",\"DubaiCoin\",\"Manna\",\"EDRCoin\",\"IncaKoin\",\"I0coin\",\"Emercoin\",\"Crown Coin\",\"PayCoin\",\"Neutron\",\"BitcoinWSpectrum\",\"ZetaCoin\",\"OKCash\",\"Theresa May Coin\",\"ZEPHYR\",\"Bitcoin SV\",\"SoonCoin\",\"BitcoinDark\",\"Bitcoin Cash\",\"Cosmo\",\"QuarkCoin\",\"Vitae\",\"Giant\",\"DACH Coin\",\"Dystem\",\"Allsafe\",\"Bitcloud 2.0\",\"HerbCoin\",\"Alqo\",\"Kalkulus\",\"Carebit\",\"Digiwage\",\"Galilel\",\"Crypto Sports\",\"Poseidon Quark\",\"CypherPunkCoin\",\"SLICE\",\"LiteCreed\",\"Droidz\",\"BiblePay\",\"Poa Network\",\"Ketan\",\"Particl\",\"Zealium\",\"Nxt\",\"Deviant Coin\",\"Radium\",\"FreeCoin\",\"Creatio\",\"Atmos\",\"TeamUP\",\"Exclusive Coin\",\"Stakecoin\",\"Nebuchadnezzar\",\"CoffeeCoin\",\"Phreak\",\"MacronCoin\",\"Opair\",\"Let it Ride\",\"QTUM\",\"TokenPay\",\"KekCoin\",\"Gexan\",\"LUXCoin\",\"Argoneum\",\"TittieCoin\",\"Seraph\",\"Cardano\",\"SimpleBank\",\"GoByte\",\"UFO Coin\",\"FriendshipCoin\",\"Orbitcoin\",\"TrezarCoin\",\"VIVO Coin\",\"FeatherCoin\",\"Innova\",\"GoaCoin\",\"Rapture\",\"GunCoin\",\"SparksPay\",\"PWR Coin\",\"Bitspace\",\"VIP Tokens\",\"Bulwark\",\"NamoCoin\",\"Virta Unique Coin\",\"Coinonat\",\"Jumpcoin\",\"Electra\",\"Denarius\",\"Circuits of Value\",\"SHIELD\",\"TeslaCoin\",\"DigiByte\",\"MyriadCoin\",\"Verge\",\"JoinCoin\",\"Crypti\",\"Unitus\",\"Cryptonite\",\"TecraCoin\",\"Actinium\",\"GINcoin\",\"ZCoin\",\"Alpenschillling\",\"LAPO\",\"Scribe Network\",\"KREDS\",\"Rupee\",\"Vertcoin\",\"Absolute Coin\",\"Crypto\",\"HexxCoin\",\"Infinex\",\"Zoin\",\"Waves\",\"XDNA\",\"SmartCash\",\"MassGrid\",\"Aidos Kuneen\",\"MediterraneanCoin\",\"PlusOneCoin\",\"Brazio\",\"FairCoin\",\"Groestlcoin\",\"Diamond\",\"Riecoin\",\"Bitcoin Green\",\"Exosis\",\"Callisto Network\",\"Ellaism\",\"Elementrem\",\"1717 Masonic Commemorative Token\",\"Media Protocol Token\",\"Reality Clash\",\"Expanse\",\"DaxxCoin\",\"Ethereum Classic\",\"Ethereum\",\"Vollar\",\"ZClassic\",\"Komodo\",\"Bitcoin Gold\",\"Bitrolium\",\"PirateCash\",\"Horizen\",\"ZCash\",\"Zero\",\"ChainZilla\",\"CrypticCoin\",\"BitcoinZ\",\"Beam\",\"Bithereum\",\"Acute Angle Cloud\",\"DubaiCoin\",\"SoilCoin\",\"Travelflex\",\"Pirl\",\"EOS\",\"Lisk\",\"Muse\",\"ALAX\",\"Oxycoin\",\"Lamden Tau\",\"ARK\",\"Ryo\",\"Webchain\",\"Lethean\",\"Quantum Resistant Ledger\",\"Monero\",\"Citadel\",\"Qwertycoin\",\"Loki\",\"PluraCoin\",\"Beldex\",\"BitCoal\",\"UltraNote\",\"Newton Coin\",\"PlatinCoin\",\"Monero Classic\",\"ByteCoin\",\"DigitalNote \",\"Karbo\",\"Niobio Cash\",\"Bikercoins\",\"TurtleCoin\",\"Cannabis Industry Coin\",\"FREDEnergy\",\"BitTube\",\"Bitcoin Nova\",\"LeviarCoin\",\"Dinastycoin\",\"Sumokoin\",\"StorjCoin\",\"ChanCoin\",\"Stipend\",\"Interzone\",\"Siacoin\",\"Nano\",\"TajCoin\",\"Universal Molecule\",\"Lithium\",\"BlakeBitcoin\",\"Electron\",\"BlakeCoin\",\"Decred\",\"Photon\",\"Dynamic\",\"Espers\",\"HOdlcoin\"],\"ProofType\":[\"PoW/PoS\",\"PoS\",\"PoW\",\"PoS/PoW\",\"Pos\",\"PoW/PoS\",\"PoW/PoS\",\"PoW\",\"PoS\",\"PoW\",\"PoW/PoS\",\"PoW/PoS\",\"PoW/PoS\",\"PoS\",\"PoW/PoS\",\"PoW/PoS\",\"PoW/PoS\",\"PoW/PoS\",\"PoW/PoS\",\"PoW/PoS\",\"PoW/PoS\",\"PoW/PoS\",\"PoS\",\"PoW/PoS\",\"PoW/PoS\",\"PoW/PoS\",\"PoW/PoS\",\"PoS\",\"PoW\",\"PoS\",\"PoS\",\"PoW/PoS\",\"PoW\",\"PoW/PoS\",\"PoW\",\"PoW/PoS\",\"PoW\",\"PoW\",\"PoS\",\"PoW\",\"PoW/PoS\",\"PoW\",\"PoW/PoS\",\"PoW\",\"Proof of Trust\",\"PoW/PoS\",\"PoW/PoS\",\"PoS\",\"PoW\",\"PoW/PoS\",\"PoS\",\"PoW\",\"PoS\",\"PoW/PoS\",\"PoW\",\"PoW/PoS\",\"PoW/PoS\",\"PoW\",\"PoW/PoS\",\"PoW\",\"PoW\",\"PoW/PoS\",\"PoW\",\"PoW/PoS\",\"PoS\",\"PoW\",\"PoW\",\"PoW/PoS\",\"PoW\",\"PoW/PoS\",\"PoS/PoW\",\"PoW/PoS\",\"PoW/PoS\",\"PoW/PoS\",\"PoW/PoS\",\"PoW/PoS\",\"PoW/PoS\",\"PoW\",\"PoW/PoS\",\"PoW\",\"PoW\",\"PoS\",\"PoW/PoS\",\"PoW/PoS\",\"PoS\",\"PoS\",\"PoW/PoS\",\"PoS\",\"PoW\",\"PoS\",\"PoW/PoS\",\"PoW\",\"PoS\",\"PoW/PoS\",\"PoW/PoS\",\"PoW\",\"PoW\",\"PoW/PoS\",\"PoW/PoS\",\"TPoS\",\"PoW\",\"PoW/PoS\",\"PoW/PoS\",\"PoW\",\"PoW\",\"PoS\",\"PoW/PoS\",\"PoW\",\"PoW/PoS\",\"PoW/PoS\",\"PoW/PoS\",\"Proof of Authority\",\"PoS\",\"PoW\",\"PoW/PoS\",\"PoW\",\"DPoS\",\"PoW\",\"PoS\",\"PoW\",\"PoW/PoS\",\"PoW/PoS\",\"PoW/PoS\",\"PoW/PoS\",\"PoC\",\"DPoS\",\"PoW\",\"PoW/PoS\",\"PoW/PoS\",\"PoW\",\"PoW/PoS\",\"PoW/PoS\",\"PoW/PoS\",\"PoW/PoS\",\"PoW/PoS\",\"PoW\",\"PoS\",\"PoW/PoS\",\"PoW\",\"PoW\",\"PoW/PoS\",\"PoW/PoS\",\"PoW/PoS\",\"PoW/PoS\",\"PoW/PoS\",\"PoW/PoS\",\"PoW/PoS\",\"PoW\",\"PoW\",\"PoW/PoS\",\"PoW/PoS\",\"PoW/PoS\",\"PoS\",\"PoW\",\"PoW\",\"PoS\",\"PoW/PoS\",\"PoW/PoS\",\"PoW\",\"PoW/PoS\",\"PoS\",\"PoW/PoS\",\"PoW/PoS\",\"HPoW\",\"PoW/PoS\",\"PoW\",\"PoW/PoS\",\"PoW/PoS\",\"PoW/PoS\",\"PoW\",\"PoW/PoS\",\"PoS\",\"PoW\",\"PoW/PoS\",\"PoW/PoS\",\"PoW\",\"PoW/PoS\",\"PoW/PoS\",\"PoS\",\"PoW/PoS\",\"PoW and PoS\",\"PoW\",\"PoS\",\"PoW/PoS\",\"PoW/PoS\",\"PoW\",\"PoW/PoS\",\"PoW/PoS\",\"PoS\",\"PoS\",\"PoW\",\"PoW/PoS\",\"PoW/PoS\",\"PoW/PoS\",\"PoW/PoS\",\"PoW\",\"PoW/PoS \",\"PoW/PoS\",\"PoW\",\"PoW/PoS\",\"PoW/PoS\",\"PoW\",\"PoS\",\"PoW\",\"PoS\",\"PoW\",\"PoW\",\"PoW\",\"PoS\",\"PoW\",\"PoW\",\"PoW/PoS\",\"PoS\",\"PoW/PoS\",\"PoS\",\"PoS\",\"PoW\",\"PoW/PoS\",\"PoW\",\"PoW\",\"PoW\",\"PoW\",\"PoW/PoS\",\"PoW\",\"PoW/PoS\",\"PoW/PoS\",\"PoW\",\"PoW/PoS\",\"PoW\",\"PoW/PoS\",\"PoW\",\"PoW\",\"PoW/PoS\",\"PoW\",\"PoW\",\"PoW\",\"PoW\",\"PoW\",\"PoW/PoS\",\"PoS\",\"PoW\",\"PoS\",\"PoW\",\"PoW\",\"PoS\",\"PoW\",\"PoW/PoS\",\"PoW\",\"PoW\",\"PoW\",\"PoW/PoS\",\"PoW/PoS\",\"PoS\",\"PoW\",\"PoW\",\"PoW\",\"PoW/PoS\",\"PoW/PoS\",\"PoW\",\"PoS\",\"PoW\",\"PoW\",\"PoW\",\"PoW\",\"PoW\",\"PoW\",\"PoS\",\"PoW\",\"PoS\",\"PoW\",\"PoW/PoS\",\"PoS/PoW/PoT\",\"PoW\",\"PoW\",\"PoS\",\"PoW\",\"PoW\",\"PoW\",\"PoW\",\"PoW\",\"PoW\",\"PoW\",\"PoW/PoS\",\"PoW/PoS\",\"PoW/PoS\",\"PoW\",\"PoST\",\"PoW\",\"PoW\",\"PoW\",\"PoW/PoS\",\"PoW/PoS\",\"PoW/PoS\",\"PoW\",\"PoC\",\"PoW/PoS\",\"PoW/PoS\",\"PoS\",\"PoW\",\"PoW/PoW\",\"PoW/PoS\",\"PoW\",\"PoW\",\"PoW\",\"PoW/PoS\",\"PoW\",\"PoW/PoS\",\"PoW/PoS\",\"PoW\",\"PoW/PoS\",\"PoW/PoS\",\"PoW\",\"PoW/PoS\",\"PoW\",\"PoW/PoS\",\"PoW/PoS\",\"PoW/PoS\",\"PoW/PoS\",\"PoW/PoS\",\"PoC\",\"PoW\",\"PoS\",\"PoW/PoS\",\"PoW/nPoS\",\"PoS\",\"PoW\",\"PoS\",\"PoS\",\"Zero-Knowledge Proof\",\"PoW/PoS\",\"PoW/PoS\",\"PoW/PoS\",\"PoW/PoS\",\"PoW/PoS\",\"PoW + Hive\",\"PoS\",\"PoW\",\"PoW/PoS\",\"PoW\",\"PoW\",\"PoW\",\"PoW\",\"PoW\",\"PoW\",\"PoW\",\"PoW\",\"PoW/PoS\",\"PoW/PoS\",\"PoW\",\"PoS\",\"PoW\",\"PoW\",\"PoW\",\"PoW/PoS\",\"PoW\",\"PoW\",\"PoW/PoS\",\"PoS\",\"PoW/PoS\",\"PoW\",\"PoW\",\"PoW/PoS\",\"PoW\",\"PoS\",\"PoW/PoS\",\"PoS\",\"PoW\",\"PoW/PoS\",\"PoW\",\"PoW/PoS\",\"PoW/PoS\",\"PoW\",\"PoW/PoS\",\"PoW\",\"PoS\",\"PoW/PoS\",\"PoS\",\"PoW\",\"PoW/PoS\",\"PoW/PoS\",\"DPoS\",\"PoW\",\"PoW\",\"PoW/PoS\",\"PoW\",\"PoW\",\"PoW\",\"PoS\",\"PoW/PoS\",\"PoS\",\"PoS\",\"PoS\",\"PoW/PoS\",\"PoW/PoS\",\"PoW/PoS\",\"PoS\",\"PoW/PoS\",\"PoS\",\"PoW/PoS\",\"PoS\",\"PoS\",\"PoW\",\"PoW\",\"PoW/PoS\",\"PoW/PoS\",\"POBh\",\"PoA\",\"PoS\",\"PoS\",\"PoS\",\"PoS/LPoS\",\"PoS\",\"PoS\",\"PoS\",\"PoS\",\"PoS\",\"PoS\",\"PoS\",\"PoS\",\"PoS\",\"PoS\",\"PoS\",\"PoS\",\"PoS\",\"PoS\",\"PoS\",\"PoS\",\"PoS\",\"PoW/PoS\",\"PoW/PoS\",\"PoW\",\"PoS\",\"PoW/PoS\",\"PoS\",\"PoW/PoS\",\"PoW\",\"PoW\",\"PoW/PoS\",\"PoW/PoS\",\"PoW/PoS\",\"PoW\",\"PoW\",\"PoW\",\"PoW\",\"PoW\",\"PoW\",\"PoW\",\"PoW/PoS\",\"PoW/PoS\",\"PoW/PoS\",\"PoS\",\"PoW/PoS\",\"PoW/PoS\",\"PoW\",\"PoW\",\"PoW/PoS\",\"PoW/PoS\",\"PoW\",\"PoW\",\"PoS\",\"PoW\",\"PoW\",\"PoW\",\"PoW\",\"PoS\",\"PoW\",\"PoW\",\"PoW\",\"PoW\",\"PoW\",\"PoW\",\"PoW\",\"PoW/PoS\",\"PoW\",\"PoW\",\"PoS\",\"PoW\",\"PoW/PoS\",\"PoW\",\"PoW\",\"PoW\",\"PoW\",\"LPoS\",\"PoW/PoS\",\"PoW\",\"PoW\",\"PoW\",\"PoW\",\"PoW\",\"PoW\",\"PoW/PoS\",\"PoW\",\"PoW/PoS\",\"PoW\",\"PoS\",\"PoW\",\"PoW\",\"PoW\",\"PoW\",\"PoS\",\"PoW\",\"PoW\",\"PoW\",\"PoW\",\"PoW\",\"PoW\",\"PoW\",\"PoW\",\"dPoW/PoW\",\"PoW\",\"PoW\",\"PoS\",\"PoW\",\"PoW\",\"PoW\",\"DPoW\",\"PoW\",\"PoW\",\"PoW\",\"PoW\",\"DPOS\",\"PoW\",\"PoW\",\"PoW\",\"PoW\",\"DPoS\",\"DPoS\",\"PoS\",\"DPoS\",\"DPoS\",\"DPoS\",\"DPoS\",\"PoW\",\"PoW\",\"PoW\",\"PoW\",\"PoW\",\"PoW\",\"PoW\",\"PoW\",\"PoW\",\"PoW\",\"PoW\",\"PoW\",\"PoW\",\"PoW\",\"PoW\",\"PoW\",\"PoW\",\"PoW\",\"PoW\",\"PoW\",\"PoW\",\"PoW\",\"PoW\",\"PoW\",\"PoW\",\"PoW\",\"PoW\",\"PoW\",\"PoS\",\"PoW\",\"PoW/PoS\",\"PoW\",\"PoW\",\"PoW\",\"PoW/PoS\",\"PoW\",\"PoW\",\"PoW\",\"PoW\",\"PoW\",\"PoW/PoS\",\"PoW\",\"PoW\",\"PoW/PoS\",\"PoW\"],\"TotalCoinSupply\":[\"500000000\",\"50000000\",\"210000000\",\"21000000\",\"70000000000\",\"60000000\",\"82546564\",\"22075700\",\"45000000\",\"100000000\",\"350000000\",\"26298000\",\"90000000000\",\"90000000\",\"100000000\",\"0\",\"18898187.6216583\",\"210000000\",\"10000000\",\"12000000\",\"120000\",\"0\",\"800000000\",\"0\",\"30000000\",\"50000000\",\"850000000\",\"2500124\",\"2100000\",\"200000000\",\"14524851.4827\",\"314159265359\",\"24000000\",\"208000000\",\"100000000\",\"0\",\"33000000\",\"60000000\",\"0\",\"18900000\",\"3000000\",\"1800000000\",\"27000000\",\"21000000\",\"16504333\",\"5000000\",\"50000000\",\"657000000\",\"25000000\",\"9507271\",\"20000000\",\"1100000000\",\"55000000\",\"110000000\",\"25000000\",\"100000000\",\"26550000000\",\"100000000000\",\"75000000\",\"84000000\",\"1000000000\",\"384000000\",\"25000000\",\"500000000\",\"100000000\",\"20000000\",\"16000000\",\"50000000\",\"21000000\",\"0\",\"0\",\"40000000\",\"139000000\",\"500000000\",\"100000000\",\"1000000000\",\"9354000\",\"50000000\",\"30000000\",\"550000000\",\"18000000\",\"3980000000\",\"22000000\",\"3853326.77707314\",\"8148139\",\"0\",\"1000\",\"0\",\"23000000\",\"21000000\",\"22000000\",\"100000000\",\"19700000\",\"1500000000\",\"50000000\",\"500000000\",\"19800000\",\"30000000\",\"25000000\",\"76500000\",\"500000000\",\"5500000\",\"25000000\",\"350000000\",\"0\",\"62000000\",\"10000000\",\"228000000\",\"420000000\",\"60000000\",\"144000000\",\"86712634466\",\"1000000000\",\"18000000\",\"36500000\",\"21000000\",\"990000000000\",\"1000000000\",\"137500000\",\"16600000\",\"100000000\",\"72000000\",\"100000000\",\"69000000\",\"2158812800\",\"100000000\",\"84000000\",\"144000000\",\"20000000\",\"10000000000\",\"21933333\",\"650659833\",\"33000000\",\"21000000\",\"28000000\",\"120000000\",\"32514916898\",\"16768584\",\"64000000\",\"2714286\",\"500000000\",\"74800000000\",\"3315789\",\"13000000\",\"38540000 \",\"84000000\",\"42000000\",\"21000000 \",\"21000000\",\"110000000\",\"100000000\",\"210000000\",\"30000000\",\"84000000\",\"100000000\",\"26000000\",\"50000000000\",\"150000000\",\"4999999999\",\"10200000000\",\"44000000\",\"15733333\",\"25000000000\",\"92000000000\",\"21000000\",\"100000000\",\"14788275.991\",\"84000000\",\"50000000\",\"40000000\",\"30000000\",\"500000000\",\"10000000000\",\"5000000\",\"3000000\",\"18406979840\",\"70000000\",\"532000000\",\"124000000\",\"232000000\",\"30000000\",\"24000000\",\"25000000000\",\"4000000\",\"900000000\",\"64000000\",\"5121951220\",\"250000000\",\"55000000\",\"34426423\",\"4000000000\",\"21212121\",\"28600000\",\"1000000000\",\"100000000\",\"3360000\",\"110000000\",\"1000000000\",\"100000000 \",\"250000000\",\"18000000000\",\"35520400\",\"2000000000\",\"20000000\",\"17405891.19707116\",\"10500000000\",\"0\",\"84000000\",\"260000000\",\"100000000\",\"100000000\",\"48252000\",\"1000000\",\"4200000\",\"15600000\",\"16880000000\",\"200000000000\",\"50000000000\",\" 75000000\",\"19276800\",\"22105263\",\"1000000000\",\"1000000000\",\"72000000\",\"105000000\",\"160000000\",\"13140000\",\"1000000\",\"3371337\",\"20000000\",\"10000000000\",\"21000000 \",\"400000000\",\"619478\",\"5000000\",\"182000000\",\"1000000000\",\"1680000000\",\"300000000\",\"10008835635\",\"105120000\",\"0\",\"166386000\",\"2628000\",\"500000000\",\"160000000\",\"0\",\"92000000000\",\"210000000\",\"84000000\",\"10500000000\",\"42000000\",\"221052632\",\"48166000\",\"1000000000\",\"168351300\",\"500000\",\"15000000\",\"50000000000\",\"100000000\",\"210240000\",\"250000000\",\"265420800\",\"20000000\",\"1350000\",\"42000000\",\"0\",\"10000000\",\"16180000\",\"90600000000\",\"120000000\",\"0\",\"299792458\",\"32000000\",\"900000000\",\"11235813\",\"13500000000\",\"1420609614\",\"70000000\",\"72245700\",\"15000000000\",\"337000000\",\"1000000000\",\"1600000000\",\"100000000\",\"23000000\",\"0\",\"265420800\",\"51200000\",\"21000000\",\"420000000\",\"98000000\",\"0\",\"250000000\",\"40000000000\",\"42\",\"0\",\"0\",\"21000000\",\"3100000000\",\"200000000\",\"30000000\",\"616448\",\"200000000\",\"35000000000\",\"384000000000\",\"21000000\",\"100000000\",\"250000000\",\"44333333\",\"2000000000\",\"100000000\",\"0\",\"98100000000\",\"90000000\",\"0\",\"54256119\",\"0\",\"0\",\"2147483647\",\"20000000\",\" 99000000000\",\"100000000\",\"78000000\",\"91388946\",\"545399000\",\"200000000\",\"3600570502\",\"1000000000\",\"7500000\",\"100000000\",\"5000000000\",\"20000000000\",\"7506000000\",\"840000000\",\"9000000000\",\"45000000\",\"21000000\",\"250000\",\"9736000\",\"80000000\",\"10638298\",\"21000000\",\"21000000\",\"21000000000\",\"20166000\",\"20000000\",\"2419200000\",\"168000000\",\"1000000000\",\"888000000\",\"47011968\",\"42000000\",\"25000000\",\"21000000\",\"2100000000\",\"222725000\",\"75000000000\",\"525000000\",\"2500000000\",\"53760000\",\"21000000\",\"64000000\",\"200084200\",\"40000000\",\"21000000\",\"21626280000 \",\"10500000\",\"10044655075.56243680\",\"22000000\",\"190000000\",\"21000000\",\"1000000000\",\"42000000\",\"12500000\",\"68000000\",\"100262205\",\"169795588\",\"105000000\",\"100000000\",\"2000000000\",\"21000000\",\"21000000\",\"22000000\",\"21000000\",\"11892000\",\"247000000\",\"100000000\",\"5151000\",\"38000000\",\"21000000\",\"15000000\",\"200000000\",\"54000000\",\"57879300\",\"20000000\",\"200000000\",\"120000000\",\"19035999\",\"13370000\",\"650000000 \",\"0\",\"100000000\",\"78835200\",\"5060000\",\"5200000000\",\"252460800\",\"210000000\",\"8634140\",\"80000000\",\"1000000000\",\"88000000\",\"9000000\",\"50000000\",\"20000000\",\"110290030\",\"301000000\",\"0\",\"61599965\",\"20000000\",\"39999898\",\"30000000\",\"400000000\",\"74000000\",\"33500000\",\"100000000\",\"25000000\",\"21000000\",\"21000000\",\"60000000\",\"64000000\",\"2300000000\",\"32000000\",\"45000000000\",\"21000000\",\"31800000\",\"4000000000\",\"60168145\",\"3770000\",\"400000000\",\"27000000\",\"336000000\",\"45000000\",\"32000000\",\"21000000\",\"500000000\",\"21000000\",\"0\",\"50000000\",\"90000000\",\"27716121\",\"1200000000\",\"120000000\",\"48252000\",\"21000000\",\"30000000000\",\"10000000\",\"1200000000\",\"660000000\",\"100000000\",\"21000000000\",\"2000000000\",\"16555000000\",\"2800000\",\"0\",\"0\",\"1840000000\",\"210000000\",\"84000000\",\"10500000\",\"21400000\",\"300000000\",\"100000000000\",\"32700000\",\"1100000000\",\"24000000\",\"84000000\",\"52500000\",\"65789100\",\"9999999\",\"26280000\",\"21000000\",\"100000000\",\"366000000\",\"5000000000\",\"168000000\",\"25000000\",\"200000000\",\"21000000\",\"207000000\",\"0\",\"105000000\",\"4380000\",\"84000000\",\"21000000\",\"21000000\",\"6500000000\",\"280000000\",\"26205539\",\"1618033\",\"10000000000\",\"24487944\",\"16906397\",\"10000000000\",\"210000000\",\"0\",\"2100000000\",\"21000000\",\"200000000\",\"21000000\",\"70000000\",\"105000000\",\"21000000\",\"21000000\",\"17000000\",\"11000000\",\"7600000000\",\"21000000000\",\"262800000\",\"30886000\",\"1000000000\",\"2232901\",\"30000000\",\"100000000\",\"156306732.71\",\"0\",\"159918400\",\"18081806 \",\"1000000000\",\"0\",\"500000000\",\"125000000\",\"88188888\",\"1750000000\",\"999481516\",\"105000000\",\"0\",\"185000000\",\"184470000000\",\"150000000\",\"1000000000\",\"1400222610\",\"12500000\",\"85000000000\",\"184000000000\",\"600000518\",\"18400000\",\"184467440735\",\"10000000000\",\"10000000\",\"336000000\",\"25000000\",\"1000000000000\",\"21000000\",\"8080000000\",\"1000000000\",\"1000000000\",\"54000000\",\"2000000000\",\"88888888\",\"500000000\",\"30000000\",\"19340594\",\"23000000\",\"0\",\"340282367\",\"36900000\",\"105120001.44\",\"25228800\",\"21000000\",\"7000000000\",\"7000000000\",\"21000000\",\" 90000000000\",\"0\",\"50000000000\",\"81962100\"],\"TotalCoinsMined\":{\"__ndarray__\":\"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\",\"dtype\":\"float64\",\"shape\":[577]},\"class\":{\"__ndarray__\":\"AQAAAAEAAAAAAAAAAQAAAAEAAAABAAAAAQAAAAAAAAABAAAAAAAAAAEAAAABAAAAAQAAAAEAAAABAAAAAQAAAAEAAAABAAAAAQAAAAEAAAABAAAAAQAAAAEAAAABAAAAAQAAAAEAAAABAAAAAQAAAAAAAAABAAAAAQAAAAEAAAAAAAAAAQAAAAAAAAABAAAAAAAAAAAAAAABAAAAAAAAAAEAAAAAAAAAAQAAAAAAAAABAAAAAQAAAAEAAAABAAAAAAAAAAEAAAABAAAAAAAAAAEAAAABAAAAAAAAAAEAAAABAAAAAAAAAAEAAAAAAAAAAAAAAAEAAAAAAAAAAQAAAAEAAAAAAAAAAAAAAAEAAAAAAAAAAQAAAAEAAAABAAAAAQAAAAEAAAABAAAAAQAAAAEAAAAAAAAAAQAAAAAAAAAAAAAAAQAAAAEAAAABAAAAAQAAAAEAAAABAAAAAQAAAAAAAAABAAAAAQAAAAAAAAABAAAAAQAAAAEAAAAAAAAAAAAAAAEAAAABAAAAAQAAAAAAAAABAAAAAQAAAAAAAAAAAAAAAQAAAAEAAAAAAAAAAQAAAAEAAAABAAAAAQAAAAEAAAAAAAAAAQAAAAAAAAACAAAAAAAAAAEAAAAAAAAAAQAAAAEAAAABAAAAAQAAAAEAAAABAAAAAAAAAAEAAAABAAAAAAAAAAEAAAABAAAAAQAAAAEAAAABAAAAAAAAAAEAAAABAAAAAAAAAAAAAAABAAAAAQAAAAEAAAABAAAAAQAAAAEAAAABAAAAAAAAAAAAAAABAAAAAQAAAAEAAAABAAAAAAAAAAAAAAABAAAAAQAAAAEAAAAAAAAAAQAAAAEAAAABAAAAAQAAAAEAAAABAAAAAAAAAAEAAAABAAAAAQAAAAAAAAABAAAAAQAAAAAAAAABAAAAAQAAAAAAAAABAAAAAQAAAAEAAAABAAAAAQAAAAAAAAABAAAAAQAAAAEAAAAAAAAAAQAAAAEAAAABAAAAAQAAAAAAAAABAAAAAQAAAAEAAAABAAAAAAAAAAEAAAABAAAAAAAAAAEAAAABAAAAAAAAAAEAAAAAAAAAAQAAAAAAAAAAAAAAAAAAAAEAAAAAAAAAAAAAAAEAAAABAAAAAQAAAAEAAAABAAAAAAAAAAEAAAAAAAAAAAAAAAAAAAAAAAAAAQAAAAAAAAABAAAAAQAAAAAAAAABAAAAAAAAAAEAAAAAAAAAAAAAAAEAAAAAAAAAAAAAAAAAAAAAAAAAAAAAAAEAAAABAAAAAAAAAAEAAAAAAAAAAAAAAAEAAAAAAAAAAQAAAAAAAAAAAAAAAAAAAAEAAAABAAAAAQAAAAAAAAAAAAAAAAAAAAEAAAABAAAAAAAAAAEAAAAAAAAAAAAAAAAAAAAAAAAAAAAAAAAAAAABAAAAAAAAAAEAAAAAAAAAAQAAAAEAAAAAAAAAAAAAAAEAAAAAAAAAAAAAAAAAAAAAAAAAAAAAAAAAAAAAAAAAAQAAAAEAAAABAAAAAAAAAAEAAAAAAAAAAAAAAAAAAAABAAAAAQAAAAEAAAAAAAAAAQAAAAEAAAABAAAAAQAAAAAAAAABAAAAAQAAAAAAAAAAAAAAAAAAAAEAAAAAAAAAAQAAAAEAAAAAAAAAAQAAAAEAAAAAAAAAAQAAAAAAAAABAAAAAQAAAAEAAAABAAAAAQAAAAEAAAAAAAAAAQAAAAEAAAABAAAAAQAAAAAAAAABAAAAAQAAAAEAAAABAAAAAQAAAAEAAAABAAAAAQAAAAMAAAABAAAAAAAAAAEAAAAAAAAAAAAAAAAAAAAAAAAAAAAAAAAAAAAAAAAAAAAAAAEAAAABAAAAAAAAAAEAAAAAAAAAAAAAAAAAAAABAAAAAAAAAAAAAAABAAAAAQAAAAEAAAAAAAAAAAAAAAEAAAAAAAAAAQAAAAEAAAABAAAAAAAAAAEAAAAAAAAAAQAAAAEAAAAAAAAAAQAAAAAAAAABAAAAAQAAAAEAAAAAAAAAAQAAAAEAAAABAAAAAAAAAAAAAAABAAAAAAAAAAAAAAAAAAAAAQAAAAEAAAABAAAAAQAAAAEAAAABAAAAAQAAAAEAAAABAAAAAQAAAAEAAAABAAAAAQAAAAEAAAAAAAAAAAAAAAEAAAABAAAAAwAAAAMAAAABAAAAAQAAAAEAAAABAAAAAQAAAAEAAAABAAAAAQAAAAEAAAABAAAAAQAAAAEAAAABAAAAAQAAAAEAAAABAAAAAQAAAAEAAAABAAAAAQAAAAEAAAABAAAAAQAAAAAAAAABAAAAAQAAAAEAAAABAAAAAAAAAAAAAAABAAAAAQAAAAEAAAAAAAAAAAAAAAAAAAAAAAAAAAAAAAAAAAAAAAAAAQAAAAEAAAABAAAAAQAAAAEAAAABAAAAAAAAAAAAAAABAAAAAQAAAAAAAAAAAAAAAQAAAAAAAAAAAAAAAAAAAAAAAAABAAAAAAAAAAAAAAAAAAAAAAAAAAAAAAAAAAAAAAAAAAEAAAAAAAAAAAAAAAEAAAAAAAAAAQAAAAAAAAAAAAAAAAAAAAAAAAADAAAAAQAAAAAAAAAAAAAAAAAAAAAAAAAAAAAAAAAAAAEAAAAAAAAAAQAAAAAAAAABAAAAAAAAAAAAAAAAAAAAAAAAAAAAAAAAAAAAAAAAAAAAAAAAAAAAAAAAAAAAAAAAAAAAAAAAAAAAAAAAAAAAAAAAAAAAAAAAAAAAAAAAAAAAAAAAAAAAAAAAAAAAAAAAAAAAAAAAAAMAAAAAAAAAAAAAAAAAAAAAAAAAAQAAAAEAAAABAAAAAQAAAAEAAAABAAAAAQAAAAAAAAAAAAAAAAAAAAAAAAAAAAAAAAAAAAAAAAAAAAAAAAAAAAAAAAAAAAAAAAAAAAAAAAAAAAAAAAAAAAAAAAAAAAAAAAAAAAAAAAAAAAAAAAAAAAAAAAAAAAAAAAAAAAAAAAAAAAAAAAAAAAAAAAABAAAAAAAAAAEAAAAAAAAAAAAAAAAAAAABAAAAAAAAAAAAAAAAAAAAAAAAAAAAAAABAAAAAAAAAAAAAAABAAAAAAAAAA==\",\"dtype\":\"int32\",\"shape\":[577]}},\"selected\":{\"id\":\"1192\"},\"selection_policy\":{\"id\":\"1225\"}},\"id\":\"1191\",\"type\":\"ColumnDataSource\"},{\"attributes\":{\"source\":{\"id\":\"1191\"}},\"id\":\"1224\",\"type\":\"CDSView\"},{\"attributes\":{},\"id\":\"1193\",\"type\":\"StringFormatter\"},{\"attributes\":{},\"id\":\"1218\",\"type\":\"NumberFormatter\"},{\"attributes\":{\"editor\":{\"id\":\"1214\"},\"field\":\"TotalCoinSupply\",\"formatter\":{\"id\":\"1213\"},\"title\":\"TotalCoinSupply\"},\"id\":\"1215\",\"type\":\"TableColumn\"},{\"attributes\":{},\"id\":\"1203\",\"type\":\"StringFormatter\"},{\"attributes\":{\"columns\":[{\"id\":\"1195\"},{\"id\":\"1200\"},{\"id\":\"1205\"},{\"id\":\"1210\"},{\"id\":\"1215\"},{\"id\":\"1220\"}],\"height\":300,\"reorderable\":false,\"source\":{\"id\":\"1191\"},\"view\":{\"id\":\"1224\"},\"width\":700},\"id\":\"1223\",\"type\":\"DataTable\"}],\"root_ids\":[\"1189\"]},\"title\":\"Bokeh Application\",\"version\":\"2.0.2\"}};\n",
       "  var render_items = [{\"docid\":\"655f17ae-46a3-4154-b83f-ea3604796b08\",\"root_ids\":[\"1189\"],\"roots\":{\"1189\":\"73759fc7-c62a-4ba5-a6a5-2276443c0839\"}}];\n",
       "  root.Bokeh.embed.embed_items_notebook(docs_json, render_items);\n",
       "  }\n",
       "if (root.Bokeh !== undefined) {\n",
       "    embed_document(root);\n",
       "  } else {\n",
       "    var attempts = 0;\n",
       "    var timer = setInterval(function(root) {\n",
       "      if (root.Bokeh !== undefined) {\n",
       "        clearInterval(timer);\n",
       "        embed_document(root);\n",
       "      } else if (document.readyState == \"complete\") {\n",
       "        attempts++;\n",
       "        if (attempts > 100) {\n",
       "          clearInterval(timer);\n",
       "          console.log(\"Bokeh: ERROR: Unable to run BokehJS code because BokehJS library is missing\");\n",
       "        }\n",
       "      }\n",
       "    }, 10, root)\n",
       "  }\n",
       "})(window);</script>"
      ],
      "text/plain": [
       ":Table   [CoinName,Algorithm,ProofType,TotalCoinsMined,TotalCoinSupply,class]"
      ]
     },
     "execution_count": 148,
     "metadata": {
      "application/vnd.holoviews_exec.v0+json": {
       "id": "1189"
      }
     },
     "output_type": "execute_result"
    }
   ],
   "source": [
    "# Table with tradable cryptos\n",
    "clustered_df_complete.hvplot.table(columns=['CoinName',\n",
    "                                            'Algorithm',\n",
    "                                            'ProofType',\n",
    "                                            'TotalCoinsMined',\n",
    "                                            'TotalCoinSupply',\n",
    "                                            'class'],\n",
    "                                   sortable=True, selectable=True)"
   ]
  },
  {
   "cell_type": "code",
   "execution_count": 149,
   "metadata": {},
   "outputs": [
    {
     "data": {
      "text/plain": [
       "577"
      ]
     },
     "execution_count": 149,
     "metadata": {},
     "output_type": "execute_result"
    }
   ],
   "source": [
    "# Print the total number of tradable cryptocurrencies\n",
    "clustered_df_complete['CoinName'].count()"
   ]
  },
  {
   "cell_type": "markdown",
   "metadata": {},
   "source": [
    "#### Scatter Plot with Tradable Cryptocurrencies"
   ]
  },
  {
   "cell_type": "code",
   "execution_count": 150,
   "metadata": {},
   "outputs": [
    {
     "data": {
      "text/plain": [
       "array([[5.00000000e-04, 2.00949869e-04],\n",
       "       [5.00000000e-05, 6.85600057e-06],\n",
       "       [2.10000000e-04, 1.48952315e-05],\n",
       "       ...,\n",
       "       [0.00000000e+00, 1.99842507e-05],\n",
       "       [5.00000000e-02, 2.30324675e-02],\n",
       "       [8.19621000e-05, 1.15646844e-05]])"
      ]
     },
     "execution_count": 150,
     "metadata": {},
     "output_type": "execute_result"
    }
   ],
   "source": [
    "# Scale data to create the scatter plot\n",
    "tradable_crypto_df = clustered_df_complete[['TotalCoinSupply', 'TotalCoinsMined']]\n",
    "crypto_MinMax = MinMaxScaler().fit_transform(tradable_crypto_df)\n",
    "crypto_MinMax\n"
   ]
  },
  {
   "cell_type": "code",
   "execution_count": 151,
   "metadata": {},
   "outputs": [
    {
     "data": {
      "text/html": [
       "<div>\n",
       "<style scoped>\n",
       "    .dataframe tbody tr th:only-of-type {\n",
       "        vertical-align: middle;\n",
       "    }\n",
       "\n",
       "    .dataframe tbody tr th {\n",
       "        vertical-align: top;\n",
       "    }\n",
       "\n",
       "    .dataframe thead th {\n",
       "        text-align: right;\n",
       "    }\n",
       "</style>\n",
       "<table border=\"1\" class=\"dataframe\">\n",
       "  <thead>\n",
       "    <tr style=\"text-align: right;\">\n",
       "      <th></th>\n",
       "      <th>TotalCoinSupply_scaled</th>\n",
       "      <th>TotalCoinsMined_scaled</th>\n",
       "      <th>CoinName</th>\n",
       "      <th>class</th>\n",
       "    </tr>\n",
       "  </thead>\n",
       "  <tbody>\n",
       "    <tr>\n",
       "      <th>1140</th>\n",
       "      <td>0.000500</td>\n",
       "      <td>2.009499e-04</td>\n",
       "      <td>Beetle Coin</td>\n",
       "      <td>1</td>\n",
       "    </tr>\n",
       "    <tr>\n",
       "      <th>1087</th>\n",
       "      <td>0.000050</td>\n",
       "      <td>6.856001e-06</td>\n",
       "      <td>Bettex coin</td>\n",
       "      <td>1</td>\n",
       "    </tr>\n",
       "    <tr>\n",
       "      <th>1051</th>\n",
       "      <td>0.000210</td>\n",
       "      <td>1.489523e-05</td>\n",
       "      <td>Urals Coin</td>\n",
       "      <td>0</td>\n",
       "    </tr>\n",
       "    <tr>\n",
       "      <th>992</th>\n",
       "      <td>0.000021</td>\n",
       "      <td>1.101520e-05</td>\n",
       "      <td>Bitcoin Incognito</td>\n",
       "      <td>1</td>\n",
       "    </tr>\n",
       "    <tr>\n",
       "      <th>1101</th>\n",
       "      <td>0.070000</td>\n",
       "      <td>2.106244e-04</td>\n",
       "      <td>BitMoney</td>\n",
       "      <td>1</td>\n",
       "    </tr>\n",
       "    <tr>\n",
       "      <th>940</th>\n",
       "      <td>0.000060</td>\n",
       "      <td>4.234729e-07</td>\n",
       "      <td>Ellerium</td>\n",
       "      <td>1</td>\n",
       "    </tr>\n",
       "    <tr>\n",
       "      <th>1034</th>\n",
       "      <td>0.000083</td>\n",
       "      <td>3.729646e-05</td>\n",
       "      <td>Trivechain</td>\n",
       "      <td>1</td>\n",
       "    </tr>\n",
       "    <tr>\n",
       "      <th>1030</th>\n",
       "      <td>0.000022</td>\n",
       "      <td>8.207996e-06</td>\n",
       "      <td>Motion</td>\n",
       "      <td>0</td>\n",
       "    </tr>\n",
       "    <tr>\n",
       "      <th>987</th>\n",
       "      <td>0.000045</td>\n",
       "      <td>4.448291e-06</td>\n",
       "      <td>Proton</td>\n",
       "      <td>1</td>\n",
       "    </tr>\n",
       "    <tr>\n",
       "      <th>1075</th>\n",
       "      <td>0.000100</td>\n",
       "      <td>9.852346e-06</td>\n",
       "      <td>Xchange</td>\n",
       "      <td>0</td>\n",
       "    </tr>\n",
       "  </tbody>\n",
       "</table>\n",
       "</div>"
      ],
      "text/plain": [
       "      TotalCoinSupply_scaled  TotalCoinsMined_scaled           CoinName  class\n",
       "1140                0.000500            2.009499e-04        Beetle Coin      1\n",
       "1087                0.000050            6.856001e-06        Bettex coin      1\n",
       "1051                0.000210            1.489523e-05         Urals Coin      0\n",
       "992                 0.000021            1.101520e-05  Bitcoin Incognito      1\n",
       "1101                0.070000            2.106244e-04           BitMoney      1\n",
       "940                 0.000060            4.234729e-07           Ellerium      1\n",
       "1034                0.000083            3.729646e-05         Trivechain      1\n",
       "1030                0.000022            8.207996e-06             Motion      0\n",
       "987                 0.000045            4.448291e-06             Proton      1\n",
       "1075                0.000100            9.852346e-06            Xchange      0"
      ]
     },
     "execution_count": 151,
     "metadata": {},
     "output_type": "execute_result"
    }
   ],
   "source": [
    "index_values = (clustered_df_complete.index.tolist())\n",
    "plot_df1 = pd.DataFrame(\n",
    "    data = crypto_MinMax, columns=[\"TotalCoinSupply_scaled\",\n",
    "                                   \"TotalCoinsMined_scaled\"],\n",
    "    index = index_values)\n",
    "\n",
    "# Add the \"CoinName\" column from the clustered_df DataFrame to the new DataFrame.\n",
    "plot_df2 = plot_df1.join(CoinName_df, how='inner')\n",
    "\n",
    "# Add the \"Class\" column from the clustered_df DataFrame to the new DataFrame. \n",
    "class_df = clustered_df_complete['class']\n",
    "plot_df_final = plot_df2.join(class_df, how='inner')\n",
    "\n",
    "plot_df_final.head(10)"
   ]
  },
  {
   "cell_type": "code",
   "execution_count": 153,
   "metadata": {},
   "outputs": [
    {
     "data": {},
     "metadata": {},
     "output_type": "display_data"
    },
    {
     "data": {
      "application/vnd.holoviews_exec.v0+json": "",
      "text/html": [
       "<div id='1239'>\n",
       "\n",
       "\n",
       "\n",
       "\n",
       "\n",
       "  <div class=\"bk-root\" id=\"26e83a6d-dc0d-4101-bd3b-d8759afa49f0\" data-root-id=\"1239\"></div>\n",
       "</div>\n",
       "<script type=\"application/javascript\">(function(root) {\n",
       "  function embed_document(root) {\n",
       "  var docs_json = {\"ff71d025-ac6b-48ca-a3bd-ed4985dca92b\":{\"roots\":{\"references\":[{\"attributes\":{\"fill_color\":{\"value\":\"#ff7e0e\"},\"line_color\":{\"value\":\"#ff7e0e\"},\"size\":{\"units\":\"screen\",\"value\":5.477225575051661},\"x\":{\"field\":\"TotalCoinsMined_scaled\"},\"y\":{\"field\":\"TotalCoinSupply_scaled\"}},\"id\":\"1300\",\"type\":\"Scatter\"},{\"attributes\":{\"text\":\"\",\"text_color\":{\"value\":\"black\"},\"text_font_size\":{\"value\":\"12pt\"}},\"id\":\"1248\",\"type\":\"Title\"},{\"attributes\":{\"source\":{\"id\":\"1314\"}},\"id\":\"1321\",\"type\":\"CDSView\"},{\"attributes\":{\"callback\":null,\"renderers\":[{\"id\":\"1287\"},{\"id\":\"1303\"},{\"id\":\"1320\"},{\"id\":\"1339\"}],\"tags\":[\"hv_created\"],\"tooltips\":[[\"class\",\"@{class}\"],[\"TotalCoinsMined_scaled\",\"@{TotalCoinsMined_scaled}\"],[\"TotalCoinSupply_scaled\",\"@{TotalCoinSupply_scaled}\"]]},\"id\":\"1243\",\"type\":\"HoverTool\"},{\"attributes\":{\"bottom_units\":\"screen\",\"fill_alpha\":0.5,\"fill_color\":\"lightgrey\",\"left_units\":\"screen\",\"level\":\"overlay\",\"line_alpha\":1.0,\"line_color\":\"black\",\"line_dash\":[4,4],\"line_width\":2,\"render_mode\":\"css\",\"right_units\":\"screen\",\"top_units\":\"screen\"},\"id\":\"1269\",\"type\":\"BoxAnnotation\"},{\"attributes\":{\"data\":{\"TotalCoinSupply_scaled\":{\"__ndarray__\":\"vHmqQ26GSz+U9gZfmEx1P4RaKOGWizA/LEMc6+I2Gj/8qfHSTWJQPw==\",\"dtype\":\"float64\",\"shape\":[5]},\"TotalCoinsMined_scaled\":{\"__ndarray__\":\"kKTF8kohRT+PWA2R2lNdP5wZJXiPEis/+0V+YL96Gj96Q0MFuIxQPw==\",\"dtype\":\"float64\",\"shape\":[5]},\"class\":[3,3,3,3,3]},\"selected\":{\"id\":\"1334\"},\"selection_policy\":{\"id\":\"1365\"}},\"id\":\"1333\",\"type\":\"ColumnDataSource\"},{\"attributes\":{},\"id\":\"1279\",\"type\":\"BasicTickFormatter\"},{\"attributes\":{},\"id\":\"1329\",\"type\":\"UnionRenderers\"},{\"attributes\":{\"label\":{\"value\":\"1\"},\"renderers\":[{\"id\":\"1303\"}]},\"id\":\"1313\",\"type\":\"LegendItem\"},{\"attributes\":{},\"id\":\"1257\",\"type\":\"BasicTicker\"},{\"attributes\":{\"fill_alpha\":{\"value\":0.1},\"fill_color\":{\"value\":\"#2ba02b\"},\"line_alpha\":{\"value\":0.1},\"line_color\":{\"value\":\"#2ba02b\"},\"size\":{\"units\":\"screen\",\"value\":5.477225575051661},\"x\":{\"field\":\"TotalCoinsMined_scaled\"},\"y\":{\"field\":\"TotalCoinSupply_scaled\"}},\"id\":\"1318\",\"type\":\"Scatter\"},{\"attributes\":{},\"id\":\"1261\",\"type\":\"BasicTicker\"},{\"attributes\":{},\"id\":\"1252\",\"type\":\"LinearScale\"},{\"attributes\":{\"data_source\":{\"id\":\"1333\"},\"glyph\":{\"id\":\"1336\"},\"hover_glyph\":null,\"muted_glyph\":{\"id\":\"1338\"},\"nonselection_glyph\":{\"id\":\"1337\"},\"selection_glyph\":null,\"view\":{\"id\":\"1340\"}},\"id\":\"1339\",\"type\":\"GlyphRenderer\"},{\"attributes\":{\"axis_label\":\"Total Cryptocurrency Coin Supply\",\"bounds\":\"auto\",\"formatter\":{\"id\":\"1279\"},\"major_label_orientation\":\"horizontal\",\"ticker\":{\"id\":\"1261\"}},\"id\":\"1260\",\"type\":\"LinearAxis\"},{\"attributes\":{},\"id\":\"1310\",\"type\":\"UnionRenderers\"},{\"attributes\":{\"children\":[{\"id\":\"1240\"},{\"id\":\"1247\"},{\"id\":\"1466\"}],\"margin\":[0,0,0,0],\"name\":\"Row02104\",\"tags\":[\"embedded\"]},\"id\":\"1239\",\"type\":\"Row\"},{\"attributes\":{\"margin\":[5,5,5,5],\"name\":\"HSpacer02108\",\"sizing_mode\":\"stretch_width\"},\"id\":\"1240\",\"type\":\"Spacer\"},{\"attributes\":{},\"id\":\"1264\",\"type\":\"SaveTool\"},{\"attributes\":{},\"id\":\"1266\",\"type\":\"WheelZoomTool\"},{\"attributes\":{\"axis\":{\"id\":\"1256\"},\"grid_line_color\":null,\"ticker\":null},\"id\":\"1259\",\"type\":\"Grid\"},{\"attributes\":{\"source\":{\"id\":\"1333\"}},\"id\":\"1340\",\"type\":\"CDSView\"},{\"attributes\":{},\"id\":\"1254\",\"type\":\"LinearScale\"},{\"attributes\":{},\"id\":\"1334\",\"type\":\"Selection\"},{\"attributes\":{},\"id\":\"1277\",\"type\":\"BasicTickFormatter\"},{\"attributes\":{\"fill_alpha\":{\"value\":0.2},\"fill_color\":{\"value\":\"#d62628\"},\"line_alpha\":{\"value\":0.2},\"line_color\":{\"value\":\"#d62628\"},\"size\":{\"units\":\"screen\",\"value\":5.477225575051661},\"x\":{\"field\":\"TotalCoinsMined_scaled\"},\"y\":{\"field\":\"TotalCoinSupply_scaled\"}},\"id\":\"1338\",\"type\":\"Scatter\"},{\"attributes\":{\"axis\":{\"id\":\"1260\"},\"dimension\":1,\"grid_line_color\":null,\"ticker\":null},\"id\":\"1263\",\"type\":\"Grid\"},{\"attributes\":{},\"id\":\"1365\",\"type\":\"UnionRenderers\"},{\"attributes\":{},\"id\":\"1265\",\"type\":\"PanTool\"},{\"attributes\":{\"fill_alpha\":{\"value\":0.2},\"fill_color\":{\"value\":\"#2ba02b\"},\"line_alpha\":{\"value\":0.2},\"line_color\":{\"value\":\"#2ba02b\"},\"size\":{\"units\":\"screen\",\"value\":5.477225575051661},\"x\":{\"field\":\"TotalCoinsMined_scaled\"},\"y\":{\"field\":\"TotalCoinSupply_scaled\"}},\"id\":\"1319\",\"type\":\"Scatter\"},{\"attributes\":{\"axis_label\":\"Total Cryptocurrency Coins Mined\",\"bounds\":\"auto\",\"formatter\":{\"id\":\"1277\"},\"major_label_orientation\":\"horizontal\",\"ticker\":{\"id\":\"1257\"}},\"id\":\"1256\",\"type\":\"LinearAxis\"},{\"attributes\":{\"active_drag\":\"auto\",\"active_inspect\":\"auto\",\"active_multi\":null,\"active_scroll\":\"auto\",\"active_tap\":\"auto\",\"tools\":[{\"id\":\"1243\"},{\"id\":\"1264\"},{\"id\":\"1265\"},{\"id\":\"1266\"},{\"id\":\"1267\"},{\"id\":\"1268\"}]},\"id\":\"1270\",\"type\":\"Toolbar\"},{\"attributes\":{\"fill_alpha\":{\"value\":0.1},\"fill_color\":{\"value\":\"#d62628\"},\"line_alpha\":{\"value\":0.1},\"line_color\":{\"value\":\"#d62628\"},\"size\":{\"units\":\"screen\",\"value\":5.477225575051661},\"x\":{\"field\":\"TotalCoinsMined_scaled\"},\"y\":{\"field\":\"TotalCoinSupply_scaled\"}},\"id\":\"1337\",\"type\":\"Scatter\"},{\"attributes\":{\"fill_alpha\":{\"value\":0.2},\"fill_color\":{\"value\":\"#1f77b3\"},\"line_alpha\":{\"value\":0.2},\"line_color\":{\"value\":\"#1f77b3\"},\"size\":{\"units\":\"screen\",\"value\":5.477225575051661},\"x\":{\"field\":\"TotalCoinsMined_scaled\"},\"y\":{\"field\":\"TotalCoinSupply_scaled\"}},\"id\":\"1286\",\"type\":\"Scatter\"},{\"attributes\":{\"fill_color\":{\"value\":\"#d62628\"},\"line_color\":{\"value\":\"#d62628\"},\"size\":{\"units\":\"screen\",\"value\":5.477225575051661},\"x\":{\"field\":\"TotalCoinsMined_scaled\"},\"y\":{\"field\":\"TotalCoinSupply_scaled\"}},\"id\":\"1336\",\"type\":\"Scatter\"},{\"attributes\":{\"overlay\":{\"id\":\"1269\"}},\"id\":\"1267\",\"type\":\"BoxZoomTool\"},{\"attributes\":{},\"id\":\"1268\",\"type\":\"ResetTool\"},{\"attributes\":{\"end\":1.042857142857143,\"reset_end\":1.042857142857143,\"reset_start\":-0.04285714285714286,\"start\":-0.04285714285714286,\"tags\":[[[\"TotalCoinsMined_scaled\",\"TotalCoinsMined_scaled\",null]]]},\"id\":\"1241\",\"type\":\"Range1d\"},{\"attributes\":{\"data\":{\"TotalCoinSupply_scaled\":{\"__ndarray__\":\"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\",\"dtype\":\"float64\",\"shape\":[312]},\"TotalCoinsMined_scaled\":{\"__ndarray__\":\"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\",\"dtype\":\"float64\",\"shape\":[312]},\"class\":[1,1,1,1,1,1,1,1,1,1,1,1,1,1,1,1,1,1,1,1,1,1,1,1,1,1,1,1,1,1,1,1,1,1,1,1,1,1,1,1,1,1,1,1,1,1,1,1,1,1,1,1,1,1,1,1,1,1,1,1,1,1,1,1,1,1,1,1,1,1,1,1,1,1,1,1,1,1,1,1,1,1,1,1,1,1,1,1,1,1,1,1,1,1,1,1,1,1,1,1,1,1,1,1,1,1,1,1,1,1,1,1,1,1,1,1,1,1,1,1,1,1,1,1,1,1,1,1,1,1,1,1,1,1,1,1,1,1,1,1,1,1,1,1,1,1,1,1,1,1,1,1,1,1,1,1,1,1,1,1,1,1,1,1,1,1,1,1,1,1,1,1,1,1,1,1,1,1,1,1,1,1,1,1,1,1,1,1,1,1,1,1,1,1,1,1,1,1,1,1,1,1,1,1,1,1,1,1,1,1,1,1,1,1,1,1,1,1,1,1,1,1,1,1,1,1,1,1,1,1,1,1,1,1,1,1,1,1,1,1,1,1,1,1,1,1,1,1,1,1,1,1,1,1,1,1,1,1,1,1,1,1,1,1,1,1,1,1,1,1,1,1,1,1,1,1,1,1,1,1,1,1,1,1,1,1,1,1,1,1,1,1,1,1,1,1,1,1,1,1,1,1,1,1,1,1,1,1,1,1,1,1]},\"selected\":{\"id\":\"1298\"},\"selection_policy\":{\"id\":\"1329\"}},\"id\":\"1297\",\"type\":\"ColumnDataSource\"},{\"attributes\":{\"fill_color\":{\"value\":\"#1f77b3\"},\"line_color\":{\"value\":\"#1f77b3\"},\"size\":{\"units\":\"screen\",\"value\":5.477225575051661},\"x\":{\"field\":\"TotalCoinsMined_scaled\"},\"y\":{\"field\":\"TotalCoinSupply_scaled\"}},\"id\":\"1284\",\"type\":\"Scatter\"},{\"attributes\":{\"label\":{\"value\":\"3\"},\"renderers\":[{\"id\":\"1339\"}]},\"id\":\"1353\",\"type\":\"LegendItem\"},{\"attributes\":{\"data\":{\"TotalCoinSupply_scaled\":{\"__ndarray__\":\"rkfhehSu7z8=\",\"dtype\":\"float64\",\"shape\":[1]},\"TotalCoinsMined_scaled\":{\"__ndarray__\":\"AAAAAAAA8D8=\",\"dtype\":\"float64\",\"shape\":[1]},\"class\":[2]},\"selected\":{\"id\":\"1315\"},\"selection_policy\":{\"id\":\"1350\"}},\"id\":\"1314\",\"type\":\"ColumnDataSource\"},{\"attributes\":{},\"id\":\"1315\",\"type\":\"Selection\"},{\"attributes\":{\"data_source\":{\"id\":\"1281\"},\"glyph\":{\"id\":\"1284\"},\"hover_glyph\":null,\"muted_glyph\":{\"id\":\"1286\"},\"nonselection_glyph\":{\"id\":\"1285\"},\"selection_glyph\":null,\"view\":{\"id\":\"1288\"}},\"id\":\"1287\",\"type\":\"GlyphRenderer\"},{\"attributes\":{\"fill_alpha\":{\"value\":0.1},\"fill_color\":{\"value\":\"#ff7e0e\"},\"line_alpha\":{\"value\":0.1},\"line_color\":{\"value\":\"#ff7e0e\"},\"size\":{\"units\":\"screen\",\"value\":5.477225575051661},\"x\":{\"field\":\"TotalCoinsMined_scaled\"},\"y\":{\"field\":\"TotalCoinSupply_scaled\"}},\"id\":\"1301\",\"type\":\"Scatter\"},{\"attributes\":{\"fill_alpha\":{\"value\":0.1},\"fill_color\":{\"value\":\"#1f77b3\"},\"line_alpha\":{\"value\":0.1},\"line_color\":{\"value\":\"#1f77b3\"},\"size\":{\"units\":\"screen\",\"value\":5.477225575051661},\"x\":{\"field\":\"TotalCoinsMined_scaled\"},\"y\":{\"field\":\"TotalCoinSupply_scaled\"}},\"id\":\"1285\",\"type\":\"Scatter\"},{\"attributes\":{},\"id\":\"1298\",\"type\":\"Selection\"},{\"attributes\":{\"source\":{\"id\":\"1297\"}},\"id\":\"1304\",\"type\":\"CDSView\"},{\"attributes\":{\"margin\":[5,5,5,5],\"name\":\"HSpacer02109\",\"sizing_mode\":\"stretch_width\"},\"id\":\"1466\",\"type\":\"Spacer\"},{\"attributes\":{\"fill_color\":{\"value\":\"#2ba02b\"},\"line_color\":{\"value\":\"#2ba02b\"},\"size\":{\"units\":\"screen\",\"value\":5.477225575051661},\"x\":{\"field\":\"TotalCoinsMined_scaled\"},\"y\":{\"field\":\"TotalCoinSupply_scaled\"}},\"id\":\"1317\",\"type\":\"Scatter\"},{\"attributes\":{\"click_policy\":\"mute\",\"items\":[{\"id\":\"1296\"},{\"id\":\"1313\"},{\"id\":\"1332\"},{\"id\":\"1353\"}],\"location\":[0,0],\"title\":\"class\"},\"id\":\"1295\",\"type\":\"Legend\"},{\"attributes\":{\"data_source\":{\"id\":\"1297\"},\"glyph\":{\"id\":\"1300\"},\"hover_glyph\":null,\"muted_glyph\":{\"id\":\"1302\"},\"nonselection_glyph\":{\"id\":\"1301\"},\"selection_glyph\":null,\"view\":{\"id\":\"1304\"}},\"id\":\"1303\",\"type\":\"GlyphRenderer\"},{\"attributes\":{\"end\":1.1,\"reset_end\":1.1,\"reset_start\":-0.1,\"start\":-0.1,\"tags\":[[[\"TotalCoinSupply_scaled\",\"TotalCoinSupply_scaled\",null]]]},\"id\":\"1242\",\"type\":\"Range1d\"},{\"attributes\":{\"label\":{\"value\":\"2\"},\"renderers\":[{\"id\":\"1320\"}]},\"id\":\"1332\",\"type\":\"LegendItem\"},{\"attributes\":{\"source\":{\"id\":\"1281\"}},\"id\":\"1288\",\"type\":\"CDSView\"},{\"attributes\":{\"data\":{\"TotalCoinSupply_scaled\":{\"__ndarray__\":\"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\",\"dtype\":\"float64\",\"shape\":[259]},\"TotalCoinsMined_scaled\":{\"__ndarray__\":\"lr1vCNE87z71l+lTojbhPhsOYClwqeQ+sl813APVsz6KjUKW8kjyPubivAz2mwI/USOJQG8QAT/48NdKYJX7PtQZrzp5OcY+ewwfsp5dZj/PXtJXZSfVPlm2qvTFWbc+S8HMUSg3ID/bWtoBLkDVPo4zrH4VxkE/qfDDrNPjBz+rD9eegxcAP/B/UyyW7Ow+6ehqdHqe5z4Jlvatg87wPnLL2el3zfA+qQSB1zJK/D5jNZevbkQVPxf3vZ6vK9U+ZQ7uSqf14T428IRIetcAP1o9XtEcRks/KA2HpcXq0T5nddkYq/krPzzEkLG4Mic/Bn6fn5x1tD47gkPBwz8QP/x87g2S9ao+9Gjs8vba8j6Fn7ZW789HP5umGNzsadQ+0ISPwiU+Fj+i/2L5Rf0pPxsOVFq4rwI/QPQHNS7b6T7UrHW860yuPr7jW4PdJfY+DtHyi0Nw2D5qGn4mRbEQP+ldVEHkaNg+SvIGOc1mcD8SyOjdEXoaP3y2D2d/Xeo+UJ+yE+avhD9mRelkS/qNP+IDUTmDrPI+6Zi27VsWCD9cbEGW6PgQPwpNzOaGZco+6fmC8iFwGj803k5t2nn1Pvjx38F6juQ+/Y1TnL1xoD4DNdImbn3CP9fferOSfPI+qd1XPBNKAT94FSfTHNsBPxgd90IFFcU/528Abuzk1T7JBCgDzjTzPnjWYoTeAbg+qMYgASbRMT9z1k/kEPfsPgeM01DI7dM+rlz8dOx65T5Eb/ntLRNzPzYVi0u4lt4+8Dkn/bj+pD4VmXb59GfVPlY5wYK7cxI/u43+0IM7Sj+8dxaUgHk7Pyw3AHS+DhI/V09i5Pw0Ij+8Wu9Dc6iIPv0vK9IFKSQ/JVthYlbodz4A2yO/r80rP/rxCBcDfhI/n00dGQe2AT8gof8PEdNJP2bzzSAYkqU+ZbOty7CZnj87Rsn9CD8BP83BaSO3BRQ/Ghr3riANJD/pq5EDUnj0PsOmmLPntrI+dJOYt3M0BD93DCUJMpfYPhfWq/5Sbbc/1CRCbGP6LD+d3gfkiqb0Puziq35yXbM+8xH2FInwiT8zhSq3lUNNP7Gfa3bJYxE/GvyFqN0PBj+/GiTQLZRjP1f2xWZGKDY/So3LeFqF+D5lfbRo2qsfP5V2kxm7G/s+/bQsOhi2sj5Ru1R/76X5PtlBgL6BPtE+uL3MdOuN5z5UiniRbuSkPtQ7Tb6k8B4/imT2FGaLyT0v7oqMShIhP+hFNhs4LN8+GogG4TptDT+EVzYip9bbPkXB1Lq3zA8/PlWL/fTBBD+yOWnioDuLPgCBwBIGdNo+bL2nE6xNwz7WFD5sjErjPmkcsAWHN+8+r6i7QfH88j7YQKTwOGuTP8Gv1/X/W/U+fja4QLVnFj8TJNibZaVCP11sMg9/Dgc/sbwJ7+tK+D7aDVWuXVb2Pr+U8AuOYGE/yXvl+uzOVT9yrZVfYj3vPrF5rky7sQs/xVkib6J8lj842/FzV4hjP71leW50PfY+WGx5EuVY+D5wyrMs3YgmP9eY+cSoDvM+VCyn2nRm6j4kZf43fg/zPne0+nob6uI+ICzRsK4uMT9Fe9kzvvfaPpTNg0CiYes+I8+xyK6X7T491TfErLXYPrDYIMkOpm8/uNaq91ym0T7h8m27k6ArP9pcGpKPAts+5YGuofve0D5JO81lxfnSPjPTG1aj2DM/VPZhxKGf4D6Bh4j2yXHlPvvTxTPxUPY+ekNDBbiMUD94mM3V0+M/P0unpD+emIc/COMnoKjwWz/MZYofD3qQPyAxdFCvPcw+Re2gid09ET9okINYfHNHP0Hy/GyMpQU/Wiv0JSji7D7LOmFuZ5ndPtgzHqNBCOA+WV3Wt131/D65zPNrkpfZPlAy2BUqT0U/Nt9bUd8ZCz/QvVkcqhztPsX/dMFKy78+9k0et+iY1T7Wo9/Kq6TzPoHNG1BDi2I/kYALuOL8IT8HcrwwvXr6PsQ38CuLaQU/H+Urm2FQ4j408Q3TXAMUP+wERg+zaBM/EW8kTYs9Cj9qzDKsbYabPtgv1r9BZDA/LsltZsEF6z5jADv2nsH7Pm5x4hl+a7s+UJ+yE+avhD+Bx4Ui5e/5PqkiwRuRO+Y+mR9Mbb49QT/wDEJVXgQeP2+K1k+kgxw/+0V+YL96Gj+FMP5AacjXPvBZKjNxsB4/2x0gu2g48j73YJbAAeUSP5hG8hX4i+w+fthsjcfp3j4Bb3MknkffPvOI8EMuU90+feBTilBN5z5Pq/yKvoVxPym6m734j3U/m5sOg1TmAj9xb80DoKP6PsujJZ6E68I+yB/NZWUo2D7X8QcfT2scP17TxYbH/wE/0YDfJJ+41D7q8GBWj4DwPr+wa/LPNT0//1QSxMZHEj8IECcwFDjyPtKf4ZajPOc+uLDcOEq+uT8Y2eoJf0n0PoLOT27aiUI/qRofcu04UD8tUFOdpxDTPuWDv4u68ZM/g1nCOEpbpT+Pmy8IuNh2PsqbJCj29vA+WFBP3X7Mxz8SQ1RVUZN8P4tqAC8VkuA+DtRa8Xi7IT8McAKMU9LjPq1f7GWUe6s/tcMN/maTsD6tFR/LL+ZePxWp9R5TMhU/Ou0JBv4IQD8J18Vn7P/tPoSsKiM08l0/uBZMWL/z4j4vjfwBHn/zPpiqM+VXPuk+Lul4dCEeoT+1h4qHSKQhP7REtqoIv7o+dWqPzNPI8D56E2VTdND1Ph68r24jlvk+lyfwwS69+D7Ao/i6lx+fP2Eqf0B79PQ+t2n0Hb5A6D4=\",\"dtype\":\"float64\",\"shape\":[259]},\"class\":[0,0,0,0,0,0,0,0,0,0,0,0,0,0,0,0,0,0,0,0,0,0,0,0,0,0,0,0,0,0,0,0,0,0,0,0,0,0,0,0,0,0,0,0,0,0,0,0,0,0,0,0,0,0,0,0,0,0,0,0,0,0,0,0,0,0,0,0,0,0,0,0,0,0,0,0,0,0,0,0,0,0,0,0,0,0,0,0,0,0,0,0,0,0,0,0,0,0,0,0,0,0,0,0,0,0,0,0,0,0,0,0,0,0,0,0,0,0,0,0,0,0,0,0,0,0,0,0,0,0,0,0,0,0,0,0,0,0,0,0,0,0,0,0,0,0,0,0,0,0,0,0,0,0,0,0,0,0,0,0,0,0,0,0,0,0,0,0,0,0,0,0,0,0,0,0,0,0,0,0,0,0,0,0,0,0,0,0,0,0,0,0,0,0,0,0,0,0,0,0,0,0,0,0,0,0,0,0,0,0,0,0,0,0,0,0,0,0,0,0,0,0,0,0,0,0,0,0,0,0,0,0,0,0,0,0,0,0,0,0,0,0,0,0,0,0,0,0,0,0,0,0,0,0,0,0,0,0,0]},\"selected\":{\"id\":\"1282\"},\"selection_policy\":{\"id\":\"1310\"}},\"id\":\"1281\",\"type\":\"ColumnDataSource\"},{\"attributes\":{\"label\":{\"value\":\"0\"},\"renderers\":[{\"id\":\"1287\"}]},\"id\":\"1296\",\"type\":\"LegendItem\"},{\"attributes\":{},\"id\":\"1350\",\"type\":\"UnionRenderers\"},{\"attributes\":{\"fill_alpha\":{\"value\":0.2},\"fill_color\":{\"value\":\"#ff7e0e\"},\"line_alpha\":{\"value\":0.2},\"line_color\":{\"value\":\"#ff7e0e\"},\"size\":{\"units\":\"screen\",\"value\":5.477225575051661},\"x\":{\"field\":\"TotalCoinsMined_scaled\"},\"y\":{\"field\":\"TotalCoinSupply_scaled\"}},\"id\":\"1302\",\"type\":\"Scatter\"},{\"attributes\":{\"data_source\":{\"id\":\"1314\"},\"glyph\":{\"id\":\"1317\"},\"hover_glyph\":null,\"muted_glyph\":{\"id\":\"1319\"},\"nonselection_glyph\":{\"id\":\"1318\"},\"selection_glyph\":null,\"view\":{\"id\":\"1321\"}},\"id\":\"1320\",\"type\":\"GlyphRenderer\"},{\"attributes\":{\"below\":[{\"id\":\"1256\"}],\"center\":[{\"id\":\"1259\"},{\"id\":\"1263\"}],\"left\":[{\"id\":\"1260\"}],\"margin\":null,\"min_border_bottom\":10,\"min_border_left\":10,\"min_border_right\":10,\"min_border_top\":10,\"plot_height\":300,\"plot_width\":700,\"renderers\":[{\"id\":\"1287\"},{\"id\":\"1303\"},{\"id\":\"1320\"},{\"id\":\"1339\"}],\"right\":[{\"id\":\"1295\"}],\"sizing_mode\":\"fixed\",\"title\":{\"id\":\"1248\"},\"toolbar\":{\"id\":\"1270\"},\"x_range\":{\"id\":\"1241\"},\"x_scale\":{\"id\":\"1252\"},\"y_range\":{\"id\":\"1242\"},\"y_scale\":{\"id\":\"1254\"}},\"id\":\"1247\",\"subtype\":\"Figure\",\"type\":\"Plot\"},{\"attributes\":{},\"id\":\"1282\",\"type\":\"Selection\"}],\"root_ids\":[\"1239\"]},\"title\":\"Bokeh Application\",\"version\":\"2.0.2\"}};\n",
       "  var render_items = [{\"docid\":\"ff71d025-ac6b-48ca-a3bd-ed4985dca92b\",\"root_ids\":[\"1239\"],\"roots\":{\"1239\":\"26e83a6d-dc0d-4101-bd3b-d8759afa49f0\"}}];\n",
       "  root.Bokeh.embed.embed_items_notebook(docs_json, render_items);\n",
       "  }\n",
       "if (root.Bokeh !== undefined) {\n",
       "    embed_document(root);\n",
       "  } else {\n",
       "    var attempts = 0;\n",
       "    var timer = setInterval(function(root) {\n",
       "      if (root.Bokeh !== undefined) {\n",
       "        clearInterval(timer);\n",
       "        embed_document(root);\n",
       "      } else if (document.readyState == \"complete\") {\n",
       "        attempts++;\n",
       "        if (attempts > 100) {\n",
       "          clearInterval(timer);\n",
       "          console.log(\"Bokeh: ERROR: Unable to run BokehJS code because BokehJS library is missing\");\n",
       "        }\n",
       "      }\n",
       "    }, 10, root)\n",
       "  }\n",
       "})(window);</script>"
      ],
      "text/plain": [
       ":NdOverlay   [class]\n",
       "   :Scatter   [TotalCoinsMined_scaled]   (TotalCoinSupply_scaled)"
      ]
     },
     "execution_count": 153,
     "metadata": {
      "application/vnd.holoviews_exec.v0+json": {
       "id": "1239"
      }
     },
     "output_type": "execute_result"
    }
   ],
   "source": [
    "# Plot the scatter with x=\"TotalCoinsMined\" and y=\"TotalCoinSupply\"\n",
    "plot_df_final.hvplot.scatter(x=\"TotalCoinsMined_scaled\",\n",
    "                             y=\"TotalCoinSupply_scaled\",\n",
    "                             by=\"class\",\n",
    "                          xlabel=\"Total Cryptocurrency Coins Mined\",\n",
    "                          ylabel=\"Total Cryptocurrency Coin Supply\",\n",
    "                          )"
   ]
  }
 ],
 "metadata": {
  "file_extension": ".py",
  "kernelspec": {
   "display_name": "Python 3",
   "language": "python",
   "name": "python3"
  },
  "language_info": {
   "codemirror_mode": {
    "name": "ipython",
    "version": 3
   },
   "file_extension": ".py",
   "mimetype": "text/x-python",
   "name": "python",
   "nbconvert_exporter": "python",
   "pygments_lexer": "ipython3",
   "version": "3.8.5"
  },
  "mimetype": "text/x-python",
  "name": "python",
  "npconvert_exporter": "python",
  "pygments_lexer": "ipython3",
  "version": 3
 },
 "nbformat": 4,
 "nbformat_minor": 4
}
